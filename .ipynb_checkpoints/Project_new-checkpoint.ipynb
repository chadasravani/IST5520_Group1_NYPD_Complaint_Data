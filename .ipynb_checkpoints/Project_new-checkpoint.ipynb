{
 "cells": [
  {
   "cell_type": "code",
   "execution_count": 1,
   "id": "4c6549a1",
   "metadata": {},
   "outputs": [],
   "source": [
    "import pandas as pd\n",
    "import numpy as np\n",
    "from sklearn.decomposition import PCA\n",
    "import matplotlib.pyplot as plt\n",
    "from sklearn.preprocessing import scale\n",
    "import seaborn as sns\n",
    "from sklearn import preprocessing\n",
    "import scipy as sp"
   ]
  },
  {
   "cell_type": "code",
   "execution_count": 2,
   "id": "1048fe41",
   "metadata": {
    "execution": {
     "iopub.execute_input": "2022-10-26T16:55:38.231032Z",
     "iopub.status.busy": "2022-10-26T16:55:38.230013Z",
     "iopub.status.idle": "2022-10-26T16:57:15.295821Z",
     "shell.execute_reply": "2022-10-26T16:57:15.294772Z"
    },
    "papermill": {
     "duration": 97.077522,
     "end_time": "2022-10-26T16:57:15.298804",
     "exception": false,
     "start_time": "2022-10-26T16:55:38.221282",
     "status": "completed"
    },
    "scrolled": true,
    "tags": []
   },
   "outputs": [
    {
     "data": {
      "text/html": [
       "<div>\n",
       "<style scoped>\n",
       "    .dataframe tbody tr th:only-of-type {\n",
       "        vertical-align: middle;\n",
       "    }\n",
       "\n",
       "    .dataframe tbody tr th {\n",
       "        vertical-align: top;\n",
       "    }\n",
       "\n",
       "    .dataframe thead th {\n",
       "        text-align: right;\n",
       "    }\n",
       "</style>\n",
       "<table border=\"1\" class=\"dataframe\">\n",
       "  <thead>\n",
       "    <tr style=\"text-align: right;\">\n",
       "      <th></th>\n",
       "      <th>CMPLNT_NUM</th>\n",
       "      <th>ADDR_PCT_CD</th>\n",
       "      <th>BORO_NM</th>\n",
       "      <th>CMPLNT_FR_DT</th>\n",
       "      <th>CMPLNT_FR_TM</th>\n",
       "      <th>CMPLNT_TO_DT</th>\n",
       "      <th>CMPLNT_TO_TM</th>\n",
       "      <th>CRM_ATPT_CPTD_CD</th>\n",
       "      <th>HADEVELOPT</th>\n",
       "      <th>HOUSING_PSA</th>\n",
       "      <th>...</th>\n",
       "      <th>TRANSIT_DISTRICT</th>\n",
       "      <th>VIC_AGE_GROUP</th>\n",
       "      <th>VIC_RACE</th>\n",
       "      <th>VIC_SEX</th>\n",
       "      <th>X_COORD_CD</th>\n",
       "      <th>Y_COORD_CD</th>\n",
       "      <th>Latitude</th>\n",
       "      <th>Longitude</th>\n",
       "      <th>Lat_Lon</th>\n",
       "      <th>New Georeferenced Column</th>\n",
       "    </tr>\n",
       "  </thead>\n",
       "  <tbody>\n",
       "    <tr>\n",
       "      <th>0</th>\n",
       "      <td>244685801</td>\n",
       "      <td>69</td>\n",
       "      <td>BROOKLYN</td>\n",
       "      <td>01/01/2015</td>\n",
       "      <td>00:00:00</td>\n",
       "      <td>NaN</td>\n",
       "      <td>(null)</td>\n",
       "      <td>COMPLETED</td>\n",
       "      <td>(null)</td>\n",
       "      <td>NaN</td>\n",
       "      <td>...</td>\n",
       "      <td>NaN</td>\n",
       "      <td>&lt;18</td>\n",
       "      <td>BLACK</td>\n",
       "      <td>F</td>\n",
       "      <td>1010541</td>\n",
       "      <td>175595</td>\n",
       "      <td>40.648614</td>\n",
       "      <td>-73.905257</td>\n",
       "      <td>(40.6486135510607, -73.9052572032302)</td>\n",
       "      <td>POINT (-73.9052572032302 40.6486135510607)</td>\n",
       "    </tr>\n",
       "    <tr>\n",
       "      <th>1</th>\n",
       "      <td>242250195</td>\n",
       "      <td>42</td>\n",
       "      <td>BRONX</td>\n",
       "      <td>03/17/2022</td>\n",
       "      <td>15:23:00</td>\n",
       "      <td>03/17/2022</td>\n",
       "      <td>15:28:00</td>\n",
       "      <td>ATTEMPTED</td>\n",
       "      <td>(null)</td>\n",
       "      <td>NaN</td>\n",
       "      <td>...</td>\n",
       "      <td>NaN</td>\n",
       "      <td>UNKNOWN</td>\n",
       "      <td>UNKNOWN</td>\n",
       "      <td>D</td>\n",
       "      <td>1010419</td>\n",
       "      <td>242374</td>\n",
       "      <td>40.831899</td>\n",
       "      <td>-73.905435</td>\n",
       "      <td>(40.831899, -73.905435)</td>\n",
       "      <td>POINT (-73.905435 40.831899)</td>\n",
       "    </tr>\n",
       "    <tr>\n",
       "      <th>2</th>\n",
       "      <td>242385774</td>\n",
       "      <td>123</td>\n",
       "      <td>STATEN ISLAND</td>\n",
       "      <td>03/20/2022</td>\n",
       "      <td>11:52:00</td>\n",
       "      <td>NaN</td>\n",
       "      <td>(null)</td>\n",
       "      <td>COMPLETED</td>\n",
       "      <td>(null)</td>\n",
       "      <td>NaN</td>\n",
       "      <td>...</td>\n",
       "      <td>NaN</td>\n",
       "      <td>45-64</td>\n",
       "      <td>WHITE</td>\n",
       "      <td>F</td>\n",
       "      <td>926029</td>\n",
       "      <td>138052</td>\n",
       "      <td>40.545405</td>\n",
       "      <td>-74.209485</td>\n",
       "      <td>(40.545405, -74.209485)</td>\n",
       "      <td>POINT (-74.209485 40.545405)</td>\n",
       "    </tr>\n",
       "    <tr>\n",
       "      <th>3</th>\n",
       "      <td>242643555</td>\n",
       "      <td>121</td>\n",
       "      <td>STATEN ISLAND</td>\n",
       "      <td>03/24/2022</td>\n",
       "      <td>15:00:00</td>\n",
       "      <td>03/24/2022</td>\n",
       "      <td>22:00:00</td>\n",
       "      <td>COMPLETED</td>\n",
       "      <td>(null)</td>\n",
       "      <td>NaN</td>\n",
       "      <td>...</td>\n",
       "      <td>NaN</td>\n",
       "      <td>18-24</td>\n",
       "      <td>BLACK</td>\n",
       "      <td>F</td>\n",
       "      <td>942822</td>\n",
       "      <td>166353</td>\n",
       "      <td>40.623188</td>\n",
       "      <td>-74.149238</td>\n",
       "      <td>(40.6231883776008, -74.1492376947323)</td>\n",
       "      <td>POINT (-74.1492376947323 40.6231883776008)</td>\n",
       "    </tr>\n",
       "    <tr>\n",
       "      <th>4</th>\n",
       "      <td>242816732</td>\n",
       "      <td>42</td>\n",
       "      <td>BRONX</td>\n",
       "      <td>03/29/2022</td>\n",
       "      <td>15:24:00</td>\n",
       "      <td>03/29/2022</td>\n",
       "      <td>15:30:00</td>\n",
       "      <td>COMPLETED</td>\n",
       "      <td>(null)</td>\n",
       "      <td>NaN</td>\n",
       "      <td>...</td>\n",
       "      <td>NaN</td>\n",
       "      <td>45-64</td>\n",
       "      <td>BLACK</td>\n",
       "      <td>M</td>\n",
       "      <td>1010131</td>\n",
       "      <td>240105</td>\n",
       "      <td>40.825670</td>\n",
       "      <td>-73.906484</td>\n",
       "      <td>(40.82567, -73.906484)</td>\n",
       "      <td>POINT (-73.906484 40.82567)</td>\n",
       "    </tr>\n",
       "  </tbody>\n",
       "</table>\n",
       "<p>5 rows × 36 columns</p>\n",
       "</div>"
      ],
      "text/plain": [
       "  CMPLNT_NUM  ADDR_PCT_CD        BORO_NM CMPLNT_FR_DT CMPLNT_FR_TM  \\\n",
       "0  244685801           69       BROOKLYN   01/01/2015     00:00:00   \n",
       "1  242250195           42          BRONX   03/17/2022     15:23:00   \n",
       "2  242385774          123  STATEN ISLAND   03/20/2022     11:52:00   \n",
       "3  242643555          121  STATEN ISLAND   03/24/2022     15:00:00   \n",
       "4  242816732           42          BRONX   03/29/2022     15:24:00   \n",
       "\n",
       "  CMPLNT_TO_DT CMPLNT_TO_TM CRM_ATPT_CPTD_CD HADEVELOPT  HOUSING_PSA  ...  \\\n",
       "0          NaN       (null)        COMPLETED     (null)          NaN  ...   \n",
       "1   03/17/2022     15:28:00        ATTEMPTED     (null)          NaN  ...   \n",
       "2          NaN       (null)        COMPLETED     (null)          NaN  ...   \n",
       "3   03/24/2022     22:00:00        COMPLETED     (null)          NaN  ...   \n",
       "4   03/29/2022     15:30:00        COMPLETED     (null)          NaN  ...   \n",
       "\n",
       "   TRANSIT_DISTRICT VIC_AGE_GROUP  VIC_RACE VIC_SEX X_COORD_CD Y_COORD_CD  \\\n",
       "0               NaN           <18     BLACK       F    1010541     175595   \n",
       "1               NaN       UNKNOWN   UNKNOWN       D    1010419     242374   \n",
       "2               NaN         45-64     WHITE       F     926029     138052   \n",
       "3               NaN         18-24     BLACK       F     942822     166353   \n",
       "4               NaN         45-64     BLACK       M    1010131     240105   \n",
       "\n",
       "    Latitude  Longitude                                Lat_Lon  \\\n",
       "0  40.648614 -73.905257  (40.6486135510607, -73.9052572032302)   \n",
       "1  40.831899 -73.905435                (40.831899, -73.905435)   \n",
       "2  40.545405 -74.209485                (40.545405, -74.209485)   \n",
       "3  40.623188 -74.149238  (40.6231883776008, -74.1492376947323)   \n",
       "4  40.825670 -73.906484                 (40.82567, -73.906484)   \n",
       "\n",
       "                     New Georeferenced Column  \n",
       "0  POINT (-73.9052572032302 40.6486135510607)  \n",
       "1                POINT (-73.905435 40.831899)  \n",
       "2                POINT (-74.209485 40.545405)  \n",
       "3  POINT (-74.1492376947323 40.6231883776008)  \n",
       "4                 POINT (-73.906484 40.82567)  \n",
       "\n",
       "[5 rows x 36 columns]"
      ]
     },
     "execution_count": 2,
     "metadata": {},
     "output_type": "execute_result"
    }
   ],
   "source": [
    "#Import Dataset\n",
    "df = pd.read_csv('NYPD_Complaint_Data_Current__Year_To_Date.csv')\n",
    "df.head()"
   ]
  },
  {
   "cell_type": "markdown",
   "id": "f7d33460",
   "metadata": {
    "papermill": {
     "duration": 0.010596,
     "end_time": "2022-10-26T16:57:15.316929",
     "exception": false,
     "start_time": "2022-10-26T16:57:15.306333",
     "status": "completed"
    },
    "tags": []
   },
   "source": [
    "## Variables Dictionary :\n",
    "### Expand the cell below to view the variables dictionary."
   ]
  },
  {
   "cell_type": "markdown",
   "id": "7d89c2bc",
   "metadata": {
    "_kg_hide-output": true,
    "papermill": {
     "duration": 0.006662,
     "end_time": "2022-10-26T16:57:15.330768",
     "exception": false,
     "start_time": "2022-10-26T16:57:15.324106",
     "status": "completed"
    },
    "tags": []
   },
   "source": [
    "> **CMPLNT_NUM** - Randomly generated persistent ID for each complaint\n",
    "> \n",
    "> **ADDR_PCT_CD** - The precinct in which the incident occurred\n",
    "> \n",
    "> **BORO** - The name of the borough in which the incident occurred\n",
    "> \n",
    "> **CMPLNT_FR_DT** - Exact date of occurrence for the reported event (or starting date of occurrence, if CMPLNT_TO_DT exists)\n",
    "> \n",
    "> **CMPLNT_FR_TM** - Exact time of occurrence for the reported event (or starting time of occurrence, if CMPLNT_TO_TM exists)\n",
    "> \n",
    "> **CMPLNT_TO_DT** - Ending date of occurrence for the reported event, if exact time of occurrence is unknown\n",
    "> \n",
    "> **CMPLNT_TO_TM** - Ending time of occurrence for the reported event, if exact time of occurrence is unknown\n",
    "> \n",
    "> **CRM_ATPT_CPTD_CD** - Indicator of whether crime was successfully completed or attempted, but failed or was interrupted prematurely\n",
    "> \n",
    "> **HADEVELOPT** - Name of NYCHA housing development of occurrence, if applicable\n",
    "> \n",
    "> **HOUSING_PSA** - Development Level Code\n",
    "> \n",
    "> **JURISDICTION_CODE** - Jurisdiction responsible for incident. Either internal, like Police(0), Transit(1), and Housing(2); or external(3), like Correction, Port Authority, etc.\n",
    "> \n",
    "> **JURIS_DESC** - Description of the jurisdiction code\n",
    "> \n",
    "> **KY_CD** - Three digit offense classification code\n",
    "> \n",
    "> **LAW_CAT_CD** - Level of offense: felony, misdemeanor, violation\n",
    "> \n",
    "> **LOC_OF_OCCUR_DESC** - Specific location of occurrence in or around the premises; inside, opposite of, front of, rear of\n",
    "> \n",
    "> **OFNS_DESC** - Description of offense corresponding with key code\n",
    "> \n",
    "> **PARKS_NM** - Name of NYC park, playground or greenspace of occurrence, if applicable (state parks are not included)\n",
    "> \n",
    "> **PATROL_BORO** - The name of the patrol borough in which the incident occurred\n",
    "> \n",
    "> **PD_CD** - Three digit internal classification code (more granular than Key Code)\n",
    "> \n",
    "> **PD_DESC** - Description of internal classification corresponding with PD code (more granular than Offense Description)\n",
    "> \n",
    "> **PREM_TYP_DESC** - Specific description of premises; grocery store, residence, street, etc.\n",
    "> \n",
    "> **RPT_DT** - Date event was reported to police\n",
    "> \n",
    "> **STATION_NAME** - Transit station name\n",
    "> \n",
    "> **SUSP_AGE_GROUP** - Suspect’s Age Group\n",
    "> \n",
    "> **SUSP_RACE** - Suspect’s Race Description\n",
    "> \n",
    "> **SUSP_SEX** - Suspect’s Sex Description\n",
    "> \n",
    "> **TRANSIT_DISTRICT** - Transit district in which the offense occurred.\n",
    "> \n",
    "> **VIC_AGE_GROUP** - Victim’s Age Group\n",
    "> \n",
    "> **VIC_RACE** - Victim’s Race Description\n",
    "> \n",
    "> **VIC_SEX** - Victim’s Sex Description (D=Business/Organization, E=PSNY/People of the State of New York, F=Female, M=Male)\n",
    "> \n",
    "> **X_COORD_CD** - X-coordinate for New York State Plane Coordinate System, Long Island Zone, NAD 83, units feet (FIPS 3104)\n",
    "> \n",
    "> **Y_COORD_CD** - Y-coordinate for New York State Plane Coordinate System, Long Island Zone, NAD 83, units feet (FIPS 3104)\n",
    "> \n",
    "> **Latitude** - Midblock Latitude coordinate for Global Coordinate System, WGS 1984, decimal degrees (EPSG 4326)\n",
    "> \n",
    "> **Longitude** - Midblock Longitude coordinate for Global Coordinate System, WGS 1984, decimal degrees (EPSG 4326)"
   ]
  },
  {
   "cell_type": "code",
   "execution_count": 3,
   "id": "d2ac93a6",
   "metadata": {
    "execution": {
     "iopub.execute_input": "2022-10-26T16:57:15.348436Z",
     "iopub.status.busy": "2022-10-26T16:57:15.347462Z",
     "iopub.status.idle": "2022-10-26T16:57:15.353318Z",
     "shell.execute_reply": "2022-10-26T16:57:15.352238Z"
    },
    "papermill": {
     "duration": 0.01734,
     "end_time": "2022-10-26T16:57:15.355916",
     "exception": false,
     "start_time": "2022-10-26T16:57:15.338576",
     "status": "completed"
    },
    "tags": []
   },
   "outputs": [
    {
     "name": "stdout",
     "output_type": "stream",
     "text": [
      "Observations:  256797\n",
      "Variables:  36\n"
     ]
    }
   ],
   "source": [
    "print(\"Observations: \", df.shape[0])\n",
    "\n",
    "print(\"Variables: \", df.shape[1])"
   ]
  },
  {
   "cell_type": "markdown",
   "id": "c8c15e50",
   "metadata": {
    "papermill": {
     "duration": 0.007065,
     "end_time": "2022-10-26T16:57:15.434602",
     "exception": false,
     "start_time": "2022-10-26T16:57:15.427537",
     "status": "completed"
    },
    "tags": []
   },
   "source": [
    "The dataset contains over 6 million crime reports, with a total of 35 variables each.\n",
    "\n",
    "After looking at the head of the dataset we were already able to notice some NaN values, therefore we need to examine the missing values further before continuing with the analysis. \n",
    "\n",
    "- The `isna()` function will show us the percentage of non-existent values for each variable."
   ]
  },
  {
   "cell_type": "code",
   "execution_count": 4,
   "id": "b89a4ec1",
   "metadata": {},
   "outputs": [],
   "source": [
    "df.replace('(null)',np.nan,inplace= True)\n"
   ]
  },
  {
   "cell_type": "code",
   "execution_count": 5,
   "id": "9e1e6b42",
   "metadata": {
    "execution": {
     "iopub.execute_input": "2022-10-26T16:57:15.451062Z",
     "iopub.status.busy": "2022-10-26T16:57:15.450664Z",
     "iopub.status.idle": "2022-10-26T16:57:23.497531Z",
     "shell.execute_reply": "2022-10-26T16:57:23.496380Z"
    },
    "papermill": {
     "duration": 8.058362,
     "end_time": "2022-10-26T16:57:23.500254",
     "exception": false,
     "start_time": "2022-10-26T16:57:15.441892",
     "status": "completed"
    },
    "tags": []
   },
   "outputs": [
    {
     "data": {
      "text/plain": [
       "HADEVELOPT                  99.682629\n",
       "PARKS_NM                    99.446645\n",
       "STATION_NAME                97.777233\n",
       "TRANSIT_DISTRICT            97.777233\n",
       "HOUSING_PSA                 93.385826\n",
       "SUSP_RACE                   19.779047\n",
       "SUSP_AGE_GROUP              19.779047\n",
       "SUSP_SEX                    19.779047\n",
       "LOC_OF_OCCUR_DESC           15.991620\n",
       "CMPLNT_TO_DT                 7.544481\n",
       "CMPLNT_TO_TM                 7.523063\n",
       "BORO_NM                      0.171731\n",
       "PD_DESC                      0.104752\n",
       "PD_CD                        0.104752\n",
       "PREM_TYP_DESC                0.041667\n",
       "VIC_RACE                     0.028038\n",
       "OFNS_DESC                    0.002336\n",
       "PATROL_BORO                  0.001558\n",
       "X_COORD_CD                   0.000000\n",
       "VIC_AGE_GROUP                0.000000\n",
       "Y_COORD_CD                   0.000000\n",
       "Latitude                     0.000000\n",
       "Longitude                    0.000000\n",
       "Lat_Lon                      0.000000\n",
       "VIC_SEX                      0.000000\n",
       "CMPLNT_NUM                   0.000000\n",
       "RPT_DT                       0.000000\n",
       "ADDR_PCT_CD                  0.000000\n",
       "LAW_CAT_CD                   0.000000\n",
       "KY_CD                        0.000000\n",
       "JURIS_DESC                   0.000000\n",
       "JURISDICTION_CODE            0.000000\n",
       "CRM_ATPT_CPTD_CD             0.000000\n",
       "CMPLNT_FR_TM                 0.000000\n",
       "CMPLNT_FR_DT                 0.000000\n",
       "New Georeferenced Column     0.000000\n",
       "dtype: float64"
      ]
     },
     "execution_count": 5,
     "metadata": {},
     "output_type": "execute_result"
    }
   ],
   "source": [
    "#See the percentege of missing values in each variable\n",
    "(df.isna().sum()/df.shape[0]*100).sort_values(ascending=False)"
   ]
  },
  {
   "cell_type": "code",
   "execution_count": 6,
   "id": "5575b0f9",
   "metadata": {},
   "outputs": [],
   "source": [
    "#dropping columns that are missing more than 90 percent of values\n",
    "df.drop(['PARKS_NM','STATION_NAME','TRANSIT_DISTRICT','HADEVELOPT','HOUSING_PSA'],axis='columns', inplace=True)"
   ]
  },
  {
   "cell_type": "code",
   "execution_count": 7,
   "id": "50052520",
   "metadata": {},
   "outputs": [],
   "source": [
    "df.fillna(np.nan,inplace = True)\n"
   ]
  },
  {
   "cell_type": "code",
   "execution_count": 8,
   "id": "fb1016cc",
   "metadata": {},
   "outputs": [],
   "source": [
    "df.drop_duplicates(inplace = True)\n"
   ]
  },
  {
   "cell_type": "markdown",
   "id": "8fca338d",
   "metadata": {
    "papermill": {
     "duration": 0.007384,
     "end_time": "2022-10-26T16:57:23.515407",
     "exception": false,
     "start_time": "2022-10-26T16:57:23.508023",
     "status": "completed"
    },
    "tags": []
   },
   "source": [
    "### Data Cleaning\n",
    "\n",
    "#### Dealing with NaN data\n",
    "\n",
    "Since some of the columns are pretty important for the analysis, I dropped entire rows which miss any crucial value. For that, I used the `dropNA()` function in Pandas.\n",
    "\n",
    "The columns I didn't want to drop entire rows, I opted to fill them with the 'UNKNOWN' value (These include variables that contain information about the victims of the crime, such as their age group, race, and gender). I used the `fillNA()` function for that.\n",
    "\n",
    "It is worth mention that some specific variables have a lot of NaN values, and they don't necessarily have any use in this analysis (like PARKS_NM means the park or public place nearby where crime happened, and columns with information about the suspect are also not going to be important, considering they have a lot of missing data) so I would drop those columns entirely with the `drop()` function."
   ]
  },
  {
   "cell_type": "code",
   "execution_count": 9,
   "id": "a0f56726",
   "metadata": {
    "execution": {
     "iopub.execute_input": "2022-10-26T16:57:23.533279Z",
     "iopub.status.busy": "2022-10-26T16:57:23.532085Z",
     "iopub.status.idle": "2022-10-26T16:57:27.115552Z",
     "shell.execute_reply": "2022-10-26T16:57:27.114467Z"
    },
    "papermill": {
     "duration": 3.595499,
     "end_time": "2022-10-26T16:57:27.118498",
     "exception": false,
     "start_time": "2022-10-26T16:57:23.522999",
     "status": "completed"
    },
    "tags": []
   },
   "outputs": [],
   "source": [
    "df[\"SUSP_RACE\"] = df[\"SUSP_RACE\"].astype(\"category\")\n",
    "df[\"SUSP_RACE\"] = df[\"SUSP_RACE\"].cat.remove_categories(\"UNKNOWN\")"
   ]
  },
  {
   "cell_type": "code",
   "execution_count": 10,
   "id": "f29df8fa",
   "metadata": {
    "execution": {
     "iopub.execute_input": "2022-10-26T16:57:27.136980Z",
     "iopub.status.busy": "2022-10-26T16:57:27.136016Z",
     "iopub.status.idle": "2022-10-26T16:57:27.445940Z",
     "shell.execute_reply": "2022-10-26T16:57:27.444745Z"
    },
    "papermill": {
     "duration": 0.321967,
     "end_time": "2022-10-26T16:57:27.448543",
     "exception": false,
     "start_time": "2022-10-26T16:57:27.126576",
     "status": "completed"
    },
    "scrolled": false,
    "tags": []
   },
   "outputs": [
    {
     "data": {
      "text/plain": [
       "<AxesSubplot:ylabel='SUSP_RACE'>"
      ]
     },
     "execution_count": 10,
     "metadata": {},
     "output_type": "execute_result"
    },
    {
     "data": {
      "image/png": "[encoded data removed]",
      "text/plain": [
       "<Figure size 720x1080 with 1 Axes>"
      ]
     },
     "metadata": {},
     "output_type": "display_data"
    }
   ],
   "source": [
    "df['SUSP_RACE'].value_counts().plot(kind='pie',figsize=(10,15))"
   ]
  },
  {
   "cell_type": "code",
   "execution_count": 11,
   "id": "6d7e67b2",
   "metadata": {
    "execution": {
     "iopub.execute_input": "2022-10-26T16:57:27.467545Z",
     "iopub.status.busy": "2022-10-26T16:57:27.467106Z",
     "iopub.status.idle": "2022-10-26T16:57:28.167427Z",
     "shell.execute_reply": "2022-10-26T16:57:28.166235Z"
    },
    "papermill": {
     "duration": 0.713,
     "end_time": "2022-10-26T16:57:28.170071",
     "exception": false,
     "start_time": "2022-10-26T16:57:27.457071",
     "status": "completed"
    },
    "tags": []
   },
   "outputs": [
    {
     "data": {
      "text/plain": [
       "<AxesSubplot:>"
      ]
     },
     "execution_count": 11,
     "metadata": {},
     "output_type": "execute_result"
    },
    {
     "data": {
      "image/png": "[encoded data removed]",
      "text/plain": [
       "<Figure size 432x288 with 1 Axes>"
      ]
     },
     "metadata": {
      "needs_background": "light"
     },
     "output_type": "display_data"
    }
   ],
   "source": [
    "df['VIC_RACE'].value_counts().plot(kind='bar')"
   ]
  },
  {
   "cell_type": "code",
   "execution_count": 12,
   "id": "b3a064d5",
   "metadata": {
    "execution": {
     "iopub.execute_input": "2022-10-26T16:57:28.191541Z",
     "iopub.status.busy": "2022-10-26T16:57:28.189500Z",
     "iopub.status.idle": "2022-10-26T16:57:44.215505Z",
     "shell.execute_reply": "2022-10-26T16:57:44.213697Z"
    },
    "papermill": {
     "duration": 16.039089,
     "end_time": "2022-10-26T16:57:44.218359",
     "exception": false,
     "start_time": "2022-10-26T16:57:28.179270",
     "status": "completed"
    },
    "tags": []
   },
   "outputs": [],
   "source": [
    "\n",
    "df.drop(['CMPLNT_NUM','X_COORD_CD','Y_COORD_CD','Lat_Lon', 'New Georeferenced Column'],axis='columns', inplace=True)\n",
    "\n",
    "df.drop(['PREM_TYP_DESC', 'JURISDICTION_CODE'], axis='columns', inplace=True)\n",
    "\n",
    "df.drop(['ADDR_PCT_CD','PD_CD','PD_DESC','JURIS_DESC'], axis='columns', inplace=True)\n",
    "\n",
    "#print('Clean dataset: ')\n",
    "#print(\"Observations: \", df.shape[0])\n",
    "#print(\"Variables: \", df.shape[1])\n",
    "\n",
    "#examing the changes\n",
    "#df.head(5)"
   ]
  },
  {
   "cell_type": "code",
   "execution_count": 13,
   "id": "197c5091",
   "metadata": {},
   "outputs": [
    {
     "data": {
      "text/plain": [
       "UNKNOWN    96968\n",
       "25-44      63650\n",
       "45-64      21985\n",
       "18-24      16092\n",
       "<18         4914\n",
       "65+         2378\n",
       "2022          11\n",
       "-74            1\n",
       "-969           1\n",
       "-1             1\n",
       "-5962          1\n",
       "-961           1\n",
       "-10            1\n",
       "-941           1\n",
       "Name: SUSP_AGE_GROUP, dtype: int64"
      ]
     },
     "execution_count": 13,
     "metadata": {},
     "output_type": "execute_result"
    }
   ],
   "source": [
    "\n",
    "df['SUSP_AGE_GROUP'].value_counts()\n"
   ]
  },
  {
   "cell_type": "code",
   "execution_count": 14,
   "id": "360850a3",
   "metadata": {
    "scrolled": true
   },
   "outputs": [
    {
     "data": {
      "text/plain": [
       "(159811, 20)"
      ]
     },
     "execution_count": 14,
     "metadata": {},
     "output_type": "execute_result"
    }
   ],
   "source": [
    "df= df[~df['SUSP_AGE_GROUP'].isin(['2022', '-74','-969','-1','-5962','-961','-10','-941','UNKNOWN'])]\n",
    "df['SUSP_AGE_GROUP'].value_counts()\n",
    "df.shape\n"
   ]
  },
  {
   "cell_type": "code",
   "execution_count": 15,
   "id": "f0ca2492",
   "metadata": {},
   "outputs": [
    {
     "data": {
      "text/plain": [
       "BLACK                             51927\n",
       "WHITE HISPANIC                    25117\n",
       "WHITE                             13294\n",
       "BLACK HISPANIC                     7921\n",
       "ASIAN / PACIFIC ISLANDER           5757\n",
       "AMERICAN INDIAN/ALASKAN NATIVE      333\n",
       "Name: SUSP_RACE, dtype: int64"
      ]
     },
     "execution_count": 15,
     "metadata": {},
     "output_type": "execute_result"
    }
   ],
   "source": [
    "df['SUSP_RACE'].value_counts()\n"
   ]
  },
  {
   "cell_type": "code",
   "execution_count": 16,
   "id": "c7c1a747",
   "metadata": {},
   "outputs": [
    {
     "data": {
      "text/plain": [
       "25-44      56730\n",
       "UNKNOWN    46339\n",
       "45-64      28767\n",
       "18-24      13821\n",
       "65+         7329\n",
       "<18         6818\n",
       "-5             2\n",
       "-11            1\n",
       "-960           1\n",
       "-40            1\n",
       "-955           1\n",
       "-963           1\n",
       "Name: VIC_AGE_GROUP, dtype: int64"
      ]
     },
     "execution_count": 16,
     "metadata": {},
     "output_type": "execute_result"
    }
   ],
   "source": [
    "df['VIC_AGE_GROUP'].value_counts()\n"
   ]
  },
  {
   "cell_type": "code",
   "execution_count": 17,
   "id": "0f425524",
   "metadata": {},
   "outputs": [
    {
     "data": {
      "text/plain": [
       "(113465, 20)"
      ]
     },
     "execution_count": 17,
     "metadata": {},
     "output_type": "execute_result"
    }
   ],
   "source": [
    "df= df[~df['VIC_AGE_GROUP'].isin(['UNKNOWN','-65', '-5','-934','-40','-4','-964','-955','-959','-963','-11','-960','-970','-971'])]\n",
    "df['VIC_AGE_GROUP'].value_counts()\n",
    "df.shape"
   ]
  },
  {
   "cell_type": "code",
   "execution_count": 18,
   "id": "e312a6e7",
   "metadata": {},
   "outputs": [
    {
     "data": {
      "text/plain": [
       "BLACK                             41341\n",
       "WHITE HISPANIC                    28466\n",
       "WHITE                             21064\n",
       "ASIAN / PACIFIC ISLANDER          11476\n",
       "BLACK HISPANIC                     6513\n",
       "UNKNOWN                            4039\n",
       "AMERICAN INDIAN/ALASKAN NATIVE      494\n",
       "Name: VIC_RACE, dtype: int64"
      ]
     },
     "execution_count": 18,
     "metadata": {},
     "output_type": "execute_result"
    }
   ],
   "source": [
    "df['VIC_RACE'].value_counts()\n"
   ]
  },
  {
   "cell_type": "code",
   "execution_count": 19,
   "id": "fb3980e8",
   "metadata": {},
   "outputs": [
    {
     "data": {
      "text/plain": [
       "(109426, 20)"
      ]
     },
     "execution_count": 19,
     "metadata": {},
     "output_type": "execute_result"
    }
   ],
   "source": [
    "#df['VIC_RACE'].replace('UNKNOWN','BLACK',inplace=True)\n",
    "df= df[~df['VIC_RACE'].isin(['UNKNOWN'])]\n",
    "df['VIC_RACE'].value_counts()\n",
    "df.shape"
   ]
  },
  {
   "cell_type": "code",
   "execution_count": 20,
   "id": "3ed0b4f3",
   "metadata": {},
   "outputs": [
    {
     "data": {
      "text/plain": [
       "(57858, 20)"
      ]
     },
     "execution_count": 20,
     "metadata": {},
     "output_type": "execute_result"
    }
   ],
   "source": [
    "df.dropna(inplace=True)\n",
    "df.reset_index(drop= True, inplace=True)\n",
    "df.shape"
   ]
  },
  {
   "cell_type": "code",
   "execution_count": 21,
   "id": "2668d93f",
   "metadata": {},
   "outputs": [],
   "source": [
    "#Extracting the day from date given\n",
    "df['CMPLNT_FR_DT'] = pd.to_datetime(df['CMPLNT_FR_DT'],errors='coerce',format = \"%m/%d/%Y\" )\n",
    "df['CMPLNT_TO_DT'] = pd.to_datetime(df['CMPLNT_TO_DT'],errors='coerce',format = \"%m/%d/%Y\" )\n",
    "FR_DY = df['CMPLNT_FR_DT'].dt.day_name()\n",
    "TO_DY = df['CMPLNT_TO_DT'].dt.day_name()\n"
   ]
  },
  {
   "cell_type": "code",
   "execution_count": 22,
   "id": "b183ca07",
   "metadata": {},
   "outputs": [],
   "source": [
    "#concatinating th day column\n",
    "df = pd.concat([df,FR_DY],axis=1)\n",
    "df.columns = [*df.columns[:-1], 'CMPLNT_FR_DAY']"
   ]
  },
  {
   "cell_type": "code",
   "execution_count": 23,
   "id": "386f3996",
   "metadata": {},
   "outputs": [],
   "source": [
    "#concatinating the dat column\n",
    "df = pd.concat([df,TO_DY],axis=1)\n",
    "df.columns = [*df.columns[:-1], 'CMPLNT_TO_DAY']"
   ]
  },
  {
   "cell_type": "code",
   "execution_count": 24,
   "id": "89923809",
   "metadata": {},
   "outputs": [],
   "source": [
    "fr_hr = pd.to_datetime(df['CMPLNT_FR_TM'], format='%H:%M:%S').dt.hour \n",
    "to_hr = pd.to_datetime(df['CMPLNT_TO_TM'], format='%H:%M:%S').dt.hour\n"
   ]
  },
  {
   "cell_type": "code",
   "execution_count": 25,
   "id": "155746c5",
   "metadata": {},
   "outputs": [],
   "source": [
    "df = pd.concat([df,fr_hr],axis=1)\n",
    "df.columns = [*df.columns[:-1], 'CMPLNT_FR_PART']\n"
   ]
  },
  {
   "cell_type": "code",
   "execution_count": 26,
   "id": "80b60db9",
   "metadata": {},
   "outputs": [],
   "source": [
    "df = pd.concat([df,to_hr],axis=1)\n",
    "df.columns = [*df.columns[:-1], 'CMPLNT_TO_PART']\n"
   ]
  },
  {
   "cell_type": "code",
   "execution_count": 27,
   "id": "7c1c863e",
   "metadata": {},
   "outputs": [],
   "source": [
    "#Defining function to get part the hours\n",
    "def f(x=0):\n",
    "    if (x > 4) and (x <= 8):\n",
    "        return 'Early Morning'\n",
    "    elif (x > 8) and (x <= 12 ):\n",
    "        return 'Morning'\n",
    "    elif (x > 12) and (x <= 16):\n",
    "        return'Noon'\n",
    "    elif (x > 16) and (x <= 20) :\n",
    "        return 'Evening'\n",
    "    elif (x > 20) and (x <= 24):\n",
    "        return'Night'\n",
    "    elif (x <= 4):\n",
    "        return'Late Night'\n"
   ]
  },
  {
   "cell_type": "code",
   "execution_count": 28,
   "id": "2980b162",
   "metadata": {},
   "outputs": [],
   "source": [
    "df['CMPLNT_FR_PART'] = df['CMPLNT_FR_PART'].apply(lambda z: f(z))\n"
   ]
  },
  {
   "cell_type": "code",
   "execution_count": 29,
   "id": "1e93dfb9",
   "metadata": {},
   "outputs": [],
   "source": [
    "df['CMPLNT_TO_PART'] = df['CMPLNT_TO_PART'].apply(lambda z: f(z))\n"
   ]
  },
  {
   "cell_type": "code",
   "execution_count": 30,
   "id": "e4b1526d",
   "metadata": {},
   "outputs": [],
   "source": [
    "df.drop(columns=['CMPLNT_FR_DT','CMPLNT_FR_TM','CMPLNT_TO_DT','CMPLNT_TO_TM'],inplace= True)"
   ]
  },
  {
   "cell_type": "code",
   "execution_count": 31,
   "id": "8e982dd1",
   "metadata": {},
   "outputs": [],
   "source": [
    "df.drop(columns=['Latitude','Longitude'],inplace= True)"
   ]
  },
  {
   "cell_type": "code",
   "execution_count": 32,
   "id": "8be57b2e",
   "metadata": {},
   "outputs": [
    {
     "data": {
      "text/plain": [
       "(57858, 18)"
      ]
     },
     "execution_count": 32,
     "metadata": {},
     "output_type": "execute_result"
    }
   ],
   "source": [
    "df.shape"
   ]
  },
  {
   "cell_type": "code",
   "execution_count": 33,
   "id": "10bfb488",
   "metadata": {},
   "outputs": [
    {
     "name": "stdout",
     "output_type": "stream",
     "text": [
      "<class 'pandas.core.frame.DataFrame'>\n",
      "RangeIndex: 57858 entries, 0 to 57857\n",
      "Data columns (total 18 columns):\n",
      " #   Column             Non-Null Count  Dtype   \n",
      "---  ------             --------------  -----   \n",
      " 0   BORO_NM            57858 non-null  object  \n",
      " 1   CRM_ATPT_CPTD_CD   57858 non-null  object  \n",
      " 2   KY_CD              57858 non-null  int64   \n",
      " 3   LAW_CAT_CD         57858 non-null  object  \n",
      " 4   LOC_OF_OCCUR_DESC  57858 non-null  object  \n",
      " 5   OFNS_DESC          57858 non-null  object  \n",
      " 6   PATROL_BORO        57858 non-null  object  \n",
      " 7   RPT_DT             57858 non-null  object  \n",
      " 8   SUSP_AGE_GROUP     57858 non-null  object  \n",
      " 9   SUSP_RACE          57858 non-null  category\n",
      " 10  SUSP_SEX           57858 non-null  object  \n",
      " 11  VIC_AGE_GROUP      57858 non-null  object  \n",
      " 12  VIC_RACE           57858 non-null  object  \n",
      " 13  VIC_SEX            57858 non-null  object  \n",
      " 14  CMPLNT_FR_DAY      57858 non-null  object  \n",
      " 15  CMPLNT_TO_DAY      57858 non-null  object  \n",
      " 16  CMPLNT_FR_PART     57858 non-null  object  \n",
      " 17  CMPLNT_TO_PART     57858 non-null  object  \n",
      "dtypes: category(1), int64(1), object(16)\n",
      "memory usage: 7.6+ MB\n"
     ]
    }
   ],
   "source": [
    "df.info()"
   ]
  },
  {
   "cell_type": "code",
   "execution_count": 34,
   "id": "63f25583",
   "metadata": {},
   "outputs": [],
   "source": [
    "df[\"BORO_NM\"] = df[\"BORO_NM\"].astype(\"category\")"
   ]
  },
  {
   "cell_type": "code",
   "execution_count": 35,
   "id": "6bd20b5e",
   "metadata": {},
   "outputs": [],
   "source": [
    "df[\"PATROL_BORO\"] = df[\"PATROL_BORO\"].astype(\"category\")"
   ]
  },
  {
   "cell_type": "code",
   "execution_count": 36,
   "id": "ce858d64",
   "metadata": {
    "execution": {
     "iopub.execute_input": "2022-10-26T16:57:44.994845Z",
     "iopub.status.busy": "2022-10-26T16:57:44.994027Z",
     "iopub.status.idle": "2022-10-26T16:58:58.728678Z",
     "shell.execute_reply": "2022-10-26T16:58:58.727433Z"
    },
    "papermill": {
     "duration": 73.753615,
     "end_time": "2022-10-26T16:58:58.731947",
     "exception": false,
     "start_time": "2022-10-26T16:57:44.978332",
     "status": "completed"
    },
    "tags": []
   },
   "outputs": [],
   "source": [
    "df_clean = df.replace({'HARRASSMENT 2': 'HARASSMENT', \n",
    "                'ESCAPE 3': 'ESCAPE',\n",
    "                'ASSAULT 3 & RELATED OFFENSES': 'ASSAULT & RELATED OFFENSES',\n",
    "                'CRIMINAL MISCHIEF & RELATED OF': 'CRIMINAL MISCHIEF',\n",
    "                'OFF. AGNST PUB ORD SENSBLTY &': 'OFFENSES AGAINST PUBLIC ORDER/ADMINISTRATION',\n",
    "                'OTHER STATE LAWS (NON PENAL LA': 'OTHER STATE LAWS (NON PENAL LAW)',\n",
    "                'ENDAN WELFARE INCOMP': 'ENDANGERING WELFARE OF INCOMPETENT',\n",
    "                'AGRICULTURE & MRKTS LAW-UNCLASSIFIED': 'AGRICULTURE & MARKETS LAW',\n",
    "                'DISRUPTION OF A RELIGIOUS SERV': 'DISRUPTION OF A RELIGIOUS SERVICE',\n",
    "                'LOITERING/GAMBLING (CARDS, DIC': 'GAMBLING',\n",
    "                'OFFENSES AGAINST MARRIAGE UNCL': 'OFFENSES AGAINST MARRIAGE',\n",
    "                'HOMICIDE-NEGLIGENT,UNCLASSIFIE': 'HOMICIDE-NEGLIGENT',\n",
    "                                      'E': 'UNKNOWN',\n",
    "                                      'D': 'BUSINESS/ORGANIZATION',\n",
    "                                      'F': 'FEMALE',\n",
    "                                      'M': 'MALE'}).copy()"
   ]
  },
  {
   "cell_type": "markdown",
   "id": "9b7c1cdb",
   "metadata": {
    "papermill": {
     "duration": 0.009136,
     "end_time": "2022-10-26T16:58:58.751649",
     "exception": false,
     "start_time": "2022-10-26T16:58:58.742513",
     "status": "completed"
    },
    "tags": []
   },
   "source": [
    "## EDA :"
   ]
  },
  {
   "cell_type": "code",
   "execution_count": 37,
   "id": "365f7e8f",
   "metadata": {
    "execution": {
     "iopub.execute_input": "2022-10-26T16:58:58.772159Z",
     "iopub.status.busy": "2022-10-26T16:58:58.771719Z",
     "iopub.status.idle": "2022-10-26T16:58:59.272010Z",
     "shell.execute_reply": "2022-10-26T16:58:59.270833Z"
    },
    "papermill": {
     "duration": 0.513484,
     "end_time": "2022-10-26T16:58:59.274419",
     "exception": false,
     "start_time": "2022-10-26T16:58:58.760935",
     "status": "completed"
    },
    "tags": []
   },
   "outputs": [
    {
     "data": {
      "text/plain": [
       "HARASSMENT                                      17302\n",
       "ASSAULT & RELATED OFFENSES                      13134\n",
       "FELONY ASSAULT                                   5875\n",
       "OFFENSES AGAINST PUBLIC ORDER/ADMINISTRATION     4020\n",
       "MISCELLANEOUS PENAL LAW                          3838\n",
       "CRIMINAL MISCHIEF                                3069\n",
       "ROBBERY                                          1944\n",
       "OFFENSES AGAINST PUBLIC ADMINI                   1694\n",
       "PETIT LARCENY                                    1457\n",
       "SEX CRIMES                                       1426\n",
       "Name: OFNS_DESC, dtype: int64"
      ]
     },
     "execution_count": 37,
     "metadata": {},
     "output_type": "execute_result"
    }
   ],
   "source": [
    "#types of crimes (top 10)\n",
    "df_clean.OFNS_DESC.value_counts().iloc[:10]"
   ]
  },
  {
   "cell_type": "code",
   "execution_count": 38,
   "id": "0bc305b0",
   "metadata": {
    "execution": {
     "iopub.execute_input": "2022-10-26T16:58:59.295295Z",
     "iopub.status.busy": "2022-10-26T16:58:59.294869Z",
     "iopub.status.idle": "2022-10-26T16:58:59.995988Z",
     "shell.execute_reply": "2022-10-26T16:58:59.994612Z"
    },
    "papermill": {
     "duration": 0.714646,
     "end_time": "2022-10-26T16:58:59.998549",
     "exception": false,
     "start_time": "2022-10-26T16:58:59.283903",
     "status": "completed"
    },
    "tags": []
   },
   "outputs": [
    {
     "data": {
      "text/plain": [
       "<AxesSubplot:title={'center':'Types of Crimes'}>"
      ]
     },
     "execution_count": 38,
     "metadata": {},
     "output_type": "execute_result"
    },
    {
     "data": {
      "image/png": "[encoded data removed]",
      "text/plain": [
       "<Figure size 432x288 with 1 Axes>"
      ]
     },
     "metadata": {
      "needs_background": "light"
     },
     "output_type": "display_data"
    }
   ],
   "source": [
    "df_clean.OFNS_DESC.value_counts().iloc[:10].sort_values().plot(kind=\"barh\", title = \"Types of Crimes\")"
   ]
  },
  {
   "cell_type": "markdown",
   "id": "53d0eb82",
   "metadata": {
    "papermill": {
     "duration": 0.010611,
     "end_time": "2022-10-26T16:59:00.019312",
     "exception": false,
     "start_time": "2022-10-26T16:59:00.008701",
     "status": "completed"
    },
    "tags": []
   },
   "source": [
    "There are three levels of crime in New York State: Violation, Misdemeanor and Felony.\n",
    "\n",
    "From the graph below, I can tell that Misdemeanor, an offense of which a sentence in excess of 15 days but not greater than one year may be imposed, is the most popular level of crime. The second popular one is Felony, the most serious of offenses, and the third one is Violation, a lesser offense for which a sentence only be no more than 15 days."
   ]
  },
  {
   "cell_type": "code",
   "execution_count": 39,
   "id": "a5ea3aab",
   "metadata": {
    "execution": {
     "iopub.execute_input": "2022-10-26T16:59:00.042009Z",
     "iopub.status.busy": "2022-10-26T16:59:00.041552Z",
     "iopub.status.idle": "2022-10-26T16:59:00.685589Z",
     "shell.execute_reply": "2022-10-26T16:59:00.683914Z"
    },
    "papermill": {
     "duration": 0.660401,
     "end_time": "2022-10-26T16:59:00.689949",
     "exception": false,
     "start_time": "2022-10-26T16:59:00.029548",
     "status": "completed"
    },
    "tags": []
   },
   "outputs": [
    {
     "data": {
      "text/plain": [
       "array([<AxesSubplot:ylabel='LAW_CAT_CD'>], dtype=object)"
      ]
     },
     "execution_count": 39,
     "metadata": {},
     "output_type": "execute_result"
    },
    {
     "data": {
      "image/png": "[encoded data removed]",
      "text/plain": [
       "<Figure size 720x360 with 1 Axes>"
      ]
     },
     "metadata": {},
     "output_type": "display_data"
    }
   ],
   "source": [
    "df_clean['LAW_CAT_CD'].value_counts().sort_values().plot(kind='pie', subplots=True, shadow = True,startangle=40,\n",
    "figsize=(10,5), autopct='%1.1f%%', title = 'Level of Offense')"
   ]
  },
  {
   "cell_type": "markdown",
   "id": "1798f355",
   "metadata": {
    "papermill": {
     "duration": 0.025667,
     "end_time": "2022-10-26T16:59:00.741899",
     "exception": false,
     "start_time": "2022-10-26T16:59:00.716232",
     "status": "completed"
    },
    "tags": []
   },
   "source": [
    "### 2. Distribution of crimes over the months and days"
   ]
  },
  {
   "cell_type": "code",
   "execution_count": 40,
   "id": "4edff0df",
   "metadata": {
    "execution": {
     "iopub.execute_input": "2022-10-26T16:59:14.439041Z",
     "iopub.status.busy": "2022-10-26T16:59:14.438421Z",
     "iopub.status.idle": "2022-10-26T16:59:35.781573Z",
     "shell.execute_reply": "2022-10-26T16:59:35.780457Z"
    },
    "papermill": {
     "duration": 21.358911,
     "end_time": "2022-10-26T16:59:35.784637",
     "exception": false,
     "start_time": "2022-10-26T16:59:14.425726",
     "status": "completed"
    },
    "tags": []
   },
   "outputs": [
    {
     "data": {
      "text/plain": [
       "<AxesSubplot:title={'center':'Total Crime Events by Month'}, xlabel='month'>"
      ]
     },
     "execution_count": 40,
     "metadata": {},
     "output_type": "execute_result"
    },
    {
     "data": {
      "image/png": "[encoded data removed]",
      "text/plain": [
       "<Figure size 432x288 with 1 Axes>"
      ]
     },
     "metadata": {
      "needs_background": "light"
     },
     "output_type": "display_data"
    }
   ],
   "source": [
    "#reports by month\n",
    "df_clean['month'] = df_clean['RPT_DT'].str.findall('(\\d{2})').apply(lambda x: x[0])\n",
    "df_clean.groupby('month').size().plot(kind = 'bar', title ='Total Crime Events by Month', color = '#C0392B',rot=0)"
   ]
  },
  {
   "cell_type": "markdown",
   "id": "2675517d",
   "metadata": {
    "papermill": {
     "duration": 0.010903,
     "end_time": "2022-10-26T16:59:35.807440",
     "exception": false,
     "start_time": "2022-10-26T16:59:35.796537",
     "status": "completed"
    },
    "tags": []
   },
   "source": [
    "### 4. Analyzing a Specific Crime\n",
    "\n",
    "I want to specifically analyze sex related crimes in NYC. For that, I put the part of the dataframe that contains the crime description 'sex crimes' and 'rape' into another dataframe and called it “sex_crimes.”"
   ]
  },
  {
   "cell_type": "code",
   "execution_count": 41,
   "id": "c12b31df",
   "metadata": {
    "execution": {
     "iopub.execute_input": "2022-10-26T16:59:35.832371Z",
     "iopub.status.busy": "2022-10-26T16:59:35.831675Z",
     "iopub.status.idle": "2022-10-26T16:59:47.374351Z",
     "shell.execute_reply": "2022-10-26T16:59:47.373352Z"
    },
    "papermill": {
     "duration": 11.557999,
     "end_time": "2022-10-26T16:59:47.376738",
     "exception": false,
     "start_time": "2022-10-26T16:59:35.818739",
     "status": "completed"
    },
    "tags": []
   },
   "outputs": [
    {
     "data": {
      "text/html": [
       "<div>\n",
       "<style scoped>\n",
       "    .dataframe tbody tr th:only-of-type {\n",
       "        vertical-align: middle;\n",
       "    }\n",
       "\n",
       "    .dataframe tbody tr th {\n",
       "        vertical-align: top;\n",
       "    }\n",
       "\n",
       "    .dataframe thead th {\n",
       "        text-align: right;\n",
       "    }\n",
       "</style>\n",
       "<table border=\"1\" class=\"dataframe\">\n",
       "  <thead>\n",
       "    <tr style=\"text-align: right;\">\n",
       "      <th></th>\n",
       "      <th>BORO_NM</th>\n",
       "      <th>CRM_ATPT_CPTD_CD</th>\n",
       "      <th>KY_CD</th>\n",
       "      <th>LAW_CAT_CD</th>\n",
       "      <th>LOC_OF_OCCUR_DESC</th>\n",
       "      <th>OFNS_DESC</th>\n",
       "      <th>PATROL_BORO</th>\n",
       "      <th>RPT_DT</th>\n",
       "      <th>SUSP_AGE_GROUP</th>\n",
       "      <th>SUSP_RACE</th>\n",
       "      <th>SUSP_SEX</th>\n",
       "      <th>VIC_AGE_GROUP</th>\n",
       "      <th>VIC_RACE</th>\n",
       "      <th>VIC_SEX</th>\n",
       "      <th>CMPLNT_FR_DAY</th>\n",
       "      <th>CMPLNT_TO_DAY</th>\n",
       "      <th>CMPLNT_FR_PART</th>\n",
       "      <th>CMPLNT_TO_PART</th>\n",
       "      <th>month</th>\n",
       "    </tr>\n",
       "  </thead>\n",
       "  <tbody>\n",
       "    <tr>\n",
       "      <th>0</th>\n",
       "      <td>STATEN ISLAND</td>\n",
       "      <td>COMPLETED</td>\n",
       "      <td>104</td>\n",
       "      <td>FELONY</td>\n",
       "      <td>INSIDE</td>\n",
       "      <td>RAPE</td>\n",
       "      <td>PATROL BORO STATEN ISLAND</td>\n",
       "      <td>03/25/2022</td>\n",
       "      <td>25-44</td>\n",
       "      <td>BLACK</td>\n",
       "      <td>MALE</td>\n",
       "      <td>18-24</td>\n",
       "      <td>BLACK</td>\n",
       "      <td>FEMALE</td>\n",
       "      <td>Thursday</td>\n",
       "      <td>Thursday</td>\n",
       "      <td>Noon</td>\n",
       "      <td>Night</td>\n",
       "      <td>03</td>\n",
       "    </tr>\n",
       "    <tr>\n",
       "      <th>3</th>\n",
       "      <td>BRONX</td>\n",
       "      <td>COMPLETED</td>\n",
       "      <td>116</td>\n",
       "      <td>FELONY</td>\n",
       "      <td>INSIDE</td>\n",
       "      <td>SEX CRIMES</td>\n",
       "      <td>PATROL BORO BRONX</td>\n",
       "      <td>05/20/2022</td>\n",
       "      <td>25-44</td>\n",
       "      <td>WHITE HISPANIC</td>\n",
       "      <td>MALE</td>\n",
       "      <td>&lt;18</td>\n",
       "      <td>WHITE HISPANIC</td>\n",
       "      <td>FEMALE</td>\n",
       "      <td>Tuesday</td>\n",
       "      <td>Saturday</td>\n",
       "      <td>Late Night</td>\n",
       "      <td>Late Night</td>\n",
       "      <td>05</td>\n",
       "    </tr>\n",
       "    <tr>\n",
       "      <th>9</th>\n",
       "      <td>MANHATTAN</td>\n",
       "      <td>COMPLETED</td>\n",
       "      <td>104</td>\n",
       "      <td>FELONY</td>\n",
       "      <td>INSIDE</td>\n",
       "      <td>RAPE</td>\n",
       "      <td>PATROL BORO MAN SOUTH</td>\n",
       "      <td>03/14/2022</td>\n",
       "      <td>25-44</td>\n",
       "      <td>ASIAN / PACIFIC ISLANDER</td>\n",
       "      <td>MALE</td>\n",
       "      <td>25-44</td>\n",
       "      <td>ASIAN / PACIFIC ISLANDER</td>\n",
       "      <td>FEMALE</td>\n",
       "      <td>Saturday</td>\n",
       "      <td>Saturday</td>\n",
       "      <td>Morning</td>\n",
       "      <td>Morning</td>\n",
       "      <td>03</td>\n",
       "    </tr>\n",
       "    <tr>\n",
       "      <th>10</th>\n",
       "      <td>BRONX</td>\n",
       "      <td>COMPLETED</td>\n",
       "      <td>104</td>\n",
       "      <td>FELONY</td>\n",
       "      <td>INSIDE</td>\n",
       "      <td>RAPE</td>\n",
       "      <td>PATROL BORO BRONX</td>\n",
       "      <td>02/19/2022</td>\n",
       "      <td>25-44</td>\n",
       "      <td>WHITE HISPANIC</td>\n",
       "      <td>FEMALE</td>\n",
       "      <td>&lt;18</td>\n",
       "      <td>WHITE HISPANIC</td>\n",
       "      <td>FEMALE</td>\n",
       "      <td>Sunday</td>\n",
       "      <td>Sunday</td>\n",
       "      <td>Evening</td>\n",
       "      <td>Evening</td>\n",
       "      <td>02</td>\n",
       "    </tr>\n",
       "    <tr>\n",
       "      <th>11</th>\n",
       "      <td>QUEENS</td>\n",
       "      <td>COMPLETED</td>\n",
       "      <td>233</td>\n",
       "      <td>MISDEMEANOR</td>\n",
       "      <td>INSIDE</td>\n",
       "      <td>SEX CRIMES</td>\n",
       "      <td>PATROL BORO QUEENS SOUTH</td>\n",
       "      <td>03/07/2022</td>\n",
       "      <td>&lt;18</td>\n",
       "      <td>ASIAN / PACIFIC ISLANDER</td>\n",
       "      <td>MALE</td>\n",
       "      <td>&lt;18</td>\n",
       "      <td>BLACK</td>\n",
       "      <td>FEMALE</td>\n",
       "      <td>Wednesday</td>\n",
       "      <td>Friday</td>\n",
       "      <td>Noon</td>\n",
       "      <td>Noon</td>\n",
       "      <td>03</td>\n",
       "    </tr>\n",
       "  </tbody>\n",
       "</table>\n",
       "</div>"
      ],
      "text/plain": [
       "          BORO_NM CRM_ATPT_CPTD_CD  KY_CD   LAW_CAT_CD LOC_OF_OCCUR_DESC  \\\n",
       "0   STATEN ISLAND        COMPLETED    104       FELONY            INSIDE   \n",
       "3           BRONX        COMPLETED    116       FELONY            INSIDE   \n",
       "9       MANHATTAN        COMPLETED    104       FELONY            INSIDE   \n",
       "10          BRONX        COMPLETED    104       FELONY            INSIDE   \n",
       "11         QUEENS        COMPLETED    233  MISDEMEANOR            INSIDE   \n",
       "\n",
       "     OFNS_DESC                PATROL_BORO      RPT_DT SUSP_AGE_GROUP  \\\n",
       "0         RAPE  PATROL BORO STATEN ISLAND  03/25/2022          25-44   \n",
       "3   SEX CRIMES          PATROL BORO BRONX  05/20/2022          25-44   \n",
       "9         RAPE      PATROL BORO MAN SOUTH  03/14/2022          25-44   \n",
       "10        RAPE          PATROL BORO BRONX  02/19/2022          25-44   \n",
       "11  SEX CRIMES   PATROL BORO QUEENS SOUTH  03/07/2022            <18   \n",
       "\n",
       "                   SUSP_RACE SUSP_SEX VIC_AGE_GROUP                  VIC_RACE  \\\n",
       "0                      BLACK     MALE         18-24                     BLACK   \n",
       "3             WHITE HISPANIC     MALE           <18            WHITE HISPANIC   \n",
       "9   ASIAN / PACIFIC ISLANDER     MALE         25-44  ASIAN / PACIFIC ISLANDER   \n",
       "10            WHITE HISPANIC   FEMALE           <18            WHITE HISPANIC   \n",
       "11  ASIAN / PACIFIC ISLANDER     MALE           <18                     BLACK   \n",
       "\n",
       "   VIC_SEX CMPLNT_FR_DAY CMPLNT_TO_DAY CMPLNT_FR_PART CMPLNT_TO_PART month  \n",
       "0   FEMALE      Thursday      Thursday           Noon          Night    03  \n",
       "3   FEMALE       Tuesday      Saturday     Late Night     Late Night    05  \n",
       "9   FEMALE      Saturday      Saturday        Morning        Morning    03  \n",
       "10  FEMALE        Sunday        Sunday        Evening        Evening    02  \n",
       "11  FEMALE     Wednesday        Friday           Noon           Noon    03  "
      ]
     },
     "execution_count": 41,
     "metadata": {},
     "output_type": "execute_result"
    }
   ],
   "source": [
    "sex_crimes = df_clean[df.OFNS_DESC.str.contains('SEX CRIMES|RAPE')]\n",
    "sex_crimes.head()"
   ]
  },
  {
   "cell_type": "markdown",
   "id": "0c872471",
   "metadata": {
    "papermill": {
     "duration": 0.011436,
     "end_time": "2022-10-26T16:59:47.400172",
     "exception": false,
     "start_time": "2022-10-26T16:59:47.388736",
     "status": "completed"
    },
    "tags": []
   },
   "source": [
    "#### Analyzing Time\n",
    "\n",
    "We may be interested in the distribution of values across the years, so I'm going to group the data by year and plot the results."
   ]
  },
  {
   "cell_type": "code",
   "execution_count": 42,
   "id": "b7b391aa",
   "metadata": {
    "execution": {
     "iopub.execute_input": "2022-10-26T16:59:47.425726Z",
     "iopub.status.busy": "2022-10-26T16:59:47.424471Z",
     "iopub.status.idle": "2022-10-26T16:59:47.772686Z",
     "shell.execute_reply": "2022-10-26T16:59:47.771048Z"
    },
    "papermill": {
     "duration": 0.363683,
     "end_time": "2022-10-26T16:59:47.775393",
     "exception": false,
     "start_time": "2022-10-26T16:59:47.411710",
     "status": "completed"
    },
    "scrolled": true,
    "tags": []
   },
   "outputs": [],
   "source": [
    "#plot graph\n",
    "#sex_crimes.groupby('year').size().plot(kind = 'barh', color = '#8E44AD', title = 'Sex Crime Reports by Year')\n",
    "\n",
    "#average sex crimes per year\n",
    "#mean = sex_crimes['year'].value_counts().mean()\n",
    "#print(round(mean,2))"
   ]
  },
  {
   "cell_type": "markdown",
   "id": "ba692236",
   "metadata": {
    "papermill": {
     "duration": 0.01231,
     "end_time": "2022-10-26T16:59:47.800367",
     "exception": false,
     "start_time": "2022-10-26T16:59:47.788057",
     "status": "completed"
    },
    "tags": []
   },
   "source": [
    "- Based on the bar graph that I computed, sex crimes happened the most during the last 3 years compared to previous years.\n",
    "\n",
    "- On average, there are 7443 victims of rape and sexual assault each year in New York City.\n",
    "\n",
    "Let’s also look at how the number of the reports changes within a day."
   ]
  },
  {
   "cell_type": "code",
   "execution_count": 43,
   "id": "ff14d667",
   "metadata": {
    "execution": {
     "iopub.execute_input": "2022-10-26T16:59:47.826558Z",
     "iopub.status.busy": "2022-10-26T16:59:47.826153Z",
     "iopub.status.idle": "2022-10-26T16:59:48.098794Z",
     "shell.execute_reply": "2022-10-26T16:59:48.097379Z"
    },
    "papermill": {
     "duration": 0.288977,
     "end_time": "2022-10-26T16:59:48.101504",
     "exception": false,
     "start_time": "2022-10-26T16:59:47.812527",
     "status": "completed"
    },
    "tags": []
   },
   "outputs": [
    {
     "name": "stdout",
     "output_type": "stream",
     "text": [
      "WHITE HISPANIC                    34.611172\n",
      "BLACK                             33.515882\n",
      "WHITE                             14.622125\n",
      "ASIAN / PACIFIC ISLANDER          10.569551\n",
      "BLACK HISPANIC                     6.243154\n",
      "AMERICAN INDIAN/ALASKAN NATIVE     0.438116\n",
      "Name: VIC_RACE, dtype: float64\n"
     ]
    },
    {
     "data": {
      "image/png": "[encoded data removed]",
      "text/plain": [
       "<Figure size 432x288 with 1 Axes>"
      ]
     },
     "metadata": {
      "needs_background": "light"
     },
     "output_type": "display_data"
    }
   ],
   "source": [
    "# Sex victims by Race :\n",
    "sex_crimes['VIC_RACE'].value_counts().iloc[:7].plot(kind=\"barh\", color = '#D35400', title = 'Sex Crime Victims by Race')\n",
    "\n",
    "#victims by race percentage\n",
    "vic_race_per = sex_crimes['VIC_RACE'].value_counts().iloc[:7] / sex_crimes['VIC_RACE'].shape[0] *100\n",
    "print(vic_race_per)"
   ]
  },
  {
   "cell_type": "code",
   "execution_count": 44,
   "id": "bb72dd7f",
   "metadata": {},
   "outputs": [
    {
     "data": {
      "text/plain": [
       "47"
      ]
     },
     "execution_count": 44,
     "metadata": {},
     "output_type": "execute_result"
    }
   ],
   "source": [
    "df.KY_CD.nunique()"
   ]
  },
  {
   "cell_type": "code",
   "execution_count": 45,
   "id": "62230ae7",
   "metadata": {},
   "outputs": [
    {
     "data": {
      "text/plain": [
       "44"
      ]
     },
     "execution_count": 45,
     "metadata": {},
     "output_type": "execute_result"
    }
   ],
   "source": [
    "df.OFNS_DESC.nunique()"
   ]
  },
  {
   "cell_type": "code",
   "execution_count": 46,
   "id": "a45879fc",
   "metadata": {},
   "outputs": [],
   "source": [
    "df.drop(columns=['KY_CD','OFNS_DESC','RPT_DT'],inplace= True)"
   ]
  },
  {
   "cell_type": "code",
   "execution_count": 47,
   "id": "871989ec",
   "metadata": {},
   "outputs": [
    {
     "name": "stdout",
     "output_type": "stream",
     "text": [
      "<class 'pandas.core.frame.DataFrame'>\n",
      "RangeIndex: 57858 entries, 0 to 57857\n",
      "Data columns (total 15 columns):\n",
      " #   Column             Non-Null Count  Dtype   \n",
      "---  ------             --------------  -----   \n",
      " 0   BORO_NM            57858 non-null  category\n",
      " 1   CRM_ATPT_CPTD_CD   57858 non-null  object  \n",
      " 2   LAW_CAT_CD         57858 non-null  object  \n",
      " 3   LOC_OF_OCCUR_DESC  57858 non-null  object  \n",
      " 4   PATROL_BORO        57858 non-null  category\n",
      " 5   SUSP_AGE_GROUP     57858 non-null  object  \n",
      " 6   SUSP_RACE          57858 non-null  category\n",
      " 7   SUSP_SEX           57858 non-null  object  \n",
      " 8   VIC_AGE_GROUP      57858 non-null  object  \n",
      " 9   VIC_RACE           57858 non-null  object  \n",
      " 10  VIC_SEX            57858 non-null  object  \n",
      " 11  CMPLNT_FR_DAY      57858 non-null  object  \n",
      " 12  CMPLNT_TO_DAY      57858 non-null  object  \n",
      " 13  CMPLNT_FR_PART     57858 non-null  object  \n",
      " 14  CMPLNT_TO_PART     57858 non-null  object  \n",
      "dtypes: category(3), object(12)\n",
      "memory usage: 5.5+ MB\n"
     ]
    }
   ],
   "source": [
    "df.info()"
   ]
  },
  {
   "cell_type": "code",
   "execution_count": 48,
   "id": "6cb8fd20",
   "metadata": {},
   "outputs": [],
   "source": [
    "for col in ['CRM_ATPT_CPTD_CD','LAW_CAT_CD','LOC_OF_OCCUR_DESC','PATROL_BORO','SUSP_AGE_GROUP','SUSP_RACE','SUSP_SEX','VIC_AGE_GROUP','VIC_RACE','VIC_SEX','CMPLNT_FR_DAY','CMPLNT_TO_DAY','CMPLNT_FR_PART','CMPLNT_TO_PART']:\n",
    "    df[col] = df[col].astype('category')"
   ]
  },
  {
   "cell_type": "code",
   "execution_count": 49,
   "id": "efee9c1e",
   "metadata": {},
   "outputs": [
    {
     "name": "stdout",
     "output_type": "stream",
     "text": [
      "<class 'pandas.core.frame.DataFrame'>\n",
      "RangeIndex: 57858 entries, 0 to 57857\n",
      "Data columns (total 15 columns):\n",
      " #   Column             Non-Null Count  Dtype   \n",
      "---  ------             --------------  -----   \n",
      " 0   BORO_NM            57858 non-null  category\n",
      " 1   CRM_ATPT_CPTD_CD   57858 non-null  category\n",
      " 2   LAW_CAT_CD         57858 non-null  category\n",
      " 3   LOC_OF_OCCUR_DESC  57858 non-null  category\n",
      " 4   PATROL_BORO        57858 non-null  category\n",
      " 5   SUSP_AGE_GROUP     57858 non-null  category\n",
      " 6   SUSP_RACE          57858 non-null  category\n",
      " 7   SUSP_SEX           57858 non-null  category\n",
      " 8   VIC_AGE_GROUP      57858 non-null  category\n",
      " 9   VIC_RACE           57858 non-null  category\n",
      " 10  VIC_SEX            57858 non-null  category\n",
      " 11  CMPLNT_FR_DAY      57858 non-null  category\n",
      " 12  CMPLNT_TO_DAY      57858 non-null  category\n",
      " 13  CMPLNT_FR_PART     57858 non-null  category\n",
      " 14  CMPLNT_TO_PART     57858 non-null  category\n",
      "dtypes: category(15)\n",
      "memory usage: 851.0 KB\n"
     ]
    }
   ],
   "source": [
    "df.info()"
   ]
  },
  {
   "cell_type": "code",
   "execution_count": 50,
   "id": "5c4692c4",
   "metadata": {},
   "outputs": [
    {
     "name": "stdout",
     "output_type": "stream",
     "text": [
      "<class 'pandas.core.frame.DataFrame'>\n",
      "RangeIndex: 57858 entries, 0 to 57857\n",
      "Data columns (total 73 columns):\n",
      " #   Column                                    Non-Null Count  Dtype   \n",
      "---  ------                                    --------------  -----   \n",
      " 0   BORO_NM                                   57858 non-null  category\n",
      " 1   CRM_ATPT_CPTD_CD_ATTEMPTED                57858 non-null  uint8   \n",
      " 2   CRM_ATPT_CPTD_CD_COMPLETED                57858 non-null  uint8   \n",
      " 3   LAW_CAT_CD_FELONY                         57858 non-null  uint8   \n",
      " 4   LAW_CAT_CD_MISDEMEANOR                    57858 non-null  uint8   \n",
      " 5   LAW_CAT_CD_VIOLATION                      57858 non-null  uint8   \n",
      " 6   LOC_OF_OCCUR_DESC_FRONT OF                57858 non-null  uint8   \n",
      " 7   LOC_OF_OCCUR_DESC_INSIDE                  57858 non-null  uint8   \n",
      " 8   LOC_OF_OCCUR_DESC_OPPOSITE OF             57858 non-null  uint8   \n",
      " 9   LOC_OF_OCCUR_DESC_REAR OF                 57858 non-null  uint8   \n",
      " 10  PATROL_BORO_PATROL BORO BKLYN NORTH       57858 non-null  uint8   \n",
      " 11  PATROL_BORO_PATROL BORO BKLYN SOUTH       57858 non-null  uint8   \n",
      " 12  PATROL_BORO_PATROL BORO BRONX             57858 non-null  uint8   \n",
      " 13  PATROL_BORO_PATROL BORO MAN NORTH         57858 non-null  uint8   \n",
      " 14  PATROL_BORO_PATROL BORO MAN SOUTH         57858 non-null  uint8   \n",
      " 15  PATROL_BORO_PATROL BORO QUEENS NORTH      57858 non-null  uint8   \n",
      " 16  PATROL_BORO_PATROL BORO QUEENS SOUTH      57858 non-null  uint8   \n",
      " 17  PATROL_BORO_PATROL BORO STATEN ISLAND     57858 non-null  uint8   \n",
      " 18  SUSP_AGE_GROUP_18-24                      57858 non-null  uint8   \n",
      " 19  SUSP_AGE_GROUP_25-44                      57858 non-null  uint8   \n",
      " 20  SUSP_AGE_GROUP_45-64                      57858 non-null  uint8   \n",
      " 21  SUSP_AGE_GROUP_65+                        57858 non-null  uint8   \n",
      " 22  SUSP_AGE_GROUP_<18                        57858 non-null  uint8   \n",
      " 23  SUSP_RACE_AMERICAN INDIAN/ALASKAN NATIVE  57858 non-null  uint8   \n",
      " 24  SUSP_RACE_ASIAN / PACIFIC ISLANDER        57858 non-null  uint8   \n",
      " 25  SUSP_RACE_BLACK                           57858 non-null  uint8   \n",
      " 26  SUSP_RACE_BLACK HISPANIC                  57858 non-null  uint8   \n",
      " 27  SUSP_RACE_WHITE                           57858 non-null  uint8   \n",
      " 28  SUSP_RACE_WHITE HISPANIC                  57858 non-null  uint8   \n",
      " 29  SUSP_SEX_F                                57858 non-null  uint8   \n",
      " 30  SUSP_SEX_M                                57858 non-null  uint8   \n",
      " 31  SUSP_SEX_U                                57858 non-null  uint8   \n",
      " 32  VIC_AGE_GROUP_18-24                       57858 non-null  uint8   \n",
      " 33  VIC_AGE_GROUP_25-44                       57858 non-null  uint8   \n",
      " 34  VIC_AGE_GROUP_45-64                       57858 non-null  uint8   \n",
      " 35  VIC_AGE_GROUP_65+                         57858 non-null  uint8   \n",
      " 36  VIC_AGE_GROUP_<18                         57858 non-null  uint8   \n",
      " 37  VIC_RACE_AMERICAN INDIAN/ALASKAN NATIVE   57858 non-null  uint8   \n",
      " 38  VIC_RACE_ASIAN / PACIFIC ISLANDER         57858 non-null  uint8   \n",
      " 39  VIC_RACE_BLACK                            57858 non-null  uint8   \n",
      " 40  VIC_RACE_BLACK HISPANIC                   57858 non-null  uint8   \n",
      " 41  VIC_RACE_WHITE                            57858 non-null  uint8   \n",
      " 42  VIC_RACE_WHITE HISPANIC                   57858 non-null  uint8   \n",
      " 43  VIC_SEX_D                                 57858 non-null  uint8   \n",
      " 44  VIC_SEX_E                                 57858 non-null  uint8   \n",
      " 45  VIC_SEX_F                                 57858 non-null  uint8   \n",
      " 46  VIC_SEX_M                                 57858 non-null  uint8   \n",
      " 47  CMPLNT_FR_DAY_Friday                      57858 non-null  uint8   \n",
      " 48  CMPLNT_FR_DAY_Monday                      57858 non-null  uint8   \n",
      " 49  CMPLNT_FR_DAY_Saturday                    57858 non-null  uint8   \n",
      " 50  CMPLNT_FR_DAY_Sunday                      57858 non-null  uint8   \n",
      " 51  CMPLNT_FR_DAY_Thursday                    57858 non-null  uint8   \n",
      " 52  CMPLNT_FR_DAY_Tuesday                     57858 non-null  uint8   \n",
      " 53  CMPLNT_FR_DAY_Wednesday                   57858 non-null  uint8   \n",
      " 54  CMPLNT_TO_DAY_Friday                      57858 non-null  uint8   \n",
      " 55  CMPLNT_TO_DAY_Monday                      57858 non-null  uint8   \n",
      " 56  CMPLNT_TO_DAY_Saturday                    57858 non-null  uint8   \n",
      " 57  CMPLNT_TO_DAY_Sunday                      57858 non-null  uint8   \n",
      " 58  CMPLNT_TO_DAY_Thursday                    57858 non-null  uint8   \n",
      " 59  CMPLNT_TO_DAY_Tuesday                     57858 non-null  uint8   \n",
      " 60  CMPLNT_TO_DAY_Wednesday                   57858 non-null  uint8   \n",
      " 61  CMPLNT_FR_PART_Early Morning              57858 non-null  uint8   \n",
      " 62  CMPLNT_FR_PART_Evening                    57858 non-null  uint8   \n",
      " 63  CMPLNT_FR_PART_Late Night                 57858 non-null  uint8   \n",
      " 64  CMPLNT_FR_PART_Morning                    57858 non-null  uint8   \n",
      " 65  CMPLNT_FR_PART_Night                      57858 non-null  uint8   \n",
      " 66  CMPLNT_FR_PART_Noon                       57858 non-null  uint8   \n",
      " 67  CMPLNT_TO_PART_Early Morning              57858 non-null  uint8   \n",
      " 68  CMPLNT_TO_PART_Evening                    57858 non-null  uint8   \n",
      " 69  CMPLNT_TO_PART_Late Night                 57858 non-null  uint8   \n",
      " 70  CMPLNT_TO_PART_Morning                    57858 non-null  uint8   \n",
      " 71  CMPLNT_TO_PART_Night                      57858 non-null  uint8   \n",
      " 72  CMPLNT_TO_PART_Noon                       57858 non-null  uint8   \n",
      "dtypes: category(1), uint8(72)\n",
      "memory usage: 4.0 MB\n"
     ]
    }
   ],
   "source": [
    "df1= pd.get_dummies(df,columns=['CRM_ATPT_CPTD_CD','LAW_CAT_CD','LOC_OF_OCCUR_DESC','PATROL_BORO','SUSP_AGE_GROUP','SUSP_RACE','SUSP_SEX','VIC_AGE_GROUP','VIC_RACE','VIC_SEX','CMPLNT_FR_DAY','CMPLNT_TO_DAY','CMPLNT_FR_PART','CMPLNT_TO_PART'])\n",
    "df1.info()"
   ]
  },
  {
   "cell_type": "code",
   "execution_count": 51,
   "id": "65f738de",
   "metadata": {},
   "outputs": [
    {
     "data": {
      "text/plain": [
       "['STATEN ISLAND', 'MANHATTAN', 'QUEENS', 'BRONX', 'BROOKLYN']\n",
       "Categories (5, object): ['BRONX', 'BROOKLYN', 'MANHATTAN', 'QUEENS', 'STATEN ISLAND']"
      ]
     },
     "execution_count": 51,
     "metadata": {},
     "output_type": "execute_result"
    }
   ],
   "source": [
    "df1.BORO_NM.unique()"
   ]
  },
  {
   "cell_type": "code",
   "execution_count": 52,
   "id": "56ae46b0",
   "metadata": {},
   "outputs": [],
   "source": [
    "df1= df1.replace({'BRONX': 1, \n",
    "                'BROOKLYN': 2,\n",
    "                'MANHATTAN': 3,\n",
    "                'QUEENS': 4,\n",
    "                'STATEN ISLAND': 5\n",
    "               }).copy()"
   ]
  },
  {
   "cell_type": "code",
   "execution_count": 53,
   "id": "30f1e9ee",
   "metadata": {},
   "outputs": [
    {
     "data": {
      "text/html": [
       "<div>\n",
       "<style scoped>\n",
       "    .dataframe tbody tr th:only-of-type {\n",
       "        vertical-align: middle;\n",
       "    }\n",
       "\n",
       "    .dataframe tbody tr th {\n",
       "        vertical-align: top;\n",
       "    }\n",
       "\n",
       "    .dataframe thead th {\n",
       "        text-align: right;\n",
       "    }\n",
       "</style>\n",
       "<table border=\"1\" class=\"dataframe\">\n",
       "  <thead>\n",
       "    <tr style=\"text-align: right;\">\n",
       "      <th></th>\n",
       "      <th>count</th>\n",
       "      <th>mean</th>\n",
       "      <th>std</th>\n",
       "      <th>min</th>\n",
       "      <th>25%</th>\n",
       "      <th>50%</th>\n",
       "      <th>75%</th>\n",
       "      <th>max</th>\n",
       "    </tr>\n",
       "  </thead>\n",
       "  <tbody>\n",
       "    <tr>\n",
       "      <th>CRM_ATPT_CPTD_CD_ATTEMPTED</th>\n",
       "      <td>57858.0</td>\n",
       "      <td>0.014103</td>\n",
       "      <td>0.117919</td>\n",
       "      <td>0.0</td>\n",
       "      <td>0.0</td>\n",
       "      <td>0.0</td>\n",
       "      <td>0.0</td>\n",
       "      <td>1.0</td>\n",
       "    </tr>\n",
       "    <tr>\n",
       "      <th>CRM_ATPT_CPTD_CD_COMPLETED</th>\n",
       "      <td>57858.0</td>\n",
       "      <td>0.985897</td>\n",
       "      <td>0.117919</td>\n",
       "      <td>0.0</td>\n",
       "      <td>1.0</td>\n",
       "      <td>1.0</td>\n",
       "      <td>1.0</td>\n",
       "      <td>1.0</td>\n",
       "    </tr>\n",
       "    <tr>\n",
       "      <th>LAW_CAT_CD_FELONY</th>\n",
       "      <td>57858.0</td>\n",
       "      <td>0.278769</td>\n",
       "      <td>0.448397</td>\n",
       "      <td>0.0</td>\n",
       "      <td>0.0</td>\n",
       "      <td>0.0</td>\n",
       "      <td>1.0</td>\n",
       "      <td>1.0</td>\n",
       "    </tr>\n",
       "    <tr>\n",
       "      <th>LAW_CAT_CD_MISDEMEANOR</th>\n",
       "      <td>57858.0</td>\n",
       "      <td>0.421653</td>\n",
       "      <td>0.493828</td>\n",
       "      <td>0.0</td>\n",
       "      <td>0.0</td>\n",
       "      <td>0.0</td>\n",
       "      <td>1.0</td>\n",
       "      <td>1.0</td>\n",
       "    </tr>\n",
       "    <tr>\n",
       "      <th>LAW_CAT_CD_VIOLATION</th>\n",
       "      <td>57858.0</td>\n",
       "      <td>0.299578</td>\n",
       "      <td>0.458077</td>\n",
       "      <td>0.0</td>\n",
       "      <td>0.0</td>\n",
       "      <td>0.0</td>\n",
       "      <td>1.0</td>\n",
       "      <td>1.0</td>\n",
       "    </tr>\n",
       "    <tr>\n",
       "      <th>...</th>\n",
       "      <td>...</td>\n",
       "      <td>...</td>\n",
       "      <td>...</td>\n",
       "      <td>...</td>\n",
       "      <td>...</td>\n",
       "      <td>...</td>\n",
       "      <td>...</td>\n",
       "      <td>...</td>\n",
       "    </tr>\n",
       "    <tr>\n",
       "      <th>CMPLNT_TO_PART_Evening</th>\n",
       "      <td>57858.0</td>\n",
       "      <td>0.221905</td>\n",
       "      <td>0.415531</td>\n",
       "      <td>0.0</td>\n",
       "      <td>0.0</td>\n",
       "      <td>0.0</td>\n",
       "      <td>0.0</td>\n",
       "      <td>1.0</td>\n",
       "    </tr>\n",
       "    <tr>\n",
       "      <th>CMPLNT_TO_PART_Late Night</th>\n",
       "      <td>57858.0</td>\n",
       "      <td>0.146911</td>\n",
       "      <td>0.354021</td>\n",
       "      <td>0.0</td>\n",
       "      <td>0.0</td>\n",
       "      <td>0.0</td>\n",
       "      <td>0.0</td>\n",
       "      <td>1.0</td>\n",
       "    </tr>\n",
       "    <tr>\n",
       "      <th>CMPLNT_TO_PART_Morning</th>\n",
       "      <td>57858.0</td>\n",
       "      <td>0.178143</td>\n",
       "      <td>0.382636</td>\n",
       "      <td>0.0</td>\n",
       "      <td>0.0</td>\n",
       "      <td>0.0</td>\n",
       "      <td>0.0</td>\n",
       "      <td>1.0</td>\n",
       "    </tr>\n",
       "    <tr>\n",
       "      <th>CMPLNT_TO_PART_Night</th>\n",
       "      <td>57858.0</td>\n",
       "      <td>0.148882</td>\n",
       "      <td>0.355975</td>\n",
       "      <td>0.0</td>\n",
       "      <td>0.0</td>\n",
       "      <td>0.0</td>\n",
       "      <td>0.0</td>\n",
       "      <td>1.0</td>\n",
       "    </tr>\n",
       "    <tr>\n",
       "      <th>CMPLNT_TO_PART_Noon</th>\n",
       "      <td>57858.0</td>\n",
       "      <td>0.207059</td>\n",
       "      <td>0.405201</td>\n",
       "      <td>0.0</td>\n",
       "      <td>0.0</td>\n",
       "      <td>0.0</td>\n",
       "      <td>0.0</td>\n",
       "      <td>1.0</td>\n",
       "    </tr>\n",
       "  </tbody>\n",
       "</table>\n",
       "<p>72 rows × 8 columns</p>\n",
       "</div>"
      ],
      "text/plain": [
       "                              count      mean       std  min  25%  50%  75%  \\\n",
       "CRM_ATPT_CPTD_CD_ATTEMPTED  57858.0  0.014103  0.117919  0.0  0.0  0.0  0.0   \n",
       "CRM_ATPT_CPTD_CD_COMPLETED  57858.0  0.985897  0.117919  0.0  1.0  1.0  1.0   \n",
       "LAW_CAT_CD_FELONY           57858.0  0.278769  0.448397  0.0  0.0  0.0  1.0   \n",
       "LAW_CAT_CD_MISDEMEANOR      57858.0  0.421653  0.493828  0.0  0.0  0.0  1.0   \n",
       "LAW_CAT_CD_VIOLATION        57858.0  0.299578  0.458077  0.0  0.0  0.0  1.0   \n",
       "...                             ...       ...       ...  ...  ...  ...  ...   \n",
       "CMPLNT_TO_PART_Evening      57858.0  0.221905  0.415531  0.0  0.0  0.0  0.0   \n",
       "CMPLNT_TO_PART_Late Night   57858.0  0.146911  0.354021  0.0  0.0  0.0  0.0   \n",
       "CMPLNT_TO_PART_Morning      57858.0  0.178143  0.382636  0.0  0.0  0.0  0.0   \n",
       "CMPLNT_TO_PART_Night        57858.0  0.148882  0.355975  0.0  0.0  0.0  0.0   \n",
       "CMPLNT_TO_PART_Noon         57858.0  0.207059  0.405201  0.0  0.0  0.0  0.0   \n",
       "\n",
       "                            max  \n",
       "CRM_ATPT_CPTD_CD_ATTEMPTED  1.0  \n",
       "CRM_ATPT_CPTD_CD_COMPLETED  1.0  \n",
       "LAW_CAT_CD_FELONY           1.0  \n",
       "LAW_CAT_CD_MISDEMEANOR      1.0  \n",
       "LAW_CAT_CD_VIOLATION        1.0  \n",
       "...                         ...  \n",
       "CMPLNT_TO_PART_Evening      1.0  \n",
       "CMPLNT_TO_PART_Late Night   1.0  \n",
       "CMPLNT_TO_PART_Morning      1.0  \n",
       "CMPLNT_TO_PART_Night        1.0  \n",
       "CMPLNT_TO_PART_Noon         1.0  \n",
       "\n",
       "[72 rows x 8 columns]"
      ]
     },
     "execution_count": 53,
     "metadata": {},
     "output_type": "execute_result"
    }
   ],
   "source": [
    "# Show descriptive statistics\n",
    "df1.describe().transpose()"
   ]
  },
  {
   "cell_type": "code",
   "execution_count": 54,
   "id": "6d64b806",
   "metadata": {},
   "outputs": [
    {
     "data": {
      "text/html": [
       "<div>\n",
       "<style scoped>\n",
       "    .dataframe tbody tr th:only-of-type {\n",
       "        vertical-align: middle;\n",
       "    }\n",
       "\n",
       "    .dataframe tbody tr th {\n",
       "        vertical-align: top;\n",
       "    }\n",
       "\n",
       "    .dataframe thead th {\n",
       "        text-align: right;\n",
       "    }\n",
       "</style>\n",
       "<table border=\"1\" class=\"dataframe\">\n",
       "  <thead>\n",
       "    <tr style=\"text-align: right;\">\n",
       "      <th></th>\n",
       "      <th>CRM_ATPT_CPTD_CD_ATTEMPTED</th>\n",
       "      <th>CRM_ATPT_CPTD_CD_COMPLETED</th>\n",
       "      <th>LAW_CAT_CD_FELONY</th>\n",
       "      <th>LAW_CAT_CD_MISDEMEANOR</th>\n",
       "      <th>LAW_CAT_CD_VIOLATION</th>\n",
       "      <th>LOC_OF_OCCUR_DESC_FRONT OF</th>\n",
       "      <th>LOC_OF_OCCUR_DESC_INSIDE</th>\n",
       "      <th>LOC_OF_OCCUR_DESC_OPPOSITE OF</th>\n",
       "      <th>LOC_OF_OCCUR_DESC_REAR OF</th>\n",
       "      <th>PATROL_BORO_PATROL BORO BKLYN NORTH</th>\n",
       "      <th>...</th>\n",
       "      <th>CMPLNT_FR_PART_Late Night</th>\n",
       "      <th>CMPLNT_FR_PART_Morning</th>\n",
       "      <th>CMPLNT_FR_PART_Night</th>\n",
       "      <th>CMPLNT_FR_PART_Noon</th>\n",
       "      <th>CMPLNT_TO_PART_Early Morning</th>\n",
       "      <th>CMPLNT_TO_PART_Evening</th>\n",
       "      <th>CMPLNT_TO_PART_Late Night</th>\n",
       "      <th>CMPLNT_TO_PART_Morning</th>\n",
       "      <th>CMPLNT_TO_PART_Night</th>\n",
       "      <th>CMPLNT_TO_PART_Noon</th>\n",
       "    </tr>\n",
       "  </thead>\n",
       "  <tbody>\n",
       "    <tr>\n",
       "      <th>CRM_ATPT_CPTD_CD_ATTEMPTED</th>\n",
       "      <td>1.000000</td>\n",
       "      <td>-1.000000</td>\n",
       "      <td>0.140733</td>\n",
       "      <td>-0.060867</td>\n",
       "      <td>-0.072141</td>\n",
       "      <td>0.035514</td>\n",
       "      <td>-0.040182</td>\n",
       "      <td>0.015263</td>\n",
       "      <td>0.010273</td>\n",
       "      <td>0.001133</td>\n",
       "      <td>...</td>\n",
       "      <td>0.011823</td>\n",
       "      <td>-0.011482</td>\n",
       "      <td>0.004490</td>\n",
       "      <td>-0.001417</td>\n",
       "      <td>0.002360</td>\n",
       "      <td>-0.002143</td>\n",
       "      <td>0.012057</td>\n",
       "      <td>-0.009333</td>\n",
       "      <td>0.002682</td>\n",
       "      <td>-0.003603</td>\n",
       "    </tr>\n",
       "    <tr>\n",
       "      <th>CRM_ATPT_CPTD_CD_COMPLETED</th>\n",
       "      <td>-1.000000</td>\n",
       "      <td>1.000000</td>\n",
       "      <td>-0.140733</td>\n",
       "      <td>0.060867</td>\n",
       "      <td>0.072141</td>\n",
       "      <td>-0.035514</td>\n",
       "      <td>0.040182</td>\n",
       "      <td>-0.015263</td>\n",
       "      <td>-0.010273</td>\n",
       "      <td>-0.001133</td>\n",
       "      <td>...</td>\n",
       "      <td>-0.011823</td>\n",
       "      <td>0.011482</td>\n",
       "      <td>-0.004490</td>\n",
       "      <td>0.001417</td>\n",
       "      <td>-0.002360</td>\n",
       "      <td>0.002143</td>\n",
       "      <td>-0.012057</td>\n",
       "      <td>0.009333</td>\n",
       "      <td>-0.002682</td>\n",
       "      <td>0.003603</td>\n",
       "    </tr>\n",
       "    <tr>\n",
       "      <th>LAW_CAT_CD_FELONY</th>\n",
       "      <td>0.140733</td>\n",
       "      <td>-0.140733</td>\n",
       "      <td>1.000000</td>\n",
       "      <td>-0.530845</td>\n",
       "      <td>-0.406593</td>\n",
       "      <td>0.031360</td>\n",
       "      <td>-0.040669</td>\n",
       "      <td>0.027754</td>\n",
       "      <td>0.018541</td>\n",
       "      <td>0.011167</td>\n",
       "      <td>...</td>\n",
       "      <td>0.065622</td>\n",
       "      <td>-0.038161</td>\n",
       "      <td>0.010489</td>\n",
       "      <td>-0.019107</td>\n",
       "      <td>0.008836</td>\n",
       "      <td>-0.013368</td>\n",
       "      <td>0.052096</td>\n",
       "      <td>-0.031357</td>\n",
       "      <td>0.015667</td>\n",
       "      <td>-0.022417</td>\n",
       "    </tr>\n",
       "    <tr>\n",
       "      <th>LAW_CAT_CD_MISDEMEANOR</th>\n",
       "      <td>-0.060867</td>\n",
       "      <td>0.060867</td>\n",
       "      <td>-0.530845</td>\n",
       "      <td>1.000000</td>\n",
       "      <td>-0.558417</td>\n",
       "      <td>-0.009804</td>\n",
       "      <td>0.008497</td>\n",
       "      <td>0.003272</td>\n",
       "      <td>0.001606</td>\n",
       "      <td>-0.004701</td>\n",
       "      <td>...</td>\n",
       "      <td>0.011850</td>\n",
       "      <td>-0.011062</td>\n",
       "      <td>0.008854</td>\n",
       "      <td>-0.010746</td>\n",
       "      <td>-0.001400</td>\n",
       "      <td>0.001718</td>\n",
       "      <td>0.015912</td>\n",
       "      <td>-0.013078</td>\n",
       "      <td>0.006871</td>\n",
       "      <td>-0.008327</td>\n",
       "    </tr>\n",
       "    <tr>\n",
       "      <th>LAW_CAT_CD_VIOLATION</th>\n",
       "      <td>-0.072141</td>\n",
       "      <td>0.072141</td>\n",
       "      <td>-0.406593</td>\n",
       "      <td>-0.558417</td>\n",
       "      <td>1.000000</td>\n",
       "      <td>-0.020127</td>\n",
       "      <td>0.030650</td>\n",
       "      <td>-0.030695</td>\n",
       "      <td>-0.019881</td>\n",
       "      <td>-0.005863</td>\n",
       "      <td>...</td>\n",
       "      <td>-0.077011</td>\n",
       "      <td>0.049280</td>\n",
       "      <td>-0.019812</td>\n",
       "      <td>0.030288</td>\n",
       "      <td>-0.007140</td>\n",
       "      <td>0.011234</td>\n",
       "      <td>-0.068149</td>\n",
       "      <td>0.044793</td>\n",
       "      <td>-0.022743</td>\n",
       "      <td>0.030920</td>\n",
       "    </tr>\n",
       "    <tr>\n",
       "      <th>...</th>\n",
       "      <td>...</td>\n",
       "      <td>...</td>\n",
       "      <td>...</td>\n",
       "      <td>...</td>\n",
       "      <td>...</td>\n",
       "      <td>...</td>\n",
       "      <td>...</td>\n",
       "      <td>...</td>\n",
       "      <td>...</td>\n",
       "      <td>...</td>\n",
       "      <td>...</td>\n",
       "      <td>...</td>\n",
       "      <td>...</td>\n",
       "      <td>...</td>\n",
       "      <td>...</td>\n",
       "      <td>...</td>\n",
       "      <td>...</td>\n",
       "      <td>...</td>\n",
       "      <td>...</td>\n",
       "      <td>...</td>\n",
       "      <td>...</td>\n",
       "    </tr>\n",
       "    <tr>\n",
       "      <th>CMPLNT_TO_PART_Evening</th>\n",
       "      <td>-0.002143</td>\n",
       "      <td>0.002143</td>\n",
       "      <td>-0.013368</td>\n",
       "      <td>0.001718</td>\n",
       "      <td>0.011234</td>\n",
       "      <td>0.016282</td>\n",
       "      <td>-0.015047</td>\n",
       "      <td>-0.000240</td>\n",
       "      <td>-0.003237</td>\n",
       "      <td>-0.008309</td>\n",
       "      <td>...</td>\n",
       "      <td>-0.214519</td>\n",
       "      <td>-0.221179</td>\n",
       "      <td>-0.208176</td>\n",
       "      <td>-0.163757</td>\n",
       "      <td>-0.175129</td>\n",
       "      <td>1.000000</td>\n",
       "      <td>-0.221615</td>\n",
       "      <td>-0.248630</td>\n",
       "      <td>-0.223354</td>\n",
       "      <td>-0.272894</td>\n",
       "    </tr>\n",
       "    <tr>\n",
       "      <th>CMPLNT_TO_PART_Late Night</th>\n",
       "      <td>0.012057</td>\n",
       "      <td>-0.012057</td>\n",
       "      <td>0.052096</td>\n",
       "      <td>0.015912</td>\n",
       "      <td>-0.068149</td>\n",
       "      <td>-0.000111</td>\n",
       "      <td>-0.000276</td>\n",
       "      <td>0.000437</td>\n",
       "      <td>0.001241</td>\n",
       "      <td>-0.002015</td>\n",
       "      <td>...</td>\n",
       "      <td>0.852729</td>\n",
       "      <td>-0.187023</td>\n",
       "      <td>-0.076127</td>\n",
       "      <td>-0.203650</td>\n",
       "      <td>-0.136088</td>\n",
       "      <td>-0.221615</td>\n",
       "      <td>1.000000</td>\n",
       "      <td>-0.193204</td>\n",
       "      <td>-0.173563</td>\n",
       "      <td>-0.212059</td>\n",
       "    </tr>\n",
       "    <tr>\n",
       "      <th>CMPLNT_TO_PART_Morning</th>\n",
       "      <td>-0.009333</td>\n",
       "      <td>0.009333</td>\n",
       "      <td>-0.031357</td>\n",
       "      <td>-0.013078</td>\n",
       "      <td>0.044793</td>\n",
       "      <td>-0.027843</td>\n",
       "      <td>0.028652</td>\n",
       "      <td>-0.006487</td>\n",
       "      <td>-0.000791</td>\n",
       "      <td>0.003622</td>\n",
       "      <td>...</td>\n",
       "      <td>-0.170069</td>\n",
       "      <td>0.826518</td>\n",
       "      <td>-0.174303</td>\n",
       "      <td>-0.221522</td>\n",
       "      <td>-0.152678</td>\n",
       "      <td>-0.248630</td>\n",
       "      <td>-0.193204</td>\n",
       "      <td>1.000000</td>\n",
       "      <td>-0.194721</td>\n",
       "      <td>-0.237910</td>\n",
       "    </tr>\n",
       "    <tr>\n",
       "      <th>CMPLNT_TO_PART_Night</th>\n",
       "      <td>0.002682</td>\n",
       "      <td>-0.002682</td>\n",
       "      <td>0.015667</td>\n",
       "      <td>0.006871</td>\n",
       "      <td>-0.022743</td>\n",
       "      <td>-0.018058</td>\n",
       "      <td>0.020684</td>\n",
       "      <td>-0.003849</td>\n",
       "      <td>-0.009701</td>\n",
       "      <td>-0.001205</td>\n",
       "      <td>...</td>\n",
       "      <td>-0.141106</td>\n",
       "      <td>-0.180829</td>\n",
       "      <td>0.830897</td>\n",
       "      <td>-0.196793</td>\n",
       "      <td>-0.137156</td>\n",
       "      <td>-0.223354</td>\n",
       "      <td>-0.173563</td>\n",
       "      <td>-0.194721</td>\n",
       "      <td>1.000000</td>\n",
       "      <td>-0.213723</td>\n",
       "    </tr>\n",
       "    <tr>\n",
       "      <th>CMPLNT_TO_PART_Noon</th>\n",
       "      <td>-0.003603</td>\n",
       "      <td>0.003603</td>\n",
       "      <td>-0.022417</td>\n",
       "      <td>-0.008327</td>\n",
       "      <td>0.030920</td>\n",
       "      <td>0.036833</td>\n",
       "      <td>-0.039282</td>\n",
       "      <td>0.005922</td>\n",
       "      <td>0.009186</td>\n",
       "      <td>0.000561</td>\n",
       "      <td>...</td>\n",
       "      <td>-0.200554</td>\n",
       "      <td>-0.124086</td>\n",
       "      <td>-0.198199</td>\n",
       "      <td>0.843628</td>\n",
       "      <td>-0.167577</td>\n",
       "      <td>-0.272894</td>\n",
       "      <td>-0.212059</td>\n",
       "      <td>-0.237910</td>\n",
       "      <td>-0.213723</td>\n",
       "      <td>1.000000</td>\n",
       "    </tr>\n",
       "  </tbody>\n",
       "</table>\n",
       "<p>72 rows × 72 columns</p>\n",
       "</div>"
      ],
      "text/plain": [
       "                            CRM_ATPT_CPTD_CD_ATTEMPTED  \\\n",
       "CRM_ATPT_CPTD_CD_ATTEMPTED                    1.000000   \n",
       "CRM_ATPT_CPTD_CD_COMPLETED                   -1.000000   \n",
       "LAW_CAT_CD_FELONY                             0.140733   \n",
       "LAW_CAT_CD_MISDEMEANOR                       -0.060867   \n",
       "LAW_CAT_CD_VIOLATION                         -0.072141   \n",
       "...                                                ...   \n",
       "CMPLNT_TO_PART_Evening                       -0.002143   \n",
       "CMPLNT_TO_PART_Late Night                     0.012057   \n",
       "CMPLNT_TO_PART_Morning                       -0.009333   \n",
       "CMPLNT_TO_PART_Night                          0.002682   \n",
       "CMPLNT_TO_PART_Noon                          -0.003603   \n",
       "\n",
       "                            CRM_ATPT_CPTD_CD_COMPLETED  LAW_CAT_CD_FELONY  \\\n",
       "CRM_ATPT_CPTD_CD_ATTEMPTED                   -1.000000           0.140733   \n",
       "CRM_ATPT_CPTD_CD_COMPLETED                    1.000000          -0.140733   \n",
       "LAW_CAT_CD_FELONY                            -0.140733           1.000000   \n",
       "LAW_CAT_CD_MISDEMEANOR                        0.060867          -0.530845   \n",
       "LAW_CAT_CD_VIOLATION                          0.072141          -0.406593   \n",
       "...                                                ...                ...   \n",
       "CMPLNT_TO_PART_Evening                        0.002143          -0.013368   \n",
       "CMPLNT_TO_PART_Late Night                    -0.012057           0.052096   \n",
       "CMPLNT_TO_PART_Morning                        0.009333          -0.031357   \n",
       "CMPLNT_TO_PART_Night                         -0.002682           0.015667   \n",
       "CMPLNT_TO_PART_Noon                           0.003603          -0.022417   \n",
       "\n",
       "                            LAW_CAT_CD_MISDEMEANOR  LAW_CAT_CD_VIOLATION  \\\n",
       "CRM_ATPT_CPTD_CD_ATTEMPTED               -0.060867             -0.072141   \n",
       "CRM_ATPT_CPTD_CD_COMPLETED                0.060867              0.072141   \n",
       "LAW_CAT_CD_FELONY                        -0.530845             -0.406593   \n",
       "LAW_CAT_CD_MISDEMEANOR                    1.000000             -0.558417   \n",
       "LAW_CAT_CD_VIOLATION                     -0.558417              1.000000   \n",
       "...                                            ...                   ...   \n",
       "CMPLNT_TO_PART_Evening                    0.001718              0.011234   \n",
       "CMPLNT_TO_PART_Late Night                 0.015912             -0.068149   \n",
       "CMPLNT_TO_PART_Morning                   -0.013078              0.044793   \n",
       "CMPLNT_TO_PART_Night                      0.006871             -0.022743   \n",
       "CMPLNT_TO_PART_Noon                      -0.008327              0.030920   \n",
       "\n",
       "                            LOC_OF_OCCUR_DESC_FRONT OF  \\\n",
       "CRM_ATPT_CPTD_CD_ATTEMPTED                    0.035514   \n",
       "CRM_ATPT_CPTD_CD_COMPLETED                   -0.035514   \n",
       "LAW_CAT_CD_FELONY                             0.031360   \n",
       "LAW_CAT_CD_MISDEMEANOR                       -0.009804   \n",
       "LAW_CAT_CD_VIOLATION                         -0.020127   \n",
       "...                                                ...   \n",
       "CMPLNT_TO_PART_Evening                        0.016282   \n",
       "CMPLNT_TO_PART_Late Night                    -0.000111   \n",
       "CMPLNT_TO_PART_Morning                       -0.027843   \n",
       "CMPLNT_TO_PART_Night                         -0.018058   \n",
       "CMPLNT_TO_PART_Noon                           0.036833   \n",
       "\n",
       "                            LOC_OF_OCCUR_DESC_INSIDE  \\\n",
       "CRM_ATPT_CPTD_CD_ATTEMPTED                 -0.040182   \n",
       "CRM_ATPT_CPTD_CD_COMPLETED                  0.040182   \n",
       "LAW_CAT_CD_FELONY                          -0.040669   \n",
       "LAW_CAT_CD_MISDEMEANOR                      0.008497   \n",
       "LAW_CAT_CD_VIOLATION                        0.030650   \n",
       "...                                              ...   \n",
       "CMPLNT_TO_PART_Evening                     -0.015047   \n",
       "CMPLNT_TO_PART_Late Night                  -0.000276   \n",
       "CMPLNT_TO_PART_Morning                      0.028652   \n",
       "CMPLNT_TO_PART_Night                        0.020684   \n",
       "CMPLNT_TO_PART_Noon                        -0.039282   \n",
       "\n",
       "                            LOC_OF_OCCUR_DESC_OPPOSITE OF  \\\n",
       "CRM_ATPT_CPTD_CD_ATTEMPTED                       0.015263   \n",
       "CRM_ATPT_CPTD_CD_COMPLETED                      -0.015263   \n",
       "LAW_CAT_CD_FELONY                                0.027754   \n",
       "LAW_CAT_CD_MISDEMEANOR                           0.003272   \n",
       "LAW_CAT_CD_VIOLATION                            -0.030695   \n",
       "...                                                   ...   \n",
       "CMPLNT_TO_PART_Evening                          -0.000240   \n",
       "CMPLNT_TO_PART_Late Night                        0.000437   \n",
       "CMPLNT_TO_PART_Morning                          -0.006487   \n",
       "CMPLNT_TO_PART_Night                            -0.003849   \n",
       "CMPLNT_TO_PART_Noon                              0.005922   \n",
       "\n",
       "                            LOC_OF_OCCUR_DESC_REAR OF  \\\n",
       "CRM_ATPT_CPTD_CD_ATTEMPTED                   0.010273   \n",
       "CRM_ATPT_CPTD_CD_COMPLETED                  -0.010273   \n",
       "LAW_CAT_CD_FELONY                            0.018541   \n",
       "LAW_CAT_CD_MISDEMEANOR                       0.001606   \n",
       "LAW_CAT_CD_VIOLATION                        -0.019881   \n",
       "...                                               ...   \n",
       "CMPLNT_TO_PART_Evening                      -0.003237   \n",
       "CMPLNT_TO_PART_Late Night                    0.001241   \n",
       "CMPLNT_TO_PART_Morning                      -0.000791   \n",
       "CMPLNT_TO_PART_Night                        -0.009701   \n",
       "CMPLNT_TO_PART_Noon                          0.009186   \n",
       "\n",
       "                            PATROL_BORO_PATROL BORO BKLYN NORTH  ...  \\\n",
       "CRM_ATPT_CPTD_CD_ATTEMPTED                             0.001133  ...   \n",
       "CRM_ATPT_CPTD_CD_COMPLETED                            -0.001133  ...   \n",
       "LAW_CAT_CD_FELONY                                      0.011167  ...   \n",
       "LAW_CAT_CD_MISDEMEANOR                                -0.004701  ...   \n",
       "LAW_CAT_CD_VIOLATION                                  -0.005863  ...   \n",
       "...                                                         ...  ...   \n",
       "CMPLNT_TO_PART_Evening                                -0.008309  ...   \n",
       "CMPLNT_TO_PART_Late Night                             -0.002015  ...   \n",
       "CMPLNT_TO_PART_Morning                                 0.003622  ...   \n",
       "CMPLNT_TO_PART_Night                                  -0.001205  ...   \n",
       "CMPLNT_TO_PART_Noon                                    0.000561  ...   \n",
       "\n",
       "                            CMPLNT_FR_PART_Late Night  CMPLNT_FR_PART_Morning  \\\n",
       "CRM_ATPT_CPTD_CD_ATTEMPTED                   0.011823               -0.011482   \n",
       "CRM_ATPT_CPTD_CD_COMPLETED                  -0.011823                0.011482   \n",
       "LAW_CAT_CD_FELONY                            0.065622               -0.038161   \n",
       "LAW_CAT_CD_MISDEMEANOR                       0.011850               -0.011062   \n",
       "LAW_CAT_CD_VIOLATION                        -0.077011                0.049280   \n",
       "...                                               ...                     ...   \n",
       "CMPLNT_TO_PART_Evening                      -0.214519               -0.221179   \n",
       "CMPLNT_TO_PART_Late Night                    0.852729               -0.187023   \n",
       "CMPLNT_TO_PART_Morning                      -0.170069                0.826518   \n",
       "CMPLNT_TO_PART_Night                        -0.141106               -0.180829   \n",
       "CMPLNT_TO_PART_Noon                         -0.200554               -0.124086   \n",
       "\n",
       "                            CMPLNT_FR_PART_Night  CMPLNT_FR_PART_Noon  \\\n",
       "CRM_ATPT_CPTD_CD_ATTEMPTED              0.004490            -0.001417   \n",
       "CRM_ATPT_CPTD_CD_COMPLETED             -0.004490             0.001417   \n",
       "LAW_CAT_CD_FELONY                       0.010489            -0.019107   \n",
       "LAW_CAT_CD_MISDEMEANOR                  0.008854            -0.010746   \n",
       "LAW_CAT_CD_VIOLATION                   -0.019812             0.030288   \n",
       "...                                          ...                  ...   \n",
       "CMPLNT_TO_PART_Evening                 -0.208176            -0.163757   \n",
       "CMPLNT_TO_PART_Late Night              -0.076127            -0.203650   \n",
       "CMPLNT_TO_PART_Morning                 -0.174303            -0.221522   \n",
       "CMPLNT_TO_PART_Night                    0.830897            -0.196793   \n",
       "CMPLNT_TO_PART_Noon                    -0.198199             0.843628   \n",
       "\n",
       "                            CMPLNT_TO_PART_Early Morning  \\\n",
       "CRM_ATPT_CPTD_CD_ATTEMPTED                      0.002360   \n",
       "CRM_ATPT_CPTD_CD_COMPLETED                     -0.002360   \n",
       "LAW_CAT_CD_FELONY                               0.008836   \n",
       "LAW_CAT_CD_MISDEMEANOR                         -0.001400   \n",
       "LAW_CAT_CD_VIOLATION                           -0.007140   \n",
       "...                                                  ...   \n",
       "CMPLNT_TO_PART_Evening                         -0.175129   \n",
       "CMPLNT_TO_PART_Late Night                      -0.136088   \n",
       "CMPLNT_TO_PART_Morning                         -0.152678   \n",
       "CMPLNT_TO_PART_Night                           -0.137156   \n",
       "CMPLNT_TO_PART_Noon                            -0.167577   \n",
       "\n",
       "                            CMPLNT_TO_PART_Evening  CMPLNT_TO_PART_Late Night  \\\n",
       "CRM_ATPT_CPTD_CD_ATTEMPTED               -0.002143                   0.012057   \n",
       "CRM_ATPT_CPTD_CD_COMPLETED                0.002143                  -0.012057   \n",
       "LAW_CAT_CD_FELONY                        -0.013368                   0.052096   \n",
       "LAW_CAT_CD_MISDEMEANOR                    0.001718                   0.015912   \n",
       "LAW_CAT_CD_VIOLATION                      0.011234                  -0.068149   \n",
       "...                                            ...                        ...   \n",
       "CMPLNT_TO_PART_Evening                    1.000000                  -0.221615   \n",
       "CMPLNT_TO_PART_Late Night                -0.221615                   1.000000   \n",
       "CMPLNT_TO_PART_Morning                   -0.248630                  -0.193204   \n",
       "CMPLNT_TO_PART_Night                     -0.223354                  -0.173563   \n",
       "CMPLNT_TO_PART_Noon                      -0.272894                  -0.212059   \n",
       "\n",
       "                            CMPLNT_TO_PART_Morning  CMPLNT_TO_PART_Night  \\\n",
       "CRM_ATPT_CPTD_CD_ATTEMPTED               -0.009333              0.002682   \n",
       "CRM_ATPT_CPTD_CD_COMPLETED                0.009333             -0.002682   \n",
       "LAW_CAT_CD_FELONY                        -0.031357              0.015667   \n",
       "LAW_CAT_CD_MISDEMEANOR                   -0.013078              0.006871   \n",
       "LAW_CAT_CD_VIOLATION                      0.044793             -0.022743   \n",
       "...                                            ...                   ...   \n",
       "CMPLNT_TO_PART_Evening                   -0.248630             -0.223354   \n",
       "CMPLNT_TO_PART_Late Night                -0.193204             -0.173563   \n",
       "CMPLNT_TO_PART_Morning                    1.000000             -0.194721   \n",
       "CMPLNT_TO_PART_Night                     -0.194721              1.000000   \n",
       "CMPLNT_TO_PART_Noon                      -0.237910             -0.213723   \n",
       "\n",
       "                            CMPLNT_TO_PART_Noon  \n",
       "CRM_ATPT_CPTD_CD_ATTEMPTED            -0.003603  \n",
       "CRM_ATPT_CPTD_CD_COMPLETED             0.003603  \n",
       "LAW_CAT_CD_FELONY                     -0.022417  \n",
       "LAW_CAT_CD_MISDEMEANOR                -0.008327  \n",
       "LAW_CAT_CD_VIOLATION                   0.030920  \n",
       "...                                         ...  \n",
       "CMPLNT_TO_PART_Evening                -0.272894  \n",
       "CMPLNT_TO_PART_Late Night             -0.212059  \n",
       "CMPLNT_TO_PART_Morning                -0.237910  \n",
       "CMPLNT_TO_PART_Night                  -0.213723  \n",
       "CMPLNT_TO_PART_Noon                    1.000000  \n",
       "\n",
       "[72 rows x 72 columns]"
      ]
     },
     "execution_count": 54,
     "metadata": {},
     "output_type": "execute_result"
    }
   ],
   "source": [
    "df1.corr(method='pearson')"
   ]
  },
  {
   "cell_type": "markdown",
   "id": "95c4d21d",
   "metadata": {},
   "source": [
    "There are no numerical variables available to perform Data Normalization"
   ]
  },
  {
   "cell_type": "markdown",
   "id": "a6a5490c",
   "metadata": {},
   "source": [
    "## Correlation Heatmap"
   ]
  },
  {
   "cell_type": "code",
   "execution_count": 55,
   "id": "ff2c1642",
   "metadata": {
    "scrolled": true
   },
   "outputs": [
    {
     "data": {
      "text/plain": [
       "<AxesSubplot:>"
      ]
     },
     "execution_count": 55,
     "metadata": {},
     "output_type": "execute_result"
    },
    {
     "data": {
      "image/png": "[encoded data removed]",
      "text/plain": [
       "<Figure size 432x288 with 2 Axes>"
      ]
     },
     "metadata": {
      "needs_background": "light"
     },
     "output_type": "display_data"
    }
   ],
   "source": [
    "sns.heatmap(df1.corr())"
   ]
  },
  {
   "cell_type": "code",
   "execution_count": 56,
   "id": "81d202fb",
   "metadata": {},
   "outputs": [
    {
     "data": {
      "image/png": "[encoded data removed]",
      "text/plain": [
       "<Figure size 432x288 with 2 Axes>"
      ]
     },
     "metadata": {
      "needs_background": "light"
     },
     "output_type": "display_data"
    }
   ],
   "source": [
    "mask = np.zeros_like(df1.corr())\n",
    "mask[np.triu_indices_from(mask)] = True\n",
    "sns.heatmap(df1.corr(), cmap='RdYlGn', vmax=1.0, vmin=-1.0 , mask = mask, linewidths=2)\n",
    "plt.yticks(rotation=0)\n",
    "plt.xticks(rotation=45)\n",
    "plt.savefig('correlation_heatmap.png',dpi=500,bbox_inches='tight')"
   ]
  },
  {
   "cell_type": "markdown",
   "id": "f904a26d",
   "metadata": {},
   "source": [
    "# PCA"
   ]
  },
  {
   "cell_type": "code",
   "execution_count": 57,
   "id": "c775b251",
   "metadata": {},
   "outputs": [
    {
     "name": "stderr",
     "output_type": "stream",
     "text": [
      "C:\\Users\\Sravani Chada\\AppData\\Local\\Temp\\ipykernel_1904\\2622877443.py:1: FutureWarning: In a future version of pandas all arguments of DataFrame.drop except for the argument 'labels' will be keyword-only.\n",
      "  X= df1.drop(\"BORO_NM\",1)\n"
     ]
    }
   ],
   "source": [
    " X= df1.drop(\"BORO_NM\",1)\n",
    " "
   ]
  },
  {
   "cell_type": "code",
   "execution_count": 58,
   "id": "91cde507",
   "metadata": {},
   "outputs": [],
   "source": [
    "Y= df1['BORO_NM']"
   ]
  },
  {
   "cell_type": "code",
   "execution_count": 59,
   "id": "3b6ba104",
   "metadata": {},
   "outputs": [],
   "source": [
    "from sklearn.model_selection import train_test_split\n",
    "\n",
    "X_train, X_test, y_train, y_test = train_test_split(X, Y, test_size=0.2, stratify=Y, random_state=123)\n"
   ]
  },
  {
   "cell_type": "code",
   "execution_count": 60,
   "id": "4fc7dde9",
   "metadata": {},
   "outputs": [],
   "source": [
    "from sklearn.preprocessing import StandardScaler\n",
    "\n",
    "sc = StandardScaler()\n",
    "X_train = sc.fit_transform(X_train)\n",
    "X_test = sc.transform(X_test)"
   ]
  },
  {
   "cell_type": "code",
   "execution_count": 61,
   "id": "70e9856b",
   "metadata": {},
   "outputs": [
    {
     "data": {
      "text/html": [
       "<div>\n",
       "<style scoped>\n",
       "    .dataframe tbody tr th:only-of-type {\n",
       "        vertical-align: middle;\n",
       "    }\n",
       "\n",
       "    .dataframe tbody tr th {\n",
       "        vertical-align: top;\n",
       "    }\n",
       "\n",
       "    .dataframe thead th {\n",
       "        text-align: right;\n",
       "    }\n",
       "</style>\n",
       "<table border=\"1\" class=\"dataframe\">\n",
       "  <thead>\n",
       "    <tr style=\"text-align: right;\">\n",
       "      <th></th>\n",
       "      <th>count</th>\n",
       "      <th>mean</th>\n",
       "      <th>std</th>\n",
       "      <th>min</th>\n",
       "      <th>25%</th>\n",
       "      <th>50%</th>\n",
       "      <th>75%</th>\n",
       "      <th>max</th>\n",
       "    </tr>\n",
       "  </thead>\n",
       "  <tbody>\n",
       "    <tr>\n",
       "      <th>0</th>\n",
       "      <td>46286.0</td>\n",
       "      <td>-8.820008e-16</td>\n",
       "      <td>1.000011</td>\n",
       "      <td>-0.117752</td>\n",
       "      <td>-0.117752</td>\n",
       "      <td>-0.117752</td>\n",
       "      <td>-0.117752</td>\n",
       "      <td>8.492446</td>\n",
       "    </tr>\n",
       "    <tr>\n",
       "      <th>1</th>\n",
       "      <td>46286.0</td>\n",
       "      <td>8.759923e-16</td>\n",
       "      <td>1.000011</td>\n",
       "      <td>-8.492446</td>\n",
       "      <td>0.117752</td>\n",
       "      <td>0.117752</td>\n",
       "      <td>0.117752</td>\n",
       "      <td>0.117752</td>\n",
       "    </tr>\n",
       "    <tr>\n",
       "      <th>2</th>\n",
       "      <td>46286.0</td>\n",
       "      <td>3.276700e-16</td>\n",
       "      <td>1.000011</td>\n",
       "      <td>-0.622504</td>\n",
       "      <td>-0.622504</td>\n",
       "      <td>-0.622504</td>\n",
       "      <td>1.606415</td>\n",
       "      <td>1.606415</td>\n",
       "    </tr>\n",
       "    <tr>\n",
       "      <th>3</th>\n",
       "      <td>46286.0</td>\n",
       "      <td>2.121419e-15</td>\n",
       "      <td>1.000011</td>\n",
       "      <td>-0.852998</td>\n",
       "      <td>-0.852998</td>\n",
       "      <td>-0.852998</td>\n",
       "      <td>1.172336</td>\n",
       "      <td>1.172336</td>\n",
       "    </tr>\n",
       "    <tr>\n",
       "      <th>4</th>\n",
       "      <td>46286.0</td>\n",
       "      <td>1.165833e-15</td>\n",
       "      <td>1.000011</td>\n",
       "      <td>-0.653953</td>\n",
       "      <td>-0.653953</td>\n",
       "      <td>-0.653953</td>\n",
       "      <td>1.529161</td>\n",
       "      <td>1.529161</td>\n",
       "    </tr>\n",
       "    <tr>\n",
       "      <th>...</th>\n",
       "      <td>...</td>\n",
       "      <td>...</td>\n",
       "      <td>...</td>\n",
       "      <td>...</td>\n",
       "      <td>...</td>\n",
       "      <td>...</td>\n",
       "      <td>...</td>\n",
       "      <td>...</td>\n",
       "    </tr>\n",
       "    <tr>\n",
       "      <th>67</th>\n",
       "      <td>46286.0</td>\n",
       "      <td>-5.863367e-16</td>\n",
       "      <td>1.000011</td>\n",
       "      <td>-0.534764</td>\n",
       "      <td>-0.534764</td>\n",
       "      <td>-0.534764</td>\n",
       "      <td>-0.534764</td>\n",
       "      <td>1.869985</td>\n",
       "    </tr>\n",
       "    <tr>\n",
       "      <th>68</th>\n",
       "      <td>46286.0</td>\n",
       "      <td>-2.169461e-15</td>\n",
       "      <td>1.000011</td>\n",
       "      <td>-0.412801</td>\n",
       "      <td>-0.412801</td>\n",
       "      <td>-0.412801</td>\n",
       "      <td>-0.412801</td>\n",
       "      <td>2.422474</td>\n",
       "    </tr>\n",
       "    <tr>\n",
       "      <th>69</th>\n",
       "      <td>46286.0</td>\n",
       "      <td>1.300388e-15</td>\n",
       "      <td>1.000011</td>\n",
       "      <td>-0.466755</td>\n",
       "      <td>-0.466755</td>\n",
       "      <td>-0.466755</td>\n",
       "      <td>-0.466755</td>\n",
       "      <td>2.142451</td>\n",
       "    </tr>\n",
       "    <tr>\n",
       "      <th>70</th>\n",
       "      <td>46286.0</td>\n",
       "      <td>-9.556155e-16</td>\n",
       "      <td>1.000011</td>\n",
       "      <td>-0.415522</td>\n",
       "      <td>-0.415522</td>\n",
       "      <td>-0.415522</td>\n",
       "      <td>-0.415522</td>\n",
       "      <td>2.406612</td>\n",
       "    </tr>\n",
       "    <tr>\n",
       "      <th>71</th>\n",
       "      <td>46286.0</td>\n",
       "      <td>1.101564e-16</td>\n",
       "      <td>1.000011</td>\n",
       "      <td>-0.513194</td>\n",
       "      <td>-0.513194</td>\n",
       "      <td>-0.513194</td>\n",
       "      <td>-0.513194</td>\n",
       "      <td>1.948583</td>\n",
       "    </tr>\n",
       "  </tbody>\n",
       "</table>\n",
       "<p>72 rows × 8 columns</p>\n",
       "</div>"
      ],
      "text/plain": [
       "      count          mean       std       min       25%       50%       75%  \\\n",
       "0   46286.0 -8.820008e-16  1.000011 -0.117752 -0.117752 -0.117752 -0.117752   \n",
       "1   46286.0  8.759923e-16  1.000011 -8.492446  0.117752  0.117752  0.117752   \n",
       "2   46286.0  3.276700e-16  1.000011 -0.622504 -0.622504 -0.622504  1.606415   \n",
       "3   46286.0  2.121419e-15  1.000011 -0.852998 -0.852998 -0.852998  1.172336   \n",
       "4   46286.0  1.165833e-15  1.000011 -0.653953 -0.653953 -0.653953  1.529161   \n",
       "..      ...           ...       ...       ...       ...       ...       ...   \n",
       "67  46286.0 -5.863367e-16  1.000011 -0.534764 -0.534764 -0.534764 -0.534764   \n",
       "68  46286.0 -2.169461e-15  1.000011 -0.412801 -0.412801 -0.412801 -0.412801   \n",
       "69  46286.0  1.300388e-15  1.000011 -0.466755 -0.466755 -0.466755 -0.466755   \n",
       "70  46286.0 -9.556155e-16  1.000011 -0.415522 -0.415522 -0.415522 -0.415522   \n",
       "71  46286.0  1.101564e-16  1.000011 -0.513194 -0.513194 -0.513194 -0.513194   \n",
       "\n",
       "         max  \n",
       "0   8.492446  \n",
       "1   0.117752  \n",
       "2   1.606415  \n",
       "3   1.172336  \n",
       "4   1.529161  \n",
       "..       ...  \n",
       "67  1.869985  \n",
       "68  2.422474  \n",
       "69  2.142451  \n",
       "70  2.406612  \n",
       "71  1.948583  \n",
       "\n",
       "[72 rows x 8 columns]"
      ]
     },
     "execution_count": 61,
     "metadata": {},
     "output_type": "execute_result"
    }
   ],
   "source": [
    "pd.DataFrame(X_train).describe().transpose()"
   ]
  },
  {
   "cell_type": "code",
   "execution_count": 62,
   "id": "14a54611",
   "metadata": {
    "scrolled": false
   },
   "outputs": [
    {
     "data": {
      "text/html": [
       "<div>\n",
       "<style scoped>\n",
       "    .dataframe tbody tr th:only-of-type {\n",
       "        vertical-align: middle;\n",
       "    }\n",
       "\n",
       "    .dataframe tbody tr th {\n",
       "        vertical-align: top;\n",
       "    }\n",
       "\n",
       "    .dataframe thead th {\n",
       "        text-align: right;\n",
       "    }\n",
       "</style>\n",
       "<table border=\"1\" class=\"dataframe\">\n",
       "  <thead>\n",
       "    <tr style=\"text-align: right;\">\n",
       "      <th></th>\n",
       "      <th>0</th>\n",
       "      <th>1</th>\n",
       "      <th>2</th>\n",
       "      <th>3</th>\n",
       "      <th>4</th>\n",
       "      <th>5</th>\n",
       "      <th>6</th>\n",
       "      <th>7</th>\n",
       "      <th>8</th>\n",
       "      <th>9</th>\n",
       "      <th>...</th>\n",
       "      <th>62</th>\n",
       "      <th>63</th>\n",
       "      <th>64</th>\n",
       "      <th>65</th>\n",
       "      <th>66</th>\n",
       "      <th>67</th>\n",
       "      <th>68</th>\n",
       "      <th>69</th>\n",
       "      <th>70</th>\n",
       "      <th>71</th>\n",
       "    </tr>\n",
       "  </thead>\n",
       "  <tbody>\n",
       "    <tr>\n",
       "      <th>0</th>\n",
       "      <td>1.000000</td>\n",
       "      <td>-1.000000</td>\n",
       "      <td>0.138988</td>\n",
       "      <td>-0.060129</td>\n",
       "      <td>-0.071319</td>\n",
       "      <td>0.040312</td>\n",
       "      <td>-0.044428</td>\n",
       "      <td>0.012007</td>\n",
       "      <td>0.011304</td>\n",
       "      <td>-0.000993</td>\n",
       "      <td>...</td>\n",
       "      <td>0.011929</td>\n",
       "      <td>-0.011913</td>\n",
       "      <td>0.003345</td>\n",
       "      <td>-0.004213</td>\n",
       "      <td>0.003966</td>\n",
       "      <td>0.000105</td>\n",
       "      <td>0.011518</td>\n",
       "      <td>-0.008851</td>\n",
       "      <td>0.002519</td>\n",
       "      <td>-0.006850</td>\n",
       "    </tr>\n",
       "    <tr>\n",
       "      <th>1</th>\n",
       "      <td>-1.000000</td>\n",
       "      <td>1.000000</td>\n",
       "      <td>-0.138988</td>\n",
       "      <td>0.060129</td>\n",
       "      <td>0.071319</td>\n",
       "      <td>-0.040312</td>\n",
       "      <td>0.044428</td>\n",
       "      <td>-0.012007</td>\n",
       "      <td>-0.011304</td>\n",
       "      <td>0.000993</td>\n",
       "      <td>...</td>\n",
       "      <td>-0.011929</td>\n",
       "      <td>0.011913</td>\n",
       "      <td>-0.003345</td>\n",
       "      <td>0.004213</td>\n",
       "      <td>-0.003966</td>\n",
       "      <td>-0.000105</td>\n",
       "      <td>-0.011518</td>\n",
       "      <td>0.008851</td>\n",
       "      <td>-0.002519</td>\n",
       "      <td>0.006850</td>\n",
       "    </tr>\n",
       "    <tr>\n",
       "      <th>2</th>\n",
       "      <td>0.138988</td>\n",
       "      <td>-0.138988</td>\n",
       "      <td>1.000000</td>\n",
       "      <td>-0.530995</td>\n",
       "      <td>-0.407089</td>\n",
       "      <td>0.030084</td>\n",
       "      <td>-0.039836</td>\n",
       "      <td>0.030005</td>\n",
       "      <td>0.018292</td>\n",
       "      <td>0.009771</td>\n",
       "      <td>...</td>\n",
       "      <td>0.065252</td>\n",
       "      <td>-0.036022</td>\n",
       "      <td>0.008815</td>\n",
       "      <td>-0.020847</td>\n",
       "      <td>0.011923</td>\n",
       "      <td>-0.012238</td>\n",
       "      <td>0.050367</td>\n",
       "      <td>-0.028959</td>\n",
       "      <td>0.012050</td>\n",
       "      <td>-0.023096</td>\n",
       "    </tr>\n",
       "    <tr>\n",
       "      <th>3</th>\n",
       "      <td>-0.060129</td>\n",
       "      <td>0.060129</td>\n",
       "      <td>-0.530995</td>\n",
       "      <td>1.000000</td>\n",
       "      <td>-0.557821</td>\n",
       "      <td>-0.007350</td>\n",
       "      <td>0.006224</td>\n",
       "      <td>0.001641</td>\n",
       "      <td>0.002532</td>\n",
       "      <td>-0.006202</td>\n",
       "      <td>...</td>\n",
       "      <td>0.008285</td>\n",
       "      <td>-0.012454</td>\n",
       "      <td>0.012350</td>\n",
       "      <td>-0.010201</td>\n",
       "      <td>-0.001985</td>\n",
       "      <td>0.001153</td>\n",
       "      <td>0.012999</td>\n",
       "      <td>-0.014299</td>\n",
       "      <td>0.011703</td>\n",
       "      <td>-0.007736</td>\n",
       "    </tr>\n",
       "    <tr>\n",
       "      <th>4</th>\n",
       "      <td>-0.071319</td>\n",
       "      <td>0.071319</td>\n",
       "      <td>-0.407089</td>\n",
       "      <td>-0.557821</td>\n",
       "      <td>1.000000</td>\n",
       "      <td>-0.021544</td>\n",
       "      <td>0.032309</td>\n",
       "      <td>-0.031157</td>\n",
       "      <td>-0.020645</td>\n",
       "      <td>-0.002885</td>\n",
       "      <td>...</td>\n",
       "      <td>-0.072841</td>\n",
       "      <td>0.048707</td>\n",
       "      <td>-0.021946</td>\n",
       "      <td>0.031414</td>\n",
       "      <td>-0.009539</td>\n",
       "      <td>0.010744</td>\n",
       "      <td>-0.063343</td>\n",
       "      <td>0.043777</td>\n",
       "      <td>-0.024417</td>\n",
       "      <td>0.030960</td>\n",
       "    </tr>\n",
       "    <tr>\n",
       "      <th>...</th>\n",
       "      <td>...</td>\n",
       "      <td>...</td>\n",
       "      <td>...</td>\n",
       "      <td>...</td>\n",
       "      <td>...</td>\n",
       "      <td>...</td>\n",
       "      <td>...</td>\n",
       "      <td>...</td>\n",
       "      <td>...</td>\n",
       "      <td>...</td>\n",
       "      <td>...</td>\n",
       "      <td>...</td>\n",
       "      <td>...</td>\n",
       "      <td>...</td>\n",
       "      <td>...</td>\n",
       "      <td>...</td>\n",
       "      <td>...</td>\n",
       "      <td>...</td>\n",
       "      <td>...</td>\n",
       "      <td>...</td>\n",
       "      <td>...</td>\n",
       "    </tr>\n",
       "    <tr>\n",
       "      <th>67</th>\n",
       "      <td>0.000105</td>\n",
       "      <td>-0.000105</td>\n",
       "      <td>-0.012238</td>\n",
       "      <td>0.001153</td>\n",
       "      <td>0.010744</td>\n",
       "      <td>0.013139</td>\n",
       "      <td>-0.012188</td>\n",
       "      <td>0.001567</td>\n",
       "      <td>-0.003971</td>\n",
       "      <td>-0.005991</td>\n",
       "      <td>...</td>\n",
       "      <td>-0.213496</td>\n",
       "      <td>-0.223771</td>\n",
       "      <td>-0.206913</td>\n",
       "      <td>-0.164337</td>\n",
       "      <td>-0.175706</td>\n",
       "      <td>1.000000</td>\n",
       "      <td>-0.220751</td>\n",
       "      <td>-0.249604</td>\n",
       "      <td>-0.222206</td>\n",
       "      <td>-0.274437</td>\n",
       "    </tr>\n",
       "    <tr>\n",
       "      <th>68</th>\n",
       "      <td>0.011518</td>\n",
       "      <td>-0.011518</td>\n",
       "      <td>0.050367</td>\n",
       "      <td>0.012999</td>\n",
       "      <td>-0.063343</td>\n",
       "      <td>0.001612</td>\n",
       "      <td>-0.001837</td>\n",
       "      <td>-0.000123</td>\n",
       "      <td>0.001238</td>\n",
       "      <td>-0.004336</td>\n",
       "      <td>...</td>\n",
       "      <td>0.853409</td>\n",
       "      <td>-0.186461</td>\n",
       "      <td>-0.073300</td>\n",
       "      <td>-0.204558</td>\n",
       "      <td>-0.135633</td>\n",
       "      <td>-0.220751</td>\n",
       "      <td>1.000000</td>\n",
       "      <td>-0.192677</td>\n",
       "      <td>-0.171528</td>\n",
       "      <td>-0.211847</td>\n",
       "    </tr>\n",
       "    <tr>\n",
       "      <th>69</th>\n",
       "      <td>-0.008851</td>\n",
       "      <td>0.008851</td>\n",
       "      <td>-0.028959</td>\n",
       "      <td>-0.014299</td>\n",
       "      <td>0.043777</td>\n",
       "      <td>-0.030385</td>\n",
       "      <td>0.030143</td>\n",
       "      <td>-0.009257</td>\n",
       "      <td>0.005831</td>\n",
       "      <td>0.002347</td>\n",
       "      <td>...</td>\n",
       "      <td>-0.169895</td>\n",
       "      <td>0.828149</td>\n",
       "      <td>-0.173427</td>\n",
       "      <td>-0.223516</td>\n",
       "      <td>-0.153361</td>\n",
       "      <td>-0.249604</td>\n",
       "      <td>-0.192677</td>\n",
       "      <td>1.000000</td>\n",
       "      <td>-0.193947</td>\n",
       "      <td>-0.239536</td>\n",
       "    </tr>\n",
       "    <tr>\n",
       "      <th>70</th>\n",
       "      <td>0.002519</td>\n",
       "      <td>-0.002519</td>\n",
       "      <td>0.012050</td>\n",
       "      <td>0.011703</td>\n",
       "      <td>-0.024417</td>\n",
       "      <td>-0.016918</td>\n",
       "      <td>0.019779</td>\n",
       "      <td>-0.001220</td>\n",
       "      <td>-0.012897</td>\n",
       "      <td>-0.002707</td>\n",
       "      <td>...</td>\n",
       "      <td>-0.140914</td>\n",
       "      <td>-0.180258</td>\n",
       "      <td>0.830192</td>\n",
       "      <td>-0.195860</td>\n",
       "      <td>-0.136527</td>\n",
       "      <td>-0.222206</td>\n",
       "      <td>-0.171528</td>\n",
       "      <td>-0.193947</td>\n",
       "      <td>1.000000</td>\n",
       "      <td>-0.213243</td>\n",
       "    </tr>\n",
       "    <tr>\n",
       "      <th>71</th>\n",
       "      <td>-0.006850</td>\n",
       "      <td>0.006850</td>\n",
       "      <td>-0.023096</td>\n",
       "      <td>-0.007736</td>\n",
       "      <td>0.030960</td>\n",
       "      <td>0.039479</td>\n",
       "      <td>-0.040786</td>\n",
       "      <td>0.002356</td>\n",
       "      <td>0.007773</td>\n",
       "      <td>0.001094</td>\n",
       "      <td>...</td>\n",
       "      <td>-0.199989</td>\n",
       "      <td>-0.125180</td>\n",
       "      <td>-0.197922</td>\n",
       "      <td>0.843433</td>\n",
       "      <td>-0.168619</td>\n",
       "      <td>-0.274437</td>\n",
       "      <td>-0.211847</td>\n",
       "      <td>-0.239536</td>\n",
       "      <td>-0.213243</td>\n",
       "      <td>1.000000</td>\n",
       "    </tr>\n",
       "  </tbody>\n",
       "</table>\n",
       "<p>72 rows × 72 columns</p>\n",
       "</div>"
      ],
      "text/plain": [
       "          0         1         2         3         4         5         6   \\\n",
       "0   1.000000 -1.000000  0.138988 -0.060129 -0.071319  0.040312 -0.044428   \n",
       "1  -1.000000  1.000000 -0.138988  0.060129  0.071319 -0.040312  0.044428   \n",
       "2   0.138988 -0.138988  1.000000 -0.530995 -0.407089  0.030084 -0.039836   \n",
       "3  -0.060129  0.060129 -0.530995  1.000000 -0.557821 -0.007350  0.006224   \n",
       "4  -0.071319  0.071319 -0.407089 -0.557821  1.000000 -0.021544  0.032309   \n",
       "..       ...       ...       ...       ...       ...       ...       ...   \n",
       "67  0.000105 -0.000105 -0.012238  0.001153  0.010744  0.013139 -0.012188   \n",
       "68  0.011518 -0.011518  0.050367  0.012999 -0.063343  0.001612 -0.001837   \n",
       "69 -0.008851  0.008851 -0.028959 -0.014299  0.043777 -0.030385  0.030143   \n",
       "70  0.002519 -0.002519  0.012050  0.011703 -0.024417 -0.016918  0.019779   \n",
       "71 -0.006850  0.006850 -0.023096 -0.007736  0.030960  0.039479 -0.040786   \n",
       "\n",
       "          7         8         9   ...        62        63        64        65  \\\n",
       "0   0.012007  0.011304 -0.000993  ...  0.011929 -0.011913  0.003345 -0.004213   \n",
       "1  -0.012007 -0.011304  0.000993  ... -0.011929  0.011913 -0.003345  0.004213   \n",
       "2   0.030005  0.018292  0.009771  ...  0.065252 -0.036022  0.008815 -0.020847   \n",
       "3   0.001641  0.002532 -0.006202  ...  0.008285 -0.012454  0.012350 -0.010201   \n",
       "4  -0.031157 -0.020645 -0.002885  ... -0.072841  0.048707 -0.021946  0.031414   \n",
       "..       ...       ...       ...  ...       ...       ...       ...       ...   \n",
       "67  0.001567 -0.003971 -0.005991  ... -0.213496 -0.223771 -0.206913 -0.164337   \n",
       "68 -0.000123  0.001238 -0.004336  ...  0.853409 -0.186461 -0.073300 -0.204558   \n",
       "69 -0.009257  0.005831  0.002347  ... -0.169895  0.828149 -0.173427 -0.223516   \n",
       "70 -0.001220 -0.012897 -0.002707  ... -0.140914 -0.180258  0.830192 -0.195860   \n",
       "71  0.002356  0.007773  0.001094  ... -0.199989 -0.125180 -0.197922  0.843433   \n",
       "\n",
       "          66        67        68        69        70        71  \n",
       "0   0.003966  0.000105  0.011518 -0.008851  0.002519 -0.006850  \n",
       "1  -0.003966 -0.000105 -0.011518  0.008851 -0.002519  0.006850  \n",
       "2   0.011923 -0.012238  0.050367 -0.028959  0.012050 -0.023096  \n",
       "3  -0.001985  0.001153  0.012999 -0.014299  0.011703 -0.007736  \n",
       "4  -0.009539  0.010744 -0.063343  0.043777 -0.024417  0.030960  \n",
       "..       ...       ...       ...       ...       ...       ...  \n",
       "67 -0.175706  1.000000 -0.220751 -0.249604 -0.222206 -0.274437  \n",
       "68 -0.135633 -0.220751  1.000000 -0.192677 -0.171528 -0.211847  \n",
       "69 -0.153361 -0.249604 -0.192677  1.000000 -0.193947 -0.239536  \n",
       "70 -0.136527 -0.222206 -0.171528 -0.193947  1.000000 -0.213243  \n",
       "71 -0.168619 -0.274437 -0.211847 -0.239536 -0.213243  1.000000  \n",
       "\n",
       "[72 rows x 72 columns]"
      ]
     },
     "execution_count": 62,
     "metadata": {},
     "output_type": "execute_result"
    }
   ],
   "source": [
    "pd.DataFrame(X_train).corr()"
   ]
  },
  {
   "cell_type": "markdown",
   "id": "4669d02d",
   "metadata": {},
   "source": [
    "Normalization does not change the correlation between variables."
   ]
  },
  {
   "cell_type": "markdown",
   "id": "ef4ba109",
   "metadata": {},
   "source": [
    " run the component analysis with 76 components"
   ]
  },
  {
   "cell_type": "code",
   "execution_count": 63,
   "id": "f2f27eef",
   "metadata": {},
   "outputs": [],
   "source": [
    "from sklearn.decomposition import PCA\n",
    "\n",
    "pca = PCA(n_components=72)\n",
    "X_train_pca = pca.fit_transform(X_train)\n",
    "X_test_pca = pca.transform(X_test)"
   ]
  },
  {
   "cell_type": "code",
   "execution_count": 64,
   "id": "7f344c22",
   "metadata": {},
   "outputs": [
    {
     "data": {
      "text/plain": [
       "array([3.89751306e-02, 3.69997670e-02, 3.34943649e-02, 3.28901100e-02,\n",
       "       3.17931883e-02, 3.14166263e-02, 3.12797643e-02, 3.11147586e-02,\n",
       "       3.08983980e-02, 3.07334214e-02, 3.07023649e-02, 2.98568757e-02,\n",
       "       2.91014888e-02, 2.84512316e-02, 2.78276317e-02, 2.74517709e-02,\n",
       "       2.61115760e-02, 2.52241056e-02, 2.30791946e-02, 2.21265180e-02,\n",
       "       2.09926137e-02, 2.02840649e-02, 1.90388888e-02, 1.83927239e-02,\n",
       "       1.78379876e-02, 1.69972215e-02, 1.64003092e-02, 1.62511824e-02,\n",
       "       1.56343523e-02, 1.54086188e-02, 1.50097022e-02, 1.42758179e-02,\n",
       "       1.41756342e-02, 1.40224548e-02, 1.38470920e-02, 1.38212383e-02,\n",
       "       1.35307719e-02, 1.34765711e-02, 1.30613772e-02, 1.20335017e-02,\n",
       "       1.12301329e-02, 1.11083907e-02, 9.88667950e-03, 9.60235513e-03,\n",
       "       8.70483409e-03, 8.07159676e-03, 6.20483809e-03, 3.68892151e-03,\n",
       "       3.18467317e-03, 2.96862264e-03, 1.97491669e-03, 1.65627887e-03,\n",
       "       1.60957323e-03, 1.59652305e-03, 1.33909347e-03, 1.28016359e-03,\n",
       "       9.79171769e-04, 8.92822910e-04, 9.55557793e-31, 7.79125219e-32,\n",
       "       1.11407861e-32, 5.74210633e-33, 4.09153535e-33, 2.43756382e-33,\n",
       "       2.41408937e-33, 1.74715162e-33, 1.56626629e-33, 1.28643345e-33,\n",
       "       7.79356093e-34, 7.00244823e-34, 4.71705396e-34, 3.14900208e-34])"
      ]
     },
     "execution_count": 64,
     "metadata": {},
     "output_type": "execute_result"
    }
   ],
   "source": [
    "explained_variance = pca.explained_variance_ratio_\n",
    "explained_variance\n"
   ]
  },
  {
   "cell_type": "code",
   "execution_count": 65,
   "id": "c3a1d571",
   "metadata": {},
   "outputs": [
    {
     "name": "stdout",
     "output_type": "stream",
     "text": [
      "[  3.9    7.6   10.95  14.24  17.42  20.56  23.69  26.8   29.89  32.96\n",
      "  36.03  39.02  41.93  44.78  47.56  50.31  52.92  55.44  57.75  59.96\n",
      "  62.06  64.09  65.99  67.83  69.61  71.31  72.95  74.58  76.14  77.68\n",
      "  79.18  80.61  82.03  83.43  84.81  86.19  87.54  88.89  90.2   91.4\n",
      "  92.52  93.63  94.62  95.58  96.45  97.26  97.88  98.25  98.57  98.87\n",
      "  99.07  99.24  99.4   99.56  99.69  99.82  99.92 100.01 100.01 100.01\n",
      " 100.01 100.01 100.01 100.01 100.01 100.01 100.01 100.01 100.01 100.01\n",
      " 100.01 100.01]\n"
     ]
    }
   ],
   "source": [
    "#Cumulative Variance explains\n",
    "var1 = np.cumsum(np.round(explained_variance, decimals=4)*100)\n",
    "\n",
    "print(var1)"
   ]
  },
  {
   "cell_type": "markdown",
   "id": "b8be3b68",
   "metadata": {},
   "source": [
    "Draw a scree plot to show the cumulative variance explained along the number of principal components."
   ]
  },
  {
   "cell_type": "code",
   "execution_count": 66,
   "id": "9d76ef49",
   "metadata": {},
   "outputs": [
    {
     "data": {
      "image/png": "[encoded data removed]",
      "text/plain": [
       "<Figure size 720x720 with 1 Axes>"
      ]
     },
     "metadata": {
      "needs_background": "light"
     },
     "output_type": "display_data"
    }
   ],
   "source": [
    "var1 = pd.DataFrame(var1, index=np.arange(1,73))\n",
    "plt.figure(figsize = (10,10))\n",
    "plt.plot(var1,'-o',color='blue')\n",
    "plt.title('Scree Plot')\n",
    "plt.xlabel('Number of Principal Components')\n",
    "plt.ylabel('Cumulative Variance Explained')\n",
    "plt.savefig('scree_plot.png',dpi=100,bbox_inches='tight')"
   ]
  },
  {
   "cell_type": "markdown",
   "id": "0ddbefdd",
   "metadata": {},
   "source": [
    "From the above plot, we can see that if we choose a 39-component solution, the explained variance would be > 90%. That is to say, 39 orthogonal (uncorrelated) components will be able to keep more than 90% variance of the 76 variables in the original dataset. This would be a good solution. Now, let's do the PCA with 39 components."
   ]
  },
  {
   "cell_type": "code",
   "execution_count": 67,
   "id": "affcd0ed",
   "metadata": {},
   "outputs": [
    {
     "data": {
      "text/html": [
       "<div>\n",
       "<style scoped>\n",
       "    .dataframe tbody tr th:only-of-type {\n",
       "        vertical-align: middle;\n",
       "    }\n",
       "\n",
       "    .dataframe tbody tr th {\n",
       "        vertical-align: top;\n",
       "    }\n",
       "\n",
       "    .dataframe thead th {\n",
       "        text-align: right;\n",
       "    }\n",
       "</style>\n",
       "<table border=\"1\" class=\"dataframe\">\n",
       "  <thead>\n",
       "    <tr style=\"text-align: right;\">\n",
       "      <th></th>\n",
       "      <th>PC1</th>\n",
       "      <th>PC2</th>\n",
       "      <th>PC3</th>\n",
       "      <th>PC4</th>\n",
       "      <th>PC5</th>\n",
       "      <th>PC6</th>\n",
       "      <th>PC7</th>\n",
       "      <th>PC8</th>\n",
       "      <th>PC9</th>\n",
       "      <th>PC10</th>\n",
       "      <th>...</th>\n",
       "      <th>PC30</th>\n",
       "      <th>PC31</th>\n",
       "      <th>PC32</th>\n",
       "      <th>PC33</th>\n",
       "      <th>PC34</th>\n",
       "      <th>PC35</th>\n",
       "      <th>PC36</th>\n",
       "      <th>PC37</th>\n",
       "      <th>PC38</th>\n",
       "      <th>PC39</th>\n",
       "    </tr>\n",
       "  </thead>\n",
       "  <tbody>\n",
       "    <tr>\n",
       "      <th>0</th>\n",
       "      <td>2.747703</td>\n",
       "      <td>4.613648</td>\n",
       "      <td>2.003172</td>\n",
       "      <td>-0.907230</td>\n",
       "      <td>0.150344</td>\n",
       "      <td>-1.292403</td>\n",
       "      <td>0.295289</td>\n",
       "      <td>1.463292</td>\n",
       "      <td>-2.280469</td>\n",
       "      <td>0.641383</td>\n",
       "      <td>...</td>\n",
       "      <td>-1.166685</td>\n",
       "      <td>0.053652</td>\n",
       "      <td>-0.316170</td>\n",
       "      <td>-0.012780</td>\n",
       "      <td>-0.245383</td>\n",
       "      <td>0.153485</td>\n",
       "      <td>1.245861</td>\n",
       "      <td>0.124568</td>\n",
       "      <td>-0.883913</td>\n",
       "      <td>1.268392</td>\n",
       "    </tr>\n",
       "    <tr>\n",
       "      <th>1</th>\n",
       "      <td>-1.170219</td>\n",
       "      <td>-0.102182</td>\n",
       "      <td>-1.046439</td>\n",
       "      <td>3.024762</td>\n",
       "      <td>0.367917</td>\n",
       "      <td>1.174482</td>\n",
       "      <td>2.290848</td>\n",
       "      <td>-0.274625</td>\n",
       "      <td>1.215504</td>\n",
       "      <td>-1.380812</td>\n",
       "      <td>...</td>\n",
       "      <td>0.874326</td>\n",
       "      <td>-0.616614</td>\n",
       "      <td>-0.207620</td>\n",
       "      <td>-0.033815</td>\n",
       "      <td>-0.349818</td>\n",
       "      <td>0.166694</td>\n",
       "      <td>1.038617</td>\n",
       "      <td>0.065853</td>\n",
       "      <td>-0.129896</td>\n",
       "      <td>0.131658</td>\n",
       "    </tr>\n",
       "    <tr>\n",
       "      <th>2</th>\n",
       "      <td>-0.171369</td>\n",
       "      <td>-0.085901</td>\n",
       "      <td>-1.135327</td>\n",
       "      <td>1.931344</td>\n",
       "      <td>-0.554091</td>\n",
       "      <td>1.411292</td>\n",
       "      <td>-1.978124</td>\n",
       "      <td>-1.908399</td>\n",
       "      <td>-1.987004</td>\n",
       "      <td>-1.895128</td>\n",
       "      <td>...</td>\n",
       "      <td>-1.756965</td>\n",
       "      <td>-0.195517</td>\n",
       "      <td>0.170914</td>\n",
       "      <td>-0.117268</td>\n",
       "      <td>0.184403</td>\n",
       "      <td>-0.001544</td>\n",
       "      <td>-0.750802</td>\n",
       "      <td>-0.477034</td>\n",
       "      <td>0.355598</td>\n",
       "      <td>0.337882</td>\n",
       "    </tr>\n",
       "    <tr>\n",
       "      <th>3</th>\n",
       "      <td>-2.540884</td>\n",
       "      <td>-1.436909</td>\n",
       "      <td>-0.580936</td>\n",
       "      <td>0.013329</td>\n",
       "      <td>0.817686</td>\n",
       "      <td>1.463030</td>\n",
       "      <td>3.090405</td>\n",
       "      <td>1.101489</td>\n",
       "      <td>1.752819</td>\n",
       "      <td>-0.988125</td>\n",
       "      <td>...</td>\n",
       "      <td>-1.217951</td>\n",
       "      <td>0.187340</td>\n",
       "      <td>0.028806</td>\n",
       "      <td>-0.131737</td>\n",
       "      <td>0.234799</td>\n",
       "      <td>-0.103364</td>\n",
       "      <td>-0.334497</td>\n",
       "      <td>-0.657418</td>\n",
       "      <td>0.174597</td>\n",
       "      <td>-0.144128</td>\n",
       "    </tr>\n",
       "    <tr>\n",
       "      <th>4</th>\n",
       "      <td>1.336232</td>\n",
       "      <td>-1.626457</td>\n",
       "      <td>-3.723010</td>\n",
       "      <td>1.990232</td>\n",
       "      <td>1.941003</td>\n",
       "      <td>0.239750</td>\n",
       "      <td>2.184007</td>\n",
       "      <td>0.107602</td>\n",
       "      <td>1.440031</td>\n",
       "      <td>-1.121604</td>\n",
       "      <td>...</td>\n",
       "      <td>0.629112</td>\n",
       "      <td>0.091604</td>\n",
       "      <td>-0.032346</td>\n",
       "      <td>-0.148650</td>\n",
       "      <td>-0.171541</td>\n",
       "      <td>0.013979</td>\n",
       "      <td>-0.122844</td>\n",
       "      <td>-0.000165</td>\n",
       "      <td>0.295692</td>\n",
       "      <td>-0.297695</td>\n",
       "    </tr>\n",
       "  </tbody>\n",
       "</table>\n",
       "<p>5 rows × 39 columns</p>\n",
       "</div>"
      ],
      "text/plain": [
       "        PC1       PC2       PC3       PC4       PC5       PC6       PC7  \\\n",
       "0  2.747703  4.613648  2.003172 -0.907230  0.150344 -1.292403  0.295289   \n",
       "1 -1.170219 -0.102182 -1.046439  3.024762  0.367917  1.174482  2.290848   \n",
       "2 -0.171369 -0.085901 -1.135327  1.931344 -0.554091  1.411292 -1.978124   \n",
       "3 -2.540884 -1.436909 -0.580936  0.013329  0.817686  1.463030  3.090405   \n",
       "4  1.336232 -1.626457 -3.723010  1.990232  1.941003  0.239750  2.184007   \n",
       "\n",
       "        PC8       PC9      PC10  ...      PC30      PC31      PC32      PC33  \\\n",
       "0  1.463292 -2.280469  0.641383  ... -1.166685  0.053652 -0.316170 -0.012780   \n",
       "1 -0.274625  1.215504 -1.380812  ...  0.874326 -0.616614 -0.207620 -0.033815   \n",
       "2 -1.908399 -1.987004 -1.895128  ... -1.756965 -0.195517  0.170914 -0.117268   \n",
       "3  1.101489  1.752819 -0.988125  ... -1.217951  0.187340  0.028806 -0.131737   \n",
       "4  0.107602  1.440031 -1.121604  ...  0.629112  0.091604 -0.032346 -0.148650   \n",
       "\n",
       "       PC34      PC35      PC36      PC37      PC38      PC39  \n",
       "0 -0.245383  0.153485  1.245861  0.124568 -0.883913  1.268392  \n",
       "1 -0.349818  0.166694  1.038617  0.065853 -0.129896  0.131658  \n",
       "2  0.184403 -0.001544 -0.750802 -0.477034  0.355598  0.337882  \n",
       "3  0.234799 -0.103364 -0.334497 -0.657418  0.174597 -0.144128  \n",
       "4 -0.171541  0.013979 -0.122844 -0.000165  0.295692 -0.297695  \n",
       "\n",
       "[5 rows x 39 columns]"
      ]
     },
     "execution_count": 67,
     "metadata": {},
     "output_type": "execute_result"
    }
   ],
   "source": [
    "# Select the number of components\n",
    "\n",
    "pca39 = PCA(n_components=39)\n",
    "X_train_pca39 = pca39.fit_transform(X_train)\n",
    "X_test_pca39 = pca39.transform(X_test)\n",
    "\n",
    "\n",
    "# Convert the numpy array to pandas DataFrame\n",
    "X_train_pcadata = pd.DataFrame(X_train_pca39)\n",
    "X_test_pcadata = pd.DataFrame(X_test_pca39)\n",
    "X_train_pcadata.columns = [\"PC\"+str(i) for i in range(1,40)]\n",
    "X_test_pcadata.columns = [\"PC\"+str(i) for i in range(1,40)]\n",
    "\n",
    "# Show the head of the DataFrame\n",
    "X_train_pcadata.head()"
   ]
  },
  {
   "cell_type": "markdown",
   "id": "e6b4520f",
   "metadata": {},
   "source": [
    "From the above correlation table, we can find that the pairwise correlations between two components are close to zeros. This means that all these components are orthogonal (not correlated). There is no multicollinearity among principal components."
   ]
  },
  {
   "cell_type": "markdown",
   "id": "5c0af844",
   "metadata": {},
   "source": [
    "PCA applies a linear transformation to transform the data to a new space with fewer dimensions. Let's show the loadings for the 1st principal component and explore how the 1st principal component is calculated from the normalized data."
   ]
  },
  {
   "cell_type": "markdown",
   "id": "feb999f0",
   "metadata": {},
   "source": [
    "These are the coefficients for the 39 variables to get the PC1"
   ]
  },
  {
   "cell_type": "markdown",
   "id": "7d777c5a",
   "metadata": {},
   "source": [
    "We can also manually calculate the 1st principal component score using the following dot product. "
   ]
  },
  {
   "cell_type": "markdown",
   "id": "3f967145",
   "metadata": {},
   "source": [
    "## RF"
   ]
  },
  {
   "cell_type": "code",
   "execution_count": 68,
   "id": "77a8e34a",
   "metadata": {},
   "outputs": [],
   "source": [
    "from sklearn.ensemble import RandomForestClassifier\n",
    "\n",
    "classifier = RandomForestClassifier(n_estimators=15, max_features=38, random_state=123)\n",
    "classifier.fit(X_train, y_train)\n",
    "\n",
    "# Predicting the Test set results\n",
    "y_pred_rf = classifier.predict(X_test)\n"
   ]
  },
  {
   "cell_type": "code",
   "execution_count": 69,
   "id": "5bff1390",
   "metadata": {},
   "outputs": [
    {
     "name": "stdout",
     "output_type": "stream",
     "text": [
      "[[2542    0    2    0    0]\n",
      " [   0 3493    0    0    0]\n",
      " [   0    0 2327    6    0]\n",
      " [   0    0    2 2642    1]\n",
      " [   0    0    0    0  557]]\n"
     ]
    }
   ],
   "source": [
    "from sklearn.metrics import confusion_matrix\n",
    "from sklearn.metrics import accuracy_score\n",
    "\n",
    "Rf_cm = confusion_matrix(y_test, y_pred_rf)\n",
    "print(Rf_cm)\n",
    "\n"
   ]
  },
  {
   "cell_type": "code",
   "execution_count": 70,
   "id": "c15ed9f9",
   "metadata": {},
   "outputs": [
    {
     "name": "stdout",
     "output_type": "stream",
     "text": [
      "0.9990494296577946\n"
     ]
    }
   ],
   "source": [
    "print( accuracy_score(y_test, y_pred_rf))"
   ]
  },
  {
   "cell_type": "markdown",
   "id": "32bfdb8b",
   "metadata": {},
   "source": [
    "## KNN"
   ]
  },
  {
   "cell_type": "code",
   "execution_count": 71,
   "id": "4f9601f2",
   "metadata": {},
   "outputs": [
    {
     "data": {
      "text/plain": [
       "KNeighborsClassifier()"
      ]
     },
     "execution_count": 71,
     "metadata": {},
     "output_type": "execute_result"
    }
   ],
   "source": [
    "from sklearn import neighbors\n",
    "\n",
    "# KNN: K=5, default measure of distance (euclidean)\n",
    "knn5 = neighbors.KNeighborsClassifier(n_neighbors=5)\n",
    "knn5.fit(X_train, y_train)"
   ]
  },
  {
   "cell_type": "code",
   "execution_count": 81,
   "id": "a49d0875",
   "metadata": {},
   "outputs": [],
   "source": [
    "pred_y_knn5 = knn5.predict(X_test)\n"
   ]
  },
  {
   "cell_type": "code",
   "execution_count": 82,
   "id": "4fd836f8",
   "metadata": {},
   "outputs": [
    {
     "name": "stdout",
     "output_type": "stream",
     "text": [
      "[[2450   60   11   23    0]\n",
      " [ 135 3298   19   41    0]\n",
      " [ 149  102 2057   25    0]\n",
      " [ 138  166   26 2314    1]\n",
      " [  14   11    2    8  522]]\n"
     ]
    }
   ],
   "source": [
    "from sklearn import metrics\n",
    " \n",
    "# Print confusion matrix\n",
    "cm_knn = metrics.confusion_matrix(y_test, pred_y_knn5)\n",
    "print(cm_knn)"
   ]
  },
  {
   "cell_type": "code",
   "execution_count": 74,
   "id": "9c775423",
   "metadata": {},
   "outputs": [
    {
     "data": {
      "text/plain": [
       "0.9195471828551677"
      ]
     },
     "execution_count": 74,
     "metadata": {},
     "output_type": "execute_result"
    }
   ],
   "source": [
    "# Calculate classification accuracy\n",
    "metrics.accuracy_score(y_test, pred_y_knn5)"
   ]
  },
  {
   "cell_type": "code",
   "execution_count": 75,
   "id": "37bc2718",
   "metadata": {},
   "outputs": [
    {
     "data": {
      "text/plain": [
       "0.8946482197797357"
      ]
     },
     "execution_count": 75,
     "metadata": {},
     "output_type": "execute_result"
    }
   ],
   "source": [
    "# Calculate Cohen's Kappa\n",
    "metrics.cohen_kappa_score(y_test, pred_y_knn5)"
   ]
  },
  {
   "cell_type": "code",
   "execution_count": 96,
   "id": "acc05226",
   "metadata": {},
   "outputs": [
    {
     "data": {
      "text/plain": [
       "[3, 3, 1, 5, 3, ..., 4, 2, 3, 3, 2]\n",
       "Length: 11572\n",
       "Categories (5, int64): [1, 2, 3, 4, 5]"
      ]
     },
     "execution_count": 96,
     "metadata": {},
     "output_type": "execute_result"
    }
   ],
   "source": [
    "y_test.values"
   ]
  },
  {
   "cell_type": "code",
   "execution_count": 98,
   "id": "269a21fb",
   "metadata": {},
   "outputs": [
    {
     "ename": "AxisError",
     "evalue": "axis 1 is out of bounds for array of dimension 1",
     "output_type": "error",
     "traceback": [
      "\u001b[1;31m---------------------------------------------------------------------------\u001b[0m",
      "\u001b[1;31mAxisError\u001b[0m                                 Traceback (most recent call last)",
      "Input \u001b[1;32mIn [98]\u001b[0m, in \u001b[0;36m<cell line: 2>\u001b[1;34m()\u001b[0m\n\u001b[0;32m      1\u001b[0m \u001b[38;5;66;03m# Calculate AUC\u001b[39;00m\n\u001b[1;32m----> 2\u001b[0m \u001b[43mmetrics\u001b[49m\u001b[38;5;241;43m.\u001b[39;49m\u001b[43mroc_auc_score\u001b[49m\u001b[43m(\u001b[49m\u001b[43my_test\u001b[49m\u001b[38;5;241;43m.\u001b[39;49m\u001b[43mvalues\u001b[49m\u001b[43m,\u001b[49m\u001b[43m \u001b[49m\u001b[43mpred_y_knn5\u001b[49m\u001b[43m,\u001b[49m\u001b[43m \u001b[49m\u001b[43mmulti_class\u001b[49m\u001b[43m \u001b[49m\u001b[38;5;241;43m=\u001b[39;49m\u001b[43m \u001b[49m\u001b[38;5;124;43m'\u001b[39;49m\u001b[38;5;124;43movo\u001b[39;49m\u001b[38;5;124;43m'\u001b[39;49m\u001b[43m)\u001b[49m\n",
      "File \u001b[1;32m~\\anaconda3\\lib\\site-packages\\sklearn\\metrics\\_ranking.py:561\u001b[0m, in \u001b[0;36mroc_auc_score\u001b[1;34m(y_true, y_score, average, sample_weight, max_fpr, multi_class, labels)\u001b[0m\n\u001b[0;32m    559\u001b[0m     \u001b[38;5;28;01mif\u001b[39;00m multi_class \u001b[38;5;241m==\u001b[39m \u001b[38;5;124m\"\u001b[39m\u001b[38;5;124mraise\u001b[39m\u001b[38;5;124m\"\u001b[39m:\n\u001b[0;32m    560\u001b[0m         \u001b[38;5;28;01mraise\u001b[39;00m \u001b[38;5;167;01mValueError\u001b[39;00m(\u001b[38;5;124m\"\u001b[39m\u001b[38;5;124mmulti_class must be in (\u001b[39m\u001b[38;5;124m'\u001b[39m\u001b[38;5;124movo\u001b[39m\u001b[38;5;124m'\u001b[39m\u001b[38;5;124m, \u001b[39m\u001b[38;5;124m'\u001b[39m\u001b[38;5;124movr\u001b[39m\u001b[38;5;124m'\u001b[39m\u001b[38;5;124m)\u001b[39m\u001b[38;5;124m\"\u001b[39m)\n\u001b[1;32m--> 561\u001b[0m     \u001b[38;5;28;01mreturn\u001b[39;00m \u001b[43m_multiclass_roc_auc_score\u001b[49m\u001b[43m(\u001b[49m\n\u001b[0;32m    562\u001b[0m \u001b[43m        \u001b[49m\u001b[43my_true\u001b[49m\u001b[43m,\u001b[49m\u001b[43m \u001b[49m\u001b[43my_score\u001b[49m\u001b[43m,\u001b[49m\u001b[43m \u001b[49m\u001b[43mlabels\u001b[49m\u001b[43m,\u001b[49m\u001b[43m \u001b[49m\u001b[43mmulti_class\u001b[49m\u001b[43m,\u001b[49m\u001b[43m \u001b[49m\u001b[43maverage\u001b[49m\u001b[43m,\u001b[49m\u001b[43m \u001b[49m\u001b[43msample_weight\u001b[49m\n\u001b[0;32m    563\u001b[0m \u001b[43m    \u001b[49m\u001b[43m)\u001b[49m\n\u001b[0;32m    564\u001b[0m \u001b[38;5;28;01melif\u001b[39;00m y_type \u001b[38;5;241m==\u001b[39m \u001b[38;5;124m\"\u001b[39m\u001b[38;5;124mbinary\u001b[39m\u001b[38;5;124m\"\u001b[39m:\n\u001b[0;32m    565\u001b[0m     labels \u001b[38;5;241m=\u001b[39m np\u001b[38;5;241m.\u001b[39munique(y_true)\n",
      "File \u001b[1;32m~\\anaconda3\\lib\\site-packages\\sklearn\\metrics\\_ranking.py:627\u001b[0m, in \u001b[0;36m_multiclass_roc_auc_score\u001b[1;34m(y_true, y_score, labels, multi_class, average, sample_weight)\u001b[0m\n\u001b[0;32m    587\u001b[0m \u001b[38;5;124;03m\"\"\"Multiclass roc auc score.\u001b[39;00m\n\u001b[0;32m    588\u001b[0m \n\u001b[0;32m    589\u001b[0m \u001b[38;5;124;03mParameters\u001b[39;00m\n\u001b[1;32m   (...)\u001b[0m\n\u001b[0;32m    624\u001b[0m \n\u001b[0;32m    625\u001b[0m \u001b[38;5;124;03m\"\"\"\u001b[39;00m\n\u001b[0;32m    626\u001b[0m \u001b[38;5;66;03m# validation of the input y_score\u001b[39;00m\n\u001b[1;32m--> 627\u001b[0m \u001b[38;5;28;01mif\u001b[39;00m \u001b[38;5;129;01mnot\u001b[39;00m np\u001b[38;5;241m.\u001b[39mallclose(\u001b[38;5;241m1\u001b[39m, \u001b[43my_score\u001b[49m\u001b[38;5;241;43m.\u001b[39;49m\u001b[43msum\u001b[49m\u001b[43m(\u001b[49m\u001b[43maxis\u001b[49m\u001b[38;5;241;43m=\u001b[39;49m\u001b[38;5;241;43m1\u001b[39;49m\u001b[43m)\u001b[49m):\n\u001b[0;32m    628\u001b[0m     \u001b[38;5;28;01mraise\u001b[39;00m \u001b[38;5;167;01mValueError\u001b[39;00m(\n\u001b[0;32m    629\u001b[0m         \u001b[38;5;124m\"\u001b[39m\u001b[38;5;124mTarget scores need to be probabilities for multiclass \u001b[39m\u001b[38;5;124m\"\u001b[39m\n\u001b[0;32m    630\u001b[0m         \u001b[38;5;124m\"\u001b[39m\u001b[38;5;124mroc_auc, i.e. they should sum up to 1.0 over classes\u001b[39m\u001b[38;5;124m\"\u001b[39m\n\u001b[0;32m    631\u001b[0m     )\n\u001b[0;32m    633\u001b[0m \u001b[38;5;66;03m# validation for multiclass parameter specifications\u001b[39;00m\n",
      "File \u001b[1;32m~\\anaconda3\\lib\\site-packages\\numpy\\core\\_methods.py:48\u001b[0m, in \u001b[0;36m_sum\u001b[1;34m(a, axis, dtype, out, keepdims, initial, where)\u001b[0m\n\u001b[0;32m     46\u001b[0m \u001b[38;5;28;01mdef\u001b[39;00m \u001b[38;5;21m_sum\u001b[39m(a, axis\u001b[38;5;241m=\u001b[39m\u001b[38;5;28;01mNone\u001b[39;00m, dtype\u001b[38;5;241m=\u001b[39m\u001b[38;5;28;01mNone\u001b[39;00m, out\u001b[38;5;241m=\u001b[39m\u001b[38;5;28;01mNone\u001b[39;00m, keepdims\u001b[38;5;241m=\u001b[39m\u001b[38;5;28;01mFalse\u001b[39;00m,\n\u001b[0;32m     47\u001b[0m          initial\u001b[38;5;241m=\u001b[39m_NoValue, where\u001b[38;5;241m=\u001b[39m\u001b[38;5;28;01mTrue\u001b[39;00m):\n\u001b[1;32m---> 48\u001b[0m     \u001b[38;5;28;01mreturn\u001b[39;00m \u001b[43mumr_sum\u001b[49m\u001b[43m(\u001b[49m\u001b[43ma\u001b[49m\u001b[43m,\u001b[49m\u001b[43m \u001b[49m\u001b[43maxis\u001b[49m\u001b[43m,\u001b[49m\u001b[43m \u001b[49m\u001b[43mdtype\u001b[49m\u001b[43m,\u001b[49m\u001b[43m \u001b[49m\u001b[43mout\u001b[49m\u001b[43m,\u001b[49m\u001b[43m \u001b[49m\u001b[43mkeepdims\u001b[49m\u001b[43m,\u001b[49m\u001b[43m \u001b[49m\u001b[43minitial\u001b[49m\u001b[43m,\u001b[49m\u001b[43m \u001b[49m\u001b[43mwhere\u001b[49m\u001b[43m)\u001b[49m\n",
      "\u001b[1;31mAxisError\u001b[0m: axis 1 is out of bounds for array of dimension 1"
     ]
    }
   ],
   "source": [
    "# Calculate AUC\n",
    "#metrics.roc_auc_score(y_test.values, pred_y_knn5, multi_class = 'ovo')\n"
   ]
  },
  {
   "cell_type": "code",
   "execution_count": 101,
   "id": "6fca4148",
   "metadata": {},
   "outputs": [
    {
     "name": "stdout",
     "output_type": "stream",
     "text": [
      "              precision    recall  f1-score   support\n",
      "\n",
      "           1       0.85      0.96      0.90      2544\n",
      "           2       0.91      0.94      0.93      3493\n",
      "           3       0.97      0.88      0.92      2333\n",
      "           4       0.96      0.87      0.92      2645\n",
      "           5       1.00      0.94      0.97       557\n",
      "\n",
      "    accuracy                           0.92     11572\n",
      "   macro avg       0.94      0.92      0.93     11572\n",
      "weighted avg       0.92      0.92      0.92     11572\n",
      "\n"
     ]
    }
   ],
   "source": [
    "# Print classification report\n",
    "print(metrics.classification_report(y_test, pred_y_knn5))"
   ]
  },
  {
   "cell_type": "code",
   "execution_count": 102,
   "id": "f7eb66ab",
   "metadata": {},
   "outputs": [
    {
     "name": "stdout",
     "output_type": "stream",
     "text": [
      "Accuracy is  89.13757345316282 % for k = 1\n",
      "Accuracy is  84.35015554787418 % for k = 2\n",
      "Accuracy is  90.65848600069131 % for k = 3\n",
      "Accuracy is  90.77082613204286 % for k = 4\n",
      "Accuracy is  91.95471828551676 % for k = 5\n",
      "Accuracy is  92.6546837193225 % for k = 6\n",
      "Accuracy is  93.40649844452126 % for k = 7\n",
      "Accuracy is  93.26823366747321 % for k = 8\n",
      "Accuracy is  93.76944348427239 % for k = 9\n",
      "Accuracy is  94.04597303836849 % for k = 10\n",
      "Accuracy is  94.27065330107155 % for k = 11\n",
      "Accuracy is  94.59903214656067 % for k = 12\n",
      "Accuracy is  94.74593847217422 % for k = 13\n",
      "Accuracy is  94.91876944348428 % for k = 14\n",
      "Accuracy is  95.08295886622882 % for k = 15\n",
      "Accuracy is  95.20394054614587 % for k = 16\n",
      "Accuracy is  95.18665744901486 % for k = 17\n",
      "Accuracy is  95.22122364327687 % for k = 18\n",
      "Accuracy is  95.42862080884895 % for k = 19\n",
      "Accuracy is  95.41133771171793 % for k = 20\n"
     ]
    }
   ],
   "source": [
    "for k in range(20):\n",
    "    k = k + 1\n",
    "    knn = neighbors.KNeighborsClassifier(n_neighbors = k, \n",
    "                                         weights='uniform', \n",
    "                                         algorithm='auto')\n",
    "    knn.fit(X_train, y_train)\n",
    "    pred_y = knn.predict(X_test)\n",
    "    print(\"Accuracy is \", metrics.accuracy_score(y_test, pred_y)*100,\"% for k =\",k)"
   ]
  },
  {
   "cell_type": "markdown",
   "id": "ad54ed47",
   "metadata": {},
   "source": [
    "## SVM"
   ]
  },
  {
   "cell_type": "code",
   "execution_count": 113,
   "id": "c08f5a51",
   "metadata": {},
   "outputs": [],
   "source": [
    "# Train an SVC with linear kernel\n",
    "from sklearn import *\n",
    "from sklearn import svm\n",
    "\n",
    "svc_linear = svm.SVC(kernel='linear', C=1.0)\n"
   ]
  },
  {
   "cell_type": "code",
   "execution_count": 105,
   "id": "b3a4cb0c",
   "metadata": {},
   "outputs": [
    {
     "data": {
      "text/plain": [
       "SVC(kernel='linear')"
      ]
     },
     "execution_count": 105,
     "metadata": {},
     "output_type": "execute_result"
    }
   ],
   "source": [
    "svc_linear.fit(X_train,y_train)\n"
   ]
  },
  {
   "cell_type": "code",
   "execution_count": 106,
   "id": "80f097a3",
   "metadata": {},
   "outputs": [],
   "source": [
    "# Predict on test set\n",
    "pred_y1 = svc_linear.predict(X_test)\n"
   ]
  },
  {
   "cell_type": "code",
   "execution_count": 107,
   "id": "47ae8996",
   "metadata": {},
   "outputs": [
    {
     "name": "stdout",
     "output_type": "stream",
     "text": [
      "[[2544    0    0    0    0]\n",
      " [   0 3493    0    0    0]\n",
      " [   0    0 2327    6    0]\n",
      " [   0    0    0 2644    1]\n",
      " [   0    0    0    0  557]]\n"
     ]
    }
   ],
   "source": [
    "\n",
    "cm_svm = metrics.confusion_matrix(y_test, pred_y1)\n",
    "# Print confusion matrix\n",
    "print(cm_svm)\n"
   ]
  },
  {
   "cell_type": "code",
   "execution_count": 108,
   "id": "fb9eb71c",
   "metadata": {},
   "outputs": [
    {
     "data": {
      "text/plain": [
       "0.9993950916004148"
      ]
     },
     "execution_count": 108,
     "metadata": {},
     "output_type": "execute_result"
    }
   ],
   "source": [
    "# Calculate classification accuracy\n",
    "metrics.accuracy_score(y_test, pred_y1)\n"
   ]
  },
  {
   "cell_type": "code",
   "execution_count": 109,
   "id": "95db2d7f",
   "metadata": {},
   "outputs": [
    {
     "name": "stdout",
     "output_type": "stream",
     "text": [
      "              precision    recall  f1-score   support\n",
      "\n",
      "           1       1.00      1.00      1.00      2544\n",
      "           2       1.00      1.00      1.00      3493\n",
      "           3       1.00      1.00      1.00      2333\n",
      "           4       1.00      1.00      1.00      2645\n",
      "           5       1.00      1.00      1.00       557\n",
      "\n",
      "    accuracy                           1.00     11572\n",
      "   macro avg       1.00      1.00      1.00     11572\n",
      "weighted avg       1.00      1.00      1.00     11572\n",
      "\n"
     ]
    }
   ],
   "source": [
    "# Print classification report\n",
    "print(metrics.classification_report(y_test, pred_y1))\n"
   ]
  },
  {
   "cell_type": "code",
   "execution_count": 110,
   "id": "74ff3c5d",
   "metadata": {},
   "outputs": [
    {
     "data": {
      "text/plain": [
       "{'kernel': ['linear', 'rbf', 'poly'],\n",
       " 'C': [0.001, 0.005, 0.01, 0.025, 0.05, 1, 5, 10, 100],\n",
       " 'gamma': [0.01, 0.02, 0.03, 0.04, 0.05, 0.1, 0.2, 0.3, 0.4, 0.5]}"
      ]
     },
     "execution_count": 110,
     "metadata": {},
     "output_type": "execute_result"
    }
   ],
   "source": [
    "parameters = {'kernel':['linear','rbf','poly'],\n",
    "              'C':[0.001,0.005,0.01,0.025,0.05,1,5,10,100],\n",
    "              'gamma':[0.01,0.02,0.03,0.04,0.05,0.10,0.2,0.3,0.4,0.5]}\n",
    "parameters\n"
   ]
  },
  {
   "cell_type": "code",
   "execution_count": 111,
   "id": "dd55d8d0",
   "metadata": {},
   "outputs": [],
   "source": [
    "svc = svm.SVC()\n"
   ]
  },
  {
   "cell_type": "code",
   "execution_count": 114,
   "id": "34687a95",
   "metadata": {},
   "outputs": [],
   "source": [
    "grid_svc = model_selection.GridSearchCV(svc, parameters, scoring='accuracy', cv=5) \n"
   ]
  },
  {
   "cell_type": "code",
   "execution_count": null,
   "id": "b1d50ac6",
   "metadata": {},
   "outputs": [],
   "source": [
    "grid_svc.fit(X_train,y_train)\n"
   ]
  },
  {
   "cell_type": "code",
   "execution_count": null,
   "id": "81d46fad",
   "metadata": {},
   "outputs": [],
   "source": [
    "grid_svc.best_params_ \n"
   ]
  },
  {
   "cell_type": "code",
   "execution_count": null,
   "id": "de39fe6f",
   "metadata": {},
   "outputs": [],
   "source": [
    "# Train a new SVC with best parameters\n",
    "svc_final = svm.SVC(kernel='poly', C=0.001, gamma=0.4)\n"
   ]
  },
  {
   "cell_type": "code",
   "execution_count": null,
   "id": "6984d11e",
   "metadata": {},
   "outputs": [],
   "source": [
    "svc_final.fit(X_train,y_train)\n"
   ]
  },
  {
   "cell_type": "code",
   "execution_count": null,
   "id": "e6b24ceb",
   "metadata": {},
   "outputs": [],
   "source": [
    "# Predict on test set\n",
    "pred_y2 = svc_final.predict(X_test)\n"
   ]
  },
  {
   "cell_type": "code",
   "execution_count": null,
   "id": "af881a65",
   "metadata": {},
   "outputs": [],
   "source": [
    "# Print confusion matrix\n",
    "print(metrics.confusion_matrix(y_test, pred_y2))\n"
   ]
  },
  {
   "cell_type": "code",
   "execution_count": null,
   "id": "f2a12346",
   "metadata": {},
   "outputs": [],
   "source": [
    "# Calculate classification accuracy\n",
    "metrics.accuracy_score(y_test, pred_y2)\n"
   ]
  },
  {
   "cell_type": "code",
   "execution_count": null,
   "id": "d0fc6cdf",
   "metadata": {},
   "outputs": [],
   "source": [
    "# Print classification report\n",
    "print(metrics.classification_report(y_test, pred_y2))\n"
   ]
  },
  {
   "cell_type": "code",
   "execution_count": null,
   "id": "3a74e165",
   "metadata": {},
   "outputs": [],
   "source": [
    "acc = [metrics.accuracy_score(y_test, pred_y1),\n",
    "       metrics.accuracy_score(y_test, pred_y2)]\n",
    "\n",
    "pre = [metrics.precision_score(y_test, pred_y1, average='weighted'),\n",
    "       metrics.precision_score(y_test, pred_y2, average='weighted')]\n",
    "\n",
    "rec = [metrics.recall_score(y_test, pred_y1, average='weighted'),\n",
    "       metrics.recall_score(y_test, pred_y2, average='weighted')]\n",
    "\n",
    "f1  = [metrics.f1_score(y_test, pred_y1, average='weighted'),\n",
    "       metrics.f1_score(y_test, pred_y2, average='weighted')]\n"
   ]
  },
  {
   "cell_type": "code",
   "execution_count": null,
   "id": "624112f2",
   "metadata": {},
   "outputs": [],
   "source": [
    "pd.DataFrame({'Accuracy':acc, 'Precision':pre, 'Recall':rec, 'F1 Score': f1},\n",
    "             index = ['SVM without Hyperparameter Tunning','SVM with Hyperparameter Tunning'])\n"
   ]
  }
 ],
 "metadata": {
  "kernelspec": {
   "display_name": "Python 3 (ipykernel)",
   "language": "python",
   "name": "python3"
  },
  "language_info": {
   "codemirror_mode": {
    "name": "ipython",
    "version": 3
   },
   "file_extension": ".py",
   "mimetype": "text/x-python",
   "name": "python",
   "nbconvert_exporter": "python",
   "pygments_lexer": "ipython3",
   "version": "3.9.12"
  },
  "papermill": {
   "default_parameters": {},
   "duration": 261.733263,
   "end_time": "2022-10-26T16:59:51.262750",
   "environment_variables": {},
   "exception": null,
   "input_path": "__notebook__.ipynb",
   "output_path": "__notebook__.ipynb",
   "parameters": {},
   "start_time": "2022-10-26T16:55:29.529487",
   "version": "2.3.4"
  }
 },
 "nbformat": 4,
 "nbformat_minor": 5
}
