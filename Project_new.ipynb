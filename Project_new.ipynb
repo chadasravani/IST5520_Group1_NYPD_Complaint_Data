{
 "cells": [
  {
   "cell_type": "code",
   "execution_count": 6,
   "id": "4c6549a1",
   "metadata": {},
   "outputs": [],
   "source": [
    "import pandas as pd\n",
    "import numpy as np\n",
    "from sklearn.decomposition import PCA\n",
    "import matplotlib.pyplot as plt\n",
    "from sklearn.preprocessing import scale\n",
    "import seaborn as sns\n",
    "from sklearn import preprocessing\n",
    "import scipy as sp"
   ]
  },
  {
   "cell_type": "code",
   "execution_count": 7,
   "id": "1048fe41",
   "metadata": {
    "execution": {
     "iopub.execute_input": "2022-10-26T16:55:38.231032Z",
     "iopub.status.busy": "2022-10-26T16:55:38.230013Z",
     "iopub.status.idle": "2022-10-26T16:57:15.295821Z",
     "shell.execute_reply": "2022-10-26T16:57:15.294772Z"
    },
    "papermill": {
     "duration": 97.077522,
     "end_time": "2022-10-26T16:57:15.298804",
     "exception": false,
     "start_time": "2022-10-26T16:55:38.221282",
     "status": "completed"
    },
    "tags": []
   },
   "outputs": [
    {
     "data": {
      "text/html": [
       "<div>\n",
       "<style scoped>\n",
       "    .dataframe tbody tr th:only-of-type {\n",
       "        vertical-align: middle;\n",
       "    }\n",
       "\n",
       "    .dataframe tbody tr th {\n",
       "        vertical-align: top;\n",
       "    }\n",
       "\n",
       "    .dataframe thead th {\n",
       "        text-align: right;\n",
       "    }\n",
       "</style>\n",
       "<table border=\"1\" class=\"dataframe\">\n",
       "  <thead>\n",
       "    <tr style=\"text-align: right;\">\n",
       "      <th></th>\n",
       "      <th>CMPLNT_NUM</th>\n",
       "      <th>ADDR_PCT_CD</th>\n",
       "      <th>BORO_NM</th>\n",
       "      <th>CMPLNT_FR_DT</th>\n",
       "      <th>CMPLNT_FR_TM</th>\n",
       "      <th>CMPLNT_TO_DT</th>\n",
       "      <th>CMPLNT_TO_TM</th>\n",
       "      <th>CRM_ATPT_CPTD_CD</th>\n",
       "      <th>HADEVELOPT</th>\n",
       "      <th>HOUSING_PSA</th>\n",
       "      <th>...</th>\n",
       "      <th>TRANSIT_DISTRICT</th>\n",
       "      <th>VIC_AGE_GROUP</th>\n",
       "      <th>VIC_RACE</th>\n",
       "      <th>VIC_SEX</th>\n",
       "      <th>X_COORD_CD</th>\n",
       "      <th>Y_COORD_CD</th>\n",
       "      <th>Latitude</th>\n",
       "      <th>Longitude</th>\n",
       "      <th>Lat_Lon</th>\n",
       "      <th>New Georeferenced Column</th>\n",
       "    </tr>\n",
       "  </thead>\n",
       "  <tbody>\n",
       "    <tr>\n",
       "      <th>0</th>\n",
       "      <td>244685801</td>\n",
       "      <td>69</td>\n",
       "      <td>BROOKLYN</td>\n",
       "      <td>01/01/2015</td>\n",
       "      <td>00:00:00</td>\n",
       "      <td>NaN</td>\n",
       "      <td>(null)</td>\n",
       "      <td>COMPLETED</td>\n",
       "      <td>(null)</td>\n",
       "      <td>NaN</td>\n",
       "      <td>...</td>\n",
       "      <td>NaN</td>\n",
       "      <td>&lt;18</td>\n",
       "      <td>BLACK</td>\n",
       "      <td>F</td>\n",
       "      <td>1010541</td>\n",
       "      <td>175595</td>\n",
       "      <td>40.648614</td>\n",
       "      <td>-73.905257</td>\n",
       "      <td>(40.6486135510607, -73.9052572032302)</td>\n",
       "      <td>POINT (-73.9052572032302 40.6486135510607)</td>\n",
       "    </tr>\n",
       "    <tr>\n",
       "      <th>1</th>\n",
       "      <td>242250195</td>\n",
       "      <td>42</td>\n",
       "      <td>BRONX</td>\n",
       "      <td>03/17/2022</td>\n",
       "      <td>15:23:00</td>\n",
       "      <td>03/17/2022</td>\n",
       "      <td>15:28:00</td>\n",
       "      <td>ATTEMPTED</td>\n",
       "      <td>(null)</td>\n",
       "      <td>NaN</td>\n",
       "      <td>...</td>\n",
       "      <td>NaN</td>\n",
       "      <td>UNKNOWN</td>\n",
       "      <td>UNKNOWN</td>\n",
       "      <td>D</td>\n",
       "      <td>1010419</td>\n",
       "      <td>242374</td>\n",
       "      <td>40.831899</td>\n",
       "      <td>-73.905435</td>\n",
       "      <td>(40.831899, -73.905435)</td>\n",
       "      <td>POINT (-73.905435 40.831899)</td>\n",
       "    </tr>\n",
       "    <tr>\n",
       "      <th>2</th>\n",
       "      <td>242385774</td>\n",
       "      <td>123</td>\n",
       "      <td>STATEN ISLAND</td>\n",
       "      <td>03/20/2022</td>\n",
       "      <td>11:52:00</td>\n",
       "      <td>NaN</td>\n",
       "      <td>(null)</td>\n",
       "      <td>COMPLETED</td>\n",
       "      <td>(null)</td>\n",
       "      <td>NaN</td>\n",
       "      <td>...</td>\n",
       "      <td>NaN</td>\n",
       "      <td>45-64</td>\n",
       "      <td>WHITE</td>\n",
       "      <td>F</td>\n",
       "      <td>926029</td>\n",
       "      <td>138052</td>\n",
       "      <td>40.545405</td>\n",
       "      <td>-74.209485</td>\n",
       "      <td>(40.545405, -74.209485)</td>\n",
       "      <td>POINT (-74.209485 40.545405)</td>\n",
       "    </tr>\n",
       "    <tr>\n",
       "      <th>3</th>\n",
       "      <td>242643555</td>\n",
       "      <td>121</td>\n",
       "      <td>STATEN ISLAND</td>\n",
       "      <td>03/24/2022</td>\n",
       "      <td>15:00:00</td>\n",
       "      <td>03/24/2022</td>\n",
       "      <td>22:00:00</td>\n",
       "      <td>COMPLETED</td>\n",
       "      <td>(null)</td>\n",
       "      <td>NaN</td>\n",
       "      <td>...</td>\n",
       "      <td>NaN</td>\n",
       "      <td>18-24</td>\n",
       "      <td>BLACK</td>\n",
       "      <td>F</td>\n",
       "      <td>942822</td>\n",
       "      <td>166353</td>\n",
       "      <td>40.623188</td>\n",
       "      <td>-74.149238</td>\n",
       "      <td>(40.6231883776008, -74.1492376947323)</td>\n",
       "      <td>POINT (-74.1492376947323 40.6231883776008)</td>\n",
       "    </tr>\n",
       "    <tr>\n",
       "      <th>4</th>\n",
       "      <td>242816732</td>\n",
       "      <td>42</td>\n",
       "      <td>BRONX</td>\n",
       "      <td>03/29/2022</td>\n",
       "      <td>15:24:00</td>\n",
       "      <td>03/29/2022</td>\n",
       "      <td>15:30:00</td>\n",
       "      <td>COMPLETED</td>\n",
       "      <td>(null)</td>\n",
       "      <td>NaN</td>\n",
       "      <td>...</td>\n",
       "      <td>NaN</td>\n",
       "      <td>45-64</td>\n",
       "      <td>BLACK</td>\n",
       "      <td>M</td>\n",
       "      <td>1010131</td>\n",
       "      <td>240105</td>\n",
       "      <td>40.825670</td>\n",
       "      <td>-73.906484</td>\n",
       "      <td>(40.82567, -73.906484)</td>\n",
       "      <td>POINT (-73.906484 40.82567)</td>\n",
       "    </tr>\n",
       "  </tbody>\n",
       "</table>\n",
       "<p>5 rows × 36 columns</p>\n",
       "</div>"
      ],
      "text/plain": [
       "  CMPLNT_NUM  ADDR_PCT_CD        BORO_NM CMPLNT_FR_DT CMPLNT_FR_TM  \\\n",
       "0  244685801           69       BROOKLYN   01/01/2015     00:00:00   \n",
       "1  242250195           42          BRONX   03/17/2022     15:23:00   \n",
       "2  242385774          123  STATEN ISLAND   03/20/2022     11:52:00   \n",
       "3  242643555          121  STATEN ISLAND   03/24/2022     15:00:00   \n",
       "4  242816732           42          BRONX   03/29/2022     15:24:00   \n",
       "\n",
       "  CMPLNT_TO_DT CMPLNT_TO_TM CRM_ATPT_CPTD_CD HADEVELOPT  HOUSING_PSA  ...  \\\n",
       "0          NaN       (null)        COMPLETED     (null)          NaN  ...   \n",
       "1   03/17/2022     15:28:00        ATTEMPTED     (null)          NaN  ...   \n",
       "2          NaN       (null)        COMPLETED     (null)          NaN  ...   \n",
       "3   03/24/2022     22:00:00        COMPLETED     (null)          NaN  ...   \n",
       "4   03/29/2022     15:30:00        COMPLETED     (null)          NaN  ...   \n",
       "\n",
       "   TRANSIT_DISTRICT VIC_AGE_GROUP  VIC_RACE VIC_SEX X_COORD_CD Y_COORD_CD  \\\n",
       "0               NaN           <18     BLACK       F    1010541     175595   \n",
       "1               NaN       UNKNOWN   UNKNOWN       D    1010419     242374   \n",
       "2               NaN         45-64     WHITE       F     926029     138052   \n",
       "3               NaN         18-24     BLACK       F     942822     166353   \n",
       "4               NaN         45-64     BLACK       M    1010131     240105   \n",
       "\n",
       "    Latitude  Longitude                                Lat_Lon  \\\n",
       "0  40.648614 -73.905257  (40.6486135510607, -73.9052572032302)   \n",
       "1  40.831899 -73.905435                (40.831899, -73.905435)   \n",
       "2  40.545405 -74.209485                (40.545405, -74.209485)   \n",
       "3  40.623188 -74.149238  (40.6231883776008, -74.1492376947323)   \n",
       "4  40.825670 -73.906484                 (40.82567, -73.906484)   \n",
       "\n",
       "                     New Georeferenced Column  \n",
       "0  POINT (-73.9052572032302 40.6486135510607)  \n",
       "1                POINT (-73.905435 40.831899)  \n",
       "2                POINT (-74.209485 40.545405)  \n",
       "3  POINT (-74.1492376947323 40.6231883776008)  \n",
       "4                 POINT (-73.906484 40.82567)  \n",
       "\n",
       "[5 rows x 36 columns]"
      ]
     },
     "execution_count": 7,
     "metadata": {},
     "output_type": "execute_result"
    }
   ],
   "source": [
    "#Import Dataset\n",
    "df = pd.read_csv('NYPD_Complaint_Data_Current__Year_To_Date.csv')\n",
    "df.head()"
   ]
  },
  {
   "cell_type": "markdown",
   "id": "f7d33460",
   "metadata": {
    "papermill": {
     "duration": 0.010596,
     "end_time": "2022-10-26T16:57:15.316929",
     "exception": false,
     "start_time": "2022-10-26T16:57:15.306333",
     "status": "completed"
    },
    "tags": []
   },
   "source": [
    "## Variables Dictionary :\n",
    "### Expand the cell below to view the variables dictionary."
   ]
  },
  {
   "cell_type": "markdown",
   "id": "7d89c2bc",
   "metadata": {
    "_kg_hide-output": true,
    "papermill": {
     "duration": 0.006662,
     "end_time": "2022-10-26T16:57:15.330768",
     "exception": false,
     "start_time": "2022-10-26T16:57:15.324106",
     "status": "completed"
    },
    "tags": []
   },
   "source": [
    "> **CMPLNT_NUM** - Randomly generated persistent ID for each complaint\n",
    "> \n",
    "> **ADDR_PCT_CD** - The precinct in which the incident occurred\n",
    "> \n",
    "> **BORO** - The name of the borough in which the incident occurred\n",
    "> \n",
    "> **CMPLNT_FR_DT** - Exact date of occurrence for the reported event (or starting date of occurrence, if CMPLNT_TO_DT exists)\n",
    "> \n",
    "> **CMPLNT_FR_TM** - Exact time of occurrence for the reported event (or starting time of occurrence, if CMPLNT_TO_TM exists)\n",
    "> \n",
    "> **CMPLNT_TO_DT** - Ending date of occurrence for the reported event, if exact time of occurrence is unknown\n",
    "> \n",
    "> **CMPLNT_TO_TM** - Ending time of occurrence for the reported event, if exact time of occurrence is unknown\n",
    "> \n",
    "> **CRM_ATPT_CPTD_CD** - Indicator of whether crime was successfully completed or attempted, but failed or was interrupted prematurely\n",
    "> \n",
    "> **HADEVELOPT** - Name of NYCHA housing development of occurrence, if applicable\n",
    "> \n",
    "> **HOUSING_PSA** - Development Level Code\n",
    "> \n",
    "> **JURISDICTION_CODE** - Jurisdiction responsible for incident. Either internal, like Police(0), Transit(1), and Housing(2); or external(3), like Correction, Port Authority, etc.\n",
    "> \n",
    "> **JURIS_DESC** - Description of the jurisdiction code\n",
    "> \n",
    "> **KY_CD** - Three digit offense classification code\n",
    "> \n",
    "> **LAW_CAT_CD** - Level of offense: felony, misdemeanor, violation\n",
    "> \n",
    "> **LOC_OF_OCCUR_DESC** - Specific location of occurrence in or around the premises; inside, opposite of, front of, rear of\n",
    "> \n",
    "> **OFNS_DESC** - Description of offense corresponding with key code\n",
    "> \n",
    "> **PARKS_NM** - Name of NYC park, playground or greenspace of occurrence, if applicable (state parks are not included)\n",
    "> \n",
    "> **PATROL_BORO** - The name of the patrol borough in which the incident occurred\n",
    "> \n",
    "> **PD_CD** - Three digit internal classification code (more granular than Key Code)\n",
    "> \n",
    "> **PD_DESC** - Description of internal classification corresponding with PD code (more granular than Offense Description)\n",
    "> \n",
    "> **PREM_TYP_DESC** - Specific description of premises; grocery store, residence, street, etc.\n",
    "> \n",
    "> **RPT_DT** - Date event was reported to police\n",
    "> \n",
    "> **STATION_NAME** - Transit station name\n",
    "> \n",
    "> **SUSP_AGE_GROUP** - Suspect’s Age Group\n",
    "> \n",
    "> **SUSP_RACE** - Suspect’s Race Description\n",
    "> \n",
    "> **SUSP_SEX** - Suspect’s Sex Description\n",
    "> \n",
    "> **TRANSIT_DISTRICT** - Transit district in which the offense occurred.\n",
    "> \n",
    "> **VIC_AGE_GROUP** - Victim’s Age Group\n",
    "> \n",
    "> **VIC_RACE** - Victim’s Race Description\n",
    "> \n",
    "> **VIC_SEX** - Victim’s Sex Description (D=Business/Organization, E=PSNY/People of the State of New York, F=Female, M=Male)\n",
    "> \n",
    "> **X_COORD_CD** - X-coordinate for New York State Plane Coordinate System, Long Island Zone, NAD 83, units feet (FIPS 3104)\n",
    "> \n",
    "> **Y_COORD_CD** - Y-coordinate for New York State Plane Coordinate System, Long Island Zone, NAD 83, units feet (FIPS 3104)\n",
    "> \n",
    "> **Latitude** - Midblock Latitude coordinate for Global Coordinate System, WGS 1984, decimal degrees (EPSG 4326)\n",
    "> \n",
    "> **Longitude** - Midblock Longitude coordinate for Global Coordinate System, WGS 1984, decimal degrees (EPSG 4326)"
   ]
  },
  {
   "cell_type": "code",
   "execution_count": 8,
   "id": "d2ac93a6",
   "metadata": {
    "execution": {
     "iopub.execute_input": "2022-10-26T16:57:15.348436Z",
     "iopub.status.busy": "2022-10-26T16:57:15.347462Z",
     "iopub.status.idle": "2022-10-26T16:57:15.353318Z",
     "shell.execute_reply": "2022-10-26T16:57:15.352238Z"
    },
    "papermill": {
     "duration": 0.01734,
     "end_time": "2022-10-26T16:57:15.355916",
     "exception": false,
     "start_time": "2022-10-26T16:57:15.338576",
     "status": "completed"
    },
    "tags": []
   },
   "outputs": [
    {
     "name": "stdout",
     "output_type": "stream",
     "text": [
      "Observations:  256797\n",
      "Variables:  36\n"
     ]
    }
   ],
   "source": [
    "print(\"Observations: \", df.shape[0])\n",
    "\n",
    "print(\"Variables: \", df.shape[1])"
   ]
  },
  {
   "cell_type": "markdown",
   "id": "c8c15e50",
   "metadata": {
    "papermill": {
     "duration": 0.007065,
     "end_time": "2022-10-26T16:57:15.434602",
     "exception": false,
     "start_time": "2022-10-26T16:57:15.427537",
     "status": "completed"
    },
    "tags": []
   },
   "source": [
    "The dataset contains over 6 million crime reports, with a total of 35 variables each.\n",
    "\n",
    "After looking at the head of the dataset we were already able to notice some NaN values, therefore we need to examine the missing values further before continuing with the analysis. \n",
    "\n",
    "- The `isna()` function will show us the percentage of non-existent values for each variable."
   ]
  },
  {
   "cell_type": "code",
   "execution_count": 9,
   "id": "b89a4ec1",
   "metadata": {},
   "outputs": [],
   "source": [
    "df.replace('(null)',np.nan,inplace= True)\n"
   ]
  },
  {
   "cell_type": "code",
   "execution_count": 10,
   "id": "9e1e6b42",
   "metadata": {
    "execution": {
     "iopub.execute_input": "2022-10-26T16:57:15.451062Z",
     "iopub.status.busy": "2022-10-26T16:57:15.450664Z",
     "iopub.status.idle": "2022-10-26T16:57:23.497531Z",
     "shell.execute_reply": "2022-10-26T16:57:23.496380Z"
    },
    "papermill": {
     "duration": 8.058362,
     "end_time": "2022-10-26T16:57:23.500254",
     "exception": false,
     "start_time": "2022-10-26T16:57:15.441892",
     "status": "completed"
    },
    "tags": []
   },
   "outputs": [
    {
     "data": {
      "text/plain": [
       "HADEVELOPT                  99.682629\n",
       "PARKS_NM                    99.446645\n",
       "STATION_NAME                97.777233\n",
       "TRANSIT_DISTRICT            97.777233\n",
       "HOUSING_PSA                 93.385826\n",
       "SUSP_RACE                   19.779047\n",
       "SUSP_AGE_GROUP              19.779047\n",
       "SUSP_SEX                    19.779047\n",
       "LOC_OF_OCCUR_DESC           15.991620\n",
       "CMPLNT_TO_DT                 7.544481\n",
       "CMPLNT_TO_TM                 7.523063\n",
       "BORO_NM                      0.171731\n",
       "PD_DESC                      0.104752\n",
       "PD_CD                        0.104752\n",
       "PREM_TYP_DESC                0.041667\n",
       "VIC_RACE                     0.028038\n",
       "OFNS_DESC                    0.002336\n",
       "PATROL_BORO                  0.001558\n",
       "X_COORD_CD                   0.000000\n",
       "VIC_AGE_GROUP                0.000000\n",
       "Y_COORD_CD                   0.000000\n",
       "Latitude                     0.000000\n",
       "Longitude                    0.000000\n",
       "Lat_Lon                      0.000000\n",
       "VIC_SEX                      0.000000\n",
       "CMPLNT_NUM                   0.000000\n",
       "RPT_DT                       0.000000\n",
       "ADDR_PCT_CD                  0.000000\n",
       "LAW_CAT_CD                   0.000000\n",
       "KY_CD                        0.000000\n",
       "JURIS_DESC                   0.000000\n",
       "JURISDICTION_CODE            0.000000\n",
       "CRM_ATPT_CPTD_CD             0.000000\n",
       "CMPLNT_FR_TM                 0.000000\n",
       "CMPLNT_FR_DT                 0.000000\n",
       "New Georeferenced Column     0.000000\n",
       "dtype: float64"
      ]
     },
     "execution_count": 10,
     "metadata": {},
     "output_type": "execute_result"
    }
   ],
   "source": [
    "#See the percentege of missing values in each variable\n",
    "(df.isna().sum()/df.shape[0]*100).sort_values(ascending=False)"
   ]
  },
  {
   "cell_type": "code",
   "execution_count": 11,
   "id": "50052520",
   "metadata": {},
   "outputs": [],
   "source": [
    "df.fillna(np.nan,inplace = True)\n"
   ]
  },
  {
   "cell_type": "code",
   "execution_count": 12,
   "id": "fb1016cc",
   "metadata": {},
   "outputs": [],
   "source": [
    "df.drop_duplicates(inplace = True)\n"
   ]
  },
  {
   "cell_type": "markdown",
   "id": "8fca338d",
   "metadata": {
    "papermill": {
     "duration": 0.007384,
     "end_time": "2022-10-26T16:57:23.515407",
     "exception": false,
     "start_time": "2022-10-26T16:57:23.508023",
     "status": "completed"
    },
    "tags": []
   },
   "source": [
    "### Data Cleaning\n",
    "\n",
    "#### Dealing with NaN data\n",
    "\n",
    "Since some of the columns are pretty important for the analysis, I dropped entire rows which miss any crucial value. For that, I used the `dropNA()` function in Pandas.\n",
    "\n",
    "The columns I didn't want to drop entire rows, I opted to fill them with the 'UNKNOWN' value (These include variables that contain information about the victims of the crime, such as their age group, race, and gender). I used the `fillNA()` function for that.\n",
    "\n",
    "It is worth mention that some specific variables have a lot of NaN values, and they don't necessarily have any use in this analysis (like PARKS_NM means the park or public place nearby where crime happened, and columns with information about the suspect are also not going to be important, considering they have a lot of missing data) so I would drop those columns entirely with the `drop()` function."
   ]
  },
  {
   "cell_type": "code",
   "execution_count": 13,
   "id": "a0f56726",
   "metadata": {
    "execution": {
     "iopub.execute_input": "2022-10-26T16:57:23.533279Z",
     "iopub.status.busy": "2022-10-26T16:57:23.532085Z",
     "iopub.status.idle": "2022-10-26T16:57:27.115552Z",
     "shell.execute_reply": "2022-10-26T16:57:27.114467Z"
    },
    "papermill": {
     "duration": 3.595499,
     "end_time": "2022-10-26T16:57:27.118498",
     "exception": false,
     "start_time": "2022-10-26T16:57:23.522999",
     "status": "completed"
    },
    "tags": []
   },
   "outputs": [],
   "source": [
    "df[\"SUSP_RACE\"] = df[\"SUSP_RACE\"].astype(\"category\")\n",
    "df[\"SUSP_RACE\"] = df[\"SUSP_RACE\"].cat.remove_categories(\"UNKNOWN\")"
   ]
  },
  {
   "cell_type": "code",
   "execution_count": 14,
   "id": "f29df8fa",
   "metadata": {
    "execution": {
     "iopub.execute_input": "2022-10-26T16:57:27.136980Z",
     "iopub.status.busy": "2022-10-26T16:57:27.136016Z",
     "iopub.status.idle": "2022-10-26T16:57:27.445940Z",
     "shell.execute_reply": "2022-10-26T16:57:27.444745Z"
    },
    "papermill": {
     "duration": 0.321967,
     "end_time": "2022-10-26T16:57:27.448543",
     "exception": false,
     "start_time": "2022-10-26T16:57:27.126576",
     "status": "completed"
    },
    "scrolled": false,
    "tags": []
   },
   "outputs": [
    {
     "data": {
      "text/plain": [
       "<AxesSubplot:ylabel='SUSP_RACE'>"
      ]
     },
     "execution_count": 14,
     "metadata": {},
     "output_type": "execute_result"
    },
    {
     "data": {
      "image/png": "[encoded data removed]",
      "text/plain": [
       "<Figure size 720x1080 with 1 Axes>"
      ]
     },
     "metadata": {},
     "output_type": "display_data"
    }
   ],
   "source": [
    "df['SUSP_RACE'].value_counts().plot(kind='pie',figsize=(10,15))"
   ]
  },
  {
   "cell_type": "code",
   "execution_count": 15,
   "id": "6d7e67b2",
   "metadata": {
    "execution": {
     "iopub.execute_input": "2022-10-26T16:57:27.467545Z",
     "iopub.status.busy": "2022-10-26T16:57:27.467106Z",
     "iopub.status.idle": "2022-10-26T16:57:28.167427Z",
     "shell.execute_reply": "2022-10-26T16:57:28.166235Z"
    },
    "papermill": {
     "duration": 0.713,
     "end_time": "2022-10-26T16:57:28.170071",
     "exception": false,
     "start_time": "2022-10-26T16:57:27.457071",
     "status": "completed"
    },
    "tags": []
   },
   "outputs": [
    {
     "data": {
      "text/plain": [
       "<AxesSubplot:>"
      ]
     },
     "execution_count": 15,
     "metadata": {},
     "output_type": "execute_result"
    },
    {
     "data": {
      "image/png": "[encoded data removed]",
      "text/plain": [
       "<Figure size 432x288 with 1 Axes>"
      ]
     },
     "metadata": {
      "needs_background": "light"
     },
     "output_type": "display_data"
    }
   ],
   "source": [
    "df['VIC_RACE'].value_counts().plot(kind='bar')"
   ]
  },
  {
   "cell_type": "code",
   "execution_count": 16,
   "id": "b3a064d5",
   "metadata": {
    "execution": {
     "iopub.execute_input": "2022-10-26T16:57:28.191541Z",
     "iopub.status.busy": "2022-10-26T16:57:28.189500Z",
     "iopub.status.idle": "2022-10-26T16:57:44.215505Z",
     "shell.execute_reply": "2022-10-26T16:57:44.213697Z"
    },
    "papermill": {
     "duration": 16.039089,
     "end_time": "2022-10-26T16:57:44.218359",
     "exception": false,
     "start_time": "2022-10-26T16:57:28.179270",
     "status": "completed"
    },
    "tags": []
   },
   "outputs": [
    {
     "name": "stdout",
     "output_type": "stream",
     "text": [
      "Clean dataset: \n",
      "Observations:  256797\n",
      "Variables:  20\n"
     ]
    },
    {
     "data": {
      "text/html": [
       "<div>\n",
       "<style scoped>\n",
       "    .dataframe tbody tr th:only-of-type {\n",
       "        vertical-align: middle;\n",
       "    }\n",
       "\n",
       "    .dataframe tbody tr th {\n",
       "        vertical-align: top;\n",
       "    }\n",
       "\n",
       "    .dataframe thead th {\n",
       "        text-align: right;\n",
       "    }\n",
       "</style>\n",
       "<table border=\"1\" class=\"dataframe\">\n",
       "  <thead>\n",
       "    <tr style=\"text-align: right;\">\n",
       "      <th></th>\n",
       "      <th>BORO_NM</th>\n",
       "      <th>CMPLNT_FR_DT</th>\n",
       "      <th>CMPLNT_FR_TM</th>\n",
       "      <th>CMPLNT_TO_DT</th>\n",
       "      <th>CMPLNT_TO_TM</th>\n",
       "      <th>CRM_ATPT_CPTD_CD</th>\n",
       "      <th>KY_CD</th>\n",
       "      <th>LAW_CAT_CD</th>\n",
       "      <th>LOC_OF_OCCUR_DESC</th>\n",
       "      <th>OFNS_DESC</th>\n",
       "      <th>PATROL_BORO</th>\n",
       "      <th>RPT_DT</th>\n",
       "      <th>SUSP_AGE_GROUP</th>\n",
       "      <th>SUSP_RACE</th>\n",
       "      <th>SUSP_SEX</th>\n",
       "      <th>VIC_AGE_GROUP</th>\n",
       "      <th>VIC_RACE</th>\n",
       "      <th>VIC_SEX</th>\n",
       "      <th>Latitude</th>\n",
       "      <th>Longitude</th>\n",
       "    </tr>\n",
       "  </thead>\n",
       "  <tbody>\n",
       "    <tr>\n",
       "      <th>0</th>\n",
       "      <td>BROOKLYN</td>\n",
       "      <td>01/01/2015</td>\n",
       "      <td>00:00:00</td>\n",
       "      <td>NaN</td>\n",
       "      <td>NaN</td>\n",
       "      <td>COMPLETED</td>\n",
       "      <td>104</td>\n",
       "      <td>FELONY</td>\n",
       "      <td>INSIDE</td>\n",
       "      <td>RAPE</td>\n",
       "      <td>PATROL BORO BKLYN SOUTH</td>\n",
       "      <td>05/04/2022</td>\n",
       "      <td>18-24</td>\n",
       "      <td>NaN</td>\n",
       "      <td>M</td>\n",
       "      <td>&lt;18</td>\n",
       "      <td>BLACK</td>\n",
       "      <td>F</td>\n",
       "      <td>40.648614</td>\n",
       "      <td>-73.905257</td>\n",
       "    </tr>\n",
       "    <tr>\n",
       "      <th>1</th>\n",
       "      <td>BRONX</td>\n",
       "      <td>03/17/2022</td>\n",
       "      <td>15:23:00</td>\n",
       "      <td>03/17/2022</td>\n",
       "      <td>15:28:00</td>\n",
       "      <td>ATTEMPTED</td>\n",
       "      <td>105</td>\n",
       "      <td>FELONY</td>\n",
       "      <td>INSIDE</td>\n",
       "      <td>ROBBERY</td>\n",
       "      <td>PATROL BORO BRONX</td>\n",
       "      <td>03/17/2022</td>\n",
       "      <td>UNKNOWN</td>\n",
       "      <td>BLACK</td>\n",
       "      <td>M</td>\n",
       "      <td>UNKNOWN</td>\n",
       "      <td>UNKNOWN</td>\n",
       "      <td>D</td>\n",
       "      <td>40.831899</td>\n",
       "      <td>-73.905435</td>\n",
       "    </tr>\n",
       "    <tr>\n",
       "      <th>2</th>\n",
       "      <td>STATEN ISLAND</td>\n",
       "      <td>03/20/2022</td>\n",
       "      <td>11:52:00</td>\n",
       "      <td>NaN</td>\n",
       "      <td>NaN</td>\n",
       "      <td>COMPLETED</td>\n",
       "      <td>578</td>\n",
       "      <td>VIOLATION</td>\n",
       "      <td>FRONT OF</td>\n",
       "      <td>HARRASSMENT 2</td>\n",
       "      <td>PATROL BORO STATEN ISLAND</td>\n",
       "      <td>03/20/2022</td>\n",
       "      <td>25-44</td>\n",
       "      <td>BLACK</td>\n",
       "      <td>F</td>\n",
       "      <td>45-64</td>\n",
       "      <td>WHITE</td>\n",
       "      <td>F</td>\n",
       "      <td>40.545405</td>\n",
       "      <td>-74.209485</td>\n",
       "    </tr>\n",
       "    <tr>\n",
       "      <th>3</th>\n",
       "      <td>STATEN ISLAND</td>\n",
       "      <td>03/24/2022</td>\n",
       "      <td>15:00:00</td>\n",
       "      <td>03/24/2022</td>\n",
       "      <td>22:00:00</td>\n",
       "      <td>COMPLETED</td>\n",
       "      <td>104</td>\n",
       "      <td>FELONY</td>\n",
       "      <td>INSIDE</td>\n",
       "      <td>RAPE</td>\n",
       "      <td>PATROL BORO STATEN ISLAND</td>\n",
       "      <td>03/25/2022</td>\n",
       "      <td>25-44</td>\n",
       "      <td>BLACK</td>\n",
       "      <td>M</td>\n",
       "      <td>18-24</td>\n",
       "      <td>BLACK</td>\n",
       "      <td>F</td>\n",
       "      <td>40.623188</td>\n",
       "      <td>-74.149238</td>\n",
       "    </tr>\n",
       "    <tr>\n",
       "      <th>4</th>\n",
       "      <td>BRONX</td>\n",
       "      <td>03/29/2022</td>\n",
       "      <td>15:24:00</td>\n",
       "      <td>03/29/2022</td>\n",
       "      <td>15:30:00</td>\n",
       "      <td>COMPLETED</td>\n",
       "      <td>105</td>\n",
       "      <td>FELONY</td>\n",
       "      <td>INSIDE</td>\n",
       "      <td>ROBBERY</td>\n",
       "      <td>PATROL BORO BRONX</td>\n",
       "      <td>03/29/2022</td>\n",
       "      <td>UNKNOWN</td>\n",
       "      <td>BLACK</td>\n",
       "      <td>M</td>\n",
       "      <td>45-64</td>\n",
       "      <td>BLACK</td>\n",
       "      <td>M</td>\n",
       "      <td>40.825670</td>\n",
       "      <td>-73.906484</td>\n",
       "    </tr>\n",
       "  </tbody>\n",
       "</table>\n",
       "</div>"
      ],
      "text/plain": [
       "         BORO_NM CMPLNT_FR_DT CMPLNT_FR_TM CMPLNT_TO_DT CMPLNT_TO_TM  \\\n",
       "0       BROOKLYN   01/01/2015     00:00:00          NaN          NaN   \n",
       "1          BRONX   03/17/2022     15:23:00   03/17/2022     15:28:00   \n",
       "2  STATEN ISLAND   03/20/2022     11:52:00          NaN          NaN   \n",
       "3  STATEN ISLAND   03/24/2022     15:00:00   03/24/2022     22:00:00   \n",
       "4          BRONX   03/29/2022     15:24:00   03/29/2022     15:30:00   \n",
       "\n",
       "  CRM_ATPT_CPTD_CD  KY_CD LAW_CAT_CD LOC_OF_OCCUR_DESC      OFNS_DESC  \\\n",
       "0        COMPLETED    104     FELONY            INSIDE           RAPE   \n",
       "1        ATTEMPTED    105     FELONY            INSIDE        ROBBERY   \n",
       "2        COMPLETED    578  VIOLATION          FRONT OF  HARRASSMENT 2   \n",
       "3        COMPLETED    104     FELONY            INSIDE           RAPE   \n",
       "4        COMPLETED    105     FELONY            INSIDE        ROBBERY   \n",
       "\n",
       "                 PATROL_BORO      RPT_DT SUSP_AGE_GROUP SUSP_RACE SUSP_SEX  \\\n",
       "0    PATROL BORO BKLYN SOUTH  05/04/2022          18-24       NaN        M   \n",
       "1          PATROL BORO BRONX  03/17/2022        UNKNOWN     BLACK        M   \n",
       "2  PATROL BORO STATEN ISLAND  03/20/2022          25-44     BLACK        F   \n",
       "3  PATROL BORO STATEN ISLAND  03/25/2022          25-44     BLACK        M   \n",
       "4          PATROL BORO BRONX  03/29/2022        UNKNOWN     BLACK        M   \n",
       "\n",
       "  VIC_AGE_GROUP VIC_RACE VIC_SEX   Latitude  Longitude  \n",
       "0           <18    BLACK       F  40.648614 -73.905257  \n",
       "1       UNKNOWN  UNKNOWN       D  40.831899 -73.905435  \n",
       "2         45-64    WHITE       F  40.545405 -74.209485  \n",
       "3         18-24    BLACK       F  40.623188 -74.149238  \n",
       "4         45-64    BLACK       M  40.825670 -73.906484  "
      ]
     },
     "execution_count": 16,
     "metadata": {},
     "output_type": "execute_result"
    }
   ],
   "source": [
    "\n",
    "\n",
    "#dropping columns that are missing more than 90 percent of values\n",
    "df.drop(['PARKS_NM','STATION_NAME','TRANSIT_DISTRICT','HADEVELOPT','HOUSING_PSA'],axis='columns', inplace=True)\n",
    "df.drop(['CMPLNT_NUM','X_COORD_CD','Y_COORD_CD','Lat_Lon', 'New Georeferenced Column'],axis='columns', inplace=True)\n",
    "\n",
    "df.drop(['PREM_TYP_DESC', 'JURISDICTION_CODE'], axis='columns', inplace=True)\n",
    "\n",
    "df.drop(['ADDR_PCT_CD','PD_CD','PD_DESC','JURIS_DESC'], axis='columns', inplace=True)\n",
    "\n",
    "#replacing all NaN values in 'LOC_OF_OCCUR_DESC' with UNKNOWN\n",
    "#df.fillna({'LOC_OF_OCCUR_DESC':'UNKNOWN'}, inplace=True)\n",
    "\n",
    "#replacing all NaN values in 'VIC_RACE' with UNKNOWN\n",
    "#df.fillna({'VIC_RACE':'UNKNOWN'}, inplace=True)\n",
    "\n",
    "#replacing all NaN values in 'VIC_AGE_GROUP' with UNKNOWN\n",
    "#df.fillna({'VIC_AGE_GROUP':'UNKNOWN'}, inplace=True)\n",
    "\n",
    "#replacing all NaN values in 'VIC_SEX' with UNKNOWN\n",
    "#df.fillna({'VIC_SEX':'UNKNOWN'}, inplace=True)\n",
    "\n",
    "print('Clean dataset: ')\n",
    "print(\"Observations: \", df.shape[0])\n",
    "print(\"Variables: \", df.shape[1])\n",
    "\n",
    "#examing the changes\n",
    "df.head(5)"
   ]
  },
  {
   "cell_type": "code",
   "execution_count": 17,
   "id": "197c5091",
   "metadata": {},
   "outputs": [
    {
     "data": {
      "text/plain": [
       "UNKNOWN    96968\n",
       "25-44      63650\n",
       "45-64      21985\n",
       "18-24      16092\n",
       "<18         4914\n",
       "65+         2378\n",
       "2022          11\n",
       "-74            1\n",
       "-969           1\n",
       "-1             1\n",
       "-5962          1\n",
       "-961           1\n",
       "-10            1\n",
       "-941           1\n",
       "Name: SUSP_AGE_GROUP, dtype: int64"
      ]
     },
     "execution_count": 17,
     "metadata": {},
     "output_type": "execute_result"
    }
   ],
   "source": [
    "#df['SUSP_AGE_GROUP'].replace('UNKNOWN','25-44',inplace=True)\n",
    "df['SUSP_AGE_GROUP'].value_counts()\n"
   ]
  },
  {
   "cell_type": "code",
   "execution_count": 18,
   "id": "360850a3",
   "metadata": {
    "scrolled": true
   },
   "outputs": [
    {
     "data": {
      "text/plain": [
       "(159811, 20)"
      ]
     },
     "execution_count": 18,
     "metadata": {},
     "output_type": "execute_result"
    }
   ],
   "source": [
    "df= df[~df['SUSP_AGE_GROUP'].isin(['2022', '-74','-969','-1','-5962','-961','-10','-941','UNKNOWN'])]\n",
    "df['SUSP_AGE_GROUP'].value_counts()\n",
    "df.shape\n"
   ]
  },
  {
   "cell_type": "code",
   "execution_count": 19,
   "id": "f0ca2492",
   "metadata": {},
   "outputs": [
    {
     "data": {
      "text/plain": [
       "BLACK                             51927\n",
       "WHITE HISPANIC                    25117\n",
       "WHITE                             13294\n",
       "BLACK HISPANIC                     7921\n",
       "ASIAN / PACIFIC ISLANDER           5757\n",
       "AMERICAN INDIAN/ALASKAN NATIVE      333\n",
       "Name: SUSP_RACE, dtype: int64"
      ]
     },
     "execution_count": 19,
     "metadata": {},
     "output_type": "execute_result"
    }
   ],
   "source": [
    "df['SUSP_RACE'].value_counts()\n"
   ]
  },
  {
   "cell_type": "code",
   "execution_count": 20,
   "id": "c7c1a747",
   "metadata": {},
   "outputs": [
    {
     "data": {
      "text/plain": [
       "25-44      56730\n",
       "UNKNOWN    46339\n",
       "45-64      28767\n",
       "18-24      13821\n",
       "65+         7329\n",
       "<18         6818\n",
       "-5             2\n",
       "-11            1\n",
       "-960           1\n",
       "-40            1\n",
       "-955           1\n",
       "-963           1\n",
       "Name: VIC_AGE_GROUP, dtype: int64"
      ]
     },
     "execution_count": 20,
     "metadata": {},
     "output_type": "execute_result"
    }
   ],
   "source": [
    "df['VIC_AGE_GROUP'].value_counts()\n"
   ]
  },
  {
   "cell_type": "code",
   "execution_count": 21,
   "id": "0f425524",
   "metadata": {},
   "outputs": [
    {
     "data": {
      "text/plain": [
       "(113465, 20)"
      ]
     },
     "execution_count": 21,
     "metadata": {},
     "output_type": "execute_result"
    }
   ],
   "source": [
    "df= df[~df['VIC_AGE_GROUP'].isin(['UNKNOWN','-65', '-5','-934','-40','-4','-964','-955','-959','-963','-11','-960','-970','-971'])]\n",
    "df['VIC_AGE_GROUP'].value_counts()\n",
    "df.shape"
   ]
  },
  {
   "cell_type": "code",
   "execution_count": 22,
   "id": "e312a6e7",
   "metadata": {},
   "outputs": [
    {
     "data": {
      "text/plain": [
       "BLACK                             41341\n",
       "WHITE HISPANIC                    28466\n",
       "WHITE                             21064\n",
       "ASIAN / PACIFIC ISLANDER          11476\n",
       "BLACK HISPANIC                     6513\n",
       "UNKNOWN                            4039\n",
       "AMERICAN INDIAN/ALASKAN NATIVE      494\n",
       "Name: VIC_RACE, dtype: int64"
      ]
     },
     "execution_count": 22,
     "metadata": {},
     "output_type": "execute_result"
    }
   ],
   "source": [
    "df['VIC_RACE'].value_counts()\n"
   ]
  },
  {
   "cell_type": "code",
   "execution_count": 23,
   "id": "fb3980e8",
   "metadata": {},
   "outputs": [
    {
     "data": {
      "text/plain": [
       "(109426, 20)"
      ]
     },
     "execution_count": 23,
     "metadata": {},
     "output_type": "execute_result"
    }
   ],
   "source": [
    "#df['VIC_RACE'].replace('UNKNOWN','BLACK',inplace=True)\n",
    "df= df[~df['VIC_RACE'].isin(['UNKNOWN'])]\n",
    "df['VIC_RACE'].value_counts()\n",
    "df.shape"
   ]
  },
  {
   "cell_type": "code",
   "execution_count": 24,
   "id": "3ed0b4f3",
   "metadata": {},
   "outputs": [
    {
     "data": {
      "text/plain": [
       "(57858, 20)"
      ]
     },
     "execution_count": 24,
     "metadata": {},
     "output_type": "execute_result"
    }
   ],
   "source": [
    "df.dropna(inplace=True)\n",
    "df.reset_index(drop= True, inplace=True)\n",
    "df.shape"
   ]
  },
  {
   "cell_type": "code",
   "execution_count": 25,
   "id": "2668d93f",
   "metadata": {},
   "outputs": [],
   "source": [
    "#Extracting the day from date given\n",
    "df['CMPLNT_FR_DT'] = pd.to_datetime(df['CMPLNT_FR_DT'],errors='coerce',format = \"%m/%d/%Y\" )\n",
    "df['CMPLNT_TO_DT'] = pd.to_datetime(df['CMPLNT_TO_DT'],errors='coerce',format = \"%m/%d/%Y\" )\n",
    "FR_DY = df['CMPLNT_FR_DT'].dt.day_name()\n",
    "TO_DY = df['CMPLNT_TO_DT'].dt.day_name()\n"
   ]
  },
  {
   "cell_type": "code",
   "execution_count": 26,
   "id": "b183ca07",
   "metadata": {},
   "outputs": [],
   "source": [
    "#concatinating th day column\n",
    "df = pd.concat([df,FR_DY],axis=1)\n",
    "df.columns = [*df.columns[:-1], 'CMPLNT_FR_DAY']"
   ]
  },
  {
   "cell_type": "code",
   "execution_count": 27,
   "id": "386f3996",
   "metadata": {},
   "outputs": [],
   "source": [
    "#concatinating the dat column\n",
    "df = pd.concat([df,TO_DY],axis=1)\n",
    "df.columns = [*df.columns[:-1], 'CMPLNT_TO_DAY']"
   ]
  },
  {
   "cell_type": "code",
   "execution_count": 28,
   "id": "89923809",
   "metadata": {},
   "outputs": [],
   "source": [
    "fr_hr = pd.to_datetime(df['CMPLNT_FR_TM'], format='%H:%M:%S').dt.hour \n",
    "to_hr = pd.to_datetime(df['CMPLNT_TO_TM'], format='%H:%M:%S').dt.hour\n"
   ]
  },
  {
   "cell_type": "code",
   "execution_count": 29,
   "id": "155746c5",
   "metadata": {},
   "outputs": [],
   "source": [
    "df = pd.concat([df,fr_hr],axis=1)\n",
    "df.columns = [*df.columns[:-1], 'CMPLNT_FR_PART']\n"
   ]
  },
  {
   "cell_type": "code",
   "execution_count": 30,
   "id": "80b60db9",
   "metadata": {},
   "outputs": [],
   "source": [
    "df = pd.concat([df,to_hr],axis=1)\n",
    "df.columns = [*df.columns[:-1], 'CMPLNT_TO_PART']\n"
   ]
  },
  {
   "cell_type": "code",
   "execution_count": 31,
   "id": "7c1c863e",
   "metadata": {},
   "outputs": [],
   "source": [
    "#Defining function to get part the hours\n",
    "def f(x=0):\n",
    "    if (x > 4) and (x <= 8):\n",
    "        return 'Early Morning'\n",
    "    elif (x > 8) and (x <= 12 ):\n",
    "        return 'Morning'\n",
    "    elif (x > 12) and (x <= 16):\n",
    "        return'Noon'\n",
    "    elif (x > 16) and (x <= 20) :\n",
    "        return 'Evening'\n",
    "    elif (x > 20) and (x <= 24):\n",
    "        return'Night'\n",
    "    elif (x <= 4):\n",
    "        return'Late Night'\n"
   ]
  },
  {
   "cell_type": "code",
   "execution_count": 32,
   "id": "2980b162",
   "metadata": {},
   "outputs": [],
   "source": [
    "df['CMPLNT_FR_PART'] = df['CMPLNT_FR_PART'].apply(lambda z: f(z))\n"
   ]
  },
  {
   "cell_type": "code",
   "execution_count": 33,
   "id": "1e93dfb9",
   "metadata": {},
   "outputs": [],
   "source": [
    "df['CMPLNT_TO_PART'] = df['CMPLNT_TO_PART'].apply(lambda z: f(z))\n"
   ]
  },
  {
   "cell_type": "code",
   "execution_count": 34,
   "id": "e4b1526d",
   "metadata": {},
   "outputs": [],
   "source": [
    "df.drop(columns=['CMPLNT_FR_DT','CMPLNT_FR_TM','CMPLNT_TO_DT','CMPLNT_TO_TM'],inplace= True)"
   ]
  },
  {
   "cell_type": "code",
   "execution_count": 35,
   "id": "8e982dd1",
   "metadata": {},
   "outputs": [],
   "source": [
    "df.drop(columns=['Latitude','Longitude'],inplace= True)"
   ]
  },
  {
   "cell_type": "code",
   "execution_count": 31,
   "id": "4ffef62d",
   "metadata": {},
   "outputs": [],
   "source": [
    "#df.drop(columns=['CMPLNT_FR_DT','CMPLNT_FR_TM','CMPLNT_TO_DT','CMPLNT_TO_TM'],inplace= True)"
   ]
  },
  {
   "cell_type": "code",
   "execution_count": 36,
   "id": "8be57b2e",
   "metadata": {},
   "outputs": [
    {
     "data": {
      "text/plain": [
       "(57858, 18)"
      ]
     },
     "execution_count": 36,
     "metadata": {},
     "output_type": "execute_result"
    }
   ],
   "source": [
    "df.shape"
   ]
  },
  {
   "cell_type": "code",
   "execution_count": 37,
   "id": "10bfb488",
   "metadata": {},
   "outputs": [
    {
     "name": "stdout",
     "output_type": "stream",
     "text": [
      "<class 'pandas.core.frame.DataFrame'>\n",
      "RangeIndex: 57858 entries, 0 to 57857\n",
      "Data columns (total 18 columns):\n",
      " #   Column             Non-Null Count  Dtype   \n",
      "---  ------             --------------  -----   \n",
      " 0   BORO_NM            57858 non-null  object  \n",
      " 1   CRM_ATPT_CPTD_CD   57858 non-null  object  \n",
      " 2   KY_CD              57858 non-null  int64   \n",
      " 3   LAW_CAT_CD         57858 non-null  object  \n",
      " 4   LOC_OF_OCCUR_DESC  57858 non-null  object  \n",
      " 5   OFNS_DESC          57858 non-null  object  \n",
      " 6   PATROL_BORO        57858 non-null  object  \n",
      " 7   RPT_DT             57858 non-null  object  \n",
      " 8   SUSP_AGE_GROUP     57858 non-null  object  \n",
      " 9   SUSP_RACE          57858 non-null  category\n",
      " 10  SUSP_SEX           57858 non-null  object  \n",
      " 11  VIC_AGE_GROUP      57858 non-null  object  \n",
      " 12  VIC_RACE           57858 non-null  object  \n",
      " 13  VIC_SEX            57858 non-null  object  \n",
      " 14  CMPLNT_FR_DAY      57858 non-null  object  \n",
      " 15  CMPLNT_TO_DAY      57858 non-null  object  \n",
      " 16  CMPLNT_FR_PART     57858 non-null  object  \n",
      " 17  CMPLNT_TO_PART     57858 non-null  object  \n",
      "dtypes: category(1), int64(1), object(16)\n",
      "memory usage: 7.6+ MB\n"
     ]
    }
   ],
   "source": [
    "df.info()"
   ]
  },
  {
   "cell_type": "code",
   "execution_count": 38,
   "id": "63f25583",
   "metadata": {},
   "outputs": [],
   "source": [
    "df[\"BORO_NM\"] = df[\"BORO_NM\"].astype(\"category\")"
   ]
  },
  {
   "cell_type": "code",
   "execution_count": 39,
   "id": "6bd20b5e",
   "metadata": {},
   "outputs": [],
   "source": [
    "df[\"PATROL_BORO\"] = df[\"PATROL_BORO\"].astype(\"category\")"
   ]
  },
  {
   "cell_type": "code",
   "execution_count": null,
   "id": "c50479ca",
   "metadata": {},
   "outputs": [],
   "source": []
  },
  {
   "cell_type": "code",
   "execution_count": 40,
   "id": "ce858d64",
   "metadata": {
    "execution": {
     "iopub.execute_input": "2022-10-26T16:57:44.994845Z",
     "iopub.status.busy": "2022-10-26T16:57:44.994027Z",
     "iopub.status.idle": "2022-10-26T16:58:58.728678Z",
     "shell.execute_reply": "2022-10-26T16:58:58.727433Z"
    },
    "papermill": {
     "duration": 73.753615,
     "end_time": "2022-10-26T16:58:58.731947",
     "exception": false,
     "start_time": "2022-10-26T16:57:44.978332",
     "status": "completed"
    },
    "tags": []
   },
   "outputs": [],
   "source": [
    "df_clean = df.replace({'HARRASSMENT 2': 'HARASSMENT', \n",
    "                'ESCAPE 3': 'ESCAPE',\n",
    "                'ASSAULT 3 & RELATED OFFENSES': 'ASSAULT & RELATED OFFENSES',\n",
    "                'CRIMINAL MISCHIEF & RELATED OF': 'CRIMINAL MISCHIEF',\n",
    "                'OFF. AGNST PUB ORD SENSBLTY &': 'OFFENSES AGAINST PUBLIC ORDER/ADMINISTRATION',\n",
    "                'OTHER STATE LAWS (NON PENAL LA': 'OTHER STATE LAWS (NON PENAL LAW)',\n",
    "                'ENDAN WELFARE INCOMP': 'ENDANGERING WELFARE OF INCOMPETENT',\n",
    "                'AGRICULTURE & MRKTS LAW-UNCLASSIFIED': 'AGRICULTURE & MARKETS LAW',\n",
    "                'DISRUPTION OF A RELIGIOUS SERV': 'DISRUPTION OF A RELIGIOUS SERVICE',\n",
    "                'LOITERING/GAMBLING (CARDS, DIC': 'GAMBLING',\n",
    "                'OFFENSES AGAINST MARRIAGE UNCL': 'OFFENSES AGAINST MARRIAGE',\n",
    "                'HOMICIDE-NEGLIGENT,UNCLASSIFIE': 'HOMICIDE-NEGLIGENT',\n",
    "                                      'E': 'UNKNOWN',\n",
    "                                      'D': 'BUSINESS/ORGANIZATION',\n",
    "                                      'F': 'FEMALE',\n",
    "                                      'M': 'MALE'}).copy()"
   ]
  },
  {
   "cell_type": "markdown",
   "id": "9b7c1cdb",
   "metadata": {
    "papermill": {
     "duration": 0.009136,
     "end_time": "2022-10-26T16:58:58.751649",
     "exception": false,
     "start_time": "2022-10-26T16:58:58.742513",
     "status": "completed"
    },
    "tags": []
   },
   "source": [
    "## EDA :"
   ]
  },
  {
   "cell_type": "code",
   "execution_count": 41,
   "id": "365f7e8f",
   "metadata": {
    "execution": {
     "iopub.execute_input": "2022-10-26T16:58:58.772159Z",
     "iopub.status.busy": "2022-10-26T16:58:58.771719Z",
     "iopub.status.idle": "2022-10-26T16:58:59.272010Z",
     "shell.execute_reply": "2022-10-26T16:58:59.270833Z"
    },
    "papermill": {
     "duration": 0.513484,
     "end_time": "2022-10-26T16:58:59.274419",
     "exception": false,
     "start_time": "2022-10-26T16:58:58.760935",
     "status": "completed"
    },
    "tags": []
   },
   "outputs": [
    {
     "data": {
      "text/plain": [
       "HARASSMENT                                      17302\n",
       "ASSAULT & RELATED OFFENSES                      13134\n",
       "FELONY ASSAULT                                   5875\n",
       "OFFENSES AGAINST PUBLIC ORDER/ADMINISTRATION     4020\n",
       "MISCELLANEOUS PENAL LAW                          3838\n",
       "CRIMINAL MISCHIEF                                3069\n",
       "ROBBERY                                          1944\n",
       "OFFENSES AGAINST PUBLIC ADMINI                   1694\n",
       "PETIT LARCENY                                    1457\n",
       "SEX CRIMES                                       1426\n",
       "Name: OFNS_DESC, dtype: int64"
      ]
     },
     "execution_count": 41,
     "metadata": {},
     "output_type": "execute_result"
    }
   ],
   "source": [
    "#types of crimes (top 10)\n",
    "df_clean.OFNS_DESC.value_counts().iloc[:10]"
   ]
  },
  {
   "cell_type": "code",
   "execution_count": 42,
   "id": "0bc305b0",
   "metadata": {
    "execution": {
     "iopub.execute_input": "2022-10-26T16:58:59.295295Z",
     "iopub.status.busy": "2022-10-26T16:58:59.294869Z",
     "iopub.status.idle": "2022-10-26T16:58:59.995988Z",
     "shell.execute_reply": "2022-10-26T16:58:59.994612Z"
    },
    "papermill": {
     "duration": 0.714646,
     "end_time": "2022-10-26T16:58:59.998549",
     "exception": false,
     "start_time": "2022-10-26T16:58:59.283903",
     "status": "completed"
    },
    "tags": []
   },
   "outputs": [
    {
     "data": {
      "text/plain": [
       "<AxesSubplot:title={'center':'Types of Crimes'}>"
      ]
     },
     "execution_count": 42,
     "metadata": {},
     "output_type": "execute_result"
    },
    {
     "data": {
      "image/png": "[encoded data removed]",
      "text/plain": [
       "<Figure size 432x288 with 1 Axes>"
      ]
     },
     "metadata": {
      "needs_background": "light"
     },
     "output_type": "display_data"
    }
   ],
   "source": [
    "df_clean.OFNS_DESC.value_counts().iloc[:10].sort_values().plot(kind=\"barh\", title = \"Types of Crimes\")"
   ]
  },
  {
   "cell_type": "markdown",
   "id": "53d0eb82",
   "metadata": {
    "papermill": {
     "duration": 0.010611,
     "end_time": "2022-10-26T16:59:00.019312",
     "exception": false,
     "start_time": "2022-10-26T16:59:00.008701",
     "status": "completed"
    },
    "tags": []
   },
   "source": [
    "There are three levels of crime in New York State: Violation, Misdemeanor and Felony.\n",
    "\n",
    "From the graph below, I can tell that Misdemeanor, an offense of which a sentence in excess of 15 days but not greater than one year may be imposed, is the most popular level of crime. The second popular one is Felony, the most serious of offenses, and the third one is Violation, a lesser offense for which a sentence only be no more than 15 days."
   ]
  },
  {
   "cell_type": "code",
   "execution_count": 43,
   "id": "a5ea3aab",
   "metadata": {
    "execution": {
     "iopub.execute_input": "2022-10-26T16:59:00.042009Z",
     "iopub.status.busy": "2022-10-26T16:59:00.041552Z",
     "iopub.status.idle": "2022-10-26T16:59:00.685589Z",
     "shell.execute_reply": "2022-10-26T16:59:00.683914Z"
    },
    "papermill": {
     "duration": 0.660401,
     "end_time": "2022-10-26T16:59:00.689949",
     "exception": false,
     "start_time": "2022-10-26T16:59:00.029548",
     "status": "completed"
    },
    "tags": []
   },
   "outputs": [
    {
     "data": {
      "text/plain": [
       "array([<AxesSubplot:ylabel='LAW_CAT_CD'>], dtype=object)"
      ]
     },
     "execution_count": 43,
     "metadata": {},
     "output_type": "execute_result"
    },
    {
     "data": {
      "image/png": "[encoded data removed]",
      "text/plain": [
       "<Figure size 720x360 with 1 Axes>"
      ]
     },
     "metadata": {},
     "output_type": "display_data"
    }
   ],
   "source": [
    "df_clean['LAW_CAT_CD'].value_counts().sort_values().plot(kind='pie', subplots=True, shadow = True,startangle=40,\n",
    "figsize=(10,5), autopct='%1.1f%%', title = 'Level of Offense')"
   ]
  },
  {
   "cell_type": "markdown",
   "id": "1798f355",
   "metadata": {
    "papermill": {
     "duration": 0.025667,
     "end_time": "2022-10-26T16:59:00.741899",
     "exception": false,
     "start_time": "2022-10-26T16:59:00.716232",
     "status": "completed"
    },
    "tags": []
   },
   "source": [
    "### 2. Distribution of crimes over the years, months and days"
   ]
  },
  {
   "cell_type": "code",
   "execution_count": 52,
   "id": "5b0676f7",
   "metadata": {
    "execution": {
     "iopub.execute_input": "2022-10-26T16:59:00.784891Z",
     "iopub.status.busy": "2022-10-26T16:59:00.783687Z",
     "iopub.status.idle": "2022-10-26T16:59:14.411903Z",
     "shell.execute_reply": "2022-10-26T16:59:14.410942Z"
    },
    "papermill": {
     "duration": 13.645935,
     "end_time": "2022-10-26T16:59:14.414368",
     "exception": false,
     "start_time": "2022-10-26T16:59:00.768433",
     "status": "completed"
    },
    "tags": []
   },
   "outputs": [
    {
     "data": {
      "text/plain": [
       "<AxesSubplot:title={'center':'Total Crime Events by Year'}>"
      ]
     },
     "execution_count": 52,
     "metadata": {},
     "output_type": "execute_result"
    },
    {
     "data": {
      "image/png": "[encoded data removed]",
      "text/plain": [
       "<Figure size 432x288 with 1 Axes>"
      ]
     },
     "metadata": {
      "needs_background": "light"
     },
     "output_type": "display_data"
    }
   ],
   "source": [
    "df_clean['year'] = df_clean['RPT_DT'].str.findall(r'(\\d{4})').apply(lambda x: x[0])\n",
    "df_clean['year'].value_counts().plot(kind=\"line\", title = \"Total Crime Events by Year\")"
   ]
  },
  {
   "cell_type": "code",
   "execution_count": 53,
   "id": "4edff0df",
   "metadata": {
    "execution": {
     "iopub.execute_input": "2022-10-26T16:59:14.439041Z",
     "iopub.status.busy": "2022-10-26T16:59:14.438421Z",
     "iopub.status.idle": "2022-10-26T16:59:35.781573Z",
     "shell.execute_reply": "2022-10-26T16:59:35.780457Z"
    },
    "papermill": {
     "duration": 21.358911,
     "end_time": "2022-10-26T16:59:35.784637",
     "exception": false,
     "start_time": "2022-10-26T16:59:14.425726",
     "status": "completed"
    },
    "tags": []
   },
   "outputs": [
    {
     "data": {
      "text/plain": [
       "<AxesSubplot:title={'center':'Total Crime Events by Month'}, xlabel='month'>"
      ]
     },
     "execution_count": 53,
     "metadata": {},
     "output_type": "execute_result"
    },
    {
     "data": {
      "image/png": "[encoded data removed]",
      "text/plain": [
       "<Figure size 432x288 with 1 Axes>"
      ]
     },
     "metadata": {
      "needs_background": "light"
     },
     "output_type": "display_data"
    }
   ],
   "source": [
    "#reports by month\n",
    "df_clean['month'] = df_clean['RPT_DT'].str.findall('(\\d{2})').apply(lambda x: x[0])\n",
    "df_clean.groupby('month').size().plot(kind = 'bar', title ='Total Crime Events by Month', color = '#C0392B',rot=0)"
   ]
  },
  {
   "cell_type": "markdown",
   "id": "2675517d",
   "metadata": {
    "papermill": {
     "duration": 0.010903,
     "end_time": "2022-10-26T16:59:35.807440",
     "exception": false,
     "start_time": "2022-10-26T16:59:35.796537",
     "status": "completed"
    },
    "tags": []
   },
   "source": [
    "### 4. Analyzing a Specific Crime\n",
    "\n",
    "I want to specifically analyze sex related crimes in NYC. For that, I put the part of the dataframe that contains the crime description 'sex crimes' and 'rape' into another dataframe and called it “sex_crimes.”"
   ]
  },
  {
   "cell_type": "code",
   "execution_count": 54,
   "id": "c12b31df",
   "metadata": {
    "execution": {
     "iopub.execute_input": "2022-10-26T16:59:35.832371Z",
     "iopub.status.busy": "2022-10-26T16:59:35.831675Z",
     "iopub.status.idle": "2022-10-26T16:59:47.374351Z",
     "shell.execute_reply": "2022-10-26T16:59:47.373352Z"
    },
    "papermill": {
     "duration": 11.557999,
     "end_time": "2022-10-26T16:59:47.376738",
     "exception": false,
     "start_time": "2022-10-26T16:59:35.818739",
     "status": "completed"
    },
    "tags": []
   },
   "outputs": [
    {
     "data": {
      "text/html": [
       "<div>\n",
       "<style scoped>\n",
       "    .dataframe tbody tr th:only-of-type {\n",
       "        vertical-align: middle;\n",
       "    }\n",
       "\n",
       "    .dataframe tbody tr th {\n",
       "        vertical-align: top;\n",
       "    }\n",
       "\n",
       "    .dataframe thead th {\n",
       "        text-align: right;\n",
       "    }\n",
       "</style>\n",
       "<table border=\"1\" class=\"dataframe\">\n",
       "  <thead>\n",
       "    <tr style=\"text-align: right;\">\n",
       "      <th></th>\n",
       "      <th>BORO_NM</th>\n",
       "      <th>CRM_ATPT_CPTD_CD</th>\n",
       "      <th>KY_CD</th>\n",
       "      <th>LAW_CAT_CD</th>\n",
       "      <th>LOC_OF_OCCUR_DESC</th>\n",
       "      <th>OFNS_DESC</th>\n",
       "      <th>PATROL_BORO</th>\n",
       "      <th>RPT_DT</th>\n",
       "      <th>SUSP_AGE_GROUP</th>\n",
       "      <th>SUSP_RACE</th>\n",
       "      <th>SUSP_SEX</th>\n",
       "      <th>VIC_AGE_GROUP</th>\n",
       "      <th>VIC_RACE</th>\n",
       "      <th>VIC_SEX</th>\n",
       "      <th>CMPLNT_FR_DAY</th>\n",
       "      <th>CMPLNT_TO_DAY</th>\n",
       "      <th>CMPLNT_FR_PART</th>\n",
       "      <th>CMPLNT_TO_PART</th>\n",
       "      <th>year</th>\n",
       "      <th>month</th>\n",
       "    </tr>\n",
       "  </thead>\n",
       "  <tbody>\n",
       "    <tr>\n",
       "      <th>0</th>\n",
       "      <td>STATEN ISLAND</td>\n",
       "      <td>COMPLETED</td>\n",
       "      <td>104</td>\n",
       "      <td>FELONY</td>\n",
       "      <td>INSIDE</td>\n",
       "      <td>RAPE</td>\n",
       "      <td>PATROL BORO STATEN ISLAND</td>\n",
       "      <td>03/25/2022</td>\n",
       "      <td>25-44</td>\n",
       "      <td>BLACK</td>\n",
       "      <td>MALE</td>\n",
       "      <td>18-24</td>\n",
       "      <td>BLACK</td>\n",
       "      <td>FEMALE</td>\n",
       "      <td>Thursday</td>\n",
       "      <td>Thursday</td>\n",
       "      <td>Noon</td>\n",
       "      <td>Night</td>\n",
       "      <td>2022</td>\n",
       "      <td>03</td>\n",
       "    </tr>\n",
       "    <tr>\n",
       "      <th>3</th>\n",
       "      <td>BRONX</td>\n",
       "      <td>COMPLETED</td>\n",
       "      <td>116</td>\n",
       "      <td>FELONY</td>\n",
       "      <td>INSIDE</td>\n",
       "      <td>SEX CRIMES</td>\n",
       "      <td>PATROL BORO BRONX</td>\n",
       "      <td>05/20/2022</td>\n",
       "      <td>25-44</td>\n",
       "      <td>WHITE HISPANIC</td>\n",
       "      <td>MALE</td>\n",
       "      <td>&lt;18</td>\n",
       "      <td>WHITE HISPANIC</td>\n",
       "      <td>FEMALE</td>\n",
       "      <td>Tuesday</td>\n",
       "      <td>Saturday</td>\n",
       "      <td>Late Night</td>\n",
       "      <td>Late Night</td>\n",
       "      <td>2022</td>\n",
       "      <td>05</td>\n",
       "    </tr>\n",
       "    <tr>\n",
       "      <th>9</th>\n",
       "      <td>MANHATTAN</td>\n",
       "      <td>COMPLETED</td>\n",
       "      <td>104</td>\n",
       "      <td>FELONY</td>\n",
       "      <td>INSIDE</td>\n",
       "      <td>RAPE</td>\n",
       "      <td>PATROL BORO MAN SOUTH</td>\n",
       "      <td>03/14/2022</td>\n",
       "      <td>25-44</td>\n",
       "      <td>ASIAN / PACIFIC ISLANDER</td>\n",
       "      <td>MALE</td>\n",
       "      <td>25-44</td>\n",
       "      <td>ASIAN / PACIFIC ISLANDER</td>\n",
       "      <td>FEMALE</td>\n",
       "      <td>Saturday</td>\n",
       "      <td>Saturday</td>\n",
       "      <td>Morning</td>\n",
       "      <td>Morning</td>\n",
       "      <td>2022</td>\n",
       "      <td>03</td>\n",
       "    </tr>\n",
       "    <tr>\n",
       "      <th>10</th>\n",
       "      <td>BRONX</td>\n",
       "      <td>COMPLETED</td>\n",
       "      <td>104</td>\n",
       "      <td>FELONY</td>\n",
       "      <td>INSIDE</td>\n",
       "      <td>RAPE</td>\n",
       "      <td>PATROL BORO BRONX</td>\n",
       "      <td>02/19/2022</td>\n",
       "      <td>25-44</td>\n",
       "      <td>WHITE HISPANIC</td>\n",
       "      <td>FEMALE</td>\n",
       "      <td>&lt;18</td>\n",
       "      <td>WHITE HISPANIC</td>\n",
       "      <td>FEMALE</td>\n",
       "      <td>Sunday</td>\n",
       "      <td>Sunday</td>\n",
       "      <td>Evening</td>\n",
       "      <td>Evening</td>\n",
       "      <td>2022</td>\n",
       "      <td>02</td>\n",
       "    </tr>\n",
       "    <tr>\n",
       "      <th>11</th>\n",
       "      <td>QUEENS</td>\n",
       "      <td>COMPLETED</td>\n",
       "      <td>233</td>\n",
       "      <td>MISDEMEANOR</td>\n",
       "      <td>INSIDE</td>\n",
       "      <td>SEX CRIMES</td>\n",
       "      <td>PATROL BORO QUEENS SOUTH</td>\n",
       "      <td>03/07/2022</td>\n",
       "      <td>&lt;18</td>\n",
       "      <td>ASIAN / PACIFIC ISLANDER</td>\n",
       "      <td>MALE</td>\n",
       "      <td>&lt;18</td>\n",
       "      <td>BLACK</td>\n",
       "      <td>FEMALE</td>\n",
       "      <td>Wednesday</td>\n",
       "      <td>Friday</td>\n",
       "      <td>Noon</td>\n",
       "      <td>Noon</td>\n",
       "      <td>2022</td>\n",
       "      <td>03</td>\n",
       "    </tr>\n",
       "  </tbody>\n",
       "</table>\n",
       "</div>"
      ],
      "text/plain": [
       "          BORO_NM CRM_ATPT_CPTD_CD  KY_CD   LAW_CAT_CD LOC_OF_OCCUR_DESC  \\\n",
       "0   STATEN ISLAND        COMPLETED    104       FELONY            INSIDE   \n",
       "3           BRONX        COMPLETED    116       FELONY            INSIDE   \n",
       "9       MANHATTAN        COMPLETED    104       FELONY            INSIDE   \n",
       "10          BRONX        COMPLETED    104       FELONY            INSIDE   \n",
       "11         QUEENS        COMPLETED    233  MISDEMEANOR            INSIDE   \n",
       "\n",
       "     OFNS_DESC                PATROL_BORO      RPT_DT SUSP_AGE_GROUP  \\\n",
       "0         RAPE  PATROL BORO STATEN ISLAND  03/25/2022          25-44   \n",
       "3   SEX CRIMES          PATROL BORO BRONX  05/20/2022          25-44   \n",
       "9         RAPE      PATROL BORO MAN SOUTH  03/14/2022          25-44   \n",
       "10        RAPE          PATROL BORO BRONX  02/19/2022          25-44   \n",
       "11  SEX CRIMES   PATROL BORO QUEENS SOUTH  03/07/2022            <18   \n",
       "\n",
       "                   SUSP_RACE SUSP_SEX VIC_AGE_GROUP                  VIC_RACE  \\\n",
       "0                      BLACK     MALE         18-24                     BLACK   \n",
       "3             WHITE HISPANIC     MALE           <18            WHITE HISPANIC   \n",
       "9   ASIAN / PACIFIC ISLANDER     MALE         25-44  ASIAN / PACIFIC ISLANDER   \n",
       "10            WHITE HISPANIC   FEMALE           <18            WHITE HISPANIC   \n",
       "11  ASIAN / PACIFIC ISLANDER     MALE           <18                     BLACK   \n",
       "\n",
       "   VIC_SEX CMPLNT_FR_DAY CMPLNT_TO_DAY CMPLNT_FR_PART CMPLNT_TO_PART  year  \\\n",
       "0   FEMALE      Thursday      Thursday           Noon          Night  2022   \n",
       "3   FEMALE       Tuesday      Saturday     Late Night     Late Night  2022   \n",
       "9   FEMALE      Saturday      Saturday        Morning        Morning  2022   \n",
       "10  FEMALE        Sunday        Sunday        Evening        Evening  2022   \n",
       "11  FEMALE     Wednesday        Friday           Noon           Noon  2022   \n",
       "\n",
       "   month  \n",
       "0     03  \n",
       "3     05  \n",
       "9     03  \n",
       "10    02  \n",
       "11    03  "
      ]
     },
     "execution_count": 54,
     "metadata": {},
     "output_type": "execute_result"
    }
   ],
   "source": [
    "sex_crimes = df_clean[df.OFNS_DESC.str.contains('SEX CRIMES|RAPE')]\n",
    "sex_crimes.head()"
   ]
  },
  {
   "cell_type": "markdown",
   "id": "0c872471",
   "metadata": {
    "papermill": {
     "duration": 0.011436,
     "end_time": "2022-10-26T16:59:47.400172",
     "exception": false,
     "start_time": "2022-10-26T16:59:47.388736",
     "status": "completed"
    },
    "tags": []
   },
   "source": [
    "#### Analyzing Time\n",
    "\n",
    "We may be interested in the distribution of values across the years, so I'm going to group the data by year and plot the results."
   ]
  },
  {
   "cell_type": "code",
   "execution_count": 55,
   "id": "b7b391aa",
   "metadata": {
    "execution": {
     "iopub.execute_input": "2022-10-26T16:59:47.425726Z",
     "iopub.status.busy": "2022-10-26T16:59:47.424471Z",
     "iopub.status.idle": "2022-10-26T16:59:47.772686Z",
     "shell.execute_reply": "2022-10-26T16:59:47.771048Z"
    },
    "papermill": {
     "duration": 0.363683,
     "end_time": "2022-10-26T16:59:47.775393",
     "exception": false,
     "start_time": "2022-10-26T16:59:47.411710",
     "status": "completed"
    },
    "scrolled": true,
    "tags": []
   },
   "outputs": [
    {
     "name": "stdout",
     "output_type": "stream",
     "text": [
      "1826.0\n"
     ]
    },
    {
     "data": {
      "image/png": "[encoded data removed]",
      "text/plain": [
       "<Figure size 432x288 with 1 Axes>"
      ]
     },
     "metadata": {
      "needs_background": "light"
     },
     "output_type": "display_data"
    }
   ],
   "source": [
    "#plot graph\n",
    "sex_crimes.groupby('year').size().plot(kind = 'barh', color = '#8E44AD', title = 'Sex Crime Reports by Year')\n",
    "\n",
    "#average sex crimes per year\n",
    "mean = sex_crimes['year'].value_counts().mean()\n",
    "print(round(mean,2))"
   ]
  },
  {
   "cell_type": "markdown",
   "id": "ba692236",
   "metadata": {
    "papermill": {
     "duration": 0.01231,
     "end_time": "2022-10-26T16:59:47.800367",
     "exception": false,
     "start_time": "2022-10-26T16:59:47.788057",
     "status": "completed"
    },
    "tags": []
   },
   "source": [
    "- Based on the bar graph that I computed, sex crimes happened the most during the last 3 years compared to previous years.\n",
    "\n",
    "- On average, there are 7443 victims of rape and sexual assault each year in New York City.\n",
    "\n",
    "Let’s also look at how the number of the reports changes within a day."
   ]
  },
  {
   "cell_type": "code",
   "execution_count": 56,
   "id": "ff14d667",
   "metadata": {
    "execution": {
     "iopub.execute_input": "2022-10-26T16:59:47.826558Z",
     "iopub.status.busy": "2022-10-26T16:59:47.826153Z",
     "iopub.status.idle": "2022-10-26T16:59:48.098794Z",
     "shell.execute_reply": "2022-10-26T16:59:48.097379Z"
    },
    "papermill": {
     "duration": 0.288977,
     "end_time": "2022-10-26T16:59:48.101504",
     "exception": false,
     "start_time": "2022-10-26T16:59:47.812527",
     "status": "completed"
    },
    "tags": []
   },
   "outputs": [
    {
     "name": "stdout",
     "output_type": "stream",
     "text": [
      "WHITE HISPANIC                    34.611172\n",
      "BLACK                             33.515882\n",
      "WHITE                             14.622125\n",
      "ASIAN / PACIFIC ISLANDER          10.569551\n",
      "BLACK HISPANIC                     6.243154\n",
      "AMERICAN INDIAN/ALASKAN NATIVE     0.438116\n",
      "Name: VIC_RACE, dtype: float64\n"
     ]
    },
    {
     "data": {
      "image/png": "[encoded data removed]",
      "text/plain": [
       "<Figure size 432x288 with 1 Axes>"
      ]
     },
     "metadata": {
      "needs_background": "light"
     },
     "output_type": "display_data"
    }
   ],
   "source": [
    "# Sex victims by Race :\n",
    "sex_crimes['VIC_RACE'].value_counts().iloc[:7].plot(kind=\"barh\", color = '#D35400', title = 'Sex Crime Victims by Race')\n",
    "\n",
    "#victims by race percentage\n",
    "vic_race_per = sex_crimes['VIC_RACE'].value_counts().iloc[:7] / sex_crimes['VIC_RACE'].shape[0] *100\n",
    "print(vic_race_per)"
   ]
  },
  {
   "cell_type": "code",
   "execution_count": 57,
   "id": "bb72dd7f",
   "metadata": {},
   "outputs": [
    {
     "data": {
      "text/plain": [
       "47"
      ]
     },
     "execution_count": 57,
     "metadata": {},
     "output_type": "execute_result"
    }
   ],
   "source": [
    "df.KY_CD.nunique()"
   ]
  },
  {
   "cell_type": "code",
   "execution_count": 58,
   "id": "62230ae7",
   "metadata": {},
   "outputs": [
    {
     "data": {
      "text/plain": [
       "44"
      ]
     },
     "execution_count": 58,
     "metadata": {},
     "output_type": "execute_result"
    }
   ],
   "source": [
    "df.OFNS_DESC.nunique()"
   ]
  },
  {
   "cell_type": "code",
   "execution_count": 59,
   "id": "a45879fc",
   "metadata": {},
   "outputs": [],
   "source": [
    "df.drop(columns=['KY_CD','OFNS_DESC','RPT_DT'],inplace= True)"
   ]
  },
  {
   "cell_type": "code",
   "execution_count": 60,
   "id": "871989ec",
   "metadata": {},
   "outputs": [
    {
     "name": "stdout",
     "output_type": "stream",
     "text": [
      "<class 'pandas.core.frame.DataFrame'>\n",
      "RangeIndex: 57858 entries, 0 to 57857\n",
      "Data columns (total 15 columns):\n",
      " #   Column             Non-Null Count  Dtype   \n",
      "---  ------             --------------  -----   \n",
      " 0   BORO_NM            57858 non-null  category\n",
      " 1   CRM_ATPT_CPTD_CD   57858 non-null  object  \n",
      " 2   LAW_CAT_CD         57858 non-null  object  \n",
      " 3   LOC_OF_OCCUR_DESC  57858 non-null  object  \n",
      " 4   PATROL_BORO        57858 non-null  category\n",
      " 5   SUSP_AGE_GROUP     57858 non-null  object  \n",
      " 6   SUSP_RACE          57858 non-null  category\n",
      " 7   SUSP_SEX           57858 non-null  object  \n",
      " 8   VIC_AGE_GROUP      57858 non-null  object  \n",
      " 9   VIC_RACE           57858 non-null  object  \n",
      " 10  VIC_SEX            57858 non-null  object  \n",
      " 11  CMPLNT_FR_DAY      57858 non-null  object  \n",
      " 12  CMPLNT_TO_DAY      57858 non-null  object  \n",
      " 13  CMPLNT_FR_PART     57858 non-null  object  \n",
      " 14  CMPLNT_TO_PART     57858 non-null  object  \n",
      "dtypes: category(3), object(12)\n",
      "memory usage: 5.5+ MB\n"
     ]
    }
   ],
   "source": [
    "df.info()"
   ]
  },
  {
   "cell_type": "code",
   "execution_count": 61,
   "id": "5c4692c4",
   "metadata": {},
   "outputs": [
    {
     "data": {
      "text/html": [
       "<div>\n",
       "<style scoped>\n",
       "    .dataframe tbody tr th:only-of-type {\n",
       "        vertical-align: middle;\n",
       "    }\n",
       "\n",
       "    .dataframe tbody tr th {\n",
       "        vertical-align: top;\n",
       "    }\n",
       "\n",
       "    .dataframe thead th {\n",
       "        text-align: right;\n",
       "    }\n",
       "</style>\n",
       "<table border=\"1\" class=\"dataframe\">\n",
       "  <thead>\n",
       "    <tr style=\"text-align: right;\">\n",
       "      <th></th>\n",
       "      <th>BORO_NM</th>\n",
       "      <th>CRM_ATPT_CPTD_CD_ATTEMPTED</th>\n",
       "      <th>CRM_ATPT_CPTD_CD_COMPLETED</th>\n",
       "      <th>LAW_CAT_CD_FELONY</th>\n",
       "      <th>LAW_CAT_CD_MISDEMEANOR</th>\n",
       "      <th>LAW_CAT_CD_VIOLATION</th>\n",
       "      <th>LOC_OF_OCCUR_DESC_FRONT OF</th>\n",
       "      <th>LOC_OF_OCCUR_DESC_INSIDE</th>\n",
       "      <th>LOC_OF_OCCUR_DESC_OPPOSITE OF</th>\n",
       "      <th>LOC_OF_OCCUR_DESC_REAR OF</th>\n",
       "      <th>...</th>\n",
       "      <th>CMPLNT_FR_PART_Late Night</th>\n",
       "      <th>CMPLNT_FR_PART_Morning</th>\n",
       "      <th>CMPLNT_FR_PART_Night</th>\n",
       "      <th>CMPLNT_FR_PART_Noon</th>\n",
       "      <th>CMPLNT_TO_PART_Early Morning</th>\n",
       "      <th>CMPLNT_TO_PART_Evening</th>\n",
       "      <th>CMPLNT_TO_PART_Late Night</th>\n",
       "      <th>CMPLNT_TO_PART_Morning</th>\n",
       "      <th>CMPLNT_TO_PART_Night</th>\n",
       "      <th>CMPLNT_TO_PART_Noon</th>\n",
       "    </tr>\n",
       "  </thead>\n",
       "  <tbody>\n",
       "    <tr>\n",
       "      <th>0</th>\n",
       "      <td>STATEN ISLAND</td>\n",
       "      <td>0</td>\n",
       "      <td>1</td>\n",
       "      <td>1</td>\n",
       "      <td>0</td>\n",
       "      <td>0</td>\n",
       "      <td>0</td>\n",
       "      <td>1</td>\n",
       "      <td>0</td>\n",
       "      <td>0</td>\n",
       "      <td>...</td>\n",
       "      <td>0</td>\n",
       "      <td>0</td>\n",
       "      <td>0</td>\n",
       "      <td>1</td>\n",
       "      <td>0</td>\n",
       "      <td>0</td>\n",
       "      <td>0</td>\n",
       "      <td>0</td>\n",
       "      <td>1</td>\n",
       "      <td>0</td>\n",
       "    </tr>\n",
       "    <tr>\n",
       "      <th>1</th>\n",
       "      <td>MANHATTAN</td>\n",
       "      <td>0</td>\n",
       "      <td>1</td>\n",
       "      <td>0</td>\n",
       "      <td>0</td>\n",
       "      <td>1</td>\n",
       "      <td>0</td>\n",
       "      <td>1</td>\n",
       "      <td>0</td>\n",
       "      <td>0</td>\n",
       "      <td>...</td>\n",
       "      <td>0</td>\n",
       "      <td>0</td>\n",
       "      <td>1</td>\n",
       "      <td>0</td>\n",
       "      <td>0</td>\n",
       "      <td>0</td>\n",
       "      <td>0</td>\n",
       "      <td>0</td>\n",
       "      <td>1</td>\n",
       "      <td>0</td>\n",
       "    </tr>\n",
       "    <tr>\n",
       "      <th>2</th>\n",
       "      <td>QUEENS</td>\n",
       "      <td>0</td>\n",
       "      <td>1</td>\n",
       "      <td>1</td>\n",
       "      <td>0</td>\n",
       "      <td>0</td>\n",
       "      <td>0</td>\n",
       "      <td>1</td>\n",
       "      <td>0</td>\n",
       "      <td>0</td>\n",
       "      <td>...</td>\n",
       "      <td>0</td>\n",
       "      <td>0</td>\n",
       "      <td>0</td>\n",
       "      <td>0</td>\n",
       "      <td>1</td>\n",
       "      <td>0</td>\n",
       "      <td>0</td>\n",
       "      <td>0</td>\n",
       "      <td>0</td>\n",
       "      <td>0</td>\n",
       "    </tr>\n",
       "    <tr>\n",
       "      <th>3</th>\n",
       "      <td>BRONX</td>\n",
       "      <td>0</td>\n",
       "      <td>1</td>\n",
       "      <td>1</td>\n",
       "      <td>0</td>\n",
       "      <td>0</td>\n",
       "      <td>0</td>\n",
       "      <td>1</td>\n",
       "      <td>0</td>\n",
       "      <td>0</td>\n",
       "      <td>...</td>\n",
       "      <td>1</td>\n",
       "      <td>0</td>\n",
       "      <td>0</td>\n",
       "      <td>0</td>\n",
       "      <td>0</td>\n",
       "      <td>0</td>\n",
       "      <td>1</td>\n",
       "      <td>0</td>\n",
       "      <td>0</td>\n",
       "      <td>0</td>\n",
       "    </tr>\n",
       "    <tr>\n",
       "      <th>4</th>\n",
       "      <td>BRONX</td>\n",
       "      <td>0</td>\n",
       "      <td>1</td>\n",
       "      <td>1</td>\n",
       "      <td>0</td>\n",
       "      <td>0</td>\n",
       "      <td>0</td>\n",
       "      <td>1</td>\n",
       "      <td>0</td>\n",
       "      <td>0</td>\n",
       "      <td>...</td>\n",
       "      <td>0</td>\n",
       "      <td>0</td>\n",
       "      <td>1</td>\n",
       "      <td>0</td>\n",
       "      <td>0</td>\n",
       "      <td>0</td>\n",
       "      <td>0</td>\n",
       "      <td>0</td>\n",
       "      <td>1</td>\n",
       "      <td>0</td>\n",
       "    </tr>\n",
       "    <tr>\n",
       "      <th>...</th>\n",
       "      <td>...</td>\n",
       "      <td>...</td>\n",
       "      <td>...</td>\n",
       "      <td>...</td>\n",
       "      <td>...</td>\n",
       "      <td>...</td>\n",
       "      <td>...</td>\n",
       "      <td>...</td>\n",
       "      <td>...</td>\n",
       "      <td>...</td>\n",
       "      <td>...</td>\n",
       "      <td>...</td>\n",
       "      <td>...</td>\n",
       "      <td>...</td>\n",
       "      <td>...</td>\n",
       "      <td>...</td>\n",
       "      <td>...</td>\n",
       "      <td>...</td>\n",
       "      <td>...</td>\n",
       "      <td>...</td>\n",
       "      <td>...</td>\n",
       "    </tr>\n",
       "    <tr>\n",
       "      <th>57853</th>\n",
       "      <td>BROOKLYN</td>\n",
       "      <td>0</td>\n",
       "      <td>1</td>\n",
       "      <td>0</td>\n",
       "      <td>1</td>\n",
       "      <td>0</td>\n",
       "      <td>0</td>\n",
       "      <td>1</td>\n",
       "      <td>0</td>\n",
       "      <td>0</td>\n",
       "      <td>...</td>\n",
       "      <td>0</td>\n",
       "      <td>0</td>\n",
       "      <td>1</td>\n",
       "      <td>0</td>\n",
       "      <td>0</td>\n",
       "      <td>0</td>\n",
       "      <td>0</td>\n",
       "      <td>0</td>\n",
       "      <td>1</td>\n",
       "      <td>0</td>\n",
       "    </tr>\n",
       "    <tr>\n",
       "      <th>57854</th>\n",
       "      <td>BROOKLYN</td>\n",
       "      <td>0</td>\n",
       "      <td>1</td>\n",
       "      <td>0</td>\n",
       "      <td>1</td>\n",
       "      <td>0</td>\n",
       "      <td>0</td>\n",
       "      <td>1</td>\n",
       "      <td>0</td>\n",
       "      <td>0</td>\n",
       "      <td>...</td>\n",
       "      <td>0</td>\n",
       "      <td>0</td>\n",
       "      <td>0</td>\n",
       "      <td>0</td>\n",
       "      <td>1</td>\n",
       "      <td>0</td>\n",
       "      <td>0</td>\n",
       "      <td>0</td>\n",
       "      <td>0</td>\n",
       "      <td>0</td>\n",
       "    </tr>\n",
       "    <tr>\n",
       "      <th>57855</th>\n",
       "      <td>BROOKLYN</td>\n",
       "      <td>0</td>\n",
       "      <td>1</td>\n",
       "      <td>0</td>\n",
       "      <td>0</td>\n",
       "      <td>1</td>\n",
       "      <td>0</td>\n",
       "      <td>1</td>\n",
       "      <td>0</td>\n",
       "      <td>0</td>\n",
       "      <td>...</td>\n",
       "      <td>0</td>\n",
       "      <td>0</td>\n",
       "      <td>0</td>\n",
       "      <td>0</td>\n",
       "      <td>1</td>\n",
       "      <td>0</td>\n",
       "      <td>0</td>\n",
       "      <td>0</td>\n",
       "      <td>0</td>\n",
       "      <td>0</td>\n",
       "    </tr>\n",
       "    <tr>\n",
       "      <th>57856</th>\n",
       "      <td>QUEENS</td>\n",
       "      <td>0</td>\n",
       "      <td>1</td>\n",
       "      <td>0</td>\n",
       "      <td>1</td>\n",
       "      <td>0</td>\n",
       "      <td>1</td>\n",
       "      <td>0</td>\n",
       "      <td>0</td>\n",
       "      <td>0</td>\n",
       "      <td>...</td>\n",
       "      <td>0</td>\n",
       "      <td>0</td>\n",
       "      <td>0</td>\n",
       "      <td>0</td>\n",
       "      <td>0</td>\n",
       "      <td>1</td>\n",
       "      <td>0</td>\n",
       "      <td>0</td>\n",
       "      <td>0</td>\n",
       "      <td>0</td>\n",
       "    </tr>\n",
       "    <tr>\n",
       "      <th>57857</th>\n",
       "      <td>QUEENS</td>\n",
       "      <td>0</td>\n",
       "      <td>1</td>\n",
       "      <td>0</td>\n",
       "      <td>0</td>\n",
       "      <td>1</td>\n",
       "      <td>0</td>\n",
       "      <td>1</td>\n",
       "      <td>0</td>\n",
       "      <td>0</td>\n",
       "      <td>...</td>\n",
       "      <td>0</td>\n",
       "      <td>0</td>\n",
       "      <td>0</td>\n",
       "      <td>1</td>\n",
       "      <td>0</td>\n",
       "      <td>0</td>\n",
       "      <td>0</td>\n",
       "      <td>0</td>\n",
       "      <td>0</td>\n",
       "      <td>1</td>\n",
       "    </tr>\n",
       "  </tbody>\n",
       "</table>\n",
       "<p>57858 rows × 73 columns</p>\n",
       "</div>"
      ],
      "text/plain": [
       "             BORO_NM  CRM_ATPT_CPTD_CD_ATTEMPTED  CRM_ATPT_CPTD_CD_COMPLETED  \\\n",
       "0      STATEN ISLAND                           0                           1   \n",
       "1          MANHATTAN                           0                           1   \n",
       "2             QUEENS                           0                           1   \n",
       "3              BRONX                           0                           1   \n",
       "4              BRONX                           0                           1   \n",
       "...              ...                         ...                         ...   \n",
       "57853       BROOKLYN                           0                           1   \n",
       "57854       BROOKLYN                           0                           1   \n",
       "57855       BROOKLYN                           0                           1   \n",
       "57856         QUEENS                           0                           1   \n",
       "57857         QUEENS                           0                           1   \n",
       "\n",
       "       LAW_CAT_CD_FELONY  LAW_CAT_CD_MISDEMEANOR  LAW_CAT_CD_VIOLATION  \\\n",
       "0                      1                       0                     0   \n",
       "1                      0                       0                     1   \n",
       "2                      1                       0                     0   \n",
       "3                      1                       0                     0   \n",
       "4                      1                       0                     0   \n",
       "...                  ...                     ...                   ...   \n",
       "57853                  0                       1                     0   \n",
       "57854                  0                       1                     0   \n",
       "57855                  0                       0                     1   \n",
       "57856                  0                       1                     0   \n",
       "57857                  0                       0                     1   \n",
       "\n",
       "       LOC_OF_OCCUR_DESC_FRONT OF  LOC_OF_OCCUR_DESC_INSIDE  \\\n",
       "0                               0                         1   \n",
       "1                               0                         1   \n",
       "2                               0                         1   \n",
       "3                               0                         1   \n",
       "4                               0                         1   \n",
       "...                           ...                       ...   \n",
       "57853                           0                         1   \n",
       "57854                           0                         1   \n",
       "57855                           0                         1   \n",
       "57856                           1                         0   \n",
       "57857                           0                         1   \n",
       "\n",
       "       LOC_OF_OCCUR_DESC_OPPOSITE OF  LOC_OF_OCCUR_DESC_REAR OF  ...  \\\n",
       "0                                  0                          0  ...   \n",
       "1                                  0                          0  ...   \n",
       "2                                  0                          0  ...   \n",
       "3                                  0                          0  ...   \n",
       "4                                  0                          0  ...   \n",
       "...                              ...                        ...  ...   \n",
       "57853                              0                          0  ...   \n",
       "57854                              0                          0  ...   \n",
       "57855                              0                          0  ...   \n",
       "57856                              0                          0  ...   \n",
       "57857                              0                          0  ...   \n",
       "\n",
       "       CMPLNT_FR_PART_Late Night  CMPLNT_FR_PART_Morning  \\\n",
       "0                              0                       0   \n",
       "1                              0                       0   \n",
       "2                              0                       0   \n",
       "3                              1                       0   \n",
       "4                              0                       0   \n",
       "...                          ...                     ...   \n",
       "57853                          0                       0   \n",
       "57854                          0                       0   \n",
       "57855                          0                       0   \n",
       "57856                          0                       0   \n",
       "57857                          0                       0   \n",
       "\n",
       "       CMPLNT_FR_PART_Night  CMPLNT_FR_PART_Noon  \\\n",
       "0                         0                    1   \n",
       "1                         1                    0   \n",
       "2                         0                    0   \n",
       "3                         0                    0   \n",
       "4                         1                    0   \n",
       "...                     ...                  ...   \n",
       "57853                     1                    0   \n",
       "57854                     0                    0   \n",
       "57855                     0                    0   \n",
       "57856                     0                    0   \n",
       "57857                     0                    1   \n",
       "\n",
       "       CMPLNT_TO_PART_Early Morning  CMPLNT_TO_PART_Evening  \\\n",
       "0                                 0                       0   \n",
       "1                                 0                       0   \n",
       "2                                 1                       0   \n",
       "3                                 0                       0   \n",
       "4                                 0                       0   \n",
       "...                             ...                     ...   \n",
       "57853                             0                       0   \n",
       "57854                             1                       0   \n",
       "57855                             1                       0   \n",
       "57856                             0                       1   \n",
       "57857                             0                       0   \n",
       "\n",
       "       CMPLNT_TO_PART_Late Night  CMPLNT_TO_PART_Morning  \\\n",
       "0                              0                       0   \n",
       "1                              0                       0   \n",
       "2                              0                       0   \n",
       "3                              1                       0   \n",
       "4                              0                       0   \n",
       "...                          ...                     ...   \n",
       "57853                          0                       0   \n",
       "57854                          0                       0   \n",
       "57855                          0                       0   \n",
       "57856                          0                       0   \n",
       "57857                          0                       0   \n",
       "\n",
       "       CMPLNT_TO_PART_Night  CMPLNT_TO_PART_Noon  \n",
       "0                         1                    0  \n",
       "1                         1                    0  \n",
       "2                         0                    0  \n",
       "3                         0                    0  \n",
       "4                         1                    0  \n",
       "...                     ...                  ...  \n",
       "57853                     1                    0  \n",
       "57854                     0                    0  \n",
       "57855                     0                    0  \n",
       "57856                     0                    0  \n",
       "57857                     0                    1  \n",
       "\n",
       "[57858 rows x 73 columns]"
      ]
     },
     "execution_count": 61,
     "metadata": {},
     "output_type": "execute_result"
    }
   ],
   "source": [
    "df1= pd.get_dummies(df,columns=['CRM_ATPT_CPTD_CD','LAW_CAT_CD','LOC_OF_OCCUR_DESC','PATROL_BORO','SUSP_AGE_GROUP','SUSP_RACE','SUSP_SEX','VIC_AGE_GROUP','VIC_RACE','VIC_SEX','CMPLNT_FR_DAY','CMPLNT_TO_DAY','CMPLNT_FR_PART','CMPLNT_TO_PART'])\n",
    "df1"
   ]
  },
  {
   "cell_type": "code",
   "execution_count": 62,
   "id": "30f1e9ee",
   "metadata": {},
   "outputs": [
    {
     "data": {
      "text/html": [
       "<div>\n",
       "<style scoped>\n",
       "    .dataframe tbody tr th:only-of-type {\n",
       "        vertical-align: middle;\n",
       "    }\n",
       "\n",
       "    .dataframe tbody tr th {\n",
       "        vertical-align: top;\n",
       "    }\n",
       "\n",
       "    .dataframe thead th {\n",
       "        text-align: right;\n",
       "    }\n",
       "</style>\n",
       "<table border=\"1\" class=\"dataframe\">\n",
       "  <thead>\n",
       "    <tr style=\"text-align: right;\">\n",
       "      <th></th>\n",
       "      <th>count</th>\n",
       "      <th>mean</th>\n",
       "      <th>std</th>\n",
       "      <th>min</th>\n",
       "      <th>25%</th>\n",
       "      <th>50%</th>\n",
       "      <th>75%</th>\n",
       "      <th>max</th>\n",
       "    </tr>\n",
       "  </thead>\n",
       "  <tbody>\n",
       "    <tr>\n",
       "      <th>CRM_ATPT_CPTD_CD_ATTEMPTED</th>\n",
       "      <td>57858.0</td>\n",
       "      <td>0.014103</td>\n",
       "      <td>0.117919</td>\n",
       "      <td>0.0</td>\n",
       "      <td>0.0</td>\n",
       "      <td>0.0</td>\n",
       "      <td>0.0</td>\n",
       "      <td>1.0</td>\n",
       "    </tr>\n",
       "    <tr>\n",
       "      <th>CRM_ATPT_CPTD_CD_COMPLETED</th>\n",
       "      <td>57858.0</td>\n",
       "      <td>0.985897</td>\n",
       "      <td>0.117919</td>\n",
       "      <td>0.0</td>\n",
       "      <td>1.0</td>\n",
       "      <td>1.0</td>\n",
       "      <td>1.0</td>\n",
       "      <td>1.0</td>\n",
       "    </tr>\n",
       "    <tr>\n",
       "      <th>LAW_CAT_CD_FELONY</th>\n",
       "      <td>57858.0</td>\n",
       "      <td>0.278769</td>\n",
       "      <td>0.448397</td>\n",
       "      <td>0.0</td>\n",
       "      <td>0.0</td>\n",
       "      <td>0.0</td>\n",
       "      <td>1.0</td>\n",
       "      <td>1.0</td>\n",
       "    </tr>\n",
       "    <tr>\n",
       "      <th>LAW_CAT_CD_MISDEMEANOR</th>\n",
       "      <td>57858.0</td>\n",
       "      <td>0.421653</td>\n",
       "      <td>0.493828</td>\n",
       "      <td>0.0</td>\n",
       "      <td>0.0</td>\n",
       "      <td>0.0</td>\n",
       "      <td>1.0</td>\n",
       "      <td>1.0</td>\n",
       "    </tr>\n",
       "    <tr>\n",
       "      <th>LAW_CAT_CD_VIOLATION</th>\n",
       "      <td>57858.0</td>\n",
       "      <td>0.299578</td>\n",
       "      <td>0.458077</td>\n",
       "      <td>0.0</td>\n",
       "      <td>0.0</td>\n",
       "      <td>0.0</td>\n",
       "      <td>1.0</td>\n",
       "      <td>1.0</td>\n",
       "    </tr>\n",
       "    <tr>\n",
       "      <th>...</th>\n",
       "      <td>...</td>\n",
       "      <td>...</td>\n",
       "      <td>...</td>\n",
       "      <td>...</td>\n",
       "      <td>...</td>\n",
       "      <td>...</td>\n",
       "      <td>...</td>\n",
       "      <td>...</td>\n",
       "    </tr>\n",
       "    <tr>\n",
       "      <th>CMPLNT_TO_PART_Evening</th>\n",
       "      <td>57858.0</td>\n",
       "      <td>0.221905</td>\n",
       "      <td>0.415531</td>\n",
       "      <td>0.0</td>\n",
       "      <td>0.0</td>\n",
       "      <td>0.0</td>\n",
       "      <td>0.0</td>\n",
       "      <td>1.0</td>\n",
       "    </tr>\n",
       "    <tr>\n",
       "      <th>CMPLNT_TO_PART_Late Night</th>\n",
       "      <td>57858.0</td>\n",
       "      <td>0.146911</td>\n",
       "      <td>0.354021</td>\n",
       "      <td>0.0</td>\n",
       "      <td>0.0</td>\n",
       "      <td>0.0</td>\n",
       "      <td>0.0</td>\n",
       "      <td>1.0</td>\n",
       "    </tr>\n",
       "    <tr>\n",
       "      <th>CMPLNT_TO_PART_Morning</th>\n",
       "      <td>57858.0</td>\n",
       "      <td>0.178143</td>\n",
       "      <td>0.382636</td>\n",
       "      <td>0.0</td>\n",
       "      <td>0.0</td>\n",
       "      <td>0.0</td>\n",
       "      <td>0.0</td>\n",
       "      <td>1.0</td>\n",
       "    </tr>\n",
       "    <tr>\n",
       "      <th>CMPLNT_TO_PART_Night</th>\n",
       "      <td>57858.0</td>\n",
       "      <td>0.148882</td>\n",
       "      <td>0.355975</td>\n",
       "      <td>0.0</td>\n",
       "      <td>0.0</td>\n",
       "      <td>0.0</td>\n",
       "      <td>0.0</td>\n",
       "      <td>1.0</td>\n",
       "    </tr>\n",
       "    <tr>\n",
       "      <th>CMPLNT_TO_PART_Noon</th>\n",
       "      <td>57858.0</td>\n",
       "      <td>0.207059</td>\n",
       "      <td>0.405201</td>\n",
       "      <td>0.0</td>\n",
       "      <td>0.0</td>\n",
       "      <td>0.0</td>\n",
       "      <td>0.0</td>\n",
       "      <td>1.0</td>\n",
       "    </tr>\n",
       "  </tbody>\n",
       "</table>\n",
       "<p>72 rows × 8 columns</p>\n",
       "</div>"
      ],
      "text/plain": [
       "                              count      mean       std  min  25%  50%  75%  \\\n",
       "CRM_ATPT_CPTD_CD_ATTEMPTED  57858.0  0.014103  0.117919  0.0  0.0  0.0  0.0   \n",
       "CRM_ATPT_CPTD_CD_COMPLETED  57858.0  0.985897  0.117919  0.0  1.0  1.0  1.0   \n",
       "LAW_CAT_CD_FELONY           57858.0  0.278769  0.448397  0.0  0.0  0.0  1.0   \n",
       "LAW_CAT_CD_MISDEMEANOR      57858.0  0.421653  0.493828  0.0  0.0  0.0  1.0   \n",
       "LAW_CAT_CD_VIOLATION        57858.0  0.299578  0.458077  0.0  0.0  0.0  1.0   \n",
       "...                             ...       ...       ...  ...  ...  ...  ...   \n",
       "CMPLNT_TO_PART_Evening      57858.0  0.221905  0.415531  0.0  0.0  0.0  0.0   \n",
       "CMPLNT_TO_PART_Late Night   57858.0  0.146911  0.354021  0.0  0.0  0.0  0.0   \n",
       "CMPLNT_TO_PART_Morning      57858.0  0.178143  0.382636  0.0  0.0  0.0  0.0   \n",
       "CMPLNT_TO_PART_Night        57858.0  0.148882  0.355975  0.0  0.0  0.0  0.0   \n",
       "CMPLNT_TO_PART_Noon         57858.0  0.207059  0.405201  0.0  0.0  0.0  0.0   \n",
       "\n",
       "                            max  \n",
       "CRM_ATPT_CPTD_CD_ATTEMPTED  1.0  \n",
       "CRM_ATPT_CPTD_CD_COMPLETED  1.0  \n",
       "LAW_CAT_CD_FELONY           1.0  \n",
       "LAW_CAT_CD_MISDEMEANOR      1.0  \n",
       "LAW_CAT_CD_VIOLATION        1.0  \n",
       "...                         ...  \n",
       "CMPLNT_TO_PART_Evening      1.0  \n",
       "CMPLNT_TO_PART_Late Night   1.0  \n",
       "CMPLNT_TO_PART_Morning      1.0  \n",
       "CMPLNT_TO_PART_Night        1.0  \n",
       "CMPLNT_TO_PART_Noon         1.0  \n",
       "\n",
       "[72 rows x 8 columns]"
      ]
     },
     "execution_count": 62,
     "metadata": {},
     "output_type": "execute_result"
    }
   ],
   "source": [
    "# Show descriptive statistics\n",
    "df1.describe().transpose()"
   ]
  },
  {
   "cell_type": "code",
   "execution_count": 63,
   "id": "6d64b806",
   "metadata": {},
   "outputs": [
    {
     "data": {
      "text/html": [
       "<div>\n",
       "<style scoped>\n",
       "    .dataframe tbody tr th:only-of-type {\n",
       "        vertical-align: middle;\n",
       "    }\n",
       "\n",
       "    .dataframe tbody tr th {\n",
       "        vertical-align: top;\n",
       "    }\n",
       "\n",
       "    .dataframe thead th {\n",
       "        text-align: right;\n",
       "    }\n",
       "</style>\n",
       "<table border=\"1\" class=\"dataframe\">\n",
       "  <thead>\n",
       "    <tr style=\"text-align: right;\">\n",
       "      <th></th>\n",
       "      <th>CRM_ATPT_CPTD_CD_ATTEMPTED</th>\n",
       "      <th>CRM_ATPT_CPTD_CD_COMPLETED</th>\n",
       "      <th>LAW_CAT_CD_FELONY</th>\n",
       "      <th>LAW_CAT_CD_MISDEMEANOR</th>\n",
       "      <th>LAW_CAT_CD_VIOLATION</th>\n",
       "      <th>LOC_OF_OCCUR_DESC_FRONT OF</th>\n",
       "      <th>LOC_OF_OCCUR_DESC_INSIDE</th>\n",
       "      <th>LOC_OF_OCCUR_DESC_OPPOSITE OF</th>\n",
       "      <th>LOC_OF_OCCUR_DESC_REAR OF</th>\n",
       "      <th>PATROL_BORO_PATROL BORO BKLYN NORTH</th>\n",
       "      <th>...</th>\n",
       "      <th>CMPLNT_FR_PART_Late Night</th>\n",
       "      <th>CMPLNT_FR_PART_Morning</th>\n",
       "      <th>CMPLNT_FR_PART_Night</th>\n",
       "      <th>CMPLNT_FR_PART_Noon</th>\n",
       "      <th>CMPLNT_TO_PART_Early Morning</th>\n",
       "      <th>CMPLNT_TO_PART_Evening</th>\n",
       "      <th>CMPLNT_TO_PART_Late Night</th>\n",
       "      <th>CMPLNT_TO_PART_Morning</th>\n",
       "      <th>CMPLNT_TO_PART_Night</th>\n",
       "      <th>CMPLNT_TO_PART_Noon</th>\n",
       "    </tr>\n",
       "  </thead>\n",
       "  <tbody>\n",
       "    <tr>\n",
       "      <th>CRM_ATPT_CPTD_CD_ATTEMPTED</th>\n",
       "      <td>1.000000</td>\n",
       "      <td>-1.000000</td>\n",
       "      <td>0.140733</td>\n",
       "      <td>-0.060867</td>\n",
       "      <td>-0.072141</td>\n",
       "      <td>0.035514</td>\n",
       "      <td>-0.040182</td>\n",
       "      <td>0.015263</td>\n",
       "      <td>0.010273</td>\n",
       "      <td>0.001133</td>\n",
       "      <td>...</td>\n",
       "      <td>0.011823</td>\n",
       "      <td>-0.011482</td>\n",
       "      <td>0.004490</td>\n",
       "      <td>-0.001417</td>\n",
       "      <td>0.002360</td>\n",
       "      <td>-0.002143</td>\n",
       "      <td>0.012057</td>\n",
       "      <td>-0.009333</td>\n",
       "      <td>0.002682</td>\n",
       "      <td>-0.003603</td>\n",
       "    </tr>\n",
       "    <tr>\n",
       "      <th>CRM_ATPT_CPTD_CD_COMPLETED</th>\n",
       "      <td>-1.000000</td>\n",
       "      <td>1.000000</td>\n",
       "      <td>-0.140733</td>\n",
       "      <td>0.060867</td>\n",
       "      <td>0.072141</td>\n",
       "      <td>-0.035514</td>\n",
       "      <td>0.040182</td>\n",
       "      <td>-0.015263</td>\n",
       "      <td>-0.010273</td>\n",
       "      <td>-0.001133</td>\n",
       "      <td>...</td>\n",
       "      <td>-0.011823</td>\n",
       "      <td>0.011482</td>\n",
       "      <td>-0.004490</td>\n",
       "      <td>0.001417</td>\n",
       "      <td>-0.002360</td>\n",
       "      <td>0.002143</td>\n",
       "      <td>-0.012057</td>\n",
       "      <td>0.009333</td>\n",
       "      <td>-0.002682</td>\n",
       "      <td>0.003603</td>\n",
       "    </tr>\n",
       "    <tr>\n",
       "      <th>LAW_CAT_CD_FELONY</th>\n",
       "      <td>0.140733</td>\n",
       "      <td>-0.140733</td>\n",
       "      <td>1.000000</td>\n",
       "      <td>-0.530845</td>\n",
       "      <td>-0.406593</td>\n",
       "      <td>0.031360</td>\n",
       "      <td>-0.040669</td>\n",
       "      <td>0.027754</td>\n",
       "      <td>0.018541</td>\n",
       "      <td>0.011167</td>\n",
       "      <td>...</td>\n",
       "      <td>0.065622</td>\n",
       "      <td>-0.038161</td>\n",
       "      <td>0.010489</td>\n",
       "      <td>-0.019107</td>\n",
       "      <td>0.008836</td>\n",
       "      <td>-0.013368</td>\n",
       "      <td>0.052096</td>\n",
       "      <td>-0.031357</td>\n",
       "      <td>0.015667</td>\n",
       "      <td>-0.022417</td>\n",
       "    </tr>\n",
       "    <tr>\n",
       "      <th>LAW_CAT_CD_MISDEMEANOR</th>\n",
       "      <td>-0.060867</td>\n",
       "      <td>0.060867</td>\n",
       "      <td>-0.530845</td>\n",
       "      <td>1.000000</td>\n",
       "      <td>-0.558417</td>\n",
       "      <td>-0.009804</td>\n",
       "      <td>0.008497</td>\n",
       "      <td>0.003272</td>\n",
       "      <td>0.001606</td>\n",
       "      <td>-0.004701</td>\n",
       "      <td>...</td>\n",
       "      <td>0.011850</td>\n",
       "      <td>-0.011062</td>\n",
       "      <td>0.008854</td>\n",
       "      <td>-0.010746</td>\n",
       "      <td>-0.001400</td>\n",
       "      <td>0.001718</td>\n",
       "      <td>0.015912</td>\n",
       "      <td>-0.013078</td>\n",
       "      <td>0.006871</td>\n",
       "      <td>-0.008327</td>\n",
       "    </tr>\n",
       "    <tr>\n",
       "      <th>LAW_CAT_CD_VIOLATION</th>\n",
       "      <td>-0.072141</td>\n",
       "      <td>0.072141</td>\n",
       "      <td>-0.406593</td>\n",
       "      <td>-0.558417</td>\n",
       "      <td>1.000000</td>\n",
       "      <td>-0.020127</td>\n",
       "      <td>0.030650</td>\n",
       "      <td>-0.030695</td>\n",
       "      <td>-0.019881</td>\n",
       "      <td>-0.005863</td>\n",
       "      <td>...</td>\n",
       "      <td>-0.077011</td>\n",
       "      <td>0.049280</td>\n",
       "      <td>-0.019812</td>\n",
       "      <td>0.030288</td>\n",
       "      <td>-0.007140</td>\n",
       "      <td>0.011234</td>\n",
       "      <td>-0.068149</td>\n",
       "      <td>0.044793</td>\n",
       "      <td>-0.022743</td>\n",
       "      <td>0.030920</td>\n",
       "    </tr>\n",
       "    <tr>\n",
       "      <th>...</th>\n",
       "      <td>...</td>\n",
       "      <td>...</td>\n",
       "      <td>...</td>\n",
       "      <td>...</td>\n",
       "      <td>...</td>\n",
       "      <td>...</td>\n",
       "      <td>...</td>\n",
       "      <td>...</td>\n",
       "      <td>...</td>\n",
       "      <td>...</td>\n",
       "      <td>...</td>\n",
       "      <td>...</td>\n",
       "      <td>...</td>\n",
       "      <td>...</td>\n",
       "      <td>...</td>\n",
       "      <td>...</td>\n",
       "      <td>...</td>\n",
       "      <td>...</td>\n",
       "      <td>...</td>\n",
       "      <td>...</td>\n",
       "      <td>...</td>\n",
       "    </tr>\n",
       "    <tr>\n",
       "      <th>CMPLNT_TO_PART_Evening</th>\n",
       "      <td>-0.002143</td>\n",
       "      <td>0.002143</td>\n",
       "      <td>-0.013368</td>\n",
       "      <td>0.001718</td>\n",
       "      <td>0.011234</td>\n",
       "      <td>0.016282</td>\n",
       "      <td>-0.015047</td>\n",
       "      <td>-0.000240</td>\n",
       "      <td>-0.003237</td>\n",
       "      <td>-0.008309</td>\n",
       "      <td>...</td>\n",
       "      <td>-0.214519</td>\n",
       "      <td>-0.221179</td>\n",
       "      <td>-0.208176</td>\n",
       "      <td>-0.163757</td>\n",
       "      <td>-0.175129</td>\n",
       "      <td>1.000000</td>\n",
       "      <td>-0.221615</td>\n",
       "      <td>-0.248630</td>\n",
       "      <td>-0.223354</td>\n",
       "      <td>-0.272894</td>\n",
       "    </tr>\n",
       "    <tr>\n",
       "      <th>CMPLNT_TO_PART_Late Night</th>\n",
       "      <td>0.012057</td>\n",
       "      <td>-0.012057</td>\n",
       "      <td>0.052096</td>\n",
       "      <td>0.015912</td>\n",
       "      <td>-0.068149</td>\n",
       "      <td>-0.000111</td>\n",
       "      <td>-0.000276</td>\n",
       "      <td>0.000437</td>\n",
       "      <td>0.001241</td>\n",
       "      <td>-0.002015</td>\n",
       "      <td>...</td>\n",
       "      <td>0.852729</td>\n",
       "      <td>-0.187023</td>\n",
       "      <td>-0.076127</td>\n",
       "      <td>-0.203650</td>\n",
       "      <td>-0.136088</td>\n",
       "      <td>-0.221615</td>\n",
       "      <td>1.000000</td>\n",
       "      <td>-0.193204</td>\n",
       "      <td>-0.173563</td>\n",
       "      <td>-0.212059</td>\n",
       "    </tr>\n",
       "    <tr>\n",
       "      <th>CMPLNT_TO_PART_Morning</th>\n",
       "      <td>-0.009333</td>\n",
       "      <td>0.009333</td>\n",
       "      <td>-0.031357</td>\n",
       "      <td>-0.013078</td>\n",
       "      <td>0.044793</td>\n",
       "      <td>-0.027843</td>\n",
       "      <td>0.028652</td>\n",
       "      <td>-0.006487</td>\n",
       "      <td>-0.000791</td>\n",
       "      <td>0.003622</td>\n",
       "      <td>...</td>\n",
       "      <td>-0.170069</td>\n",
       "      <td>0.826518</td>\n",
       "      <td>-0.174303</td>\n",
       "      <td>-0.221522</td>\n",
       "      <td>-0.152678</td>\n",
       "      <td>-0.248630</td>\n",
       "      <td>-0.193204</td>\n",
       "      <td>1.000000</td>\n",
       "      <td>-0.194721</td>\n",
       "      <td>-0.237910</td>\n",
       "    </tr>\n",
       "    <tr>\n",
       "      <th>CMPLNT_TO_PART_Night</th>\n",
       "      <td>0.002682</td>\n",
       "      <td>-0.002682</td>\n",
       "      <td>0.015667</td>\n",
       "      <td>0.006871</td>\n",
       "      <td>-0.022743</td>\n",
       "      <td>-0.018058</td>\n",
       "      <td>0.020684</td>\n",
       "      <td>-0.003849</td>\n",
       "      <td>-0.009701</td>\n",
       "      <td>-0.001205</td>\n",
       "      <td>...</td>\n",
       "      <td>-0.141106</td>\n",
       "      <td>-0.180829</td>\n",
       "      <td>0.830897</td>\n",
       "      <td>-0.196793</td>\n",
       "      <td>-0.137156</td>\n",
       "      <td>-0.223354</td>\n",
       "      <td>-0.173563</td>\n",
       "      <td>-0.194721</td>\n",
       "      <td>1.000000</td>\n",
       "      <td>-0.213723</td>\n",
       "    </tr>\n",
       "    <tr>\n",
       "      <th>CMPLNT_TO_PART_Noon</th>\n",
       "      <td>-0.003603</td>\n",
       "      <td>0.003603</td>\n",
       "      <td>-0.022417</td>\n",
       "      <td>-0.008327</td>\n",
       "      <td>0.030920</td>\n",
       "      <td>0.036833</td>\n",
       "      <td>-0.039282</td>\n",
       "      <td>0.005922</td>\n",
       "      <td>0.009186</td>\n",
       "      <td>0.000561</td>\n",
       "      <td>...</td>\n",
       "      <td>-0.200554</td>\n",
       "      <td>-0.124086</td>\n",
       "      <td>-0.198199</td>\n",
       "      <td>0.843628</td>\n",
       "      <td>-0.167577</td>\n",
       "      <td>-0.272894</td>\n",
       "      <td>-0.212059</td>\n",
       "      <td>-0.237910</td>\n",
       "      <td>-0.213723</td>\n",
       "      <td>1.000000</td>\n",
       "    </tr>\n",
       "  </tbody>\n",
       "</table>\n",
       "<p>72 rows × 72 columns</p>\n",
       "</div>"
      ],
      "text/plain": [
       "                            CRM_ATPT_CPTD_CD_ATTEMPTED  \\\n",
       "CRM_ATPT_CPTD_CD_ATTEMPTED                    1.000000   \n",
       "CRM_ATPT_CPTD_CD_COMPLETED                   -1.000000   \n",
       "LAW_CAT_CD_FELONY                             0.140733   \n",
       "LAW_CAT_CD_MISDEMEANOR                       -0.060867   \n",
       "LAW_CAT_CD_VIOLATION                         -0.072141   \n",
       "...                                                ...   \n",
       "CMPLNT_TO_PART_Evening                       -0.002143   \n",
       "CMPLNT_TO_PART_Late Night                     0.012057   \n",
       "CMPLNT_TO_PART_Morning                       -0.009333   \n",
       "CMPLNT_TO_PART_Night                          0.002682   \n",
       "CMPLNT_TO_PART_Noon                          -0.003603   \n",
       "\n",
       "                            CRM_ATPT_CPTD_CD_COMPLETED  LAW_CAT_CD_FELONY  \\\n",
       "CRM_ATPT_CPTD_CD_ATTEMPTED                   -1.000000           0.140733   \n",
       "CRM_ATPT_CPTD_CD_COMPLETED                    1.000000          -0.140733   \n",
       "LAW_CAT_CD_FELONY                            -0.140733           1.000000   \n",
       "LAW_CAT_CD_MISDEMEANOR                        0.060867          -0.530845   \n",
       "LAW_CAT_CD_VIOLATION                          0.072141          -0.406593   \n",
       "...                                                ...                ...   \n",
       "CMPLNT_TO_PART_Evening                        0.002143          -0.013368   \n",
       "CMPLNT_TO_PART_Late Night                    -0.012057           0.052096   \n",
       "CMPLNT_TO_PART_Morning                        0.009333          -0.031357   \n",
       "CMPLNT_TO_PART_Night                         -0.002682           0.015667   \n",
       "CMPLNT_TO_PART_Noon                           0.003603          -0.022417   \n",
       "\n",
       "                            LAW_CAT_CD_MISDEMEANOR  LAW_CAT_CD_VIOLATION  \\\n",
       "CRM_ATPT_CPTD_CD_ATTEMPTED               -0.060867             -0.072141   \n",
       "CRM_ATPT_CPTD_CD_COMPLETED                0.060867              0.072141   \n",
       "LAW_CAT_CD_FELONY                        -0.530845             -0.406593   \n",
       "LAW_CAT_CD_MISDEMEANOR                    1.000000             -0.558417   \n",
       "LAW_CAT_CD_VIOLATION                     -0.558417              1.000000   \n",
       "...                                            ...                   ...   \n",
       "CMPLNT_TO_PART_Evening                    0.001718              0.011234   \n",
       "CMPLNT_TO_PART_Late Night                 0.015912             -0.068149   \n",
       "CMPLNT_TO_PART_Morning                   -0.013078              0.044793   \n",
       "CMPLNT_TO_PART_Night                      0.006871             -0.022743   \n",
       "CMPLNT_TO_PART_Noon                      -0.008327              0.030920   \n",
       "\n",
       "                            LOC_OF_OCCUR_DESC_FRONT OF  \\\n",
       "CRM_ATPT_CPTD_CD_ATTEMPTED                    0.035514   \n",
       "CRM_ATPT_CPTD_CD_COMPLETED                   -0.035514   \n",
       "LAW_CAT_CD_FELONY                             0.031360   \n",
       "LAW_CAT_CD_MISDEMEANOR                       -0.009804   \n",
       "LAW_CAT_CD_VIOLATION                         -0.020127   \n",
       "...                                                ...   \n",
       "CMPLNT_TO_PART_Evening                        0.016282   \n",
       "CMPLNT_TO_PART_Late Night                    -0.000111   \n",
       "CMPLNT_TO_PART_Morning                       -0.027843   \n",
       "CMPLNT_TO_PART_Night                         -0.018058   \n",
       "CMPLNT_TO_PART_Noon                           0.036833   \n",
       "\n",
       "                            LOC_OF_OCCUR_DESC_INSIDE  \\\n",
       "CRM_ATPT_CPTD_CD_ATTEMPTED                 -0.040182   \n",
       "CRM_ATPT_CPTD_CD_COMPLETED                  0.040182   \n",
       "LAW_CAT_CD_FELONY                          -0.040669   \n",
       "LAW_CAT_CD_MISDEMEANOR                      0.008497   \n",
       "LAW_CAT_CD_VIOLATION                        0.030650   \n",
       "...                                              ...   \n",
       "CMPLNT_TO_PART_Evening                     -0.015047   \n",
       "CMPLNT_TO_PART_Late Night                  -0.000276   \n",
       "CMPLNT_TO_PART_Morning                      0.028652   \n",
       "CMPLNT_TO_PART_Night                        0.020684   \n",
       "CMPLNT_TO_PART_Noon                        -0.039282   \n",
       "\n",
       "                            LOC_OF_OCCUR_DESC_OPPOSITE OF  \\\n",
       "CRM_ATPT_CPTD_CD_ATTEMPTED                       0.015263   \n",
       "CRM_ATPT_CPTD_CD_COMPLETED                      -0.015263   \n",
       "LAW_CAT_CD_FELONY                                0.027754   \n",
       "LAW_CAT_CD_MISDEMEANOR                           0.003272   \n",
       "LAW_CAT_CD_VIOLATION                            -0.030695   \n",
       "...                                                   ...   \n",
       "CMPLNT_TO_PART_Evening                          -0.000240   \n",
       "CMPLNT_TO_PART_Late Night                        0.000437   \n",
       "CMPLNT_TO_PART_Morning                          -0.006487   \n",
       "CMPLNT_TO_PART_Night                            -0.003849   \n",
       "CMPLNT_TO_PART_Noon                              0.005922   \n",
       "\n",
       "                            LOC_OF_OCCUR_DESC_REAR OF  \\\n",
       "CRM_ATPT_CPTD_CD_ATTEMPTED                   0.010273   \n",
       "CRM_ATPT_CPTD_CD_COMPLETED                  -0.010273   \n",
       "LAW_CAT_CD_FELONY                            0.018541   \n",
       "LAW_CAT_CD_MISDEMEANOR                       0.001606   \n",
       "LAW_CAT_CD_VIOLATION                        -0.019881   \n",
       "...                                               ...   \n",
       "CMPLNT_TO_PART_Evening                      -0.003237   \n",
       "CMPLNT_TO_PART_Late Night                    0.001241   \n",
       "CMPLNT_TO_PART_Morning                      -0.000791   \n",
       "CMPLNT_TO_PART_Night                        -0.009701   \n",
       "CMPLNT_TO_PART_Noon                          0.009186   \n",
       "\n",
       "                            PATROL_BORO_PATROL BORO BKLYN NORTH  ...  \\\n",
       "CRM_ATPT_CPTD_CD_ATTEMPTED                             0.001133  ...   \n",
       "CRM_ATPT_CPTD_CD_COMPLETED                            -0.001133  ...   \n",
       "LAW_CAT_CD_FELONY                                      0.011167  ...   \n",
       "LAW_CAT_CD_MISDEMEANOR                                -0.004701  ...   \n",
       "LAW_CAT_CD_VIOLATION                                  -0.005863  ...   \n",
       "...                                                         ...  ...   \n",
       "CMPLNT_TO_PART_Evening                                -0.008309  ...   \n",
       "CMPLNT_TO_PART_Late Night                             -0.002015  ...   \n",
       "CMPLNT_TO_PART_Morning                                 0.003622  ...   \n",
       "CMPLNT_TO_PART_Night                                  -0.001205  ...   \n",
       "CMPLNT_TO_PART_Noon                                    0.000561  ...   \n",
       "\n",
       "                            CMPLNT_FR_PART_Late Night  CMPLNT_FR_PART_Morning  \\\n",
       "CRM_ATPT_CPTD_CD_ATTEMPTED                   0.011823               -0.011482   \n",
       "CRM_ATPT_CPTD_CD_COMPLETED                  -0.011823                0.011482   \n",
       "LAW_CAT_CD_FELONY                            0.065622               -0.038161   \n",
       "LAW_CAT_CD_MISDEMEANOR                       0.011850               -0.011062   \n",
       "LAW_CAT_CD_VIOLATION                        -0.077011                0.049280   \n",
       "...                                               ...                     ...   \n",
       "CMPLNT_TO_PART_Evening                      -0.214519               -0.221179   \n",
       "CMPLNT_TO_PART_Late Night                    0.852729               -0.187023   \n",
       "CMPLNT_TO_PART_Morning                      -0.170069                0.826518   \n",
       "CMPLNT_TO_PART_Night                        -0.141106               -0.180829   \n",
       "CMPLNT_TO_PART_Noon                         -0.200554               -0.124086   \n",
       "\n",
       "                            CMPLNT_FR_PART_Night  CMPLNT_FR_PART_Noon  \\\n",
       "CRM_ATPT_CPTD_CD_ATTEMPTED              0.004490            -0.001417   \n",
       "CRM_ATPT_CPTD_CD_COMPLETED             -0.004490             0.001417   \n",
       "LAW_CAT_CD_FELONY                       0.010489            -0.019107   \n",
       "LAW_CAT_CD_MISDEMEANOR                  0.008854            -0.010746   \n",
       "LAW_CAT_CD_VIOLATION                   -0.019812             0.030288   \n",
       "...                                          ...                  ...   \n",
       "CMPLNT_TO_PART_Evening                 -0.208176            -0.163757   \n",
       "CMPLNT_TO_PART_Late Night              -0.076127            -0.203650   \n",
       "CMPLNT_TO_PART_Morning                 -0.174303            -0.221522   \n",
       "CMPLNT_TO_PART_Night                    0.830897            -0.196793   \n",
       "CMPLNT_TO_PART_Noon                    -0.198199             0.843628   \n",
       "\n",
       "                            CMPLNT_TO_PART_Early Morning  \\\n",
       "CRM_ATPT_CPTD_CD_ATTEMPTED                      0.002360   \n",
       "CRM_ATPT_CPTD_CD_COMPLETED                     -0.002360   \n",
       "LAW_CAT_CD_FELONY                               0.008836   \n",
       "LAW_CAT_CD_MISDEMEANOR                         -0.001400   \n",
       "LAW_CAT_CD_VIOLATION                           -0.007140   \n",
       "...                                                  ...   \n",
       "CMPLNT_TO_PART_Evening                         -0.175129   \n",
       "CMPLNT_TO_PART_Late Night                      -0.136088   \n",
       "CMPLNT_TO_PART_Morning                         -0.152678   \n",
       "CMPLNT_TO_PART_Night                           -0.137156   \n",
       "CMPLNT_TO_PART_Noon                            -0.167577   \n",
       "\n",
       "                            CMPLNT_TO_PART_Evening  CMPLNT_TO_PART_Late Night  \\\n",
       "CRM_ATPT_CPTD_CD_ATTEMPTED               -0.002143                   0.012057   \n",
       "CRM_ATPT_CPTD_CD_COMPLETED                0.002143                  -0.012057   \n",
       "LAW_CAT_CD_FELONY                        -0.013368                   0.052096   \n",
       "LAW_CAT_CD_MISDEMEANOR                    0.001718                   0.015912   \n",
       "LAW_CAT_CD_VIOLATION                      0.011234                  -0.068149   \n",
       "...                                            ...                        ...   \n",
       "CMPLNT_TO_PART_Evening                    1.000000                  -0.221615   \n",
       "CMPLNT_TO_PART_Late Night                -0.221615                   1.000000   \n",
       "CMPLNT_TO_PART_Morning                   -0.248630                  -0.193204   \n",
       "CMPLNT_TO_PART_Night                     -0.223354                  -0.173563   \n",
       "CMPLNT_TO_PART_Noon                      -0.272894                  -0.212059   \n",
       "\n",
       "                            CMPLNT_TO_PART_Morning  CMPLNT_TO_PART_Night  \\\n",
       "CRM_ATPT_CPTD_CD_ATTEMPTED               -0.009333              0.002682   \n",
       "CRM_ATPT_CPTD_CD_COMPLETED                0.009333             -0.002682   \n",
       "LAW_CAT_CD_FELONY                        -0.031357              0.015667   \n",
       "LAW_CAT_CD_MISDEMEANOR                   -0.013078              0.006871   \n",
       "LAW_CAT_CD_VIOLATION                      0.044793             -0.022743   \n",
       "...                                            ...                   ...   \n",
       "CMPLNT_TO_PART_Evening                   -0.248630             -0.223354   \n",
       "CMPLNT_TO_PART_Late Night                -0.193204             -0.173563   \n",
       "CMPLNT_TO_PART_Morning                    1.000000             -0.194721   \n",
       "CMPLNT_TO_PART_Night                     -0.194721              1.000000   \n",
       "CMPLNT_TO_PART_Noon                      -0.237910             -0.213723   \n",
       "\n",
       "                            CMPLNT_TO_PART_Noon  \n",
       "CRM_ATPT_CPTD_CD_ATTEMPTED            -0.003603  \n",
       "CRM_ATPT_CPTD_CD_COMPLETED             0.003603  \n",
       "LAW_CAT_CD_FELONY                     -0.022417  \n",
       "LAW_CAT_CD_MISDEMEANOR                -0.008327  \n",
       "LAW_CAT_CD_VIOLATION                   0.030920  \n",
       "...                                         ...  \n",
       "CMPLNT_TO_PART_Evening                -0.272894  \n",
       "CMPLNT_TO_PART_Late Night             -0.212059  \n",
       "CMPLNT_TO_PART_Morning                -0.237910  \n",
       "CMPLNT_TO_PART_Night                  -0.213723  \n",
       "CMPLNT_TO_PART_Noon                    1.000000  \n",
       "\n",
       "[72 rows x 72 columns]"
      ]
     },
     "execution_count": 63,
     "metadata": {},
     "output_type": "execute_result"
    }
   ],
   "source": [
    "df1.corr(method='pearson')"
   ]
  },
  {
   "cell_type": "markdown",
   "id": "95c4d21d",
   "metadata": {},
   "source": [
    "There are no numerical variables available to perform Data Normalization"
   ]
  },
  {
   "cell_type": "markdown",
   "id": "a6a5490c",
   "metadata": {},
   "source": [
    "## Correlation Heatmap"
   ]
  },
  {
   "cell_type": "code",
   "execution_count": 64,
   "id": "ff2c1642",
   "metadata": {},
   "outputs": [
    {
     "data": {
      "text/plain": [
       "<AxesSubplot:>"
      ]
     },
     "execution_count": 64,
     "metadata": {},
     "output_type": "execute_result"
    },
    {
     "data": {
      "image/png": "[encoded data removed]",
      "text/plain": [
       "<Figure size 432x288 with 2 Axes>"
      ]
     },
     "metadata": {
      "needs_background": "light"
     },
     "output_type": "display_data"
    }
   ],
   "source": [
    "sns.heatmap(df1.corr())"
   ]
  },
  {
   "cell_type": "code",
   "execution_count": 65,
   "id": "81d202fb",
   "metadata": {},
   "outputs": [
    {
     "data": {
      "image/png": "[encoded data removed]",
      "text/plain": [
       "<Figure size 432x288 with 2 Axes>"
      ]
     },
     "metadata": {
      "needs_background": "light"
     },
     "output_type": "display_data"
    }
   ],
   "source": [
    "mask = np.zeros_like(df1.corr())\n",
    "mask[np.triu_indices_from(mask)] = True\n",
    "sns.heatmap(df1.corr(), cmap='RdYlGn', vmax=1.0, vmin=-1.0 , mask = mask, linewidths=2)\n",
    "plt.yticks(rotation=0)\n",
    "plt.xticks(rotation=45)\n",
    "plt.savefig('correlation_heatmap.png',dpi=500,bbox_inches='tight')"
   ]
  },
  {
   "cell_type": "code",
   "execution_count": 66,
   "id": "a02a4ddd",
   "metadata": {},
   "outputs": [
    {
     "name": "stdout",
     "output_type": "stream",
     "text": [
      "<class 'pandas.core.frame.DataFrame'>\n",
      "RangeIndex: 57858 entries, 0 to 57857\n",
      "Data columns (total 73 columns):\n",
      " #   Column                                    Non-Null Count  Dtype   \n",
      "---  ------                                    --------------  -----   \n",
      " 0   BORO_NM                                   57858 non-null  category\n",
      " 1   CRM_ATPT_CPTD_CD_ATTEMPTED                57858 non-null  uint8   \n",
      " 2   CRM_ATPT_CPTD_CD_COMPLETED                57858 non-null  uint8   \n",
      " 3   LAW_CAT_CD_FELONY                         57858 non-null  uint8   \n",
      " 4   LAW_CAT_CD_MISDEMEANOR                    57858 non-null  uint8   \n",
      " 5   LAW_CAT_CD_VIOLATION                      57858 non-null  uint8   \n",
      " 6   LOC_OF_OCCUR_DESC_FRONT OF                57858 non-null  uint8   \n",
      " 7   LOC_OF_OCCUR_DESC_INSIDE                  57858 non-null  uint8   \n",
      " 8   LOC_OF_OCCUR_DESC_OPPOSITE OF             57858 non-null  uint8   \n",
      " 9   LOC_OF_OCCUR_DESC_REAR OF                 57858 non-null  uint8   \n",
      " 10  PATROL_BORO_PATROL BORO BKLYN NORTH       57858 non-null  uint8   \n",
      " 11  PATROL_BORO_PATROL BORO BKLYN SOUTH       57858 non-null  uint8   \n",
      " 12  PATROL_BORO_PATROL BORO BRONX             57858 non-null  uint8   \n",
      " 13  PATROL_BORO_PATROL BORO MAN NORTH         57858 non-null  uint8   \n",
      " 14  PATROL_BORO_PATROL BORO MAN SOUTH         57858 non-null  uint8   \n",
      " 15  PATROL_BORO_PATROL BORO QUEENS NORTH      57858 non-null  uint8   \n",
      " 16  PATROL_BORO_PATROL BORO QUEENS SOUTH      57858 non-null  uint8   \n",
      " 17  PATROL_BORO_PATROL BORO STATEN ISLAND     57858 non-null  uint8   \n",
      " 18  SUSP_AGE_GROUP_18-24                      57858 non-null  uint8   \n",
      " 19  SUSP_AGE_GROUP_25-44                      57858 non-null  uint8   \n",
      " 20  SUSP_AGE_GROUP_45-64                      57858 non-null  uint8   \n",
      " 21  SUSP_AGE_GROUP_65+                        57858 non-null  uint8   \n",
      " 22  SUSP_AGE_GROUP_<18                        57858 non-null  uint8   \n",
      " 23  SUSP_RACE_AMERICAN INDIAN/ALASKAN NATIVE  57858 non-null  uint8   \n",
      " 24  SUSP_RACE_ASIAN / PACIFIC ISLANDER        57858 non-null  uint8   \n",
      " 25  SUSP_RACE_BLACK                           57858 non-null  uint8   \n",
      " 26  SUSP_RACE_BLACK HISPANIC                  57858 non-null  uint8   \n",
      " 27  SUSP_RACE_WHITE                           57858 non-null  uint8   \n",
      " 28  SUSP_RACE_WHITE HISPANIC                  57858 non-null  uint8   \n",
      " 29  SUSP_SEX_F                                57858 non-null  uint8   \n",
      " 30  SUSP_SEX_M                                57858 non-null  uint8   \n",
      " 31  SUSP_SEX_U                                57858 non-null  uint8   \n",
      " 32  VIC_AGE_GROUP_18-24                       57858 non-null  uint8   \n",
      " 33  VIC_AGE_GROUP_25-44                       57858 non-null  uint8   \n",
      " 34  VIC_AGE_GROUP_45-64                       57858 non-null  uint8   \n",
      " 35  VIC_AGE_GROUP_65+                         57858 non-null  uint8   \n",
      " 36  VIC_AGE_GROUP_<18                         57858 non-null  uint8   \n",
      " 37  VIC_RACE_AMERICAN INDIAN/ALASKAN NATIVE   57858 non-null  uint8   \n",
      " 38  VIC_RACE_ASIAN / PACIFIC ISLANDER         57858 non-null  uint8   \n",
      " 39  VIC_RACE_BLACK                            57858 non-null  uint8   \n",
      " 40  VIC_RACE_BLACK HISPANIC                   57858 non-null  uint8   \n",
      " 41  VIC_RACE_WHITE                            57858 non-null  uint8   \n",
      " 42  VIC_RACE_WHITE HISPANIC                   57858 non-null  uint8   \n",
      " 43  VIC_SEX_D                                 57858 non-null  uint8   \n",
      " 44  VIC_SEX_E                                 57858 non-null  uint8   \n",
      " 45  VIC_SEX_F                                 57858 non-null  uint8   \n",
      " 46  VIC_SEX_M                                 57858 non-null  uint8   \n",
      " 47  CMPLNT_FR_DAY_Friday                      57858 non-null  uint8   \n",
      " 48  CMPLNT_FR_DAY_Monday                      57858 non-null  uint8   \n",
      " 49  CMPLNT_FR_DAY_Saturday                    57858 non-null  uint8   \n",
      " 50  CMPLNT_FR_DAY_Sunday                      57858 non-null  uint8   \n",
      " 51  CMPLNT_FR_DAY_Thursday                    57858 non-null  uint8   \n",
      " 52  CMPLNT_FR_DAY_Tuesday                     57858 non-null  uint8   \n",
      " 53  CMPLNT_FR_DAY_Wednesday                   57858 non-null  uint8   \n",
      " 54  CMPLNT_TO_DAY_Friday                      57858 non-null  uint8   \n",
      " 55  CMPLNT_TO_DAY_Monday                      57858 non-null  uint8   \n",
      " 56  CMPLNT_TO_DAY_Saturday                    57858 non-null  uint8   \n",
      " 57  CMPLNT_TO_DAY_Sunday                      57858 non-null  uint8   \n",
      " 58  CMPLNT_TO_DAY_Thursday                    57858 non-null  uint8   \n",
      " 59  CMPLNT_TO_DAY_Tuesday                     57858 non-null  uint8   \n",
      " 60  CMPLNT_TO_DAY_Wednesday                   57858 non-null  uint8   \n",
      " 61  CMPLNT_FR_PART_Early Morning              57858 non-null  uint8   \n",
      " 62  CMPLNT_FR_PART_Evening                    57858 non-null  uint8   \n",
      " 63  CMPLNT_FR_PART_Late Night                 57858 non-null  uint8   \n",
      " 64  CMPLNT_FR_PART_Morning                    57858 non-null  uint8   \n",
      " 65  CMPLNT_FR_PART_Night                      57858 non-null  uint8   \n",
      " 66  CMPLNT_FR_PART_Noon                       57858 non-null  uint8   \n",
      " 67  CMPLNT_TO_PART_Early Morning              57858 non-null  uint8   \n",
      " 68  CMPLNT_TO_PART_Evening                    57858 non-null  uint8   \n",
      " 69  CMPLNT_TO_PART_Late Night                 57858 non-null  uint8   \n",
      " 70  CMPLNT_TO_PART_Morning                    57858 non-null  uint8   \n",
      " 71  CMPLNT_TO_PART_Night                      57858 non-null  uint8   \n",
      " 72  CMPLNT_TO_PART_Noon                       57858 non-null  uint8   \n",
      "dtypes: category(1), uint8(72)\n",
      "memory usage: 4.0 MB\n"
     ]
    }
   ],
   "source": [
    "df1.info()"
   ]
  },
  {
   "cell_type": "markdown",
   "id": "f904a26d",
   "metadata": {},
   "source": [
    "# PCA"
   ]
  },
  {
   "cell_type": "code",
   "execution_count": 67,
   "id": "c775b251",
   "metadata": {},
   "outputs": [
    {
     "name": "stderr",
     "output_type": "stream",
     "text": [
      "C:\\Users\\PRAVAL~1\\AppData\\Local\\Temp/ipykernel_3544/2622877443.py:1: FutureWarning: In a future version of pandas all arguments of DataFrame.drop except for the argument 'labels' will be keyword-only\n",
      "  X= df1.drop(\"BORO_NM\",1)\n"
     ]
    }
   ],
   "source": [
    " X= df1.drop(\"BORO_NM\",1)\n",
    " "
   ]
  },
  {
   "cell_type": "code",
   "execution_count": 68,
   "id": "91cde507",
   "metadata": {},
   "outputs": [],
   "source": [
    "Y= df1['BORO_NM']"
   ]
  },
  {
   "cell_type": "code",
   "execution_count": 69,
   "id": "3b6ba104",
   "metadata": {},
   "outputs": [],
   "source": [
    "from sklearn.model_selection import train_test_split\n",
    "\n",
    "X_train, X_test, y_train, y_test = train_test_split(X, Y, test_size=0.2, random_state=0)\n"
   ]
  },
  {
   "cell_type": "code",
   "execution_count": 70,
   "id": "4fc7dde9",
   "metadata": {},
   "outputs": [],
   "source": [
    "from sklearn.preprocessing import StandardScaler\n",
    "\n",
    "sc = StandardScaler()\n",
    "X_train = sc.fit_transform(X_train)\n",
    "X_test = sc.transform(X_test)"
   ]
  },
  {
   "cell_type": "code",
   "execution_count": 71,
   "id": "70e9856b",
   "metadata": {},
   "outputs": [
    {
     "data": {
      "text/html": [
       "<div>\n",
       "<style scoped>\n",
       "    .dataframe tbody tr th:only-of-type {\n",
       "        vertical-align: middle;\n",
       "    }\n",
       "\n",
       "    .dataframe tbody tr th {\n",
       "        vertical-align: top;\n",
       "    }\n",
       "\n",
       "    .dataframe thead th {\n",
       "        text-align: right;\n",
       "    }\n",
       "</style>\n",
       "<table border=\"1\" class=\"dataframe\">\n",
       "  <thead>\n",
       "    <tr style=\"text-align: right;\">\n",
       "      <th></th>\n",
       "      <th>count</th>\n",
       "      <th>mean</th>\n",
       "      <th>std</th>\n",
       "      <th>min</th>\n",
       "      <th>25%</th>\n",
       "      <th>50%</th>\n",
       "      <th>75%</th>\n",
       "      <th>max</th>\n",
       "    </tr>\n",
       "  </thead>\n",
       "  <tbody>\n",
       "    <tr>\n",
       "      <th>0</th>\n",
       "      <td>46286.0</td>\n",
       "      <td>2.403581e-15</td>\n",
       "      <td>1.000011</td>\n",
       "      <td>-0.118598</td>\n",
       "      <td>-0.118598</td>\n",
       "      <td>-0.118598</td>\n",
       "      <td>-0.118598</td>\n",
       "      <td>8.431878</td>\n",
       "    </tr>\n",
       "    <tr>\n",
       "      <th>1</th>\n",
       "      <td>46286.0</td>\n",
       "      <td>-2.430260e-15</td>\n",
       "      <td>1.000011</td>\n",
       "      <td>-8.431878</td>\n",
       "      <td>0.118598</td>\n",
       "      <td>0.118598</td>\n",
       "      <td>0.118598</td>\n",
       "      <td>0.118598</td>\n",
       "    </tr>\n",
       "    <tr>\n",
       "      <th>2</th>\n",
       "      <td>46286.0</td>\n",
       "      <td>-6.248345e-16</td>\n",
       "      <td>1.000011</td>\n",
       "      <td>-0.621302</td>\n",
       "      <td>-0.621302</td>\n",
       "      <td>-0.621302</td>\n",
       "      <td>1.609524</td>\n",
       "      <td>1.609524</td>\n",
       "    </tr>\n",
       "    <tr>\n",
       "      <th>3</th>\n",
       "      <td>46286.0</td>\n",
       "      <td>1.575960e-15</td>\n",
       "      <td>1.000011</td>\n",
       "      <td>-0.854965</td>\n",
       "      <td>-0.854965</td>\n",
       "      <td>-0.854965</td>\n",
       "      <td>1.169639</td>\n",
       "      <td>1.169639</td>\n",
       "    </tr>\n",
       "    <tr>\n",
       "      <th>4</th>\n",
       "      <td>46286.0</td>\n",
       "      <td>3.291476e-16</td>\n",
       "      <td>1.000011</td>\n",
       "      <td>-0.653415</td>\n",
       "      <td>-0.653415</td>\n",
       "      <td>-0.653415</td>\n",
       "      <td>1.530422</td>\n",
       "      <td>1.530422</td>\n",
       "    </tr>\n",
       "    <tr>\n",
       "      <th>...</th>\n",
       "      <td>...</td>\n",
       "      <td>...</td>\n",
       "      <td>...</td>\n",
       "      <td>...</td>\n",
       "      <td>...</td>\n",
       "      <td>...</td>\n",
       "      <td>...</td>\n",
       "      <td>...</td>\n",
       "    </tr>\n",
       "    <tr>\n",
       "      <th>67</th>\n",
       "      <td>46286.0</td>\n",
       "      <td>2.017442e-15</td>\n",
       "      <td>1.000011</td>\n",
       "      <td>-0.533227</td>\n",
       "      <td>-0.533227</td>\n",
       "      <td>-0.533227</td>\n",
       "      <td>-0.533227</td>\n",
       "      <td>1.875374</td>\n",
       "    </tr>\n",
       "    <tr>\n",
       "      <th>68</th>\n",
       "      <td>46286.0</td>\n",
       "      <td>4.796295e-16</td>\n",
       "      <td>1.000011</td>\n",
       "      <td>-0.415665</td>\n",
       "      <td>-0.415665</td>\n",
       "      <td>-0.415665</td>\n",
       "      <td>-0.415665</td>\n",
       "      <td>2.405784</td>\n",
       "    </tr>\n",
       "    <tr>\n",
       "      <th>69</th>\n",
       "      <td>46286.0</td>\n",
       "      <td>-5.248602e-16</td>\n",
       "      <td>1.000011</td>\n",
       "      <td>-0.465862</td>\n",
       "      <td>-0.465862</td>\n",
       "      <td>-0.465862</td>\n",
       "      <td>-0.465862</td>\n",
       "      <td>2.146557</td>\n",
       "    </tr>\n",
       "    <tr>\n",
       "      <th>70</th>\n",
       "      <td>46286.0</td>\n",
       "      <td>-2.587489e-15</td>\n",
       "      <td>1.000011</td>\n",
       "      <td>-0.417629</td>\n",
       "      <td>-0.417629</td>\n",
       "      <td>-0.417629</td>\n",
       "      <td>-0.417629</td>\n",
       "      <td>2.394470</td>\n",
       "    </tr>\n",
       "    <tr>\n",
       "      <th>71</th>\n",
       "      <td>46286.0</td>\n",
       "      <td>8.059731e-16</td>\n",
       "      <td>1.000011</td>\n",
       "      <td>-0.511110</td>\n",
       "      <td>-0.511110</td>\n",
       "      <td>-0.511110</td>\n",
       "      <td>-0.511110</td>\n",
       "      <td>1.956527</td>\n",
       "    </tr>\n",
       "  </tbody>\n",
       "</table>\n",
       "<p>72 rows × 8 columns</p>\n",
       "</div>"
      ],
      "text/plain": [
       "      count          mean       std       min       25%       50%       75%  \\\n",
       "0   46286.0  2.403581e-15  1.000011 -0.118598 -0.118598 -0.118598 -0.118598   \n",
       "1   46286.0 -2.430260e-15  1.000011 -8.431878  0.118598  0.118598  0.118598   \n",
       "2   46286.0 -6.248345e-16  1.000011 -0.621302 -0.621302 -0.621302  1.609524   \n",
       "3   46286.0  1.575960e-15  1.000011 -0.854965 -0.854965 -0.854965  1.169639   \n",
       "4   46286.0  3.291476e-16  1.000011 -0.653415 -0.653415 -0.653415  1.530422   \n",
       "..      ...           ...       ...       ...       ...       ...       ...   \n",
       "67  46286.0  2.017442e-15  1.000011 -0.533227 -0.533227 -0.533227 -0.533227   \n",
       "68  46286.0  4.796295e-16  1.000011 -0.415665 -0.415665 -0.415665 -0.415665   \n",
       "69  46286.0 -5.248602e-16  1.000011 -0.465862 -0.465862 -0.465862 -0.465862   \n",
       "70  46286.0 -2.587489e-15  1.000011 -0.417629 -0.417629 -0.417629 -0.417629   \n",
       "71  46286.0  8.059731e-16  1.000011 -0.511110 -0.511110 -0.511110 -0.511110   \n",
       "\n",
       "         max  \n",
       "0   8.431878  \n",
       "1   0.118598  \n",
       "2   1.609524  \n",
       "3   1.169639  \n",
       "4   1.530422  \n",
       "..       ...  \n",
       "67  1.875374  \n",
       "68  2.405784  \n",
       "69  2.146557  \n",
       "70  2.394470  \n",
       "71  1.956527  \n",
       "\n",
       "[72 rows x 8 columns]"
      ]
     },
     "execution_count": 71,
     "metadata": {},
     "output_type": "execute_result"
    }
   ],
   "source": [
    "pd.DataFrame(X_train).describe().transpose()"
   ]
  },
  {
   "cell_type": "code",
   "execution_count": 72,
   "id": "14a54611",
   "metadata": {},
   "outputs": [
    {
     "data": {
      "text/html": [
       "<div>\n",
       "<style scoped>\n",
       "    .dataframe tbody tr th:only-of-type {\n",
       "        vertical-align: middle;\n",
       "    }\n",
       "\n",
       "    .dataframe tbody tr th {\n",
       "        vertical-align: top;\n",
       "    }\n",
       "\n",
       "    .dataframe thead th {\n",
       "        text-align: right;\n",
       "    }\n",
       "</style>\n",
       "<table border=\"1\" class=\"dataframe\">\n",
       "  <thead>\n",
       "    <tr style=\"text-align: right;\">\n",
       "      <th></th>\n",
       "      <th>0</th>\n",
       "      <th>1</th>\n",
       "      <th>2</th>\n",
       "      <th>3</th>\n",
       "      <th>4</th>\n",
       "      <th>5</th>\n",
       "      <th>6</th>\n",
       "      <th>7</th>\n",
       "      <th>8</th>\n",
       "      <th>9</th>\n",
       "      <th>...</th>\n",
       "      <th>62</th>\n",
       "      <th>63</th>\n",
       "      <th>64</th>\n",
       "      <th>65</th>\n",
       "      <th>66</th>\n",
       "      <th>67</th>\n",
       "      <th>68</th>\n",
       "      <th>69</th>\n",
       "      <th>70</th>\n",
       "      <th>71</th>\n",
       "    </tr>\n",
       "  </thead>\n",
       "  <tbody>\n",
       "    <tr>\n",
       "      <th>0</th>\n",
       "      <td>1.000000</td>\n",
       "      <td>-1.000000</td>\n",
       "      <td>0.143906</td>\n",
       "      <td>-0.064370</td>\n",
       "      <td>-0.071442</td>\n",
       "      <td>0.036415</td>\n",
       "      <td>-0.040162</td>\n",
       "      <td>0.010793</td>\n",
       "      <td>0.010487</td>\n",
       "      <td>0.000799</td>\n",
       "      <td>...</td>\n",
       "      <td>0.005668</td>\n",
       "      <td>-0.010857</td>\n",
       "      <td>0.002292</td>\n",
       "      <td>0.002735</td>\n",
       "      <td>0.000944</td>\n",
       "      <td>-0.000502</td>\n",
       "      <td>0.006994</td>\n",
       "      <td>-0.008921</td>\n",
       "      <td>0.001380</td>\n",
       "      <td>0.000923</td>\n",
       "    </tr>\n",
       "    <tr>\n",
       "      <th>1</th>\n",
       "      <td>-1.000000</td>\n",
       "      <td>1.000000</td>\n",
       "      <td>-0.143906</td>\n",
       "      <td>0.064370</td>\n",
       "      <td>0.071442</td>\n",
       "      <td>-0.036415</td>\n",
       "      <td>0.040162</td>\n",
       "      <td>-0.010793</td>\n",
       "      <td>-0.010487</td>\n",
       "      <td>-0.000799</td>\n",
       "      <td>...</td>\n",
       "      <td>-0.005668</td>\n",
       "      <td>0.010857</td>\n",
       "      <td>-0.002292</td>\n",
       "      <td>-0.002735</td>\n",
       "      <td>-0.000944</td>\n",
       "      <td>0.000502</td>\n",
       "      <td>-0.006994</td>\n",
       "      <td>0.008921</td>\n",
       "      <td>-0.001380</td>\n",
       "      <td>-0.000923</td>\n",
       "    </tr>\n",
       "    <tr>\n",
       "      <th>2</th>\n",
       "      <td>0.143906</td>\n",
       "      <td>-0.143906</td>\n",
       "      <td>1.000000</td>\n",
       "      <td>-0.531191</td>\n",
       "      <td>-0.405968</td>\n",
       "      <td>0.032356</td>\n",
       "      <td>-0.041636</td>\n",
       "      <td>0.026228</td>\n",
       "      <td>0.020297</td>\n",
       "      <td>0.012817</td>\n",
       "      <td>...</td>\n",
       "      <td>0.070620</td>\n",
       "      <td>-0.039261</td>\n",
       "      <td>0.012636</td>\n",
       "      <td>-0.020217</td>\n",
       "      <td>0.009321</td>\n",
       "      <td>-0.019835</td>\n",
       "      <td>0.056142</td>\n",
       "      <td>-0.032460</td>\n",
       "      <td>0.019996</td>\n",
       "      <td>-0.022484</td>\n",
       "    </tr>\n",
       "    <tr>\n",
       "      <th>3</th>\n",
       "      <td>-0.064370</td>\n",
       "      <td>0.064370</td>\n",
       "      <td>-0.531191</td>\n",
       "      <td>1.000000</td>\n",
       "      <td>-0.558647</td>\n",
       "      <td>-0.009557</td>\n",
       "      <td>0.008700</td>\n",
       "      <td>0.003771</td>\n",
       "      <td>-0.000573</td>\n",
       "      <td>-0.007684</td>\n",
       "      <td>...</td>\n",
       "      <td>0.007467</td>\n",
       "      <td>-0.015801</td>\n",
       "      <td>0.008966</td>\n",
       "      <td>-0.011325</td>\n",
       "      <td>-0.001240</td>\n",
       "      <td>0.009779</td>\n",
       "      <td>0.012023</td>\n",
       "      <td>-0.018119</td>\n",
       "      <td>0.006174</td>\n",
       "      <td>-0.007930</td>\n",
       "    </tr>\n",
       "    <tr>\n",
       "      <th>4</th>\n",
       "      <td>-0.071442</td>\n",
       "      <td>0.071442</td>\n",
       "      <td>-0.405968</td>\n",
       "      <td>-0.558647</td>\n",
       "      <td>1.000000</td>\n",
       "      <td>-0.021366</td>\n",
       "      <td>0.031374</td>\n",
       "      <td>-0.029743</td>\n",
       "      <td>-0.019252</td>\n",
       "      <td>-0.004259</td>\n",
       "      <td>...</td>\n",
       "      <td>-0.077187</td>\n",
       "      <td>0.055478</td>\n",
       "      <td>-0.022041</td>\n",
       "      <td>0.032006</td>\n",
       "      <td>-0.007787</td>\n",
       "      <td>0.008869</td>\n",
       "      <td>-0.067928</td>\n",
       "      <td>0.051320</td>\n",
       "      <td>-0.026235</td>\n",
       "      <td>0.030565</td>\n",
       "    </tr>\n",
       "    <tr>\n",
       "      <th>...</th>\n",
       "      <td>...</td>\n",
       "      <td>...</td>\n",
       "      <td>...</td>\n",
       "      <td>...</td>\n",
       "      <td>...</td>\n",
       "      <td>...</td>\n",
       "      <td>...</td>\n",
       "      <td>...</td>\n",
       "      <td>...</td>\n",
       "      <td>...</td>\n",
       "      <td>...</td>\n",
       "      <td>...</td>\n",
       "      <td>...</td>\n",
       "      <td>...</td>\n",
       "      <td>...</td>\n",
       "      <td>...</td>\n",
       "      <td>...</td>\n",
       "      <td>...</td>\n",
       "      <td>...</td>\n",
       "      <td>...</td>\n",
       "      <td>...</td>\n",
       "    </tr>\n",
       "    <tr>\n",
       "      <th>67</th>\n",
       "      <td>-0.000502</td>\n",
       "      <td>0.000502</td>\n",
       "      <td>-0.019835</td>\n",
       "      <td>0.009779</td>\n",
       "      <td>0.008869</td>\n",
       "      <td>0.017399</td>\n",
       "      <td>-0.016928</td>\n",
       "      <td>0.000974</td>\n",
       "      <td>-0.000950</td>\n",
       "      <td>-0.008374</td>\n",
       "      <td>...</td>\n",
       "      <td>-0.216145</td>\n",
       "      <td>-0.220432</td>\n",
       "      <td>-0.206636</td>\n",
       "      <td>-0.165316</td>\n",
       "      <td>-0.175093</td>\n",
       "      <td>1.000000</td>\n",
       "      <td>-0.221644</td>\n",
       "      <td>-0.248410</td>\n",
       "      <td>-0.222691</td>\n",
       "      <td>-0.272537</td>\n",
       "    </tr>\n",
       "    <tr>\n",
       "      <th>68</th>\n",
       "      <td>0.006994</td>\n",
       "      <td>-0.006994</td>\n",
       "      <td>0.056142</td>\n",
       "      <td>0.012023</td>\n",
       "      <td>-0.067928</td>\n",
       "      <td>0.003256</td>\n",
       "      <td>-0.002436</td>\n",
       "      <td>-0.003605</td>\n",
       "      <td>-0.000079</td>\n",
       "      <td>-0.001350</td>\n",
       "      <td>...</td>\n",
       "      <td>0.854940</td>\n",
       "      <td>-0.188326</td>\n",
       "      <td>-0.078195</td>\n",
       "      <td>-0.203535</td>\n",
       "      <td>-0.136490</td>\n",
       "      <td>-0.221644</td>\n",
       "      <td>1.000000</td>\n",
       "      <td>-0.193643</td>\n",
       "      <td>-0.173594</td>\n",
       "      <td>-0.212450</td>\n",
       "    </tr>\n",
       "    <tr>\n",
       "      <th>69</th>\n",
       "      <td>-0.008921</td>\n",
       "      <td>0.008921</td>\n",
       "      <td>-0.032460</td>\n",
       "      <td>-0.018119</td>\n",
       "      <td>0.051320</td>\n",
       "      <td>-0.029917</td>\n",
       "      <td>0.029691</td>\n",
       "      <td>-0.004618</td>\n",
       "      <td>0.001651</td>\n",
       "      <td>0.000769</td>\n",
       "      <td>...</td>\n",
       "      <td>-0.169907</td>\n",
       "      <td>0.827250</td>\n",
       "      <td>-0.174719</td>\n",
       "      <td>-0.221349</td>\n",
       "      <td>-0.152973</td>\n",
       "      <td>-0.248410</td>\n",
       "      <td>-0.193643</td>\n",
       "      <td>1.000000</td>\n",
       "      <td>-0.194558</td>\n",
       "      <td>-0.238107</td>\n",
       "    </tr>\n",
       "    <tr>\n",
       "      <th>70</th>\n",
       "      <td>0.001380</td>\n",
       "      <td>-0.001380</td>\n",
       "      <td>0.019996</td>\n",
       "      <td>0.006174</td>\n",
       "      <td>-0.026235</td>\n",
       "      <td>-0.019475</td>\n",
       "      <td>0.022789</td>\n",
       "      <td>-0.004584</td>\n",
       "      <td>-0.012071</td>\n",
       "      <td>0.003549</td>\n",
       "      <td>...</td>\n",
       "      <td>-0.141572</td>\n",
       "      <td>-0.180337</td>\n",
       "      <td>0.831967</td>\n",
       "      <td>-0.196564</td>\n",
       "      <td>-0.137135</td>\n",
       "      <td>-0.222691</td>\n",
       "      <td>-0.173594</td>\n",
       "      <td>-0.194558</td>\n",
       "      <td>1.000000</td>\n",
       "      <td>-0.213454</td>\n",
       "    </tr>\n",
       "    <tr>\n",
       "      <th>71</th>\n",
       "      <td>0.000923</td>\n",
       "      <td>-0.000923</td>\n",
       "      <td>-0.022484</td>\n",
       "      <td>-0.007930</td>\n",
       "      <td>0.030565</td>\n",
       "      <td>0.035557</td>\n",
       "      <td>-0.037722</td>\n",
       "      <td>0.007146</td>\n",
       "      <td>0.006826</td>\n",
       "      <td>0.000580</td>\n",
       "      <td>...</td>\n",
       "      <td>-0.201471</td>\n",
       "      <td>-0.124299</td>\n",
       "      <td>-0.198289</td>\n",
       "      <td>0.845016</td>\n",
       "      <td>-0.167831</td>\n",
       "      <td>-0.272537</td>\n",
       "      <td>-0.212450</td>\n",
       "      <td>-0.238107</td>\n",
       "      <td>-0.213454</td>\n",
       "      <td>1.000000</td>\n",
       "    </tr>\n",
       "  </tbody>\n",
       "</table>\n",
       "<p>72 rows × 72 columns</p>\n",
       "</div>"
      ],
      "text/plain": [
       "          0         1         2         3         4         5         6   \\\n",
       "0   1.000000 -1.000000  0.143906 -0.064370 -0.071442  0.036415 -0.040162   \n",
       "1  -1.000000  1.000000 -0.143906  0.064370  0.071442 -0.036415  0.040162   \n",
       "2   0.143906 -0.143906  1.000000 -0.531191 -0.405968  0.032356 -0.041636   \n",
       "3  -0.064370  0.064370 -0.531191  1.000000 -0.558647 -0.009557  0.008700   \n",
       "4  -0.071442  0.071442 -0.405968 -0.558647  1.000000 -0.021366  0.031374   \n",
       "..       ...       ...       ...       ...       ...       ...       ...   \n",
       "67 -0.000502  0.000502 -0.019835  0.009779  0.008869  0.017399 -0.016928   \n",
       "68  0.006994 -0.006994  0.056142  0.012023 -0.067928  0.003256 -0.002436   \n",
       "69 -0.008921  0.008921 -0.032460 -0.018119  0.051320 -0.029917  0.029691   \n",
       "70  0.001380 -0.001380  0.019996  0.006174 -0.026235 -0.019475  0.022789   \n",
       "71  0.000923 -0.000923 -0.022484 -0.007930  0.030565  0.035557 -0.037722   \n",
       "\n",
       "          7         8         9   ...        62        63        64        65  \\\n",
       "0   0.010793  0.010487  0.000799  ...  0.005668 -0.010857  0.002292  0.002735   \n",
       "1  -0.010793 -0.010487 -0.000799  ... -0.005668  0.010857 -0.002292 -0.002735   \n",
       "2   0.026228  0.020297  0.012817  ...  0.070620 -0.039261  0.012636 -0.020217   \n",
       "3   0.003771 -0.000573 -0.007684  ...  0.007467 -0.015801  0.008966 -0.011325   \n",
       "4  -0.029743 -0.019252 -0.004259  ... -0.077187  0.055478 -0.022041  0.032006   \n",
       "..       ...       ...       ...  ...       ...       ...       ...       ...   \n",
       "67  0.000974 -0.000950 -0.008374  ... -0.216145 -0.220432 -0.206636 -0.165316   \n",
       "68 -0.003605 -0.000079 -0.001350  ...  0.854940 -0.188326 -0.078195 -0.203535   \n",
       "69 -0.004618  0.001651  0.000769  ... -0.169907  0.827250 -0.174719 -0.221349   \n",
       "70 -0.004584 -0.012071  0.003549  ... -0.141572 -0.180337  0.831967 -0.196564   \n",
       "71  0.007146  0.006826  0.000580  ... -0.201471 -0.124299 -0.198289  0.845016   \n",
       "\n",
       "          66        67        68        69        70        71  \n",
       "0   0.000944 -0.000502  0.006994 -0.008921  0.001380  0.000923  \n",
       "1  -0.000944  0.000502 -0.006994  0.008921 -0.001380 -0.000923  \n",
       "2   0.009321 -0.019835  0.056142 -0.032460  0.019996 -0.022484  \n",
       "3  -0.001240  0.009779  0.012023 -0.018119  0.006174 -0.007930  \n",
       "4  -0.007787  0.008869 -0.067928  0.051320 -0.026235  0.030565  \n",
       "..       ...       ...       ...       ...       ...       ...  \n",
       "67 -0.175093  1.000000 -0.221644 -0.248410 -0.222691 -0.272537  \n",
       "68 -0.136490 -0.221644  1.000000 -0.193643 -0.173594 -0.212450  \n",
       "69 -0.152973 -0.248410 -0.193643  1.000000 -0.194558 -0.238107  \n",
       "70 -0.137135 -0.222691 -0.173594 -0.194558  1.000000 -0.213454  \n",
       "71 -0.167831 -0.272537 -0.212450 -0.238107 -0.213454  1.000000  \n",
       "\n",
       "[72 rows x 72 columns]"
      ]
     },
     "execution_count": 72,
     "metadata": {},
     "output_type": "execute_result"
    }
   ],
   "source": [
    "pd.DataFrame(X_train).corr()"
   ]
  },
  {
   "cell_type": "markdown",
   "id": "4669d02d",
   "metadata": {},
   "source": [
    "Normalization does not change the correlation between variables."
   ]
  },
  {
   "cell_type": "markdown",
   "id": "ef4ba109",
   "metadata": {},
   "source": [
    " run the component analysis with 76 components"
   ]
  },
  {
   "cell_type": "code",
   "execution_count": 73,
   "id": "f2f27eef",
   "metadata": {},
   "outputs": [],
   "source": [
    "from sklearn.decomposition import PCA\n",
    "\n",
    "pca = PCA(n_components=72)\n",
    "X_train = pca.fit_transform(X_train)\n",
    "X_test = pca.transform(X_test)"
   ]
  },
  {
   "cell_type": "code",
   "execution_count": 74,
   "id": "7f344c22",
   "metadata": {},
   "outputs": [
    {
     "data": {
      "text/plain": [
       "array([3.88696980e-02, 3.71803158e-02, 3.36243175e-02, 3.29028926e-02,\n",
       "       3.19836931e-02, 3.13479418e-02, 3.12589039e-02, 3.10664613e-02,\n",
       "       3.08455954e-02, 3.06635088e-02, 3.05845109e-02, 2.98764115e-02,\n",
       "       2.90936742e-02, 2.86118657e-02, 2.78462536e-02, 2.74052556e-02,\n",
       "       2.61984597e-02, 2.52048525e-02, 2.31638259e-02, 2.20730676e-02,\n",
       "       2.09942201e-02, 2.02412959e-02, 1.89348851e-02, 1.84675993e-02,\n",
       "       1.78141344e-02, 1.67977687e-02, 1.64309890e-02, 1.61981030e-02,\n",
       "       1.55845142e-02, 1.54386220e-02, 1.49694648e-02, 1.43994369e-02,\n",
       "       1.41750072e-02, 1.40029015e-02, 1.38770352e-02, 1.38464695e-02,\n",
       "       1.36035607e-02, 1.34536382e-02, 1.30979845e-02, 1.20872674e-02,\n",
       "       1.12017450e-02, 1.11183421e-02, 1.00031952e-02, 9.47644295e-03,\n",
       "       8.60737583e-03, 7.99295622e-03, 6.26587196e-03, 3.70201587e-03,\n",
       "       3.17538568e-03, 2.93878424e-03, 1.97672234e-03, 1.65038598e-03,\n",
       "       1.60143173e-03, 1.58942039e-03, 1.32111037e-03, 1.29703193e-03,\n",
       "       9.80521951e-04, 8.84857296e-04, 3.91515107e-31, 3.13953754e-32,\n",
       "       8.16769642e-33, 6.63766806e-33, 3.54990816e-33, 2.74048984e-33,\n",
       "       2.08051532e-33, 1.42684073e-33, 1.20217407e-33, 1.11264755e-33,\n",
       "       9.64049027e-34, 6.45492407e-34, 6.40221062e-34, 2.03072605e-34])"
      ]
     },
     "execution_count": 74,
     "metadata": {},
     "output_type": "execute_result"
    }
   ],
   "source": [
    "explained_variance = pca.explained_variance_ratio_\n",
    "explained_variance\n"
   ]
  },
  {
   "cell_type": "code",
   "execution_count": 75,
   "id": "c3a1d571",
   "metadata": {},
   "outputs": [
    {
     "name": "stdout",
     "output_type": "stream",
     "text": [
      "[  3.89   7.61  10.97  14.26  17.46  20.59  23.72  26.83  29.91  32.98\n",
      "  36.04  39.03  41.94  44.8   47.58  50.32  52.94  55.46  57.78  59.99\n",
      "  62.09  64.11  66.    67.85  69.63  71.31  72.95  74.57  76.13  77.67\n",
      "  79.17  80.61  82.03  83.43  84.82  86.2   87.56  88.91  90.22  91.43\n",
      "  92.55  93.66  94.66  95.61  96.47  97.27  97.9   98.27  98.59  98.88\n",
      "  99.08  99.25  99.41  99.57  99.7   99.83  99.93 100.02 100.02 100.02\n",
      " 100.02 100.02 100.02 100.02 100.02 100.02 100.02 100.02 100.02 100.02\n",
      " 100.02 100.02]\n"
     ]
    }
   ],
   "source": [
    "#Cumulative Variance explains\n",
    "var1 = np.cumsum(np.round(explained_variance, decimals=4)*100)\n",
    "\n",
    "print(var1)"
   ]
  },
  {
   "cell_type": "markdown",
   "id": "b8be3b68",
   "metadata": {},
   "source": [
    "Draw a scree plot to show the cumulative variance explained along the number of principal components."
   ]
  },
  {
   "cell_type": "code",
   "execution_count": 76,
   "id": "9d76ef49",
   "metadata": {},
   "outputs": [
    {
     "data": {
      "image/png": "[encoded data removed]",
      "text/plain": [
       "<Figure size 720x720 with 1 Axes>"
      ]
     },
     "metadata": {
      "needs_background": "light"
     },
     "output_type": "display_data"
    }
   ],
   "source": [
    "var1 = pd.DataFrame(var1, index=np.arange(1,73))\n",
    "plt.figure(figsize = (10,10))\n",
    "plt.plot(var1,'-o',color='blue')\n",
    "plt.title('Scree Plot')\n",
    "plt.xlabel('Number of Principal Components')\n",
    "plt.ylabel('Cumulative Variance Explained')\n",
    "plt.savefig('scree_plot.png',dpi=100,bbox_inches='tight')"
   ]
  },
  {
   "cell_type": "markdown",
   "id": "0ddbefdd",
   "metadata": {},
   "source": [
    "From the above plot, we can see that if we choose a 39-component solution, the explained variance would be > 90%. That is to say, 39 orthogonal (uncorrelated) components will be able to keep more than 90% variance of the 76 variables in the original dataset. This would be a good solution. Now, let's do the PCA with 39 components."
   ]
  },
  {
   "cell_type": "code",
   "execution_count": 77,
   "id": "affcd0ed",
   "metadata": {},
   "outputs": [],
   "source": [
    "# Select the number of components\n",
    "\n",
    "pca30 = PCA(n_components=30)\n",
    "X_train = pca.fit_transform(X_train)\n",
    "X_test = pca.transform(X_test)\n",
    "\n",
    "\n",
    "# Convert the numpy array to pandas DataFrame\n",
    "#data_pca39 = pd.DataFrame(data_pca39)\n",
    "#data_pca39.columns = [\"PC\"+str(i) for i in range(1,40)]\n",
    "\n",
    "# Show the head of the DataFrame\n",
    "#data_pca39.head(10)"
   ]
  },
  {
   "cell_type": "markdown",
   "id": "e6b4520f",
   "metadata": {},
   "source": [
    "From the above correlation table, we can find that the pairwise correlations between two components are close to zeros. This means that all these components are orthogonal (not correlated). There is no multicollinearity among principal components."
   ]
  },
  {
   "cell_type": "markdown",
   "id": "5c0af844",
   "metadata": {},
   "source": [
    "PCA applies a linear transformation to transform the data to a new space with fewer dimensions. Let's show the loadings for the 1st principal component and explore how the 1st principal component is calculated from the normalized data."
   ]
  },
  {
   "cell_type": "markdown",
   "id": "feb999f0",
   "metadata": {},
   "source": [
    "These are the coefficients for the 39 variables to get the PC1"
   ]
  },
  {
   "cell_type": "markdown",
   "id": "7d777c5a",
   "metadata": {},
   "source": [
    "We can also manually calculate the 1st principal component score using the following dot product. "
   ]
  },
  {
   "cell_type": "markdown",
   "id": "3f967145",
   "metadata": {},
   "source": [
    "## RF"
   ]
  },
  {
   "cell_type": "code",
   "execution_count": 78,
   "id": "77a8e34a",
   "metadata": {},
   "outputs": [],
   "source": [
    "from sklearn.ensemble import RandomForestClassifier\n",
    "\n",
    "classifier = RandomForestClassifier(n_estimators=10, max_features=29, random_state=123)\n",
    "classifier.fit(X_train, y_train)\n",
    "\n",
    "# Predicting the Test set results\n",
    "y_pred = classifier.predict(X_test)\n"
   ]
  },
  {
   "cell_type": "code",
   "execution_count": 80,
   "id": "5bff1390",
   "metadata": {},
   "outputs": [
    {
     "name": "stdout",
     "output_type": "stream",
     "text": [
      "[[2537    0    0    0    0]\n",
      " [   0 3451    0    0    0]\n",
      " [   0    0 2351    6    0]\n",
      " [   1    0    1 2682    0]\n",
      " [   0    0    0    0  543]]\n"
     ]
    }
   ],
   "source": [
    "from sklearn.metrics import confusion_matrix\n",
    "from sklearn.metrics import accuracy_score\n",
    "\n",
    "cm = confusion_matrix(y_test, y_pred)\n",
    "print(cm)\n",
    "\n"
   ]
  },
  {
   "cell_type": "code",
   "execution_count": 81,
   "id": "c15ed9f9",
   "metadata": {},
   "outputs": [
    {
     "name": "stdout",
     "output_type": "stream",
     "text": [
      "0.9993086761147598\n"
     ]
    }
   ],
   "source": [
    "print( accuracy_score(y_test, y_pred))"
   ]
  },
  {
   "cell_type": "markdown",
   "id": "32bfdb8b",
   "metadata": {},
   "source": [
    "## KNN"
   ]
  },
  {
   "cell_type": "code",
   "execution_count": 78,
   "id": "4f9601f2",
   "metadata": {},
   "outputs": [
    {
     "data": {
      "text/plain": [
       "KNeighborsClassifier()"
      ]
     },
     "execution_count": 78,
     "metadata": {},
     "output_type": "execute_result"
    }
   ],
   "source": [
    "from sklearn import neighbors\n",
    "\n",
    "# KNN: K=5, default measure of distance (euclidean)\n",
    "knn5 = neighbors.KNeighborsClassifier(n_neighbors=5)\n",
    "knn5.fit(X_train, y_train)"
   ]
  },
  {
   "cell_type": "code",
   "execution_count": 80,
   "id": "a49d0875",
   "metadata": {},
   "outputs": [],
   "source": [
    "pred_y_knn5 = knn5.predict(X_test)"
   ]
  },
  {
   "cell_type": "code",
   "execution_count": 82,
   "id": "4fd836f8",
   "metadata": {},
   "outputs": [
    {
     "name": "stdout",
     "output_type": "stream",
     "text": [
      "[[2459   49    8   21    0]\n",
      " [ 133 3271   13   34    0]\n",
      " [ 118  123 2087   29    0]\n",
      " [ 158  144   38 2344    0]\n",
      " [   9   10    2    4  518]]\n"
     ]
    }
   ],
   "source": [
    "from sklearn import metrics\n",
    " \n",
    "# Print confusion matrix\n",
    "cm = metrics.confusion_matrix(y_test, pred_y_knn5)\n",
    "print(cm)"
   ]
  },
  {
   "cell_type": "code",
   "execution_count": 104,
   "id": "7237f6e2",
   "metadata": {},
   "outputs": [],
   "source": [
    "import matplotlib.pyplot as plt\n",
    "import numpy as np\n",
    "def print_cm(cm):\n",
    "    plt.clf()\n",
    "    plt.imshow(cm, interpolation='nearest', cmap=plt.cm.Wistia)\n",
    "    classNames = ['Negative','Positive']\n",
    "    plt.title('Confusion Matrix - Test Data')\n",
    "    plt.ylabel('True label')\n",
    "    plt.xlabel('Predicted label')\n",
    "    tick_marks = np.arange(len(classNames))\n",
    "    plt.xticks(tick_marks, classNames, rotation=45)\n",
    "    plt.yticks(tick_marks, classNames)\n",
    "    s = [['TN','FP'], ['FN', 'TP']] \n",
    "    for i in range(2):\n",
    "        for j in range(2):\n",
    "            plt.text(j,i, str(s[i][j])+\" = \"+str(cm[i][j]))\n",
    "    plt.show()"
   ]
  },
  {
   "cell_type": "code",
   "execution_count": 105,
   "id": "bbb283e5",
   "metadata": {},
   "outputs": [
    {
     "data": {
      "image/png": "[encoded data removed]",
      "text/plain": [
       "<Figure size 432x288 with 1 Axes>"
      ]
     },
     "metadata": {
      "needs_background": "light"
     },
     "output_type": "display_data"
    }
   ],
   "source": [
    "print_cm(cm)"
   ]
  },
  {
   "cell_type": "code",
   "execution_count": 85,
   "id": "9c775423",
   "metadata": {},
   "outputs": [
    {
     "data": {
      "text/plain": [
       "0.9228309713100588"
      ]
     },
     "execution_count": 85,
     "metadata": {},
     "output_type": "execute_result"
    }
   ],
   "source": [
    "# Calculate classification accuracy\n",
    "metrics.accuracy_score(y_test, pred_y_knn5)"
   ]
  },
  {
   "cell_type": "code",
   "execution_count": 89,
   "id": "37bc2718",
   "metadata": {},
   "outputs": [
    {
     "data": {
      "text/plain": [
       "0.8990124149555656"
      ]
     },
     "execution_count": 89,
     "metadata": {},
     "output_type": "execute_result"
    }
   ],
   "source": [
    "# Calculate Cohen's Kappa\n",
    "metrics.cohen_kappa_score(y_test, pred_y_knn5)"
   ]
  },
  {
   "cell_type": "code",
   "execution_count": 106,
   "id": "269a21fb",
   "metadata": {},
   "outputs": [
    {
     "ename": "ValueError",
     "evalue": "could not convert string to float: 'BRONX'",
     "output_type": "error",
     "traceback": [
      "\u001b[1;31m---------------------------------------------------------------------------\u001b[0m",
      "\u001b[1;31mValueError\u001b[0m                                Traceback (most recent call last)",
      "\u001b[1;32mC:\\Users\\PRAVAL~1\\AppData\\Local\\Temp/ipykernel_3544/3315444644.py\u001b[0m in \u001b[0;36m<module>\u001b[1;34m\u001b[0m\n\u001b[0;32m      1\u001b[0m \u001b[1;31m# Calculate AUC\u001b[0m\u001b[1;33m\u001b[0m\u001b[1;33m\u001b[0m\u001b[0m\n\u001b[1;32m----> 2\u001b[1;33m \u001b[0mmetrics\u001b[0m\u001b[1;33m.\u001b[0m\u001b[0mroc_auc_score\u001b[0m\u001b[1;33m(\u001b[0m\u001b[0my_test\u001b[0m\u001b[1;33m,\u001b[0m \u001b[0mpred_y_knn5\u001b[0m\u001b[1;33m)\u001b[0m\u001b[1;33m\u001b[0m\u001b[1;33m\u001b[0m\u001b[0m\n\u001b[0m",
      "\u001b[1;32mC:\\ProgramData\\Anaconda3\\lib\\site-packages\\sklearn\\utils\\validation.py\u001b[0m in \u001b[0;36minner_f\u001b[1;34m(*args, **kwargs)\u001b[0m\n\u001b[0;32m     61\u001b[0m             \u001b[0mextra_args\u001b[0m \u001b[1;33m=\u001b[0m \u001b[0mlen\u001b[0m\u001b[1;33m(\u001b[0m\u001b[0margs\u001b[0m\u001b[1;33m)\u001b[0m \u001b[1;33m-\u001b[0m \u001b[0mlen\u001b[0m\u001b[1;33m(\u001b[0m\u001b[0mall_args\u001b[0m\u001b[1;33m)\u001b[0m\u001b[1;33m\u001b[0m\u001b[1;33m\u001b[0m\u001b[0m\n\u001b[0;32m     62\u001b[0m             \u001b[1;32mif\u001b[0m \u001b[0mextra_args\u001b[0m \u001b[1;33m<=\u001b[0m \u001b[1;36m0\u001b[0m\u001b[1;33m:\u001b[0m\u001b[1;33m\u001b[0m\u001b[1;33m\u001b[0m\u001b[0m\n\u001b[1;32m---> 63\u001b[1;33m                 \u001b[1;32mreturn\u001b[0m \u001b[0mf\u001b[0m\u001b[1;33m(\u001b[0m\u001b[1;33m*\u001b[0m\u001b[0margs\u001b[0m\u001b[1;33m,\u001b[0m \u001b[1;33m**\u001b[0m\u001b[0mkwargs\u001b[0m\u001b[1;33m)\u001b[0m\u001b[1;33m\u001b[0m\u001b[1;33m\u001b[0m\u001b[0m\n\u001b[0m\u001b[0;32m     64\u001b[0m \u001b[1;33m\u001b[0m\u001b[0m\n\u001b[0;32m     65\u001b[0m             \u001b[1;31m# extra_args > 0\u001b[0m\u001b[1;33m\u001b[0m\u001b[1;33m\u001b[0m\u001b[0m\n",
      "\u001b[1;32mC:\\ProgramData\\Anaconda3\\lib\\site-packages\\sklearn\\metrics\\_ranking.py\u001b[0m in \u001b[0;36mroc_auc_score\u001b[1;34m(y_true, y_score, average, sample_weight, max_fpr, multi_class, labels)\u001b[0m\n\u001b[0;32m    522\u001b[0m     \u001b[0my_type\u001b[0m \u001b[1;33m=\u001b[0m \u001b[0mtype_of_target\u001b[0m\u001b[1;33m(\u001b[0m\u001b[0my_true\u001b[0m\u001b[1;33m)\u001b[0m\u001b[1;33m\u001b[0m\u001b[1;33m\u001b[0m\u001b[0m\n\u001b[0;32m    523\u001b[0m     \u001b[0my_true\u001b[0m \u001b[1;33m=\u001b[0m \u001b[0mcheck_array\u001b[0m\u001b[1;33m(\u001b[0m\u001b[0my_true\u001b[0m\u001b[1;33m,\u001b[0m \u001b[0mensure_2d\u001b[0m\u001b[1;33m=\u001b[0m\u001b[1;32mFalse\u001b[0m\u001b[1;33m,\u001b[0m \u001b[0mdtype\u001b[0m\u001b[1;33m=\u001b[0m\u001b[1;32mNone\u001b[0m\u001b[1;33m)\u001b[0m\u001b[1;33m\u001b[0m\u001b[1;33m\u001b[0m\u001b[0m\n\u001b[1;32m--> 524\u001b[1;33m     \u001b[0my_score\u001b[0m \u001b[1;33m=\u001b[0m \u001b[0mcheck_array\u001b[0m\u001b[1;33m(\u001b[0m\u001b[0my_score\u001b[0m\u001b[1;33m,\u001b[0m \u001b[0mensure_2d\u001b[0m\u001b[1;33m=\u001b[0m\u001b[1;32mFalse\u001b[0m\u001b[1;33m)\u001b[0m\u001b[1;33m\u001b[0m\u001b[1;33m\u001b[0m\u001b[0m\n\u001b[0m\u001b[0;32m    525\u001b[0m \u001b[1;33m\u001b[0m\u001b[0m\n\u001b[0;32m    526\u001b[0m     if y_type == \"multiclass\" or (y_type == \"binary\" and\n",
      "\u001b[1;32mC:\\ProgramData\\Anaconda3\\lib\\site-packages\\sklearn\\utils\\validation.py\u001b[0m in \u001b[0;36minner_f\u001b[1;34m(*args, **kwargs)\u001b[0m\n\u001b[0;32m     61\u001b[0m             \u001b[0mextra_args\u001b[0m \u001b[1;33m=\u001b[0m \u001b[0mlen\u001b[0m\u001b[1;33m(\u001b[0m\u001b[0margs\u001b[0m\u001b[1;33m)\u001b[0m \u001b[1;33m-\u001b[0m \u001b[0mlen\u001b[0m\u001b[1;33m(\u001b[0m\u001b[0mall_args\u001b[0m\u001b[1;33m)\u001b[0m\u001b[1;33m\u001b[0m\u001b[1;33m\u001b[0m\u001b[0m\n\u001b[0;32m     62\u001b[0m             \u001b[1;32mif\u001b[0m \u001b[0mextra_args\u001b[0m \u001b[1;33m<=\u001b[0m \u001b[1;36m0\u001b[0m\u001b[1;33m:\u001b[0m\u001b[1;33m\u001b[0m\u001b[1;33m\u001b[0m\u001b[0m\n\u001b[1;32m---> 63\u001b[1;33m                 \u001b[1;32mreturn\u001b[0m \u001b[0mf\u001b[0m\u001b[1;33m(\u001b[0m\u001b[1;33m*\u001b[0m\u001b[0margs\u001b[0m\u001b[1;33m,\u001b[0m \u001b[1;33m**\u001b[0m\u001b[0mkwargs\u001b[0m\u001b[1;33m)\u001b[0m\u001b[1;33m\u001b[0m\u001b[1;33m\u001b[0m\u001b[0m\n\u001b[0m\u001b[0;32m     64\u001b[0m \u001b[1;33m\u001b[0m\u001b[0m\n\u001b[0;32m     65\u001b[0m             \u001b[1;31m# extra_args > 0\u001b[0m\u001b[1;33m\u001b[0m\u001b[1;33m\u001b[0m\u001b[0m\n",
      "\u001b[1;32mC:\\ProgramData\\Anaconda3\\lib\\site-packages\\sklearn\\utils\\validation.py\u001b[0m in \u001b[0;36mcheck_array\u001b[1;34m(array, accept_sparse, accept_large_sparse, dtype, order, copy, force_all_finite, ensure_2d, allow_nd, ensure_min_samples, ensure_min_features, estimator)\u001b[0m\n\u001b[0;32m    671\u001b[0m                     \u001b[0marray\u001b[0m \u001b[1;33m=\u001b[0m \u001b[0marray\u001b[0m\u001b[1;33m.\u001b[0m\u001b[0mastype\u001b[0m\u001b[1;33m(\u001b[0m\u001b[0mdtype\u001b[0m\u001b[1;33m,\u001b[0m \u001b[0mcasting\u001b[0m\u001b[1;33m=\u001b[0m\u001b[1;34m\"unsafe\"\u001b[0m\u001b[1;33m,\u001b[0m \u001b[0mcopy\u001b[0m\u001b[1;33m=\u001b[0m\u001b[1;32mFalse\u001b[0m\u001b[1;33m)\u001b[0m\u001b[1;33m\u001b[0m\u001b[1;33m\u001b[0m\u001b[0m\n\u001b[0;32m    672\u001b[0m                 \u001b[1;32melse\u001b[0m\u001b[1;33m:\u001b[0m\u001b[1;33m\u001b[0m\u001b[1;33m\u001b[0m\u001b[0m\n\u001b[1;32m--> 673\u001b[1;33m                     \u001b[0marray\u001b[0m \u001b[1;33m=\u001b[0m \u001b[0mnp\u001b[0m\u001b[1;33m.\u001b[0m\u001b[0masarray\u001b[0m\u001b[1;33m(\u001b[0m\u001b[0marray\u001b[0m\u001b[1;33m,\u001b[0m \u001b[0morder\u001b[0m\u001b[1;33m=\u001b[0m\u001b[0morder\u001b[0m\u001b[1;33m,\u001b[0m \u001b[0mdtype\u001b[0m\u001b[1;33m=\u001b[0m\u001b[0mdtype\u001b[0m\u001b[1;33m)\u001b[0m\u001b[1;33m\u001b[0m\u001b[1;33m\u001b[0m\u001b[0m\n\u001b[0m\u001b[0;32m    674\u001b[0m             \u001b[1;32mexcept\u001b[0m \u001b[0mComplexWarning\u001b[0m \u001b[1;32mas\u001b[0m \u001b[0mcomplex_warning\u001b[0m\u001b[1;33m:\u001b[0m\u001b[1;33m\u001b[0m\u001b[1;33m\u001b[0m\u001b[0m\n\u001b[0;32m    675\u001b[0m                 raise ValueError(\"Complex data not supported\\n\"\n",
      "\u001b[1;32mC:\\ProgramData\\Anaconda3\\lib\\site-packages\\numpy\\core\\_asarray.py\u001b[0m in \u001b[0;36masarray\u001b[1;34m(a, dtype, order, like)\u001b[0m\n\u001b[0;32m    100\u001b[0m         \u001b[1;32mreturn\u001b[0m \u001b[0m_asarray_with_like\u001b[0m\u001b[1;33m(\u001b[0m\u001b[0ma\u001b[0m\u001b[1;33m,\u001b[0m \u001b[0mdtype\u001b[0m\u001b[1;33m=\u001b[0m\u001b[0mdtype\u001b[0m\u001b[1;33m,\u001b[0m \u001b[0morder\u001b[0m\u001b[1;33m=\u001b[0m\u001b[0morder\u001b[0m\u001b[1;33m,\u001b[0m \u001b[0mlike\u001b[0m\u001b[1;33m=\u001b[0m\u001b[0mlike\u001b[0m\u001b[1;33m)\u001b[0m\u001b[1;33m\u001b[0m\u001b[1;33m\u001b[0m\u001b[0m\n\u001b[0;32m    101\u001b[0m \u001b[1;33m\u001b[0m\u001b[0m\n\u001b[1;32m--> 102\u001b[1;33m     \u001b[1;32mreturn\u001b[0m \u001b[0marray\u001b[0m\u001b[1;33m(\u001b[0m\u001b[0ma\u001b[0m\u001b[1;33m,\u001b[0m \u001b[0mdtype\u001b[0m\u001b[1;33m,\u001b[0m \u001b[0mcopy\u001b[0m\u001b[1;33m=\u001b[0m\u001b[1;32mFalse\u001b[0m\u001b[1;33m,\u001b[0m \u001b[0morder\u001b[0m\u001b[1;33m=\u001b[0m\u001b[0morder\u001b[0m\u001b[1;33m)\u001b[0m\u001b[1;33m\u001b[0m\u001b[1;33m\u001b[0m\u001b[0m\n\u001b[0m\u001b[0;32m    103\u001b[0m \u001b[1;33m\u001b[0m\u001b[0m\n\u001b[0;32m    104\u001b[0m \u001b[1;33m\u001b[0m\u001b[0m\n",
      "\u001b[1;31mValueError\u001b[0m: could not convert string to float: 'BRONX'"
     ]
    }
   ],
   "source": [
    "# Calculate AUC\n",
    "metrics.roc_auc_score(y_test, pred_y_knn5)"
   ]
  },
  {
   "cell_type": "code",
   "execution_count": 90,
   "id": "6fca4148",
   "metadata": {},
   "outputs": [
    {
     "name": "stdout",
     "output_type": "stream",
     "text": [
      "               precision    recall  f1-score   support\n",
      "\n",
      "        BRONX       0.85      0.97      0.91      2537\n",
      "     BROOKLYN       0.91      0.95      0.93      3451\n",
      "    MANHATTAN       0.97      0.89      0.93      2357\n",
      "       QUEENS       0.96      0.87      0.92      2684\n",
      "STATEN ISLAND       1.00      0.95      0.98       543\n",
      "\n",
      "     accuracy                           0.92     11572\n",
      "    macro avg       0.94      0.93      0.93     11572\n",
      " weighted avg       0.93      0.92      0.92     11572\n",
      "\n"
     ]
    }
   ],
   "source": [
    "# Print classification report\n",
    "print(metrics.classification_report(y_test, pred_y_knn5))"
   ]
  },
  {
   "cell_type": "code",
   "execution_count": 95,
   "id": "f7eb66ab",
   "metadata": {},
   "outputs": [
    {
     "name": "stdout",
     "output_type": "stream",
     "text": [
      "Accuracy is  89.05115796750778 % for k = 1\n",
      "Accuracy is  84.30694780504666 % for k = 2\n",
      "Accuracy is  90.51157967507777 % for k = 3\n",
      "Accuracy is  90.9004493605254 % for k = 4\n",
      "Accuracy is  92.28309713100587 % for k = 5\n",
      "Accuracy is  92.50777739370896 % for k = 6\n",
      "Accuracy is  93.69166954718285 % for k = 7\n",
      "Accuracy is  93.62253715865883 % for k = 8\n",
      "Accuracy is  93.91634980988593 % for k = 9\n",
      "Accuracy is  94.21880400967854 % for k = 10\n",
      "Accuracy is  94.46940891807813 % for k = 11\n",
      "Accuracy is  94.36571033529208 % for k = 12\n",
      "Accuracy is  94.67680608365019 % for k = 13\n",
      "Accuracy is  94.85827860352575 % for k = 14\n",
      "Accuracy is  94.85827860352575 % for k = 15\n",
      "Accuracy is  94.97061873487729 % for k = 16\n",
      "Accuracy is  95.09160041479433 % for k = 17\n",
      "Accuracy is  95.2903560318009 % for k = 18\n",
      "Accuracy is  95.23850674040789 % for k = 19\n",
      "Accuracy is  95.34220532319392 % for k = 20\n"
     ]
    }
   ],
   "source": [
    "for k in range(20):\n",
    "    k = k + 1\n",
    "    knn = neighbors.KNeighborsClassifier(n_neighbors = k, \n",
    "                                         weights='uniform', \n",
    "                                         algorithm='auto')\n",
    "    knn.fit(X_train, y_train)\n",
    "    pred_y = knn.predict(X_test)\n",
    "    print(\"Accuracy is \", metrics.accuracy_score(y_test, pred_y)*100,\"% for k =\",k)"
   ]
  }
 ],
 "metadata": {
  "kernelspec": {
   "display_name": "Python 3 (ipykernel)",
   "language": "python",
   "name": "python3"
  },
  "language_info": {
   "codemirror_mode": {
    "name": "ipython",
    "version": 3
   },
   "file_extension": ".py",
   "mimetype": "text/x-python",
   "name": "python",
   "nbconvert_exporter": "python",
   "pygments_lexer": "ipython3",
   "version": "3.9.7"
  },
  "papermill": {
   "default_parameters": {},
   "duration": 261.733263,
   "end_time": "2022-10-26T16:59:51.262750",
   "environment_variables": {},
   "exception": null,
   "input_path": "__notebook__.ipynb",
   "output_path": "__notebook__.ipynb",
   "parameters": {},
   "start_time": "2022-10-26T16:55:29.529487",
   "version": "2.3.4"
  }
 },
 "nbformat": 4,
 "nbformat_minor": 5
}
