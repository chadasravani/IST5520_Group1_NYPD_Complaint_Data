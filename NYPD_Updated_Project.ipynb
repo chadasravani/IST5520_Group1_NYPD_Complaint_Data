{
 "cells": [
  {
   "cell_type": "code",
   "execution_count": 1,
   "id": "2b03023c",
   "metadata": {},
   "outputs": [],
   "source": [
    "import pandas as pd\n",
    "import numpy as np"
   ]
  },
  {
   "cell_type": "code",
   "execution_count": 2,
   "id": "c0bf77d8",
   "metadata": {},
   "outputs": [
    {
     "data": {
      "text/html": [
       "<div>\n",
       "<style scoped>\n",
       "    .dataframe tbody tr th:only-of-type {\n",
       "        vertical-align: middle;\n",
       "    }\n",
       "\n",
       "    .dataframe tbody tr th {\n",
       "        vertical-align: top;\n",
       "    }\n",
       "\n",
       "    .dataframe thead th {\n",
       "        text-align: right;\n",
       "    }\n",
       "</style>\n",
       "<table border=\"1\" class=\"dataframe\">\n",
       "  <thead>\n",
       "    <tr style=\"text-align: right;\">\n",
       "      <th></th>\n",
       "      <th>CMPLNT_NUM</th>\n",
       "      <th>ADDR_PCT_CD</th>\n",
       "      <th>BORO_NM</th>\n",
       "      <th>CMPLNT_FR_DT</th>\n",
       "      <th>CMPLNT_FR_TM</th>\n",
       "      <th>CMPLNT_TO_DT</th>\n",
       "      <th>CMPLNT_TO_TM</th>\n",
       "      <th>CRM_ATPT_CPTD_CD</th>\n",
       "      <th>HADEVELOPT</th>\n",
       "      <th>HOUSING_PSA</th>\n",
       "      <th>...</th>\n",
       "      <th>TRANSIT_DISTRICT</th>\n",
       "      <th>VIC_AGE_GROUP</th>\n",
       "      <th>VIC_RACE</th>\n",
       "      <th>VIC_SEX</th>\n",
       "      <th>X_COORD_CD</th>\n",
       "      <th>Y_COORD_CD</th>\n",
       "      <th>Latitude</th>\n",
       "      <th>Longitude</th>\n",
       "      <th>Lat_Lon</th>\n",
       "      <th>New Georeferenced Column</th>\n",
       "    </tr>\n",
       "  </thead>\n",
       "  <tbody>\n",
       "    <tr>\n",
       "      <th>0</th>\n",
       "      <td>244685801</td>\n",
       "      <td>69</td>\n",
       "      <td>BROOKLYN</td>\n",
       "      <td>01/01/2015</td>\n",
       "      <td>00:00:00</td>\n",
       "      <td>NaN</td>\n",
       "      <td>(null)</td>\n",
       "      <td>COMPLETED</td>\n",
       "      <td>(null)</td>\n",
       "      <td>NaN</td>\n",
       "      <td>...</td>\n",
       "      <td>NaN</td>\n",
       "      <td>&lt;18</td>\n",
       "      <td>BLACK</td>\n",
       "      <td>F</td>\n",
       "      <td>1010541</td>\n",
       "      <td>175595</td>\n",
       "      <td>40.648614</td>\n",
       "      <td>-73.905257</td>\n",
       "      <td>(40.6486135510607, -73.9052572032302)</td>\n",
       "      <td>POINT (-73.9052572032302 40.6486135510607)</td>\n",
       "    </tr>\n",
       "    <tr>\n",
       "      <th>1</th>\n",
       "      <td>242250195</td>\n",
       "      <td>42</td>\n",
       "      <td>BRONX</td>\n",
       "      <td>03/17/2022</td>\n",
       "      <td>15:23:00</td>\n",
       "      <td>03/17/2022</td>\n",
       "      <td>15:28:00</td>\n",
       "      <td>ATTEMPTED</td>\n",
       "      <td>(null)</td>\n",
       "      <td>NaN</td>\n",
       "      <td>...</td>\n",
       "      <td>NaN</td>\n",
       "      <td>UNKNOWN</td>\n",
       "      <td>UNKNOWN</td>\n",
       "      <td>D</td>\n",
       "      <td>1010419</td>\n",
       "      <td>242374</td>\n",
       "      <td>40.831899</td>\n",
       "      <td>-73.905435</td>\n",
       "      <td>(40.831899, -73.905435)</td>\n",
       "      <td>POINT (-73.905435 40.831899)</td>\n",
       "    </tr>\n",
       "    <tr>\n",
       "      <th>2</th>\n",
       "      <td>242385774</td>\n",
       "      <td>123</td>\n",
       "      <td>STATEN ISLAND</td>\n",
       "      <td>03/20/2022</td>\n",
       "      <td>11:52:00</td>\n",
       "      <td>NaN</td>\n",
       "      <td>(null)</td>\n",
       "      <td>COMPLETED</td>\n",
       "      <td>(null)</td>\n",
       "      <td>NaN</td>\n",
       "      <td>...</td>\n",
       "      <td>NaN</td>\n",
       "      <td>45-64</td>\n",
       "      <td>WHITE</td>\n",
       "      <td>F</td>\n",
       "      <td>926029</td>\n",
       "      <td>138052</td>\n",
       "      <td>40.545405</td>\n",
       "      <td>-74.209485</td>\n",
       "      <td>(40.545405, -74.209485)</td>\n",
       "      <td>POINT (-74.209485 40.545405)</td>\n",
       "    </tr>\n",
       "    <tr>\n",
       "      <th>3</th>\n",
       "      <td>242643555</td>\n",
       "      <td>121</td>\n",
       "      <td>STATEN ISLAND</td>\n",
       "      <td>03/24/2022</td>\n",
       "      <td>15:00:00</td>\n",
       "      <td>03/24/2022</td>\n",
       "      <td>22:00:00</td>\n",
       "      <td>COMPLETED</td>\n",
       "      <td>(null)</td>\n",
       "      <td>NaN</td>\n",
       "      <td>...</td>\n",
       "      <td>NaN</td>\n",
       "      <td>18-24</td>\n",
       "      <td>BLACK</td>\n",
       "      <td>F</td>\n",
       "      <td>942822</td>\n",
       "      <td>166353</td>\n",
       "      <td>40.623188</td>\n",
       "      <td>-74.149238</td>\n",
       "      <td>(40.6231883776008, -74.1492376947323)</td>\n",
       "      <td>POINT (-74.1492376947323 40.6231883776008)</td>\n",
       "    </tr>\n",
       "    <tr>\n",
       "      <th>4</th>\n",
       "      <td>242816732</td>\n",
       "      <td>42</td>\n",
       "      <td>BRONX</td>\n",
       "      <td>03/29/2022</td>\n",
       "      <td>15:24:00</td>\n",
       "      <td>03/29/2022</td>\n",
       "      <td>15:30:00</td>\n",
       "      <td>COMPLETED</td>\n",
       "      <td>(null)</td>\n",
       "      <td>NaN</td>\n",
       "      <td>...</td>\n",
       "      <td>NaN</td>\n",
       "      <td>45-64</td>\n",
       "      <td>BLACK</td>\n",
       "      <td>M</td>\n",
       "      <td>1010131</td>\n",
       "      <td>240105</td>\n",
       "      <td>40.825670</td>\n",
       "      <td>-73.906484</td>\n",
       "      <td>(40.82567, -73.906484)</td>\n",
       "      <td>POINT (-73.906484 40.82567)</td>\n",
       "    </tr>\n",
       "  </tbody>\n",
       "</table>\n",
       "<p>5 rows × 36 columns</p>\n",
       "</div>"
      ],
      "text/plain": [
       "  CMPLNT_NUM  ADDR_PCT_CD        BORO_NM CMPLNT_FR_DT CMPLNT_FR_TM  \\\n",
       "0  244685801           69       BROOKLYN   01/01/2015     00:00:00   \n",
       "1  242250195           42          BRONX   03/17/2022     15:23:00   \n",
       "2  242385774          123  STATEN ISLAND   03/20/2022     11:52:00   \n",
       "3  242643555          121  STATEN ISLAND   03/24/2022     15:00:00   \n",
       "4  242816732           42          BRONX   03/29/2022     15:24:00   \n",
       "\n",
       "  CMPLNT_TO_DT CMPLNT_TO_TM CRM_ATPT_CPTD_CD HADEVELOPT  HOUSING_PSA  ...  \\\n",
       "0          NaN       (null)        COMPLETED     (null)          NaN  ...   \n",
       "1   03/17/2022     15:28:00        ATTEMPTED     (null)          NaN  ...   \n",
       "2          NaN       (null)        COMPLETED     (null)          NaN  ...   \n",
       "3   03/24/2022     22:00:00        COMPLETED     (null)          NaN  ...   \n",
       "4   03/29/2022     15:30:00        COMPLETED     (null)          NaN  ...   \n",
       "\n",
       "   TRANSIT_DISTRICT VIC_AGE_GROUP  VIC_RACE VIC_SEX X_COORD_CD Y_COORD_CD  \\\n",
       "0               NaN           <18     BLACK       F    1010541     175595   \n",
       "1               NaN       UNKNOWN   UNKNOWN       D    1010419     242374   \n",
       "2               NaN         45-64     WHITE       F     926029     138052   \n",
       "3               NaN         18-24     BLACK       F     942822     166353   \n",
       "4               NaN         45-64     BLACK       M    1010131     240105   \n",
       "\n",
       "    Latitude  Longitude                                Lat_Lon  \\\n",
       "0  40.648614 -73.905257  (40.6486135510607, -73.9052572032302)   \n",
       "1  40.831899 -73.905435                (40.831899, -73.905435)   \n",
       "2  40.545405 -74.209485                (40.545405, -74.209485)   \n",
       "3  40.623188 -74.149238  (40.6231883776008, -74.1492376947323)   \n",
       "4  40.825670 -73.906484                 (40.82567, -73.906484)   \n",
       "\n",
       "                     New Georeferenced Column  \n",
       "0  POINT (-73.9052572032302 40.6486135510607)  \n",
       "1                POINT (-73.905435 40.831899)  \n",
       "2                POINT (-74.209485 40.545405)  \n",
       "3  POINT (-74.1492376947323 40.6231883776008)  \n",
       "4                 POINT (-73.906484 40.82567)  \n",
       "\n",
       "[5 rows x 36 columns]"
      ]
     },
     "execution_count": 2,
     "metadata": {},
     "output_type": "execute_result"
    }
   ],
   "source": [
    "#Import Dataset\n",
    "df = pd.read_csv('NYPD_Complaint_Data_Current__Year_To_Date_.csv')\n",
    "df.head()"
   ]
  },
  {
   "cell_type": "code",
   "execution_count": 3,
   "id": "c20fcbab",
   "metadata": {},
   "outputs": [
    {
     "name": "stdout",
     "output_type": "stream",
     "text": [
      "<class 'pandas.core.frame.DataFrame'>\n",
      "RangeIndex: 256797 entries, 0 to 256796\n",
      "Data columns (total 36 columns):\n",
      " #   Column                    Non-Null Count   Dtype  \n",
      "---  ------                    --------------   -----  \n",
      " 0   CMPLNT_NUM                256797 non-null  object \n",
      " 1   ADDR_PCT_CD               256797 non-null  int64  \n",
      " 2   BORO_NM                   256797 non-null  object \n",
      " 3   CMPLNT_FR_DT              256797 non-null  object \n",
      " 4   CMPLNT_FR_TM              256797 non-null  object \n",
      " 5   CMPLNT_TO_DT              237423 non-null  object \n",
      " 6   CMPLNT_TO_TM              256797 non-null  object \n",
      " 7   CRM_ATPT_CPTD_CD          256797 non-null  object \n",
      " 8   HADEVELOPT                256797 non-null  object \n",
      " 9   HOUSING_PSA               16985 non-null   float64\n",
      " 10  JURISDICTION_CODE         256797 non-null  int64  \n",
      " 11  JURIS_DESC                256797 non-null  object \n",
      " 12  KY_CD                     256797 non-null  int64  \n",
      " 13  LAW_CAT_CD                256797 non-null  object \n",
      " 14  LOC_OF_OCCUR_DESC         256797 non-null  object \n",
      " 15  OFNS_DESC                 256797 non-null  object \n",
      " 16  PARKS_NM                  256797 non-null  object \n",
      " 17  PATROL_BORO               256797 non-null  object \n",
      " 18  PD_CD                     256528 non-null  float64\n",
      " 19  PD_DESC                   256797 non-null  object \n",
      " 20  PREM_TYP_DESC             256797 non-null  object \n",
      " 21  RPT_DT                    256797 non-null  object \n",
      " 22  STATION_NAME              256797 non-null  object \n",
      " 23  SUSP_AGE_GROUP            256797 non-null  object \n",
      " 24  SUSP_RACE                 256797 non-null  object \n",
      " 25  SUSP_SEX                  256797 non-null  object \n",
      " 26  TRANSIT_DISTRICT          5708 non-null    float64\n",
      " 27  VIC_AGE_GROUP             256797 non-null  object \n",
      " 28  VIC_RACE                  256797 non-null  object \n",
      " 29  VIC_SEX                   256797 non-null  object \n",
      " 30  X_COORD_CD                256797 non-null  int64  \n",
      " 31  Y_COORD_CD                256797 non-null  int64  \n",
      " 32  Latitude                  256797 non-null  float64\n",
      " 33  Longitude                 256797 non-null  float64\n",
      " 34  Lat_Lon                   256797 non-null  object \n",
      " 35  New Georeferenced Column  256797 non-null  object \n",
      "dtypes: float64(5), int64(5), object(26)\n",
      "memory usage: 70.5+ MB\n"
     ]
    }
   ],
   "source": [
    "df.info()"
   ]
  },
  {
   "cell_type": "code",
   "execution_count": 4,
   "id": "db6bdfbb",
   "metadata": {},
   "outputs": [
    {
     "data": {
      "text/plain": [
       "(256797, 36)"
      ]
     },
     "execution_count": 4,
     "metadata": {},
     "output_type": "execute_result"
    }
   ],
   "source": [
    "df.shape"
   ]
  },
  {
   "cell_type": "code",
   "execution_count": 5,
   "id": "06b9e3a5",
   "metadata": {},
   "outputs": [],
   "source": [
    "df.replace('(null)',np.nan,inplace= True)"
   ]
  },
  {
   "cell_type": "code",
   "execution_count": 6,
   "id": "ed5c108b",
   "metadata": {},
   "outputs": [
    {
     "data": {
      "text/plain": [
       "CMPLNT_NUM                       0\n",
       "ADDR_PCT_CD                      0\n",
       "BORO_NM                        441\n",
       "CMPLNT_FR_DT                     0\n",
       "CMPLNT_FR_TM                     0\n",
       "CMPLNT_TO_DT                 19374\n",
       "CMPLNT_TO_TM                 19319\n",
       "CRM_ATPT_CPTD_CD                 0\n",
       "HADEVELOPT                  255982\n",
       "HOUSING_PSA                 239812\n",
       "JURISDICTION_CODE                0\n",
       "JURIS_DESC                       0\n",
       "KY_CD                            0\n",
       "LAW_CAT_CD                       0\n",
       "LOC_OF_OCCUR_DESC            41066\n",
       "OFNS_DESC                        6\n",
       "PARKS_NM                    255376\n",
       "PATROL_BORO                      4\n",
       "PD_CD                          269\n",
       "PD_DESC                        269\n",
       "PREM_TYP_DESC                  107\n",
       "RPT_DT                           0\n",
       "STATION_NAME                251089\n",
       "SUSP_AGE_GROUP               50792\n",
       "SUSP_RACE                    50792\n",
       "SUSP_SEX                     50792\n",
       "TRANSIT_DISTRICT            251089\n",
       "VIC_AGE_GROUP                    0\n",
       "VIC_RACE                        72\n",
       "VIC_SEX                          0\n",
       "X_COORD_CD                       0\n",
       "Y_COORD_CD                       0\n",
       "Latitude                         0\n",
       "Longitude                        0\n",
       "Lat_Lon                          0\n",
       "New Georeferenced Column         0\n",
       "dtype: int64"
      ]
     },
     "execution_count": 6,
     "metadata": {},
     "output_type": "execute_result"
    }
   ],
   "source": [
    "df.isnull().sum()"
   ]
  },
  {
   "cell_type": "code",
   "execution_count": 7,
   "id": "69fc3130",
   "metadata": {},
   "outputs": [],
   "source": [
    "df.fillna(np.nan,inplace = True)"
   ]
  },
  {
   "cell_type": "code",
   "execution_count": 8,
   "id": "5ae05457",
   "metadata": {},
   "outputs": [],
   "source": [
    "df.drop(columns=['HOUSING_PSA','TRANSIT_DISTRICT','HADEVELOPT','PARKS_NM', 'STATION_NAME','Lat_Lon', 'New Georeferenced Column'],inplace= True)"
   ]
  },
  {
   "cell_type": "code",
   "execution_count": 9,
   "id": "da65567f",
   "metadata": {},
   "outputs": [],
   "source": [
    "df.drop_duplicates(inplace = True)"
   ]
  },
  {
   "cell_type": "code",
   "execution_count": 10,
   "id": "8eff4d7b",
   "metadata": {},
   "outputs": [],
   "source": [
    "df.dropna(inplace= True)"
   ]
  },
  {
   "cell_type": "code",
   "execution_count": 11,
   "id": "1a3348a7",
   "metadata": {},
   "outputs": [
    {
     "data": {
      "text/plain": [
       "CMPLNT_NUM           0\n",
       "ADDR_PCT_CD          0\n",
       "BORO_NM              0\n",
       "CMPLNT_FR_DT         0\n",
       "CMPLNT_FR_TM         0\n",
       "CMPLNT_TO_DT         0\n",
       "CMPLNT_TO_TM         0\n",
       "CRM_ATPT_CPTD_CD     0\n",
       "JURISDICTION_CODE    0\n",
       "JURIS_DESC           0\n",
       "KY_CD                0\n",
       "LAW_CAT_CD           0\n",
       "LOC_OF_OCCUR_DESC    0\n",
       "OFNS_DESC            0\n",
       "PATROL_BORO          0\n",
       "PD_CD                0\n",
       "PD_DESC              0\n",
       "PREM_TYP_DESC        0\n",
       "RPT_DT               0\n",
       "SUSP_AGE_GROUP       0\n",
       "SUSP_RACE            0\n",
       "SUSP_SEX             0\n",
       "VIC_AGE_GROUP        0\n",
       "VIC_RACE             0\n",
       "VIC_SEX              0\n",
       "X_COORD_CD           0\n",
       "Y_COORD_CD           0\n",
       "Latitude             0\n",
       "Longitude            0\n",
       "dtype: int64"
      ]
     },
     "execution_count": 11,
     "metadata": {},
     "output_type": "execute_result"
    }
   ],
   "source": [
    "df.isna().sum()"
   ]
  },
  {
   "cell_type": "code",
   "execution_count": 12,
   "id": "b88f9b13",
   "metadata": {},
   "outputs": [
    {
     "data": {
      "text/plain": [
       "(163513, 29)"
      ]
     },
     "execution_count": 12,
     "metadata": {},
     "output_type": "execute_result"
    }
   ],
   "source": [
    "df.shape"
   ]
  },
  {
   "cell_type": "code",
   "execution_count": 13,
   "id": "ae82200b",
   "metadata": {},
   "outputs": [
    {
     "data": {
      "text/plain": [
       "UNKNOWN    78349\n",
       "25-44      49963\n",
       "45-64      17705\n",
       "18-24      11831\n",
       "<18         3647\n",
       "65+         2000\n",
       "2022          11\n",
       "-74            1\n",
       "-969           1\n",
       "-1             1\n",
       "-5962          1\n",
       "-961           1\n",
       "-10            1\n",
       "-941           1\n",
       "Name: SUSP_AGE_GROUP, dtype: int64"
      ]
     },
     "execution_count": 13,
     "metadata": {},
     "output_type": "execute_result"
    }
   ],
   "source": [
    "df['SUSP_AGE_GROUP'].value_counts()"
   ]
  },
  {
   "cell_type": "code",
   "execution_count": 14,
   "id": "d96be721",
   "metadata": {},
   "outputs": [
    {
     "data": {
      "text/plain": [
       "25-44    128312\n",
       "45-64     17705\n",
       "18-24     11831\n",
       "<18        3647\n",
       "65+        2000\n",
       "2022         11\n",
       "-74           1\n",
       "-969          1\n",
       "-1            1\n",
       "-5962         1\n",
       "-961          1\n",
       "-10           1\n",
       "-941          1\n",
       "Name: SUSP_AGE_GROUP, dtype: int64"
      ]
     },
     "execution_count": 14,
     "metadata": {},
     "output_type": "execute_result"
    }
   ],
   "source": [
    "df['SUSP_AGE_GROUP'].replace('UNKNOWN','25-44',inplace=True)\n",
    "df['SUSP_AGE_GROUP'].value_counts()"
   ]
  },
  {
   "cell_type": "code",
   "execution_count": 15,
   "id": "9190b6f3",
   "metadata": {},
   "outputs": [
    {
     "data": {
      "text/plain": [
       "BLACK                             58347\n",
       "UNKNOWN                           49875\n",
       "WHITE HISPANIC                    25617\n",
       "WHITE                             15867\n",
       "BLACK HISPANIC                     7628\n",
       "ASIAN / PACIFIC ISLANDER           5832\n",
       "AMERICAN INDIAN/ALASKAN NATIVE      347\n",
       "Name: SUSP_RACE, dtype: int64"
      ]
     },
     "execution_count": 15,
     "metadata": {},
     "output_type": "execute_result"
    }
   ],
   "source": [
    "df['SUSP_RACE'].value_counts()"
   ]
  },
  {
   "cell_type": "code",
   "execution_count": 16,
   "id": "e692065e",
   "metadata": {},
   "outputs": [
    {
     "data": {
      "text/plain": [
       "BLACK                             108222\n",
       "WHITE HISPANIC                     25617\n",
       "WHITE                              15867\n",
       "BLACK HISPANIC                      7628\n",
       "ASIAN / PACIFIC ISLANDER            5832\n",
       "AMERICAN INDIAN/ALASKAN NATIVE       347\n",
       "Name: SUSP_RACE, dtype: int64"
      ]
     },
     "execution_count": 16,
     "metadata": {},
     "output_type": "execute_result"
    }
   ],
   "source": [
    "df['SUSP_RACE'].replace('UNKNOWN','BLACK',inplace=True)\n",
    "df['SUSP_RACE'].value_counts()"
   ]
  },
  {
   "cell_type": "code",
   "execution_count": 17,
   "id": "b4224614",
   "metadata": {},
   "outputs": [
    {
     "data": {
      "text/plain": [
       "25-44      58419\n",
       "UNKNOWN    45928\n",
       "45-64      30569\n",
       "18-24      14372\n",
       "65+         7783\n",
       "<18         6432\n",
       "-65            2\n",
       "-5             1\n",
       "-934           1\n",
       "-40            1\n",
       "-4             1\n",
       "-964           1\n",
       "-955           1\n",
       "-959           1\n",
       "-963           1\n",
       "Name: VIC_AGE_GROUP, dtype: int64"
      ]
     },
     "execution_count": 17,
     "metadata": {},
     "output_type": "execute_result"
    }
   ],
   "source": [
    "df['VIC_AGE_GROUP'].value_counts()"
   ]
  },
  {
   "cell_type": "code",
   "execution_count": 18,
   "id": "b4a462a9",
   "metadata": {},
   "outputs": [
    {
     "data": {
      "text/plain": [
       "25-44    104347\n",
       "45-64     30569\n",
       "18-24     14372\n",
       "65+        7783\n",
       "<18        6432\n",
       "-65           2\n",
       "-5            1\n",
       "-934          1\n",
       "-40           1\n",
       "-4            1\n",
       "-964          1\n",
       "-955          1\n",
       "-959          1\n",
       "-963          1\n",
       "Name: VIC_AGE_GROUP, dtype: int64"
      ]
     },
     "execution_count": 18,
     "metadata": {},
     "output_type": "execute_result"
    }
   ],
   "source": [
    "df['VIC_AGE_GROUP'].replace('UNKNOWN','25-44',inplace=True)\n",
    "df['VIC_AGE_GROUP'].value_counts()"
   ]
  },
  {
   "cell_type": "code",
   "execution_count": 19,
   "id": "dd47c81b",
   "metadata": {},
   "outputs": [
    {
     "data": {
      "text/plain": [
       "UNKNOWN                           48615\n",
       "BLACK                             42768\n",
       "WHITE HISPANIC                    28921\n",
       "WHITE                             23350\n",
       "ASIAN / PACIFIC ISLANDER          12670\n",
       "BLACK HISPANIC                     6637\n",
       "AMERICAN INDIAN/ALASKAN NATIVE      552\n",
       "Name: VIC_RACE, dtype: int64"
      ]
     },
     "execution_count": 19,
     "metadata": {},
     "output_type": "execute_result"
    }
   ],
   "source": [
    "df['VIC_RACE'].value_counts()"
   ]
  },
  {
   "cell_type": "code",
   "execution_count": 20,
   "id": "1d369bb3",
   "metadata": {},
   "outputs": [
    {
     "data": {
      "text/plain": [
       "BLACK                             91383\n",
       "WHITE HISPANIC                    28921\n",
       "WHITE                             23350\n",
       "ASIAN / PACIFIC ISLANDER          12670\n",
       "BLACK HISPANIC                     6637\n",
       "AMERICAN INDIAN/ALASKAN NATIVE      552\n",
       "Name: VIC_RACE, dtype: int64"
      ]
     },
     "execution_count": 20,
     "metadata": {},
     "output_type": "execute_result"
    }
   ],
   "source": [
    "df['VIC_RACE'].replace('UNKNOWN','BLACK',inplace=True)\n",
    "df['VIC_RACE'].value_counts()"
   ]
  },
  {
   "cell_type": "code",
   "execution_count": 24,
   "id": "8d61d69d",
   "metadata": {},
   "outputs": [
    {
     "data": {
      "text/plain": [
       "M    94923\n",
       "U    41322\n",
       "F    27268\n",
       "Name: SUSP_SEX, dtype: int64"
      ]
     },
     "execution_count": 24,
     "metadata": {},
     "output_type": "execute_result"
    }
   ],
   "source": [
    "df['SUSP_SEX'].value_counts()"
   ]
  },
  {
   "cell_type": "code",
   "execution_count": 25,
   "id": "d027b909",
   "metadata": {},
   "outputs": [
    {
     "data": {
      "text/plain": [
       "M    136245\n",
       "F     27268\n",
       "Name: SUSP_SEX, dtype: int64"
      ]
     },
     "execution_count": 25,
     "metadata": {},
     "output_type": "execute_result"
    }
   ],
   "source": [
    "df['SUSP_SEX'].replace('U','M',inplace=True)\n",
    "df['SUSP_SEX'].value_counts()"
   ]
  },
  {
   "cell_type": "code",
   "execution_count": 27,
   "id": "0d5042fc",
   "metadata": {},
   "outputs": [
    {
     "data": {
      "text/plain": [
       "F    68115\n",
       "M    52448\n",
       "D    36782\n",
       "E     6168\n",
       "Name: VIC_SEX, dtype: int64"
      ]
     },
     "execution_count": 27,
     "metadata": {},
     "output_type": "execute_result"
    }
   ],
   "source": [
    "df['VIC_SEX'].value_counts()"
   ]
  },
  {
   "cell_type": "code",
   "execution_count": 28,
   "id": "2e6fc27a",
   "metadata": {},
   "outputs": [
    {
     "data": {
      "text/plain": [
       "F    68115\n",
       "M    52448\n",
       "D    42950\n",
       "Name: VIC_SEX, dtype: int64"
      ]
     },
     "execution_count": 28,
     "metadata": {},
     "output_type": "execute_result"
    }
   ],
   "source": [
    "df['VIC_SEX'].replace('E','D',inplace=True)\n",
    "df['VIC_SEX'].value_counts()"
   ]
  }
 ],
 "metadata": {
  "kernelspec": {
   "display_name": "Python 3 (ipykernel)",
   "language": "python",
   "name": "python3"
  },
  "language_info": {
   "codemirror_mode": {
    "name": "ipython",
    "version": 3
   },
   "file_extension": ".py",
   "mimetype": "text/x-python",
   "name": "python",
   "nbconvert_exporter": "python",
   "pygments_lexer": "ipython3",
   "version": "3.10.6"
  }
 },
 "nbformat": 4,
 "nbformat_minor": 5
}
