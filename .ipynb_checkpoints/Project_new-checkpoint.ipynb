{
 "cells": [
  {
   "cell_type": "code",
   "execution_count": 1,
   "id": "92355163",
   "metadata": {},
   "outputs": [],
   "source": [
    "import pandas as pd\n",
    "import numpy as np\n",
    "from sklearn.decomposition import PCA\n",
    "import matplotlib.pyplot as plt\n",
    "from sklearn.preprocessing import scale\n",
    "import seaborn as sns\n",
    "from sklearn import preprocessing\n",
    "import scipy as sp"
   ]
  },
  {
   "cell_type": "code",
   "execution_count": 21,
   "id": "1048fe41",
   "metadata": {
    "execution": {
     "iopub.execute_input": "2022-10-26T16:55:38.231032Z",
     "iopub.status.busy": "2022-10-26T16:55:38.230013Z",
     "iopub.status.idle": "2022-10-26T16:57:15.295821Z",
     "shell.execute_reply": "2022-10-26T16:57:15.294772Z"
    },
    "papermill": {
     "duration": 97.077522,
     "end_time": "2022-10-26T16:57:15.298804",
     "exception": false,
     "start_time": "2022-10-26T16:55:38.221282",
     "status": "completed"
    },
    "tags": []
   },
   "outputs": [
    {
     "data": {
      "text/html": [
       "<div>\n",
       "<style scoped>\n",
       "    .dataframe tbody tr th:only-of-type {\n",
       "        vertical-align: middle;\n",
       "    }\n",
       "\n",
       "    .dataframe tbody tr th {\n",
       "        vertical-align: top;\n",
       "    }\n",
       "\n",
       "    .dataframe thead th {\n",
       "        text-align: right;\n",
       "    }\n",
       "</style>\n",
       "<table border=\"1\" class=\"dataframe\">\n",
       "  <thead>\n",
       "    <tr style=\"text-align: right;\">\n",
       "      <th></th>\n",
       "      <th>CMPLNT_NUM</th>\n",
       "      <th>ADDR_PCT_CD</th>\n",
       "      <th>BORO_NM</th>\n",
       "      <th>CMPLNT_FR_DT</th>\n",
       "      <th>CMPLNT_FR_TM</th>\n",
       "      <th>CMPLNT_TO_DT</th>\n",
       "      <th>CMPLNT_TO_TM</th>\n",
       "      <th>CRM_ATPT_CPTD_CD</th>\n",
       "      <th>HADEVELOPT</th>\n",
       "      <th>HOUSING_PSA</th>\n",
       "      <th>...</th>\n",
       "      <th>TRANSIT_DISTRICT</th>\n",
       "      <th>VIC_AGE_GROUP</th>\n",
       "      <th>VIC_RACE</th>\n",
       "      <th>VIC_SEX</th>\n",
       "      <th>X_COORD_CD</th>\n",
       "      <th>Y_COORD_CD</th>\n",
       "      <th>Latitude</th>\n",
       "      <th>Longitude</th>\n",
       "      <th>Lat_Lon</th>\n",
       "      <th>New Georeferenced Column</th>\n",
       "    </tr>\n",
       "  </thead>\n",
       "  <tbody>\n",
       "    <tr>\n",
       "      <th>0</th>\n",
       "      <td>244685801</td>\n",
       "      <td>69</td>\n",
       "      <td>BROOKLYN</td>\n",
       "      <td>01/01/2015</td>\n",
       "      <td>00:00:00</td>\n",
       "      <td>NaN</td>\n",
       "      <td>(null)</td>\n",
       "      <td>COMPLETED</td>\n",
       "      <td>(null)</td>\n",
       "      <td>NaN</td>\n",
       "      <td>...</td>\n",
       "      <td>NaN</td>\n",
       "      <td>&lt;18</td>\n",
       "      <td>BLACK</td>\n",
       "      <td>F</td>\n",
       "      <td>1010541</td>\n",
       "      <td>175595</td>\n",
       "      <td>40.648614</td>\n",
       "      <td>-73.905257</td>\n",
       "      <td>(40.6486135510607, -73.9052572032302)</td>\n",
       "      <td>POINT (-73.9052572032302 40.6486135510607)</td>\n",
       "    </tr>\n",
       "    <tr>\n",
       "      <th>1</th>\n",
       "      <td>242250195</td>\n",
       "      <td>42</td>\n",
       "      <td>BRONX</td>\n",
       "      <td>03/17/2022</td>\n",
       "      <td>15:23:00</td>\n",
       "      <td>03/17/2022</td>\n",
       "      <td>15:28:00</td>\n",
       "      <td>ATTEMPTED</td>\n",
       "      <td>(null)</td>\n",
       "      <td>NaN</td>\n",
       "      <td>...</td>\n",
       "      <td>NaN</td>\n",
       "      <td>UNKNOWN</td>\n",
       "      <td>UNKNOWN</td>\n",
       "      <td>D</td>\n",
       "      <td>1010419</td>\n",
       "      <td>242374</td>\n",
       "      <td>40.831899</td>\n",
       "      <td>-73.905435</td>\n",
       "      <td>(40.831899, -73.905435)</td>\n",
       "      <td>POINT (-73.905435 40.831899)</td>\n",
       "    </tr>\n",
       "    <tr>\n",
       "      <th>2</th>\n",
       "      <td>242385774</td>\n",
       "      <td>123</td>\n",
       "      <td>STATEN ISLAND</td>\n",
       "      <td>03/20/2022</td>\n",
       "      <td>11:52:00</td>\n",
       "      <td>NaN</td>\n",
       "      <td>(null)</td>\n",
       "      <td>COMPLETED</td>\n",
       "      <td>(null)</td>\n",
       "      <td>NaN</td>\n",
       "      <td>...</td>\n",
       "      <td>NaN</td>\n",
       "      <td>45-64</td>\n",
       "      <td>WHITE</td>\n",
       "      <td>F</td>\n",
       "      <td>926029</td>\n",
       "      <td>138052</td>\n",
       "      <td>40.545405</td>\n",
       "      <td>-74.209485</td>\n",
       "      <td>(40.545405, -74.209485)</td>\n",
       "      <td>POINT (-74.209485 40.545405)</td>\n",
       "    </tr>\n",
       "    <tr>\n",
       "      <th>3</th>\n",
       "      <td>242643555</td>\n",
       "      <td>121</td>\n",
       "      <td>STATEN ISLAND</td>\n",
       "      <td>03/24/2022</td>\n",
       "      <td>15:00:00</td>\n",
       "      <td>03/24/2022</td>\n",
       "      <td>22:00:00</td>\n",
       "      <td>COMPLETED</td>\n",
       "      <td>(null)</td>\n",
       "      <td>NaN</td>\n",
       "      <td>...</td>\n",
       "      <td>NaN</td>\n",
       "      <td>18-24</td>\n",
       "      <td>BLACK</td>\n",
       "      <td>F</td>\n",
       "      <td>942822</td>\n",
       "      <td>166353</td>\n",
       "      <td>40.623188</td>\n",
       "      <td>-74.149238</td>\n",
       "      <td>(40.6231883776008, -74.1492376947323)</td>\n",
       "      <td>POINT (-74.1492376947323 40.6231883776008)</td>\n",
       "    </tr>\n",
       "    <tr>\n",
       "      <th>4</th>\n",
       "      <td>242816732</td>\n",
       "      <td>42</td>\n",
       "      <td>BRONX</td>\n",
       "      <td>03/29/2022</td>\n",
       "      <td>15:24:00</td>\n",
       "      <td>03/29/2022</td>\n",
       "      <td>15:30:00</td>\n",
       "      <td>COMPLETED</td>\n",
       "      <td>(null)</td>\n",
       "      <td>NaN</td>\n",
       "      <td>...</td>\n",
       "      <td>NaN</td>\n",
       "      <td>45-64</td>\n",
       "      <td>BLACK</td>\n",
       "      <td>M</td>\n",
       "      <td>1010131</td>\n",
       "      <td>240105</td>\n",
       "      <td>40.825670</td>\n",
       "      <td>-73.906484</td>\n",
       "      <td>(40.82567, -73.906484)</td>\n",
       "      <td>POINT (-73.906484 40.82567)</td>\n",
       "    </tr>\n",
       "  </tbody>\n",
       "</table>\n",
       "<p>5 rows × 36 columns</p>\n",
       "</div>"
      ],
      "text/plain": [
       "  CMPLNT_NUM  ADDR_PCT_CD        BORO_NM CMPLNT_FR_DT CMPLNT_FR_TM  \\\n",
       "0  244685801           69       BROOKLYN   01/01/2015     00:00:00   \n",
       "1  242250195           42          BRONX   03/17/2022     15:23:00   \n",
       "2  242385774          123  STATEN ISLAND   03/20/2022     11:52:00   \n",
       "3  242643555          121  STATEN ISLAND   03/24/2022     15:00:00   \n",
       "4  242816732           42          BRONX   03/29/2022     15:24:00   \n",
       "\n",
       "  CMPLNT_TO_DT CMPLNT_TO_TM CRM_ATPT_CPTD_CD HADEVELOPT  HOUSING_PSA  ...  \\\n",
       "0          NaN       (null)        COMPLETED     (null)          NaN  ...   \n",
       "1   03/17/2022     15:28:00        ATTEMPTED     (null)          NaN  ...   \n",
       "2          NaN       (null)        COMPLETED     (null)          NaN  ...   \n",
       "3   03/24/2022     22:00:00        COMPLETED     (null)          NaN  ...   \n",
       "4   03/29/2022     15:30:00        COMPLETED     (null)          NaN  ...   \n",
       "\n",
       "   TRANSIT_DISTRICT VIC_AGE_GROUP  VIC_RACE VIC_SEX X_COORD_CD Y_COORD_CD  \\\n",
       "0               NaN           <18     BLACK       F    1010541     175595   \n",
       "1               NaN       UNKNOWN   UNKNOWN       D    1010419     242374   \n",
       "2               NaN         45-64     WHITE       F     926029     138052   \n",
       "3               NaN         18-24     BLACK       F     942822     166353   \n",
       "4               NaN         45-64     BLACK       M    1010131     240105   \n",
       "\n",
       "    Latitude  Longitude                                Lat_Lon  \\\n",
       "0  40.648614 -73.905257  (40.6486135510607, -73.9052572032302)   \n",
       "1  40.831899 -73.905435                (40.831899, -73.905435)   \n",
       "2  40.545405 -74.209485                (40.545405, -74.209485)   \n",
       "3  40.623188 -74.149238  (40.6231883776008, -74.1492376947323)   \n",
       "4  40.825670 -73.906484                 (40.82567, -73.906484)   \n",
       "\n",
       "                     New Georeferenced Column  \n",
       "0  POINT (-73.9052572032302 40.6486135510607)  \n",
       "1                POINT (-73.905435 40.831899)  \n",
       "2                POINT (-74.209485 40.545405)  \n",
       "3  POINT (-74.1492376947323 40.6231883776008)  \n",
       "4                 POINT (-73.906484 40.82567)  \n",
       "\n",
       "[5 rows x 36 columns]"
      ]
     },
     "execution_count": 21,
     "metadata": {},
     "output_type": "execute_result"
    }
   ],
   "source": [
    "#Import Dataset\n",
    "df = pd.read_csv('NYPD_Complaint_Data_Current__Year_To_Date.csv')\n",
    "df.head()"
   ]
  },
  {
   "cell_type": "markdown",
   "id": "f7d33460",
   "metadata": {
    "papermill": {
     "duration": 0.010596,
     "end_time": "2022-10-26T16:57:15.316929",
     "exception": false,
     "start_time": "2022-10-26T16:57:15.306333",
     "status": "completed"
    },
    "tags": []
   },
   "source": [
    "## Variables Dictionary :\n",
    "### Expand the cell below to view the variables dictionary."
   ]
  },
  {
   "cell_type": "markdown",
   "id": "7d89c2bc",
   "metadata": {
    "_kg_hide-output": true,
    "papermill": {
     "duration": 0.006662,
     "end_time": "2022-10-26T16:57:15.330768",
     "exception": false,
     "start_time": "2022-10-26T16:57:15.324106",
     "status": "completed"
    },
    "tags": []
   },
   "source": [
    "> **CMPLNT_NUM** - Randomly generated persistent ID for each complaint\n",
    "> \n",
    "> **ADDR_PCT_CD** - The precinct in which the incident occurred\n",
    "> \n",
    "> **BORO** - The name of the borough in which the incident occurred\n",
    "> \n",
    "> **CMPLNT_FR_DT** - Exact date of occurrence for the reported event (or starting date of occurrence, if CMPLNT_TO_DT exists)\n",
    "> \n",
    "> **CMPLNT_FR_TM** - Exact time of occurrence for the reported event (or starting time of occurrence, if CMPLNT_TO_TM exists)\n",
    "> \n",
    "> **CMPLNT_TO_DT** - Ending date of occurrence for the reported event, if exact time of occurrence is unknown\n",
    "> \n",
    "> **CMPLNT_TO_TM** - Ending time of occurrence for the reported event, if exact time of occurrence is unknown\n",
    "> \n",
    "> **CRM_ATPT_CPTD_CD** - Indicator of whether crime was successfully completed or attempted, but failed or was interrupted prematurely\n",
    "> \n",
    "> **HADEVELOPT** - Name of NYCHA housing development of occurrence, if applicable\n",
    "> \n",
    "> **HOUSING_PSA** - Development Level Code\n",
    "> \n",
    "> **JURISDICTION_CODE** - Jurisdiction responsible for incident. Either internal, like Police(0), Transit(1), and Housing(2); or external(3), like Correction, Port Authority, etc.\n",
    "> \n",
    "> **JURIS_DESC** - Description of the jurisdiction code\n",
    "> \n",
    "> **KY_CD** - Three digit offense classification code\n",
    "> \n",
    "> **LAW_CAT_CD** - Level of offense: felony, misdemeanor, violation\n",
    "> \n",
    "> **LOC_OF_OCCUR_DESC** - Specific location of occurrence in or around the premises; inside, opposite of, front of, rear of\n",
    "> \n",
    "> **OFNS_DESC** - Description of offense corresponding with key code\n",
    "> \n",
    "> **PARKS_NM** - Name of NYC park, playground or greenspace of occurrence, if applicable (state parks are not included)\n",
    "> \n",
    "> **PATROL_BORO** - The name of the patrol borough in which the incident occurred\n",
    "> \n",
    "> **PD_CD** - Three digit internal classification code (more granular than Key Code)\n",
    "> \n",
    "> **PD_DESC** - Description of internal classification corresponding with PD code (more granular than Offense Description)\n",
    "> \n",
    "> **PREM_TYP_DESC** - Specific description of premises; grocery store, residence, street, etc.\n",
    "> \n",
    "> **RPT_DT** - Date event was reported to police\n",
    "> \n",
    "> **STATION_NAME** - Transit station name\n",
    "> \n",
    "> **SUSP_AGE_GROUP** - Suspect’s Age Group\n",
    "> \n",
    "> **SUSP_RACE** - Suspect’s Race Description\n",
    "> \n",
    "> **SUSP_SEX** - Suspect’s Sex Description\n",
    "> \n",
    "> **TRANSIT_DISTRICT** - Transit district in which the offense occurred.\n",
    "> \n",
    "> **VIC_AGE_GROUP** - Victim’s Age Group\n",
    "> \n",
    "> **VIC_RACE** - Victim’s Race Description\n",
    "> \n",
    "> **VIC_SEX** - Victim’s Sex Description (D=Business/Organization, E=PSNY/People of the State of New York, F=Female, M=Male)\n",
    "> \n",
    "> **X_COORD_CD** - X-coordinate for New York State Plane Coordinate System, Long Island Zone, NAD 83, units feet (FIPS 3104)\n",
    "> \n",
    "> **Y_COORD_CD** - Y-coordinate for New York State Plane Coordinate System, Long Island Zone, NAD 83, units feet (FIPS 3104)\n",
    "> \n",
    "> **Latitude** - Midblock Latitude coordinate for Global Coordinate System, WGS 1984, decimal degrees (EPSG 4326)\n",
    "> \n",
    "> **Longitude** - Midblock Longitude coordinate for Global Coordinate System, WGS 1984, decimal degrees (EPSG 4326)"
   ]
  },
  {
   "cell_type": "code",
   "execution_count": 22,
   "id": "d2ac93a6",
   "metadata": {
    "execution": {
     "iopub.execute_input": "2022-10-26T16:57:15.348436Z",
     "iopub.status.busy": "2022-10-26T16:57:15.347462Z",
     "iopub.status.idle": "2022-10-26T16:57:15.353318Z",
     "shell.execute_reply": "2022-10-26T16:57:15.352238Z"
    },
    "papermill": {
     "duration": 0.01734,
     "end_time": "2022-10-26T16:57:15.355916",
     "exception": false,
     "start_time": "2022-10-26T16:57:15.338576",
     "status": "completed"
    },
    "tags": []
   },
   "outputs": [
    {
     "name": "stdout",
     "output_type": "stream",
     "text": [
      "Observations:  256797\n",
      "Variables:  36\n"
     ]
    }
   ],
   "source": [
    "print(\"Observations: \", df.shape[0])\n",
    "\n",
    "print(\"Variables: \", df.shape[1])"
   ]
  },
  {
   "cell_type": "code",
   "execution_count": 4,
   "id": "8b938e1b",
   "metadata": {
    "execution": {
     "iopub.execute_input": "2022-10-26T16:57:15.375657Z",
     "iopub.status.busy": "2022-10-26T16:57:15.374988Z",
     "iopub.status.idle": "2022-10-26T16:57:15.417428Z",
     "shell.execute_reply": "2022-10-26T16:57:15.416273Z"
    },
    "papermill": {
     "duration": 0.056488,
     "end_time": "2022-10-26T16:57:15.420093",
     "exception": false,
     "start_time": "2022-10-26T16:57:15.363605",
     "status": "completed"
    },
    "tags": []
   },
   "outputs": [
    {
     "data": {
      "text/html": [
       "<div>\n",
       "<style scoped>\n",
       "    .dataframe tbody tr th:only-of-type {\n",
       "        vertical-align: middle;\n",
       "    }\n",
       "\n",
       "    .dataframe tbody tr th {\n",
       "        vertical-align: top;\n",
       "    }\n",
       "\n",
       "    .dataframe thead th {\n",
       "        text-align: right;\n",
       "    }\n",
       "</style>\n",
       "<table border=\"1\" class=\"dataframe\">\n",
       "  <thead>\n",
       "    <tr style=\"text-align: right;\">\n",
       "      <th></th>\n",
       "      <th>CMPLNT_NUM</th>\n",
       "      <th>ADDR_PCT_CD</th>\n",
       "      <th>BORO_NM</th>\n",
       "      <th>CMPLNT_FR_DT</th>\n",
       "      <th>CMPLNT_FR_TM</th>\n",
       "      <th>CMPLNT_TO_DT</th>\n",
       "      <th>CMPLNT_TO_TM</th>\n",
       "      <th>CRM_ATPT_CPTD_CD</th>\n",
       "      <th>HADEVELOPT</th>\n",
       "      <th>HOUSING_PSA</th>\n",
       "      <th>...</th>\n",
       "      <th>TRANSIT_DISTRICT</th>\n",
       "      <th>VIC_AGE_GROUP</th>\n",
       "      <th>VIC_RACE</th>\n",
       "      <th>VIC_SEX</th>\n",
       "      <th>X_COORD_CD</th>\n",
       "      <th>Y_COORD_CD</th>\n",
       "      <th>Latitude</th>\n",
       "      <th>Longitude</th>\n",
       "      <th>Lat_Lon</th>\n",
       "      <th>New Georeferenced Column</th>\n",
       "    </tr>\n",
       "  </thead>\n",
       "  <tbody>\n",
       "    <tr>\n",
       "      <th>0</th>\n",
       "      <td>244685801</td>\n",
       "      <td>69</td>\n",
       "      <td>BROOKLYN</td>\n",
       "      <td>01/01/2015</td>\n",
       "      <td>00:00:00</td>\n",
       "      <td>NaN</td>\n",
       "      <td>(null)</td>\n",
       "      <td>COMPLETED</td>\n",
       "      <td>(null)</td>\n",
       "      <td>NaN</td>\n",
       "      <td>...</td>\n",
       "      <td>NaN</td>\n",
       "      <td>&lt;18</td>\n",
       "      <td>BLACK</td>\n",
       "      <td>F</td>\n",
       "      <td>1010541</td>\n",
       "      <td>175595</td>\n",
       "      <td>40.648614</td>\n",
       "      <td>-73.905257</td>\n",
       "      <td>(40.6486135510607, -73.9052572032302)</td>\n",
       "      <td>POINT (-73.9052572032302 40.6486135510607)</td>\n",
       "    </tr>\n",
       "    <tr>\n",
       "      <th>1</th>\n",
       "      <td>242250195</td>\n",
       "      <td>42</td>\n",
       "      <td>BRONX</td>\n",
       "      <td>03/17/2022</td>\n",
       "      <td>15:23:00</td>\n",
       "      <td>03/17/2022</td>\n",
       "      <td>15:28:00</td>\n",
       "      <td>ATTEMPTED</td>\n",
       "      <td>(null)</td>\n",
       "      <td>NaN</td>\n",
       "      <td>...</td>\n",
       "      <td>NaN</td>\n",
       "      <td>UNKNOWN</td>\n",
       "      <td>UNKNOWN</td>\n",
       "      <td>D</td>\n",
       "      <td>1010419</td>\n",
       "      <td>242374</td>\n",
       "      <td>40.831899</td>\n",
       "      <td>-73.905435</td>\n",
       "      <td>(40.831899, -73.905435)</td>\n",
       "      <td>POINT (-73.905435 40.831899)</td>\n",
       "    </tr>\n",
       "    <tr>\n",
       "      <th>2</th>\n",
       "      <td>242385774</td>\n",
       "      <td>123</td>\n",
       "      <td>STATEN ISLAND</td>\n",
       "      <td>03/20/2022</td>\n",
       "      <td>11:52:00</td>\n",
       "      <td>NaN</td>\n",
       "      <td>(null)</td>\n",
       "      <td>COMPLETED</td>\n",
       "      <td>(null)</td>\n",
       "      <td>NaN</td>\n",
       "      <td>...</td>\n",
       "      <td>NaN</td>\n",
       "      <td>45-64</td>\n",
       "      <td>WHITE</td>\n",
       "      <td>F</td>\n",
       "      <td>926029</td>\n",
       "      <td>138052</td>\n",
       "      <td>40.545405</td>\n",
       "      <td>-74.209485</td>\n",
       "      <td>(40.545405, -74.209485)</td>\n",
       "      <td>POINT (-74.209485 40.545405)</td>\n",
       "    </tr>\n",
       "    <tr>\n",
       "      <th>3</th>\n",
       "      <td>242643555</td>\n",
       "      <td>121</td>\n",
       "      <td>STATEN ISLAND</td>\n",
       "      <td>03/24/2022</td>\n",
       "      <td>15:00:00</td>\n",
       "      <td>03/24/2022</td>\n",
       "      <td>22:00:00</td>\n",
       "      <td>COMPLETED</td>\n",
       "      <td>(null)</td>\n",
       "      <td>NaN</td>\n",
       "      <td>...</td>\n",
       "      <td>NaN</td>\n",
       "      <td>18-24</td>\n",
       "      <td>BLACK</td>\n",
       "      <td>F</td>\n",
       "      <td>942822</td>\n",
       "      <td>166353</td>\n",
       "      <td>40.623188</td>\n",
       "      <td>-74.149238</td>\n",
       "      <td>(40.6231883776008, -74.1492376947323)</td>\n",
       "      <td>POINT (-74.1492376947323 40.6231883776008)</td>\n",
       "    </tr>\n",
       "    <tr>\n",
       "      <th>4</th>\n",
       "      <td>242816732</td>\n",
       "      <td>42</td>\n",
       "      <td>BRONX</td>\n",
       "      <td>03/29/2022</td>\n",
       "      <td>15:24:00</td>\n",
       "      <td>03/29/2022</td>\n",
       "      <td>15:30:00</td>\n",
       "      <td>COMPLETED</td>\n",
       "      <td>(null)</td>\n",
       "      <td>NaN</td>\n",
       "      <td>...</td>\n",
       "      <td>NaN</td>\n",
       "      <td>45-64</td>\n",
       "      <td>BLACK</td>\n",
       "      <td>M</td>\n",
       "      <td>1010131</td>\n",
       "      <td>240105</td>\n",
       "      <td>40.825670</td>\n",
       "      <td>-73.906484</td>\n",
       "      <td>(40.82567, -73.906484)</td>\n",
       "      <td>POINT (-73.906484 40.82567)</td>\n",
       "    </tr>\n",
       "  </tbody>\n",
       "</table>\n",
       "<p>5 rows × 36 columns</p>\n",
       "</div>"
      ],
      "text/plain": [
       "  CMPLNT_NUM  ADDR_PCT_CD        BORO_NM CMPLNT_FR_DT CMPLNT_FR_TM  \\\n",
       "0  244685801           69       BROOKLYN   01/01/2015     00:00:00   \n",
       "1  242250195           42          BRONX   03/17/2022     15:23:00   \n",
       "2  242385774          123  STATEN ISLAND   03/20/2022     11:52:00   \n",
       "3  242643555          121  STATEN ISLAND   03/24/2022     15:00:00   \n",
       "4  242816732           42          BRONX   03/29/2022     15:24:00   \n",
       "\n",
       "  CMPLNT_TO_DT CMPLNT_TO_TM CRM_ATPT_CPTD_CD HADEVELOPT  HOUSING_PSA  ...  \\\n",
       "0          NaN       (null)        COMPLETED     (null)          NaN  ...   \n",
       "1   03/17/2022     15:28:00        ATTEMPTED     (null)          NaN  ...   \n",
       "2          NaN       (null)        COMPLETED     (null)          NaN  ...   \n",
       "3   03/24/2022     22:00:00        COMPLETED     (null)          NaN  ...   \n",
       "4   03/29/2022     15:30:00        COMPLETED     (null)          NaN  ...   \n",
       "\n",
       "   TRANSIT_DISTRICT VIC_AGE_GROUP  VIC_RACE VIC_SEX X_COORD_CD Y_COORD_CD  \\\n",
       "0               NaN           <18     BLACK       F    1010541     175595   \n",
       "1               NaN       UNKNOWN   UNKNOWN       D    1010419     242374   \n",
       "2               NaN         45-64     WHITE       F     926029     138052   \n",
       "3               NaN         18-24     BLACK       F     942822     166353   \n",
       "4               NaN         45-64     BLACK       M    1010131     240105   \n",
       "\n",
       "    Latitude  Longitude                                Lat_Lon  \\\n",
       "0  40.648614 -73.905257  (40.6486135510607, -73.9052572032302)   \n",
       "1  40.831899 -73.905435                (40.831899, -73.905435)   \n",
       "2  40.545405 -74.209485                (40.545405, -74.209485)   \n",
       "3  40.623188 -74.149238  (40.6231883776008, -74.1492376947323)   \n",
       "4  40.825670 -73.906484                 (40.82567, -73.906484)   \n",
       "\n",
       "                     New Georeferenced Column  \n",
       "0  POINT (-73.9052572032302 40.6486135510607)  \n",
       "1                POINT (-73.905435 40.831899)  \n",
       "2                POINT (-74.209485 40.545405)  \n",
       "3  POINT (-74.1492376947323 40.6231883776008)  \n",
       "4                 POINT (-73.906484 40.82567)  \n",
       "\n",
       "[5 rows x 36 columns]"
      ]
     },
     "execution_count": 4,
     "metadata": {},
     "output_type": "execute_result"
    }
   ],
   "source": [
    "df.head()"
   ]
  },
  {
   "cell_type": "markdown",
   "id": "c8c15e50",
   "metadata": {
    "papermill": {
     "duration": 0.007065,
     "end_time": "2022-10-26T16:57:15.434602",
     "exception": false,
     "start_time": "2022-10-26T16:57:15.427537",
     "status": "completed"
    },
    "tags": []
   },
   "source": [
    "The dataset contains over 6 million crime reports, with a total of 35 variables each.\n",
    "\n",
    "After looking at the head of the dataset we were already able to notice some NaN values, therefore we need to examine the missing values further before continuing with the analysis. \n",
    "\n",
    "- The `isna()` function will show us the percentage of non-existent values for each variable."
   ]
  },
  {
   "cell_type": "code",
   "execution_count": 23,
   "id": "77db1ecb",
   "metadata": {},
   "outputs": [],
   "source": [
    "df.replace('(null)',np.nan,inplace= True)\n"
   ]
  },
  {
   "cell_type": "code",
   "execution_count": 24,
   "id": "9e1e6b42",
   "metadata": {
    "execution": {
     "iopub.execute_input": "2022-10-26T16:57:15.451062Z",
     "iopub.status.busy": "2022-10-26T16:57:15.450664Z",
     "iopub.status.idle": "2022-10-26T16:57:23.497531Z",
     "shell.execute_reply": "2022-10-26T16:57:23.496380Z"
    },
    "papermill": {
     "duration": 8.058362,
     "end_time": "2022-10-26T16:57:23.500254",
     "exception": false,
     "start_time": "2022-10-26T16:57:15.441892",
     "status": "completed"
    },
    "tags": []
   },
   "outputs": [
    {
     "data": {
      "text/plain": [
       "HADEVELOPT                  99.682629\n",
       "PARKS_NM                    99.446645\n",
       "STATION_NAME                97.777233\n",
       "TRANSIT_DISTRICT            97.777233\n",
       "HOUSING_PSA                 93.385826\n",
       "SUSP_RACE                   19.779047\n",
       "SUSP_AGE_GROUP              19.779047\n",
       "SUSP_SEX                    19.779047\n",
       "LOC_OF_OCCUR_DESC           15.991620\n",
       "CMPLNT_TO_DT                 7.544481\n",
       "CMPLNT_TO_TM                 7.523063\n",
       "BORO_NM                      0.171731\n",
       "PD_DESC                      0.104752\n",
       "PD_CD                        0.104752\n",
       "PREM_TYP_DESC                0.041667\n",
       "VIC_RACE                     0.028038\n",
       "OFNS_DESC                    0.002336\n",
       "PATROL_BORO                  0.001558\n",
       "X_COORD_CD                   0.000000\n",
       "VIC_AGE_GROUP                0.000000\n",
       "Y_COORD_CD                   0.000000\n",
       "Latitude                     0.000000\n",
       "Longitude                    0.000000\n",
       "Lat_Lon                      0.000000\n",
       "VIC_SEX                      0.000000\n",
       "CMPLNT_NUM                   0.000000\n",
       "RPT_DT                       0.000000\n",
       "ADDR_PCT_CD                  0.000000\n",
       "LAW_CAT_CD                   0.000000\n",
       "KY_CD                        0.000000\n",
       "JURIS_DESC                   0.000000\n",
       "JURISDICTION_CODE            0.000000\n",
       "CRM_ATPT_CPTD_CD             0.000000\n",
       "CMPLNT_FR_TM                 0.000000\n",
       "CMPLNT_FR_DT                 0.000000\n",
       "New Georeferenced Column     0.000000\n",
       "dtype: float64"
      ]
     },
     "execution_count": 24,
     "metadata": {},
     "output_type": "execute_result"
    }
   ],
   "source": [
    "#See the percentege of missing values in each variable\n",
    "(df.isna().sum()/df.shape[0]*100).sort_values(ascending=False)"
   ]
  },
  {
   "cell_type": "markdown",
   "id": "8fca338d",
   "metadata": {
    "papermill": {
     "duration": 0.007384,
     "end_time": "2022-10-26T16:57:23.515407",
     "exception": false,
     "start_time": "2022-10-26T16:57:23.508023",
     "status": "completed"
    },
    "tags": []
   },
   "source": [
    "### Data Cleaning\n",
    "\n",
    "#### Dealing with NaN data\n",
    "\n",
    "Since some of the columns are pretty important for the analysis, I dropped entire rows which miss any crucial value. For that, I used the `dropNA()` function in Pandas.\n",
    "\n",
    "The columns I didn't want to drop entire rows, I opted to fill them with the 'UNKNOWN' value (These include variables that contain information about the victims of the crime, such as their age group, race, and gender). I used the `fillNA()` function for that.\n",
    "\n",
    "It is worth mention that some specific variables have a lot of NaN values, and they don't necessarily have any use in this analysis (like PARKS_NM means the park or public place nearby where crime happened, and columns with information about the suspect are also not going to be important, considering they have a lot of missing data) so I would drop those columns entirely with the `drop()` function."
   ]
  },
  {
   "cell_type": "code",
   "execution_count": 7,
   "id": "a0f56726",
   "metadata": {
    "execution": {
     "iopub.execute_input": "2022-10-26T16:57:23.533279Z",
     "iopub.status.busy": "2022-10-26T16:57:23.532085Z",
     "iopub.status.idle": "2022-10-26T16:57:27.115552Z",
     "shell.execute_reply": "2022-10-26T16:57:27.114467Z"
    },
    "papermill": {
     "duration": 3.595499,
     "end_time": "2022-10-26T16:57:27.118498",
     "exception": false,
     "start_time": "2022-10-26T16:57:23.522999",
     "status": "completed"
    },
    "tags": []
   },
   "outputs": [],
   "source": [
    "df[\"SUSP_RACE\"] = df[\"SUSP_RACE\"].astype(\"category\")\n",
    "df[\"SUSP_RACE\"] = df[\"SUSP_RACE\"].cat.remove_categories(\"UNKNOWN\")"
   ]
  },
  {
   "cell_type": "code",
   "execution_count": 8,
   "id": "f29df8fa",
   "metadata": {
    "execution": {
     "iopub.execute_input": "2022-10-26T16:57:27.136980Z",
     "iopub.status.busy": "2022-10-26T16:57:27.136016Z",
     "iopub.status.idle": "2022-10-26T16:57:27.445940Z",
     "shell.execute_reply": "2022-10-26T16:57:27.444745Z"
    },
    "papermill": {
     "duration": 0.321967,
     "end_time": "2022-10-26T16:57:27.448543",
     "exception": false,
     "start_time": "2022-10-26T16:57:27.126576",
     "status": "completed"
    },
    "tags": []
   },
   "outputs": [
    {
     "data": {
      "text/plain": [
       "<AxesSubplot:ylabel='SUSP_RACE'>"
      ]
     },
     "execution_count": 8,
     "metadata": {},
     "output_type": "execute_result"
    },
    {
     "data": {
      "image/png": "[encoded data removed]",
      "text/plain": [
       "<Figure size 720x1080 with 1 Axes>"
      ]
     },
     "metadata": {},
     "output_type": "display_data"
    }
   ],
   "source": [
    "df['SUSP_RACE'].value_counts().plot(kind='pie',figsize=(10,15))"
   ]
  },
  {
   "cell_type": "code",
   "execution_count": 9,
   "id": "6d7e67b2",
   "metadata": {
    "execution": {
     "iopub.execute_input": "2022-10-26T16:57:27.467545Z",
     "iopub.status.busy": "2022-10-26T16:57:27.467106Z",
     "iopub.status.idle": "2022-10-26T16:57:28.167427Z",
     "shell.execute_reply": "2022-10-26T16:57:28.166235Z"
    },
    "papermill": {
     "duration": 0.713,
     "end_time": "2022-10-26T16:57:28.170071",
     "exception": false,
     "start_time": "2022-10-26T16:57:27.457071",
     "status": "completed"
    },
    "tags": []
   },
   "outputs": [
    {
     "data": {
      "text/plain": [
       "<AxesSubplot:>"
      ]
     },
     "execution_count": 9,
     "metadata": {},
     "output_type": "execute_result"
    },
    {
     "data": {
      "image/png": "[encoded data removed]",
      "text/plain": [
       "<Figure size 432x288 with 1 Axes>"
      ]
     },
     "metadata": {
      "needs_background": "light"
     },
     "output_type": "display_data"
    }
   ],
   "source": [
    "df['VIC_RACE'].value_counts().plot(kind='bar')"
   ]
  },
  {
   "cell_type": "code",
   "execution_count": 10,
   "id": "b3a064d5",
   "metadata": {
    "execution": {
     "iopub.execute_input": "2022-10-26T16:57:28.191541Z",
     "iopub.status.busy": "2022-10-26T16:57:28.189500Z",
     "iopub.status.idle": "2022-10-26T16:57:44.215505Z",
     "shell.execute_reply": "2022-10-26T16:57:44.213697Z"
    },
    "papermill": {
     "duration": 16.039089,
     "end_time": "2022-10-26T16:57:44.218359",
     "exception": false,
     "start_time": "2022-10-26T16:57:28.179270",
     "status": "completed"
    },
    "tags": []
   },
   "outputs": [
    {
     "name": "stdout",
     "output_type": "stream",
     "text": [
      "Clean dataset: \n",
      "Observations:  256350\n",
      "Variables:  20\n"
     ]
    },
    {
     "data": {
      "text/html": [
       "<div>\n",
       "<style scoped>\n",
       "    .dataframe tbody tr th:only-of-type {\n",
       "        vertical-align: middle;\n",
       "    }\n",
       "\n",
       "    .dataframe tbody tr th {\n",
       "        vertical-align: top;\n",
       "    }\n",
       "\n",
       "    .dataframe thead th {\n",
       "        text-align: right;\n",
       "    }\n",
       "</style>\n",
       "<table border=\"1\" class=\"dataframe\">\n",
       "  <thead>\n",
       "    <tr style=\"text-align: right;\">\n",
       "      <th></th>\n",
       "      <th>CMPLNT_NUM</th>\n",
       "      <th>BORO_NM</th>\n",
       "      <th>CMPLNT_FR_DT</th>\n",
       "      <th>CMPLNT_FR_TM</th>\n",
       "      <th>CRM_ATPT_CPTD_CD</th>\n",
       "      <th>JURIS_DESC</th>\n",
       "      <th>KY_CD</th>\n",
       "      <th>LAW_CAT_CD</th>\n",
       "      <th>LOC_OF_OCCUR_DESC</th>\n",
       "      <th>OFNS_DESC</th>\n",
       "      <th>RPT_DT</th>\n",
       "      <th>VIC_AGE_GROUP</th>\n",
       "      <th>VIC_RACE</th>\n",
       "      <th>VIC_SEX</th>\n",
       "      <th>X_COORD_CD</th>\n",
       "      <th>Y_COORD_CD</th>\n",
       "      <th>Latitude</th>\n",
       "      <th>Longitude</th>\n",
       "      <th>Lat_Lon</th>\n",
       "      <th>New Georeferenced Column</th>\n",
       "    </tr>\n",
       "  </thead>\n",
       "  <tbody>\n",
       "    <tr>\n",
       "      <th>0</th>\n",
       "      <td>244685801</td>\n",
       "      <td>BROOKLYN</td>\n",
       "      <td>01/01/2015</td>\n",
       "      <td>00:00:00</td>\n",
       "      <td>COMPLETED</td>\n",
       "      <td>N.Y. POLICE DEPT</td>\n",
       "      <td>104</td>\n",
       "      <td>FELONY</td>\n",
       "      <td>INSIDE</td>\n",
       "      <td>RAPE</td>\n",
       "      <td>05/04/2022</td>\n",
       "      <td>&lt;18</td>\n",
       "      <td>BLACK</td>\n",
       "      <td>F</td>\n",
       "      <td>1010541</td>\n",
       "      <td>175595</td>\n",
       "      <td>40.648614</td>\n",
       "      <td>-73.905257</td>\n",
       "      <td>(40.6486135510607, -73.9052572032302)</td>\n",
       "      <td>POINT (-73.9052572032302 40.6486135510607)</td>\n",
       "    </tr>\n",
       "    <tr>\n",
       "      <th>1</th>\n",
       "      <td>242250195</td>\n",
       "      <td>BRONX</td>\n",
       "      <td>03/17/2022</td>\n",
       "      <td>15:23:00</td>\n",
       "      <td>ATTEMPTED</td>\n",
       "      <td>N.Y. POLICE DEPT</td>\n",
       "      <td>105</td>\n",
       "      <td>FELONY</td>\n",
       "      <td>INSIDE</td>\n",
       "      <td>ROBBERY</td>\n",
       "      <td>03/17/2022</td>\n",
       "      <td>UNKNOWN</td>\n",
       "      <td>UNKNOWN</td>\n",
       "      <td>D</td>\n",
       "      <td>1010419</td>\n",
       "      <td>242374</td>\n",
       "      <td>40.831899</td>\n",
       "      <td>-73.905435</td>\n",
       "      <td>(40.831899, -73.905435)</td>\n",
       "      <td>POINT (-73.905435 40.831899)</td>\n",
       "    </tr>\n",
       "    <tr>\n",
       "      <th>2</th>\n",
       "      <td>242385774</td>\n",
       "      <td>STATEN ISLAND</td>\n",
       "      <td>03/20/2022</td>\n",
       "      <td>11:52:00</td>\n",
       "      <td>COMPLETED</td>\n",
       "      <td>N.Y. POLICE DEPT</td>\n",
       "      <td>578</td>\n",
       "      <td>VIOLATION</td>\n",
       "      <td>FRONT OF</td>\n",
       "      <td>HARRASSMENT 2</td>\n",
       "      <td>03/20/2022</td>\n",
       "      <td>45-64</td>\n",
       "      <td>WHITE</td>\n",
       "      <td>F</td>\n",
       "      <td>926029</td>\n",
       "      <td>138052</td>\n",
       "      <td>40.545405</td>\n",
       "      <td>-74.209485</td>\n",
       "      <td>(40.545405, -74.209485)</td>\n",
       "      <td>POINT (-74.209485 40.545405)</td>\n",
       "    </tr>\n",
       "    <tr>\n",
       "      <th>3</th>\n",
       "      <td>242643555</td>\n",
       "      <td>STATEN ISLAND</td>\n",
       "      <td>03/24/2022</td>\n",
       "      <td>15:00:00</td>\n",
       "      <td>COMPLETED</td>\n",
       "      <td>N.Y. POLICE DEPT</td>\n",
       "      <td>104</td>\n",
       "      <td>FELONY</td>\n",
       "      <td>INSIDE</td>\n",
       "      <td>RAPE</td>\n",
       "      <td>03/25/2022</td>\n",
       "      <td>18-24</td>\n",
       "      <td>BLACK</td>\n",
       "      <td>F</td>\n",
       "      <td>942822</td>\n",
       "      <td>166353</td>\n",
       "      <td>40.623188</td>\n",
       "      <td>-74.149238</td>\n",
       "      <td>(40.6231883776008, -74.1492376947323)</td>\n",
       "      <td>POINT (-74.1492376947323 40.6231883776008)</td>\n",
       "    </tr>\n",
       "    <tr>\n",
       "      <th>4</th>\n",
       "      <td>242816732</td>\n",
       "      <td>BRONX</td>\n",
       "      <td>03/29/2022</td>\n",
       "      <td>15:24:00</td>\n",
       "      <td>COMPLETED</td>\n",
       "      <td>N.Y. POLICE DEPT</td>\n",
       "      <td>105</td>\n",
       "      <td>FELONY</td>\n",
       "      <td>INSIDE</td>\n",
       "      <td>ROBBERY</td>\n",
       "      <td>03/29/2022</td>\n",
       "      <td>45-64</td>\n",
       "      <td>BLACK</td>\n",
       "      <td>M</td>\n",
       "      <td>1010131</td>\n",
       "      <td>240105</td>\n",
       "      <td>40.825670</td>\n",
       "      <td>-73.906484</td>\n",
       "      <td>(40.82567, -73.906484)</td>\n",
       "      <td>POINT (-73.906484 40.82567)</td>\n",
       "    </tr>\n",
       "  </tbody>\n",
       "</table>\n",
       "</div>"
      ],
      "text/plain": [
       "  CMPLNT_NUM        BORO_NM CMPLNT_FR_DT CMPLNT_FR_TM CRM_ATPT_CPTD_CD  \\\n",
       "0  244685801       BROOKLYN   01/01/2015     00:00:00        COMPLETED   \n",
       "1  242250195          BRONX   03/17/2022     15:23:00        ATTEMPTED   \n",
       "2  242385774  STATEN ISLAND   03/20/2022     11:52:00        COMPLETED   \n",
       "3  242643555  STATEN ISLAND   03/24/2022     15:00:00        COMPLETED   \n",
       "4  242816732          BRONX   03/29/2022     15:24:00        COMPLETED   \n",
       "\n",
       "         JURIS_DESC  KY_CD LAW_CAT_CD LOC_OF_OCCUR_DESC      OFNS_DESC  \\\n",
       "0  N.Y. POLICE DEPT    104     FELONY            INSIDE           RAPE   \n",
       "1  N.Y. POLICE DEPT    105     FELONY            INSIDE        ROBBERY   \n",
       "2  N.Y. POLICE DEPT    578  VIOLATION          FRONT OF  HARRASSMENT 2   \n",
       "3  N.Y. POLICE DEPT    104     FELONY            INSIDE           RAPE   \n",
       "4  N.Y. POLICE DEPT    105     FELONY            INSIDE        ROBBERY   \n",
       "\n",
       "       RPT_DT VIC_AGE_GROUP VIC_RACE VIC_SEX  X_COORD_CD  Y_COORD_CD  \\\n",
       "0  05/04/2022           <18    BLACK       F     1010541      175595   \n",
       "1  03/17/2022       UNKNOWN  UNKNOWN       D     1010419      242374   \n",
       "2  03/20/2022         45-64    WHITE       F      926029      138052   \n",
       "3  03/25/2022         18-24    BLACK       F      942822      166353   \n",
       "4  03/29/2022         45-64    BLACK       M     1010131      240105   \n",
       "\n",
       "    Latitude  Longitude                                Lat_Lon  \\\n",
       "0  40.648614 -73.905257  (40.6486135510607, -73.9052572032302)   \n",
       "1  40.831899 -73.905435                (40.831899, -73.905435)   \n",
       "2  40.545405 -74.209485                (40.545405, -74.209485)   \n",
       "3  40.623188 -74.149238  (40.6231883776008, -74.1492376947323)   \n",
       "4  40.825670 -73.906484                 (40.82567, -73.906484)   \n",
       "\n",
       "                     New Georeferenced Column  \n",
       "0  POINT (-73.9052572032302 40.6486135510607)  \n",
       "1                POINT (-73.905435 40.831899)  \n",
       "2                POINT (-74.209485 40.545405)  \n",
       "3  POINT (-74.1492376947323 40.6231883776008)  \n",
       "4                 POINT (-73.906484 40.82567)  "
      ]
     },
     "execution_count": 10,
     "metadata": {},
     "output_type": "execute_result"
    }
   ],
   "source": [
    "#dropping rows with NaN values\n",
    "df.fillna(np.nan,inplace = True)\n",
    "df.drop_duplicates(inplace = True)\n",
    "\n",
    "df.dropna(subset=['Y_COORD_CD','X_COORD_CD','Latitude','Longitude','CRM_ATPT_CPTD_CD','Lat_Lon','OFNS_DESC'], inplace=True)\n",
    "\n",
    "#dropping columns that are not significant for future data exploration\n",
    "df.drop(['PARKS_NM','STATION_NAME','TRANSIT_DISTRICT','HADEVELOPT','HOUSING_PSA'],axis='columns', inplace=True)\n",
    "\n",
    "df.drop(['PREM_TYP_DESC', 'JURISDICTION_CODE'], axis='columns', inplace=True)\n",
    "\n",
    "df.drop(['ADDR_PCT_CD','PD_CD','PD_DESC','PATROL_BORO'], axis='columns', inplace=True)\n",
    "\n",
    "#replacing all NaN values in 'LOC_OF_OCCUR_DESC' with UNKNOWN\n",
    "df.fillna({'LOC_OF_OCCUR_DESC':'UNKNOWN'}, inplace=True)\n",
    "\n",
    "#replacing all NaN values in 'VIC_RACE' with UNKNOWN\n",
    "df.fillna({'VIC_RACE':'UNKNOWN'}, inplace=True)\n",
    "\n",
    "#replacing all NaN values in 'VIC_AGE_GROUP' with UNKNOWN\n",
    "df.fillna({'VIC_AGE_GROUP':'UNKNOWN'}, inplace=True)\n",
    "\n",
    "#replacing all NaN values in 'VIC_SEX' with UNKNOWN\n",
    "df.fillna({'VIC_SEX':'UNKNOWN'}, inplace=True)\n",
    "\n",
    "print('Clean dataset: ')\n",
    "print(\"Observations: \", df.shape[0])\n",
    "print(\"Variables: \", df.shape[1])\n",
    "\n",
    "#examing the changes\n",
    "df.head(5)"
   ]
  },
  {
   "cell_type": "code",
   "execution_count": 11,
   "id": "8b36b6c3",
   "metadata": {
    "execution": {
     "iopub.execute_input": "2022-10-26T16:57:44.238999Z",
     "iopub.status.busy": "2022-10-26T16:57:44.238580Z",
     "iopub.status.idle": "2022-10-26T16:57:44.960741Z",
     "shell.execute_reply": "2022-10-26T16:57:44.959806Z"
    },
    "papermill": {
     "duration": 0.736038,
     "end_time": "2022-10-26T16:57:44.963975",
     "exception": false,
     "start_time": "2022-10-26T16:57:44.227937",
     "status": "completed"
    },
    "tags": []
   },
   "outputs": [
    {
     "data": {
      "text/plain": [
       "array(['RAPE', 'ROBBERY', 'HARRASSMENT 2', 'THEFT-FRAUD', 'PETIT LARCENY',\n",
       "       'SEX CRIMES', 'CRIMINAL MISCHIEF & RELATED OF',\n",
       "       'ASSAULT 3 & RELATED OFFENSES', 'FELONY ASSAULT',\n",
       "       'GRAND LARCENY OF MOTOR VEHICLE', 'ARSON', 'GRAND LARCENY',\n",
       "       'VEHICLE AND TRAFFIC LAWS', 'BURGLARY',\n",
       "       'OFF. AGNST PUB ORD SENSBLTY &', 'FRAUDS', 'CRIMINAL TRESPASS',\n",
       "       'MISCELLANEOUS PENAL LAW', 'OTHER STATE LAWS (NON PENAL LA',\n",
       "       'DANGEROUS WEAPONS', 'NYS LAWS-UNCLASSIFIED FELONY', 'FORGERY',\n",
       "       'DANGEROUS DRUGS', 'OFFENSES AGAINST PUBLIC ADMINI',\n",
       "       'UNAUTHORIZED USE OF A VEHICLE', 'OFFENSES AGAINST THE PERSON',\n",
       "       'POSSESSION OF STOLEN PROPERTY', 'ADMINISTRATIVE CODE',\n",
       "       'MURDER & NON-NEGL. MANSLAUGHTER', 'OFFENSES INVOLVING FRAUD',\n",
       "       'INTOXICATED & IMPAIRED DRIVING', 'KIDNAPPING & RELATED OFFENSES',\n",
       "       'AGRICULTURE & MRKTS LAW-UNCLASSIFIED', 'GAMBLING',\n",
       "       'THEFT OF SERVICES', 'OTHER OFFENSES RELATED TO THEF',\n",
       "       'HOMICIDE-NEGLIGENT,UNCLASSIFIE',\n",
       "       'PROSTITUTION & RELATED OFFENSES',\n",
       "       'PETIT LARCENY OF MOTOR VEHICLE', 'ALCOHOLIC BEVERAGE CONTROL LAW',\n",
       "       'FRAUDULENT ACCOSTING', \"BURGLAR'S TOOLS\", 'DISORDERLY CONDUCT',\n",
       "       'OFFENSES AGAINST PUBLIC SAFETY', 'CHILD ABANDONMENT/NON SUPPORT',\n",
       "       'ENDAN WELFARE INCOMP', 'JOSTLING',\n",
       "       'NYS LAWS-UNCLASSIFIED VIOLATION',\n",
       "       'DISRUPTION OF A RELIGIOUS SERV', 'OTHER STATE LAWS',\n",
       "       'HOMICIDE-NEGLIGENT-VEHICLE', 'ANTICIPATORY OFFENSES',\n",
       "       'UNLAWFUL POSS. WEAP. ON SCHOOL', 'INTOXICATED/IMPAIRED DRIVING',\n",
       "       'LOITERING/GAMBLING (CARDS, DIC', 'OFFENSES RELATED TO CHILDREN',\n",
       "       'KIDNAPPING', 'FELONY SEX CRIMES', 'ESCAPE 3'], dtype=object)"
      ]
     },
     "execution_count": 11,
     "metadata": {},
     "output_type": "execute_result"
    }
   ],
   "source": [
    "df.OFNS_DESC.unique()"
   ]
  },
  {
   "cell_type": "code",
   "execution_count": 12,
   "id": "ce858d64",
   "metadata": {
    "execution": {
     "iopub.execute_input": "2022-10-26T16:57:44.994845Z",
     "iopub.status.busy": "2022-10-26T16:57:44.994027Z",
     "iopub.status.idle": "2022-10-26T16:58:58.728678Z",
     "shell.execute_reply": "2022-10-26T16:58:58.727433Z"
    },
    "papermill": {
     "duration": 73.753615,
     "end_time": "2022-10-26T16:58:58.731947",
     "exception": false,
     "start_time": "2022-10-26T16:57:44.978332",
     "status": "completed"
    },
    "tags": []
   },
   "outputs": [],
   "source": [
    "df_clean = df.replace({'HARRASSMENT 2': 'HARASSMENT', \n",
    "                'ESCAPE 3': 'ESCAPE',\n",
    "                'ASSAULT 3 & RELATED OFFENSES': 'ASSAULT & RELATED OFFENSES',\n",
    "                'CRIMINAL MISCHIEF & RELATED OF': 'CRIMINAL MISCHIEF',\n",
    "                'OFF. AGNST PUB ORD SENSBLTY &': 'OFFENSES AGAINST PUBLIC ORDER/ADMINISTRATION',\n",
    "                'OTHER STATE LAWS (NON PENAL LA': 'OTHER STATE LAWS (NON PENAL LAW)',\n",
    "                'ENDAN WELFARE INCOMP': 'ENDANGERING WELFARE OF INCOMPETENT',\n",
    "                'AGRICULTURE & MRKTS LAW-UNCLASSIFIED': 'AGRICULTURE & MARKETS LAW',\n",
    "                'DISRUPTION OF A RELIGIOUS SERV': 'DISRUPTION OF A RELIGIOUS SERVICE',\n",
    "                'LOITERING/GAMBLING (CARDS, DIC': 'GAMBLING',\n",
    "                'OFFENSES AGAINST MARRIAGE UNCL': 'OFFENSES AGAINST MARRIAGE',\n",
    "                'HOMICIDE-NEGLIGENT,UNCLASSIFIE': 'HOMICIDE-NEGLIGENT',\n",
    "                                      'E': 'UNKNOWN',\n",
    "                                      'D': 'BUSINESS/ORGANIZATION',\n",
    "                                      'F': 'FEMALE',\n",
    "                                      'M': 'MALE'}).copy()"
   ]
  },
  {
   "cell_type": "markdown",
   "id": "9b7c1cdb",
   "metadata": {
    "papermill": {
     "duration": 0.009136,
     "end_time": "2022-10-26T16:58:58.751649",
     "exception": false,
     "start_time": "2022-10-26T16:58:58.742513",
     "status": "completed"
    },
    "tags": []
   },
   "source": [
    "## EDA :"
   ]
  },
  {
   "cell_type": "code",
   "execution_count": 13,
   "id": "365f7e8f",
   "metadata": {
    "execution": {
     "iopub.execute_input": "2022-10-26T16:58:58.772159Z",
     "iopub.status.busy": "2022-10-26T16:58:58.771719Z",
     "iopub.status.idle": "2022-10-26T16:58:59.272010Z",
     "shell.execute_reply": "2022-10-26T16:58:59.270833Z"
    },
    "papermill": {
     "duration": 0.513484,
     "end_time": "2022-10-26T16:58:59.274419",
     "exception": false,
     "start_time": "2022-10-26T16:58:58.760935",
     "status": "completed"
    },
    "tags": []
   },
   "outputs": [
    {
     "data": {
      "text/plain": [
       "PETIT LARCENY                                   54784\n",
       "HARASSMENT                                      40927\n",
       "ASSAULT & RELATED OFFENSES                      27463\n",
       "GRAND LARCENY                                   24516\n",
       "CRIMINAL MISCHIEF                               22951\n",
       "FELONY ASSAULT                                  12492\n",
       "OFFENSES AGAINST PUBLIC ORDER/ADMINISTRATION     9472\n",
       "ROBBERY                                          8153\n",
       "MISCELLANEOUS PENAL LAW                          7869\n",
       "BURGLARY                                         7587\n",
       "Name: OFNS_DESC, dtype: int64"
      ]
     },
     "execution_count": 13,
     "metadata": {},
     "output_type": "execute_result"
    }
   ],
   "source": [
    "#types of crimes (top 10)\n",
    "df_clean.OFNS_DESC.value_counts().iloc[:10]"
   ]
  },
  {
   "cell_type": "code",
   "execution_count": 14,
   "id": "0bc305b0",
   "metadata": {
    "execution": {
     "iopub.execute_input": "2022-10-26T16:58:59.295295Z",
     "iopub.status.busy": "2022-10-26T16:58:59.294869Z",
     "iopub.status.idle": "2022-10-26T16:58:59.995988Z",
     "shell.execute_reply": "2022-10-26T16:58:59.994612Z"
    },
    "papermill": {
     "duration": 0.714646,
     "end_time": "2022-10-26T16:58:59.998549",
     "exception": false,
     "start_time": "2022-10-26T16:58:59.283903",
     "status": "completed"
    },
    "tags": []
   },
   "outputs": [
    {
     "data": {
      "text/plain": [
       "<AxesSubplot:title={'center':'Types of Crimes'}>"
      ]
     },
     "execution_count": 14,
     "metadata": {},
     "output_type": "execute_result"
    },
    {
     "data": {
      "image/png": "[encoded data removed]",
      "text/plain": [
       "<Figure size 432x288 with 1 Axes>"
      ]
     },
     "metadata": {
      "needs_background": "light"
     },
     "output_type": "display_data"
    }
   ],
   "source": [
    "df_clean.OFNS_DESC.value_counts().iloc[:10].sort_values().plot(kind=\"barh\", title = \"Types of Crimes\")"
   ]
  },
  {
   "cell_type": "markdown",
   "id": "53d0eb82",
   "metadata": {
    "papermill": {
     "duration": 0.010611,
     "end_time": "2022-10-26T16:59:00.019312",
     "exception": false,
     "start_time": "2022-10-26T16:59:00.008701",
     "status": "completed"
    },
    "tags": []
   },
   "source": [
    "There are three levels of crime in New York State: Violation, Misdemeanor and Felony.\n",
    "\n",
    "From the graph below, I can tell that Misdemeanor, an offense of which a sentence in excess of 15 days but not greater than one year may be imposed, is the most popular level of crime. The second popular one is Felony, the most serious of offenses, and the third one is Violation, a lesser offense for which a sentence only be no more than 15 days."
   ]
  },
  {
   "cell_type": "code",
   "execution_count": 15,
   "id": "a5ea3aab",
   "metadata": {
    "execution": {
     "iopub.execute_input": "2022-10-26T16:59:00.042009Z",
     "iopub.status.busy": "2022-10-26T16:59:00.041552Z",
     "iopub.status.idle": "2022-10-26T16:59:00.685589Z",
     "shell.execute_reply": "2022-10-26T16:59:00.683914Z"
    },
    "papermill": {
     "duration": 0.660401,
     "end_time": "2022-10-26T16:59:00.689949",
     "exception": false,
     "start_time": "2022-10-26T16:59:00.029548",
     "status": "completed"
    },
    "tags": []
   },
   "outputs": [
    {
     "data": {
      "text/plain": [
       "array([<AxesSubplot:ylabel='LAW_CAT_CD'>], dtype=object)"
      ]
     },
     "execution_count": 15,
     "metadata": {},
     "output_type": "execute_result"
    },
    {
     "data": {
      "image/png": "[encoded data removed]",
      "text/plain": [
       "<Figure size 720x360 with 1 Axes>"
      ]
     },
     "metadata": {},
     "output_type": "display_data"
    }
   ],
   "source": [
    "df_clean['LAW_CAT_CD'].value_counts().sort_values().plot(kind='pie', subplots=True, shadow = True,startangle=40,\n",
    "figsize=(10,5), autopct='%1.1f%%', title = 'Level of Offense')"
   ]
  },
  {
   "cell_type": "markdown",
   "id": "1798f355",
   "metadata": {
    "papermill": {
     "duration": 0.025667,
     "end_time": "2022-10-26T16:59:00.741899",
     "exception": false,
     "start_time": "2022-10-26T16:59:00.716232",
     "status": "completed"
    },
    "tags": []
   },
   "source": [
    "### 2. Distribution of crimes over the years, months and days"
   ]
  },
  {
   "cell_type": "code",
   "execution_count": 16,
   "id": "5b0676f7",
   "metadata": {
    "execution": {
     "iopub.execute_input": "2022-10-26T16:59:00.784891Z",
     "iopub.status.busy": "2022-10-26T16:59:00.783687Z",
     "iopub.status.idle": "2022-10-26T16:59:14.411903Z",
     "shell.execute_reply": "2022-10-26T16:59:14.410942Z"
    },
    "papermill": {
     "duration": 13.645935,
     "end_time": "2022-10-26T16:59:14.414368",
     "exception": false,
     "start_time": "2022-10-26T16:59:00.768433",
     "status": "completed"
    },
    "tags": []
   },
   "outputs": [
    {
     "data": {
      "text/plain": [
       "<AxesSubplot:title={'center':'Total Crime Events by Year'}>"
      ]
     },
     "execution_count": 16,
     "metadata": {},
     "output_type": "execute_result"
    },
    {
     "data": {
      "image/png": "[encoded data removed]",
      "text/plain": [
       "<Figure size 432x288 with 1 Axes>"
      ]
     },
     "metadata": {
      "needs_background": "light"
     },
     "output_type": "display_data"
    }
   ],
   "source": [
    "df_clean['year'] = df_clean['RPT_DT'].str.findall(r'(\\d{4})').apply(lambda x: x[0])\n",
    "df_clean['year'].value_counts().plot(kind=\"line\", title = \"Total Crime Events by Year\")"
   ]
  },
  {
   "cell_type": "code",
   "execution_count": 17,
   "id": "4edff0df",
   "metadata": {
    "execution": {
     "iopub.execute_input": "2022-10-26T16:59:14.439041Z",
     "iopub.status.busy": "2022-10-26T16:59:14.438421Z",
     "iopub.status.idle": "2022-10-26T16:59:35.781573Z",
     "shell.execute_reply": "2022-10-26T16:59:35.780457Z"
    },
    "papermill": {
     "duration": 21.358911,
     "end_time": "2022-10-26T16:59:35.784637",
     "exception": false,
     "start_time": "2022-10-26T16:59:14.425726",
     "status": "completed"
    },
    "tags": []
   },
   "outputs": [
    {
     "data": {
      "text/plain": [
       "<AxesSubplot:title={'center':'Total Crime Events by Month'}, xlabel='month'>"
      ]
     },
     "execution_count": 17,
     "metadata": {},
     "output_type": "execute_result"
    },
    {
     "data": {
      "image/png": "[encoded data removed]",
      "text/plain": [
       "<Figure size 432x288 with 1 Axes>"
      ]
     },
     "metadata": {
      "needs_background": "light"
     },
     "output_type": "display_data"
    }
   ],
   "source": [
    "#reports by month\n",
    "df_clean['month'] = df_clean['RPT_DT'].str.findall('(\\d{2})').apply(lambda x: x[0])\n",
    "df_clean.groupby('month').size().plot(kind = 'bar', title ='Total Crime Events by Month', color = '#C0392B',rot=0)"
   ]
  },
  {
   "cell_type": "markdown",
   "id": "2675517d",
   "metadata": {
    "papermill": {
     "duration": 0.010903,
     "end_time": "2022-10-26T16:59:35.807440",
     "exception": false,
     "start_time": "2022-10-26T16:59:35.796537",
     "status": "completed"
    },
    "tags": []
   },
   "source": [
    "### 4. Analyzing a Specific Crime\n",
    "\n",
    "I want to specifically analyze sex related crimes in NYC. For that, I put the part of the dataframe that contains the crime description 'sex crimes' and 'rape' into another dataframe and called it “sex_crimes.”"
   ]
  },
  {
   "cell_type": "code",
   "execution_count": 18,
   "id": "c12b31df",
   "metadata": {
    "execution": {
     "iopub.execute_input": "2022-10-26T16:59:35.832371Z",
     "iopub.status.busy": "2022-10-26T16:59:35.831675Z",
     "iopub.status.idle": "2022-10-26T16:59:47.374351Z",
     "shell.execute_reply": "2022-10-26T16:59:47.373352Z"
    },
    "papermill": {
     "duration": 11.557999,
     "end_time": "2022-10-26T16:59:47.376738",
     "exception": false,
     "start_time": "2022-10-26T16:59:35.818739",
     "status": "completed"
    },
    "tags": []
   },
   "outputs": [
    {
     "data": {
      "text/html": [
       "<div>\n",
       "<style scoped>\n",
       "    .dataframe tbody tr th:only-of-type {\n",
       "        vertical-align: middle;\n",
       "    }\n",
       "\n",
       "    .dataframe tbody tr th {\n",
       "        vertical-align: top;\n",
       "    }\n",
       "\n",
       "    .dataframe thead th {\n",
       "        text-align: right;\n",
       "    }\n",
       "</style>\n",
       "<table border=\"1\" class=\"dataframe\">\n",
       "  <thead>\n",
       "    <tr style=\"text-align: right;\">\n",
       "      <th></th>\n",
       "      <th>CMPLNT_NUM</th>\n",
       "      <th>BORO_NM</th>\n",
       "      <th>CMPLNT_FR_DT</th>\n",
       "      <th>CMPLNT_FR_TM</th>\n",
       "      <th>CRM_ATPT_CPTD_CD</th>\n",
       "      <th>JURIS_DESC</th>\n",
       "      <th>KY_CD</th>\n",
       "      <th>LAW_CAT_CD</th>\n",
       "      <th>LOC_OF_OCCUR_DESC</th>\n",
       "      <th>OFNS_DESC</th>\n",
       "      <th>...</th>\n",
       "      <th>VIC_RACE</th>\n",
       "      <th>VIC_SEX</th>\n",
       "      <th>X_COORD_CD</th>\n",
       "      <th>Y_COORD_CD</th>\n",
       "      <th>Latitude</th>\n",
       "      <th>Longitude</th>\n",
       "      <th>Lat_Lon</th>\n",
       "      <th>New Georeferenced Column</th>\n",
       "      <th>year</th>\n",
       "      <th>month</th>\n",
       "    </tr>\n",
       "  </thead>\n",
       "  <tbody>\n",
       "    <tr>\n",
       "      <th>0</th>\n",
       "      <td>244685801</td>\n",
       "      <td>BROOKLYN</td>\n",
       "      <td>01/01/2015</td>\n",
       "      <td>00:00:00</td>\n",
       "      <td>COMPLETED</td>\n",
       "      <td>N.Y. POLICE DEPT</td>\n",
       "      <td>104</td>\n",
       "      <td>FELONY</td>\n",
       "      <td>INSIDE</td>\n",
       "      <td>RAPE</td>\n",
       "      <td>...</td>\n",
       "      <td>BLACK</td>\n",
       "      <td>FEMALE</td>\n",
       "      <td>1010541</td>\n",
       "      <td>175595</td>\n",
       "      <td>40.648614</td>\n",
       "      <td>-73.905257</td>\n",
       "      <td>(40.6486135510607, -73.9052572032302)</td>\n",
       "      <td>POINT (-73.9052572032302 40.6486135510607)</td>\n",
       "      <td>2022</td>\n",
       "      <td>05</td>\n",
       "    </tr>\n",
       "    <tr>\n",
       "      <th>3</th>\n",
       "      <td>242643555</td>\n",
       "      <td>STATEN ISLAND</td>\n",
       "      <td>03/24/2022</td>\n",
       "      <td>15:00:00</td>\n",
       "      <td>COMPLETED</td>\n",
       "      <td>N.Y. POLICE DEPT</td>\n",
       "      <td>104</td>\n",
       "      <td>FELONY</td>\n",
       "      <td>INSIDE</td>\n",
       "      <td>RAPE</td>\n",
       "      <td>...</td>\n",
       "      <td>BLACK</td>\n",
       "      <td>FEMALE</td>\n",
       "      <td>942822</td>\n",
       "      <td>166353</td>\n",
       "      <td>40.623188</td>\n",
       "      <td>-74.149238</td>\n",
       "      <td>(40.6231883776008, -74.1492376947323)</td>\n",
       "      <td>POINT (-74.1492376947323 40.6231883776008)</td>\n",
       "      <td>2022</td>\n",
       "      <td>03</td>\n",
       "    </tr>\n",
       "    <tr>\n",
       "      <th>9</th>\n",
       "      <td>242181297</td>\n",
       "      <td>BROOKLYN</td>\n",
       "      <td>03/16/2000</td>\n",
       "      <td>00:00:00</td>\n",
       "      <td>COMPLETED</td>\n",
       "      <td>N.Y. POLICE DEPT</td>\n",
       "      <td>233</td>\n",
       "      <td>MISDEMEANOR</td>\n",
       "      <td>INSIDE</td>\n",
       "      <td>SEX CRIMES</td>\n",
       "      <td>...</td>\n",
       "      <td>BLACK</td>\n",
       "      <td>FEMALE</td>\n",
       "      <td>988902</td>\n",
       "      <td>192641</td>\n",
       "      <td>40.695439</td>\n",
       "      <td>-73.983225</td>\n",
       "      <td>(40.6954388081238, -73.9832253756043)</td>\n",
       "      <td>POINT (-73.9832253756043 40.6954388081238)</td>\n",
       "      <td>2022</td>\n",
       "      <td>03</td>\n",
       "    </tr>\n",
       "    <tr>\n",
       "      <th>21</th>\n",
       "      <td>245415071</td>\n",
       "      <td>BRONX</td>\n",
       "      <td>09/01/2020</td>\n",
       "      <td>00:00:00</td>\n",
       "      <td>COMPLETED</td>\n",
       "      <td>N.Y. POLICE DEPT</td>\n",
       "      <td>116</td>\n",
       "      <td>FELONY</td>\n",
       "      <td>INSIDE</td>\n",
       "      <td>SEX CRIMES</td>\n",
       "      <td>...</td>\n",
       "      <td>WHITE HISPANIC</td>\n",
       "      <td>FEMALE</td>\n",
       "      <td>1006490</td>\n",
       "      <td>244533</td>\n",
       "      <td>40.837842</td>\n",
       "      <td>-73.919628</td>\n",
       "      <td>(40.8378421209284, -73.9196277517392)</td>\n",
       "      <td>POINT (-73.9196277517392 40.8378421209284)</td>\n",
       "      <td>2022</td>\n",
       "      <td>05</td>\n",
       "    </tr>\n",
       "    <tr>\n",
       "      <th>27</th>\n",
       "      <td>240576685</td>\n",
       "      <td>BRONX</td>\n",
       "      <td>08/01/2021</td>\n",
       "      <td>09:00:00</td>\n",
       "      <td>COMPLETED</td>\n",
       "      <td>N.Y. HOUSING POLICE</td>\n",
       "      <td>233</td>\n",
       "      <td>MISDEMEANOR</td>\n",
       "      <td>INSIDE</td>\n",
       "      <td>SEX CRIMES</td>\n",
       "      <td>...</td>\n",
       "      <td>BLACK HISPANIC</td>\n",
       "      <td>FEMALE</td>\n",
       "      <td>1008690</td>\n",
       "      <td>238862</td>\n",
       "      <td>40.822271</td>\n",
       "      <td>-73.911698</td>\n",
       "      <td>(40.8222710411331, -73.911697780277)</td>\n",
       "      <td>POINT (-73.911697780277 40.8222710411331)</td>\n",
       "      <td>2022</td>\n",
       "      <td>02</td>\n",
       "    </tr>\n",
       "  </tbody>\n",
       "</table>\n",
       "<p>5 rows × 22 columns</p>\n",
       "</div>"
      ],
      "text/plain": [
       "   CMPLNT_NUM        BORO_NM CMPLNT_FR_DT CMPLNT_FR_TM CRM_ATPT_CPTD_CD  \\\n",
       "0   244685801       BROOKLYN   01/01/2015     00:00:00        COMPLETED   \n",
       "3   242643555  STATEN ISLAND   03/24/2022     15:00:00        COMPLETED   \n",
       "9   242181297       BROOKLYN   03/16/2000     00:00:00        COMPLETED   \n",
       "21  245415071          BRONX   09/01/2020     00:00:00        COMPLETED   \n",
       "27  240576685          BRONX   08/01/2021     09:00:00        COMPLETED   \n",
       "\n",
       "             JURIS_DESC  KY_CD   LAW_CAT_CD LOC_OF_OCCUR_DESC   OFNS_DESC  \\\n",
       "0      N.Y. POLICE DEPT    104       FELONY            INSIDE        RAPE   \n",
       "3      N.Y. POLICE DEPT    104       FELONY            INSIDE        RAPE   \n",
       "9      N.Y. POLICE DEPT    233  MISDEMEANOR            INSIDE  SEX CRIMES   \n",
       "21     N.Y. POLICE DEPT    116       FELONY            INSIDE  SEX CRIMES   \n",
       "27  N.Y. HOUSING POLICE    233  MISDEMEANOR            INSIDE  SEX CRIMES   \n",
       "\n",
       "    ...        VIC_RACE VIC_SEX X_COORD_CD Y_COORD_CD   Latitude  Longitude  \\\n",
       "0   ...           BLACK  FEMALE    1010541     175595  40.648614 -73.905257   \n",
       "3   ...           BLACK  FEMALE     942822     166353  40.623188 -74.149238   \n",
       "9   ...           BLACK  FEMALE     988902     192641  40.695439 -73.983225   \n",
       "21  ...  WHITE HISPANIC  FEMALE    1006490     244533  40.837842 -73.919628   \n",
       "27  ...  BLACK HISPANIC  FEMALE    1008690     238862  40.822271 -73.911698   \n",
       "\n",
       "                                  Lat_Lon  \\\n",
       "0   (40.6486135510607, -73.9052572032302)   \n",
       "3   (40.6231883776008, -74.1492376947323)   \n",
       "9   (40.6954388081238, -73.9832253756043)   \n",
       "21  (40.8378421209284, -73.9196277517392)   \n",
       "27   (40.8222710411331, -73.911697780277)   \n",
       "\n",
       "                      New Georeferenced Column  year month  \n",
       "0   POINT (-73.9052572032302 40.6486135510607)  2022    05  \n",
       "3   POINT (-74.1492376947323 40.6231883776008)  2022    03  \n",
       "9   POINT (-73.9832253756043 40.6954388081238)  2022    03  \n",
       "21  POINT (-73.9196277517392 40.8378421209284)  2022    05  \n",
       "27   POINT (-73.911697780277 40.8222710411331)  2022    02  \n",
       "\n",
       "[5 rows x 22 columns]"
      ]
     },
     "execution_count": 18,
     "metadata": {},
     "output_type": "execute_result"
    }
   ],
   "source": [
    "sex_crimes = df_clean[df.OFNS_DESC.str.contains('SEX CRIMES|RAPE')]\n",
    "sex_crimes.head()"
   ]
  },
  {
   "cell_type": "markdown",
   "id": "0c872471",
   "metadata": {
    "papermill": {
     "duration": 0.011436,
     "end_time": "2022-10-26T16:59:47.400172",
     "exception": false,
     "start_time": "2022-10-26T16:59:47.388736",
     "status": "completed"
    },
    "tags": []
   },
   "source": [
    "#### Analyzing Time\n",
    "\n",
    "We may be interested in the distribution of values across the years, so I'm going to group the data by year and plot the results."
   ]
  },
  {
   "cell_type": "code",
   "execution_count": 19,
   "id": "b7b391aa",
   "metadata": {
    "execution": {
     "iopub.execute_input": "2022-10-26T16:59:47.425726Z",
     "iopub.status.busy": "2022-10-26T16:59:47.424471Z",
     "iopub.status.idle": "2022-10-26T16:59:47.772686Z",
     "shell.execute_reply": "2022-10-26T16:59:47.771048Z"
    },
    "papermill": {
     "duration": 0.363683,
     "end_time": "2022-10-26T16:59:47.775393",
     "exception": false,
     "start_time": "2022-10-26T16:59:47.411710",
     "status": "completed"
    },
    "scrolled": true,
    "tags": []
   },
   "outputs": [
    {
     "name": "stdout",
     "output_type": "stream",
     "text": [
      "4623.0\n"
     ]
    },
    {
     "data": {
      "image/png": "[encoded data removed]",
      "text/plain": [
       "<Figure size 432x288 with 1 Axes>"
      ]
     },
     "metadata": {
      "needs_background": "light"
     },
     "output_type": "display_data"
    }
   ],
   "source": [
    "#plot graph\n",
    "sex_crimes.groupby('year').size().plot(kind = 'barh', color = '#8E44AD', title = 'Sex Crime Reports by Year')\n",
    "\n",
    "#average sex crimes per year\n",
    "mean = sex_crimes['year'].value_counts().mean()\n",
    "print(round(mean,2))"
   ]
  },
  {
   "cell_type": "markdown",
   "id": "ba692236",
   "metadata": {
    "papermill": {
     "duration": 0.01231,
     "end_time": "2022-10-26T16:59:47.800367",
     "exception": false,
     "start_time": "2022-10-26T16:59:47.788057",
     "status": "completed"
    },
    "tags": []
   },
   "source": [
    "- Based on the bar graph that I computed, sex crimes happened the most during the last 3 years compared to previous years.\n",
    "\n",
    "- On average, there are 7443 victims of rape and sexual assault each year in New York City.\n",
    "\n",
    "Let’s also look at how the number of the reports changes within a day."
   ]
  },
  {
   "cell_type": "code",
   "execution_count": 20,
   "id": "ff14d667",
   "metadata": {
    "execution": {
     "iopub.execute_input": "2022-10-26T16:59:47.826558Z",
     "iopub.status.busy": "2022-10-26T16:59:47.826153Z",
     "iopub.status.idle": "2022-10-26T16:59:48.098794Z",
     "shell.execute_reply": "2022-10-26T16:59:48.097379Z"
    },
    "papermill": {
     "duration": 0.288977,
     "end_time": "2022-10-26T16:59:48.101504",
     "exception": false,
     "start_time": "2022-10-26T16:59:47.812527",
     "status": "completed"
    },
    "tags": []
   },
   "outputs": [
    {
     "name": "stdout",
     "output_type": "stream",
     "text": [
      "BLACK                             30.737616\n",
      "WHITE HISPANIC                    29.374865\n",
      "WHITE                             14.514385\n",
      "UNKNOWN                           10.404499\n",
      "ASIAN / PACIFIC ISLANDER           8.738914\n",
      "BLACK HISPANIC                     5.970149\n",
      "AMERICAN INDIAN/ALASKAN NATIVE     0.259572\n",
      "Name: VIC_RACE, dtype: float64\n"
     ]
    },
    {
     "data": {
      "image/png": "[encoded data removed]",
      "text/plain": [
       "<Figure size 432x288 with 1 Axes>"
      ]
     },
     "metadata": {
      "needs_background": "light"
     },
     "output_type": "display_data"
    }
   ],
   "source": [
    "# Sex victims by Race :\n",
    "sex_crimes['VIC_RACE'].value_counts().iloc[:7].plot(kind=\"barh\", color = '#D35400', title = 'Sex Crime Victims by Race')\n",
    "\n",
    "#victims by race percentage\n",
    "vic_race_per = sex_crimes['VIC_RACE'].value_counts().iloc[:7] / sex_crimes['VIC_RACE'].shape[0] *100\n",
    "print(vic_race_per)"
   ]
  },
  {
   "cell_type": "markdown",
   "id": "b814eb7b",
   "metadata": {
    "papermill": {
     "duration": 0.012464,
     "end_time": "2022-10-26T16:59:48.127024",
     "exception": false,
     "start_time": "2022-10-26T16:59:48.114560",
     "status": "completed"
    },
    "tags": []
   },
   "source": []
  }
 ],
 "metadata": {
  "kernelspec": {
   "display_name": "Python 3 (ipykernel)",
   "language": "python",
   "name": "python3"
  },
  "language_info": {
   "codemirror_mode": {
    "name": "ipython",
    "version": 3
   },
   "file_extension": ".py",
   "mimetype": "text/x-python",
   "name": "python",
   "nbconvert_exporter": "python",
   "pygments_lexer": "ipython3",
   "version": "3.9.12"
  },
  "papermill": {
   "default_parameters": {},
   "duration": 261.733263,
   "end_time": "2022-10-26T16:59:51.262750",
   "environment_variables": {},
   "exception": null,
   "input_path": "__notebook__.ipynb",
   "output_path": "__notebook__.ipynb",
   "parameters": {},
   "start_time": "2022-10-26T16:55:29.529487",
   "version": "2.3.4"
  }
 },
 "nbformat": 4,
 "nbformat_minor": 5
}
