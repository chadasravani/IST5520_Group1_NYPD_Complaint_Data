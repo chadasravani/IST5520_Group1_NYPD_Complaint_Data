{
 "cells": [
  {
   "cell_type": "code",
   "execution_count": 1,
   "id": "4c6549a1",
   "metadata": {},
   "outputs": [],
   "source": [
    "import pandas as pd\n",
    "import numpy as np\n",
    "from sklearn.decomposition import PCA\n",
    "import matplotlib.pyplot as plt\n",
    "from sklearn.preprocessing import scale\n",
    "import seaborn as sns\n",
    "from sklearn import preprocessing\n",
    "import scipy as sp"
   ]
  },
  {
   "cell_type": "code",
   "execution_count": 2,
   "id": "1048fe41",
   "metadata": {
    "execution": {
     "iopub.execute_input": "2022-10-26T16:55:38.231032Z",
     "iopub.status.busy": "2022-10-26T16:55:38.230013Z",
     "iopub.status.idle": "2022-10-26T16:57:15.295821Z",
     "shell.execute_reply": "2022-10-26T16:57:15.294772Z"
    },
    "papermill": {
     "duration": 97.077522,
     "end_time": "2022-10-26T16:57:15.298804",
     "exception": false,
     "start_time": "2022-10-26T16:55:38.221282",
     "status": "completed"
    },
    "tags": []
   },
   "outputs": [
    {
     "data": {
      "text/html": [
       "<div>\n",
       "<style scoped>\n",
       "    .dataframe tbody tr th:only-of-type {\n",
       "        vertical-align: middle;\n",
       "    }\n",
       "\n",
       "    .dataframe tbody tr th {\n",
       "        vertical-align: top;\n",
       "    }\n",
       "\n",
       "    .dataframe thead th {\n",
       "        text-align: right;\n",
       "    }\n",
       "</style>\n",
       "<table border=\"1\" class=\"dataframe\">\n",
       "  <thead>\n",
       "    <tr style=\"text-align: right;\">\n",
       "      <th></th>\n",
       "      <th>CMPLNT_NUM</th>\n",
       "      <th>ADDR_PCT_CD</th>\n",
       "      <th>BORO_NM</th>\n",
       "      <th>CMPLNT_FR_DT</th>\n",
       "      <th>CMPLNT_FR_TM</th>\n",
       "      <th>CMPLNT_TO_DT</th>\n",
       "      <th>CMPLNT_TO_TM</th>\n",
       "      <th>CRM_ATPT_CPTD_CD</th>\n",
       "      <th>HADEVELOPT</th>\n",
       "      <th>HOUSING_PSA</th>\n",
       "      <th>...</th>\n",
       "      <th>TRANSIT_DISTRICT</th>\n",
       "      <th>VIC_AGE_GROUP</th>\n",
       "      <th>VIC_RACE</th>\n",
       "      <th>VIC_SEX</th>\n",
       "      <th>X_COORD_CD</th>\n",
       "      <th>Y_COORD_CD</th>\n",
       "      <th>Latitude</th>\n",
       "      <th>Longitude</th>\n",
       "      <th>Lat_Lon</th>\n",
       "      <th>New Georeferenced Column</th>\n",
       "    </tr>\n",
       "  </thead>\n",
       "  <tbody>\n",
       "    <tr>\n",
       "      <th>0</th>\n",
       "      <td>244685801</td>\n",
       "      <td>69</td>\n",
       "      <td>BROOKLYN</td>\n",
       "      <td>01/01/2015</td>\n",
       "      <td>00:00:00</td>\n",
       "      <td>NaN</td>\n",
       "      <td>(null)</td>\n",
       "      <td>COMPLETED</td>\n",
       "      <td>(null)</td>\n",
       "      <td>NaN</td>\n",
       "      <td>...</td>\n",
       "      <td>NaN</td>\n",
       "      <td>&lt;18</td>\n",
       "      <td>BLACK</td>\n",
       "      <td>F</td>\n",
       "      <td>1010541</td>\n",
       "      <td>175595</td>\n",
       "      <td>40.648614</td>\n",
       "      <td>-73.905257</td>\n",
       "      <td>(40.6486135510607, -73.9052572032302)</td>\n",
       "      <td>POINT (-73.9052572032302 40.6486135510607)</td>\n",
       "    </tr>\n",
       "    <tr>\n",
       "      <th>1</th>\n",
       "      <td>242250195</td>\n",
       "      <td>42</td>\n",
       "      <td>BRONX</td>\n",
       "      <td>03/17/2022</td>\n",
       "      <td>15:23:00</td>\n",
       "      <td>03/17/2022</td>\n",
       "      <td>15:28:00</td>\n",
       "      <td>ATTEMPTED</td>\n",
       "      <td>(null)</td>\n",
       "      <td>NaN</td>\n",
       "      <td>...</td>\n",
       "      <td>NaN</td>\n",
       "      <td>UNKNOWN</td>\n",
       "      <td>UNKNOWN</td>\n",
       "      <td>D</td>\n",
       "      <td>1010419</td>\n",
       "      <td>242374</td>\n",
       "      <td>40.831899</td>\n",
       "      <td>-73.905435</td>\n",
       "      <td>(40.831899, -73.905435)</td>\n",
       "      <td>POINT (-73.905435 40.831899)</td>\n",
       "    </tr>\n",
       "    <tr>\n",
       "      <th>2</th>\n",
       "      <td>242385774</td>\n",
       "      <td>123</td>\n",
       "      <td>STATEN ISLAND</td>\n",
       "      <td>03/20/2022</td>\n",
       "      <td>11:52:00</td>\n",
       "      <td>NaN</td>\n",
       "      <td>(null)</td>\n",
       "      <td>COMPLETED</td>\n",
       "      <td>(null)</td>\n",
       "      <td>NaN</td>\n",
       "      <td>...</td>\n",
       "      <td>NaN</td>\n",
       "      <td>45-64</td>\n",
       "      <td>WHITE</td>\n",
       "      <td>F</td>\n",
       "      <td>926029</td>\n",
       "      <td>138052</td>\n",
       "      <td>40.545405</td>\n",
       "      <td>-74.209485</td>\n",
       "      <td>(40.545405, -74.209485)</td>\n",
       "      <td>POINT (-74.209485 40.545405)</td>\n",
       "    </tr>\n",
       "    <tr>\n",
       "      <th>3</th>\n",
       "      <td>242643555</td>\n",
       "      <td>121</td>\n",
       "      <td>STATEN ISLAND</td>\n",
       "      <td>03/24/2022</td>\n",
       "      <td>15:00:00</td>\n",
       "      <td>03/24/2022</td>\n",
       "      <td>22:00:00</td>\n",
       "      <td>COMPLETED</td>\n",
       "      <td>(null)</td>\n",
       "      <td>NaN</td>\n",
       "      <td>...</td>\n",
       "      <td>NaN</td>\n",
       "      <td>18-24</td>\n",
       "      <td>BLACK</td>\n",
       "      <td>F</td>\n",
       "      <td>942822</td>\n",
       "      <td>166353</td>\n",
       "      <td>40.623188</td>\n",
       "      <td>-74.149238</td>\n",
       "      <td>(40.6231883776008, -74.1492376947323)</td>\n",
       "      <td>POINT (-74.1492376947323 40.6231883776008)</td>\n",
       "    </tr>\n",
       "    <tr>\n",
       "      <th>4</th>\n",
       "      <td>242816732</td>\n",
       "      <td>42</td>\n",
       "      <td>BRONX</td>\n",
       "      <td>03/29/2022</td>\n",
       "      <td>15:24:00</td>\n",
       "      <td>03/29/2022</td>\n",
       "      <td>15:30:00</td>\n",
       "      <td>COMPLETED</td>\n",
       "      <td>(null)</td>\n",
       "      <td>NaN</td>\n",
       "      <td>...</td>\n",
       "      <td>NaN</td>\n",
       "      <td>45-64</td>\n",
       "      <td>BLACK</td>\n",
       "      <td>M</td>\n",
       "      <td>1010131</td>\n",
       "      <td>240105</td>\n",
       "      <td>40.825670</td>\n",
       "      <td>-73.906484</td>\n",
       "      <td>(40.82567, -73.906484)</td>\n",
       "      <td>POINT (-73.906484 40.82567)</td>\n",
       "    </tr>\n",
       "  </tbody>\n",
       "</table>\n",
       "<p>5 rows × 36 columns</p>\n",
       "</div>"
      ],
      "text/plain": [
       "  CMPLNT_NUM  ADDR_PCT_CD        BORO_NM CMPLNT_FR_DT CMPLNT_FR_TM  \\\n",
       "0  244685801           69       BROOKLYN   01/01/2015     00:00:00   \n",
       "1  242250195           42          BRONX   03/17/2022     15:23:00   \n",
       "2  242385774          123  STATEN ISLAND   03/20/2022     11:52:00   \n",
       "3  242643555          121  STATEN ISLAND   03/24/2022     15:00:00   \n",
       "4  242816732           42          BRONX   03/29/2022     15:24:00   \n",
       "\n",
       "  CMPLNT_TO_DT CMPLNT_TO_TM CRM_ATPT_CPTD_CD HADEVELOPT  HOUSING_PSA  ...  \\\n",
       "0          NaN       (null)        COMPLETED     (null)          NaN  ...   \n",
       "1   03/17/2022     15:28:00        ATTEMPTED     (null)          NaN  ...   \n",
       "2          NaN       (null)        COMPLETED     (null)          NaN  ...   \n",
       "3   03/24/2022     22:00:00        COMPLETED     (null)          NaN  ...   \n",
       "4   03/29/2022     15:30:00        COMPLETED     (null)          NaN  ...   \n",
       "\n",
       "   TRANSIT_DISTRICT VIC_AGE_GROUP  VIC_RACE VIC_SEX X_COORD_CD Y_COORD_CD  \\\n",
       "0               NaN           <18     BLACK       F    1010541     175595   \n",
       "1               NaN       UNKNOWN   UNKNOWN       D    1010419     242374   \n",
       "2               NaN         45-64     WHITE       F     926029     138052   \n",
       "3               NaN         18-24     BLACK       F     942822     166353   \n",
       "4               NaN         45-64     BLACK       M    1010131     240105   \n",
       "\n",
       "    Latitude  Longitude                                Lat_Lon  \\\n",
       "0  40.648614 -73.905257  (40.6486135510607, -73.9052572032302)   \n",
       "1  40.831899 -73.905435                (40.831899, -73.905435)   \n",
       "2  40.545405 -74.209485                (40.545405, -74.209485)   \n",
       "3  40.623188 -74.149238  (40.6231883776008, -74.1492376947323)   \n",
       "4  40.825670 -73.906484                 (40.82567, -73.906484)   \n",
       "\n",
       "                     New Georeferenced Column  \n",
       "0  POINT (-73.9052572032302 40.6486135510607)  \n",
       "1                POINT (-73.905435 40.831899)  \n",
       "2                POINT (-74.209485 40.545405)  \n",
       "3  POINT (-74.1492376947323 40.6231883776008)  \n",
       "4                 POINT (-73.906484 40.82567)  \n",
       "\n",
       "[5 rows x 36 columns]"
      ]
     },
     "execution_count": 2,
     "metadata": {},
     "output_type": "execute_result"
    }
   ],
   "source": [
    "#Import Dataset\n",
    "df = pd.read_csv('NYPD_Complaint_Data_Current__Year_To_Date.csv')\n",
    "df.head()"
   ]
  },
  {
   "cell_type": "markdown",
   "id": "f7d33460",
   "metadata": {
    "papermill": {
     "duration": 0.010596,
     "end_time": "2022-10-26T16:57:15.316929",
     "exception": false,
     "start_time": "2022-10-26T16:57:15.306333",
     "status": "completed"
    },
    "tags": []
   },
   "source": [
    "## Variables Dictionary :\n",
    "### Expand the cell below to view the variables dictionary."
   ]
  },
  {
   "cell_type": "markdown",
   "id": "7d89c2bc",
   "metadata": {
    "_kg_hide-output": true,
    "papermill": {
     "duration": 0.006662,
     "end_time": "2022-10-26T16:57:15.330768",
     "exception": false,
     "start_time": "2022-10-26T16:57:15.324106",
     "status": "completed"
    },
    "tags": []
   },
   "source": [
    "> **CMPLNT_NUM** - Randomly generated persistent ID for each complaint\n",
    "> \n",
    "> **ADDR_PCT_CD** - The precinct in which the incident occurred\n",
    "> \n",
    "> **BORO** - The name of the borough in which the incident occurred\n",
    "> \n",
    "> **CMPLNT_FR_DT** - Exact date of occurrence for the reported event (or starting date of occurrence, if CMPLNT_TO_DT exists)\n",
    "> \n",
    "> **CMPLNT_FR_TM** - Exact time of occurrence for the reported event (or starting time of occurrence, if CMPLNT_TO_TM exists)\n",
    "> \n",
    "> **CMPLNT_TO_DT** - Ending date of occurrence for the reported event, if exact time of occurrence is unknown\n",
    "> \n",
    "> **CMPLNT_TO_TM** - Ending time of occurrence for the reported event, if exact time of occurrence is unknown\n",
    "> \n",
    "> **CRM_ATPT_CPTD_CD** - Indicator of whether crime was successfully completed or attempted, but failed or was interrupted prematurely\n",
    "> \n",
    "> **HADEVELOPT** - Name of NYCHA housing development of occurrence, if applicable\n",
    "> \n",
    "> **HOUSING_PSA** - Development Level Code\n",
    "> \n",
    "> **JURISDICTION_CODE** - Jurisdiction responsible for incident. Either internal, like Police(0), Transit(1), and Housing(2); or external(3), like Correction, Port Authority, etc.\n",
    "> \n",
    "> **JURIS_DESC** - Description of the jurisdiction code\n",
    "> \n",
    "> **KY_CD** - Three digit offense classification code\n",
    "> \n",
    "> **LAW_CAT_CD** - Level of offense: felony, misdemeanor, violation\n",
    "> \n",
    "> **LOC_OF_OCCUR_DESC** - Specific location of occurrence in or around the premises; inside, opposite of, front of, rear of\n",
    "> \n",
    "> **OFNS_DESC** - Description of offense corresponding with key code\n",
    "> \n",
    "> **PARKS_NM** - Name of NYC park, playground or greenspace of occurrence, if applicable (state parks are not included)\n",
    "> \n",
    "> **PATROL_BORO** - The name of the patrol borough in which the incident occurred\n",
    "> \n",
    "> **PD_CD** - Three digit internal classification code (more granular than Key Code)\n",
    "> \n",
    "> **PD_DESC** - Description of internal classification corresponding with PD code (more granular than Offense Description)\n",
    "> \n",
    "> **PREM_TYP_DESC** - Specific description of premises; grocery store, residence, street, etc.\n",
    "> \n",
    "> **RPT_DT** - Date event was reported to police\n",
    "> \n",
    "> **STATION_NAME** - Transit station name\n",
    "> \n",
    "> **SUSP_AGE_GROUP** - Suspect’s Age Group\n",
    "> \n",
    "> **SUSP_RACE** - Suspect’s Race Description\n",
    "> \n",
    "> **SUSP_SEX** - Suspect’s Sex Description\n",
    "> \n",
    "> **TRANSIT_DISTRICT** - Transit district in which the offense occurred.\n",
    "> \n",
    "> **VIC_AGE_GROUP** - Victim’s Age Group\n",
    "> \n",
    "> **VIC_RACE** - Victim’s Race Description\n",
    "> \n",
    "> **VIC_SEX** - Victim’s Sex Description (D=Business/Organization, E=PSNY/People of the State of New York, F=Female, M=Male)\n",
    "> \n",
    "> **X_COORD_CD** - X-coordinate for New York State Plane Coordinate System, Long Island Zone, NAD 83, units feet (FIPS 3104)\n",
    "> \n",
    "> **Y_COORD_CD** - Y-coordinate for New York State Plane Coordinate System, Long Island Zone, NAD 83, units feet (FIPS 3104)\n",
    "> \n",
    "> **Latitude** - Midblock Latitude coordinate for Global Coordinate System, WGS 1984, decimal degrees (EPSG 4326)\n",
    "> \n",
    "> **Longitude** - Midblock Longitude coordinate for Global Coordinate System, WGS 1984, decimal degrees (EPSG 4326)"
   ]
  },
  {
   "cell_type": "code",
   "execution_count": 3,
   "id": "d2ac93a6",
   "metadata": {
    "execution": {
     "iopub.execute_input": "2022-10-26T16:57:15.348436Z",
     "iopub.status.busy": "2022-10-26T16:57:15.347462Z",
     "iopub.status.idle": "2022-10-26T16:57:15.353318Z",
     "shell.execute_reply": "2022-10-26T16:57:15.352238Z"
    },
    "papermill": {
     "duration": 0.01734,
     "end_time": "2022-10-26T16:57:15.355916",
     "exception": false,
     "start_time": "2022-10-26T16:57:15.338576",
     "status": "completed"
    },
    "tags": []
   },
   "outputs": [
    {
     "name": "stdout",
     "output_type": "stream",
     "text": [
      "Observations:  256797\n",
      "Variables:  36\n"
     ]
    }
   ],
   "source": [
    "print(\"Observations: \", df.shape[0])\n",
    "\n",
    "print(\"Variables: \", df.shape[1])"
   ]
  },
  {
   "cell_type": "code",
   "execution_count": 4,
   "id": "8b938e1b",
   "metadata": {
    "execution": {
     "iopub.execute_input": "2022-10-26T16:57:15.375657Z",
     "iopub.status.busy": "2022-10-26T16:57:15.374988Z",
     "iopub.status.idle": "2022-10-26T16:57:15.417428Z",
     "shell.execute_reply": "2022-10-26T16:57:15.416273Z"
    },
    "papermill": {
     "duration": 0.056488,
     "end_time": "2022-10-26T16:57:15.420093",
     "exception": false,
     "start_time": "2022-10-26T16:57:15.363605",
     "status": "completed"
    },
    "tags": []
   },
   "outputs": [
    {
     "data": {
      "text/html": [
       "<div>\n",
       "<style scoped>\n",
       "    .dataframe tbody tr th:only-of-type {\n",
       "        vertical-align: middle;\n",
       "    }\n",
       "\n",
       "    .dataframe tbody tr th {\n",
       "        vertical-align: top;\n",
       "    }\n",
       "\n",
       "    .dataframe thead th {\n",
       "        text-align: right;\n",
       "    }\n",
       "</style>\n",
       "<table border=\"1\" class=\"dataframe\">\n",
       "  <thead>\n",
       "    <tr style=\"text-align: right;\">\n",
       "      <th></th>\n",
       "      <th>CMPLNT_NUM</th>\n",
       "      <th>ADDR_PCT_CD</th>\n",
       "      <th>BORO_NM</th>\n",
       "      <th>CMPLNT_FR_DT</th>\n",
       "      <th>CMPLNT_FR_TM</th>\n",
       "      <th>CMPLNT_TO_DT</th>\n",
       "      <th>CMPLNT_TO_TM</th>\n",
       "      <th>CRM_ATPT_CPTD_CD</th>\n",
       "      <th>HADEVELOPT</th>\n",
       "      <th>HOUSING_PSA</th>\n",
       "      <th>...</th>\n",
       "      <th>TRANSIT_DISTRICT</th>\n",
       "      <th>VIC_AGE_GROUP</th>\n",
       "      <th>VIC_RACE</th>\n",
       "      <th>VIC_SEX</th>\n",
       "      <th>X_COORD_CD</th>\n",
       "      <th>Y_COORD_CD</th>\n",
       "      <th>Latitude</th>\n",
       "      <th>Longitude</th>\n",
       "      <th>Lat_Lon</th>\n",
       "      <th>New Georeferenced Column</th>\n",
       "    </tr>\n",
       "  </thead>\n",
       "  <tbody>\n",
       "    <tr>\n",
       "      <th>0</th>\n",
       "      <td>244685801</td>\n",
       "      <td>69</td>\n",
       "      <td>BROOKLYN</td>\n",
       "      <td>01/01/2015</td>\n",
       "      <td>00:00:00</td>\n",
       "      <td>NaN</td>\n",
       "      <td>(null)</td>\n",
       "      <td>COMPLETED</td>\n",
       "      <td>(null)</td>\n",
       "      <td>NaN</td>\n",
       "      <td>...</td>\n",
       "      <td>NaN</td>\n",
       "      <td>&lt;18</td>\n",
       "      <td>BLACK</td>\n",
       "      <td>F</td>\n",
       "      <td>1010541</td>\n",
       "      <td>175595</td>\n",
       "      <td>40.648614</td>\n",
       "      <td>-73.905257</td>\n",
       "      <td>(40.6486135510607, -73.9052572032302)</td>\n",
       "      <td>POINT (-73.9052572032302 40.6486135510607)</td>\n",
       "    </tr>\n",
       "    <tr>\n",
       "      <th>1</th>\n",
       "      <td>242250195</td>\n",
       "      <td>42</td>\n",
       "      <td>BRONX</td>\n",
       "      <td>03/17/2022</td>\n",
       "      <td>15:23:00</td>\n",
       "      <td>03/17/2022</td>\n",
       "      <td>15:28:00</td>\n",
       "      <td>ATTEMPTED</td>\n",
       "      <td>(null)</td>\n",
       "      <td>NaN</td>\n",
       "      <td>...</td>\n",
       "      <td>NaN</td>\n",
       "      <td>UNKNOWN</td>\n",
       "      <td>UNKNOWN</td>\n",
       "      <td>D</td>\n",
       "      <td>1010419</td>\n",
       "      <td>242374</td>\n",
       "      <td>40.831899</td>\n",
       "      <td>-73.905435</td>\n",
       "      <td>(40.831899, -73.905435)</td>\n",
       "      <td>POINT (-73.905435 40.831899)</td>\n",
       "    </tr>\n",
       "    <tr>\n",
       "      <th>2</th>\n",
       "      <td>242385774</td>\n",
       "      <td>123</td>\n",
       "      <td>STATEN ISLAND</td>\n",
       "      <td>03/20/2022</td>\n",
       "      <td>11:52:00</td>\n",
       "      <td>NaN</td>\n",
       "      <td>(null)</td>\n",
       "      <td>COMPLETED</td>\n",
       "      <td>(null)</td>\n",
       "      <td>NaN</td>\n",
       "      <td>...</td>\n",
       "      <td>NaN</td>\n",
       "      <td>45-64</td>\n",
       "      <td>WHITE</td>\n",
       "      <td>F</td>\n",
       "      <td>926029</td>\n",
       "      <td>138052</td>\n",
       "      <td>40.545405</td>\n",
       "      <td>-74.209485</td>\n",
       "      <td>(40.545405, -74.209485)</td>\n",
       "      <td>POINT (-74.209485 40.545405)</td>\n",
       "    </tr>\n",
       "    <tr>\n",
       "      <th>3</th>\n",
       "      <td>242643555</td>\n",
       "      <td>121</td>\n",
       "      <td>STATEN ISLAND</td>\n",
       "      <td>03/24/2022</td>\n",
       "      <td>15:00:00</td>\n",
       "      <td>03/24/2022</td>\n",
       "      <td>22:00:00</td>\n",
       "      <td>COMPLETED</td>\n",
       "      <td>(null)</td>\n",
       "      <td>NaN</td>\n",
       "      <td>...</td>\n",
       "      <td>NaN</td>\n",
       "      <td>18-24</td>\n",
       "      <td>BLACK</td>\n",
       "      <td>F</td>\n",
       "      <td>942822</td>\n",
       "      <td>166353</td>\n",
       "      <td>40.623188</td>\n",
       "      <td>-74.149238</td>\n",
       "      <td>(40.6231883776008, -74.1492376947323)</td>\n",
       "      <td>POINT (-74.1492376947323 40.6231883776008)</td>\n",
       "    </tr>\n",
       "    <tr>\n",
       "      <th>4</th>\n",
       "      <td>242816732</td>\n",
       "      <td>42</td>\n",
       "      <td>BRONX</td>\n",
       "      <td>03/29/2022</td>\n",
       "      <td>15:24:00</td>\n",
       "      <td>03/29/2022</td>\n",
       "      <td>15:30:00</td>\n",
       "      <td>COMPLETED</td>\n",
       "      <td>(null)</td>\n",
       "      <td>NaN</td>\n",
       "      <td>...</td>\n",
       "      <td>NaN</td>\n",
       "      <td>45-64</td>\n",
       "      <td>BLACK</td>\n",
       "      <td>M</td>\n",
       "      <td>1010131</td>\n",
       "      <td>240105</td>\n",
       "      <td>40.825670</td>\n",
       "      <td>-73.906484</td>\n",
       "      <td>(40.82567, -73.906484)</td>\n",
       "      <td>POINT (-73.906484 40.82567)</td>\n",
       "    </tr>\n",
       "  </tbody>\n",
       "</table>\n",
       "<p>5 rows × 36 columns</p>\n",
       "</div>"
      ],
      "text/plain": [
       "  CMPLNT_NUM  ADDR_PCT_CD        BORO_NM CMPLNT_FR_DT CMPLNT_FR_TM  \\\n",
       "0  244685801           69       BROOKLYN   01/01/2015     00:00:00   \n",
       "1  242250195           42          BRONX   03/17/2022     15:23:00   \n",
       "2  242385774          123  STATEN ISLAND   03/20/2022     11:52:00   \n",
       "3  242643555          121  STATEN ISLAND   03/24/2022     15:00:00   \n",
       "4  242816732           42          BRONX   03/29/2022     15:24:00   \n",
       "\n",
       "  CMPLNT_TO_DT CMPLNT_TO_TM CRM_ATPT_CPTD_CD HADEVELOPT  HOUSING_PSA  ...  \\\n",
       "0          NaN       (null)        COMPLETED     (null)          NaN  ...   \n",
       "1   03/17/2022     15:28:00        ATTEMPTED     (null)          NaN  ...   \n",
       "2          NaN       (null)        COMPLETED     (null)          NaN  ...   \n",
       "3   03/24/2022     22:00:00        COMPLETED     (null)          NaN  ...   \n",
       "4   03/29/2022     15:30:00        COMPLETED     (null)          NaN  ...   \n",
       "\n",
       "   TRANSIT_DISTRICT VIC_AGE_GROUP  VIC_RACE VIC_SEX X_COORD_CD Y_COORD_CD  \\\n",
       "0               NaN           <18     BLACK       F    1010541     175595   \n",
       "1               NaN       UNKNOWN   UNKNOWN       D    1010419     242374   \n",
       "2               NaN         45-64     WHITE       F     926029     138052   \n",
       "3               NaN         18-24     BLACK       F     942822     166353   \n",
       "4               NaN         45-64     BLACK       M    1010131     240105   \n",
       "\n",
       "    Latitude  Longitude                                Lat_Lon  \\\n",
       "0  40.648614 -73.905257  (40.6486135510607, -73.9052572032302)   \n",
       "1  40.831899 -73.905435                (40.831899, -73.905435)   \n",
       "2  40.545405 -74.209485                (40.545405, -74.209485)   \n",
       "3  40.623188 -74.149238  (40.6231883776008, -74.1492376947323)   \n",
       "4  40.825670 -73.906484                 (40.82567, -73.906484)   \n",
       "\n",
       "                     New Georeferenced Column  \n",
       "0  POINT (-73.9052572032302 40.6486135510607)  \n",
       "1                POINT (-73.905435 40.831899)  \n",
       "2                POINT (-74.209485 40.545405)  \n",
       "3  POINT (-74.1492376947323 40.6231883776008)  \n",
       "4                 POINT (-73.906484 40.82567)  \n",
       "\n",
       "[5 rows x 36 columns]"
      ]
     },
     "execution_count": 4,
     "metadata": {},
     "output_type": "execute_result"
    }
   ],
   "source": [
    "df.head()"
   ]
  },
  {
   "cell_type": "markdown",
   "id": "c8c15e50",
   "metadata": {
    "papermill": {
     "duration": 0.007065,
     "end_time": "2022-10-26T16:57:15.434602",
     "exception": false,
     "start_time": "2022-10-26T16:57:15.427537",
     "status": "completed"
    },
    "tags": []
   },
   "source": [
    "The dataset contains over 6 million crime reports, with a total of 35 variables each.\n",
    "\n",
    "After looking at the head of the dataset we were already able to notice some NaN values, therefore we need to examine the missing values further before continuing with the analysis. \n",
    "\n",
    "- The `isna()` function will show us the percentage of non-existent values for each variable."
   ]
  },
  {
   "cell_type": "code",
   "execution_count": 5,
   "id": "b89a4ec1",
   "metadata": {},
   "outputs": [],
   "source": [
    "df.replace('(null)',np.nan,inplace= True)\n"
   ]
  },
  {
   "cell_type": "code",
   "execution_count": 6,
   "id": "9e1e6b42",
   "metadata": {
    "execution": {
     "iopub.execute_input": "2022-10-26T16:57:15.451062Z",
     "iopub.status.busy": "2022-10-26T16:57:15.450664Z",
     "iopub.status.idle": "2022-10-26T16:57:23.497531Z",
     "shell.execute_reply": "2022-10-26T16:57:23.496380Z"
    },
    "papermill": {
     "duration": 8.058362,
     "end_time": "2022-10-26T16:57:23.500254",
     "exception": false,
     "start_time": "2022-10-26T16:57:15.441892",
     "status": "completed"
    },
    "tags": []
   },
   "outputs": [
    {
     "data": {
      "text/plain": [
       "HADEVELOPT                  99.682629\n",
       "PARKS_NM                    99.446645\n",
       "STATION_NAME                97.777233\n",
       "TRANSIT_DISTRICT            97.777233\n",
       "HOUSING_PSA                 93.385826\n",
       "SUSP_RACE                   19.779047\n",
       "SUSP_AGE_GROUP              19.779047\n",
       "SUSP_SEX                    19.779047\n",
       "LOC_OF_OCCUR_DESC           15.991620\n",
       "CMPLNT_TO_DT                 7.544481\n",
       "CMPLNT_TO_TM                 7.523063\n",
       "BORO_NM                      0.171731\n",
       "PD_DESC                      0.104752\n",
       "PD_CD                        0.104752\n",
       "PREM_TYP_DESC                0.041667\n",
       "VIC_RACE                     0.028038\n",
       "OFNS_DESC                    0.002336\n",
       "PATROL_BORO                  0.001558\n",
       "X_COORD_CD                   0.000000\n",
       "VIC_AGE_GROUP                0.000000\n",
       "Y_COORD_CD                   0.000000\n",
       "Latitude                     0.000000\n",
       "Longitude                    0.000000\n",
       "Lat_Lon                      0.000000\n",
       "VIC_SEX                      0.000000\n",
       "CMPLNT_NUM                   0.000000\n",
       "RPT_DT                       0.000000\n",
       "ADDR_PCT_CD                  0.000000\n",
       "LAW_CAT_CD                   0.000000\n",
       "KY_CD                        0.000000\n",
       "JURIS_DESC                   0.000000\n",
       "JURISDICTION_CODE            0.000000\n",
       "CRM_ATPT_CPTD_CD             0.000000\n",
       "CMPLNT_FR_TM                 0.000000\n",
       "CMPLNT_FR_DT                 0.000000\n",
       "New Georeferenced Column     0.000000\n",
       "dtype: float64"
      ]
     },
     "execution_count": 6,
     "metadata": {},
     "output_type": "execute_result"
    }
   ],
   "source": [
    "#See the percentege of missing values in each variable\n",
    "(df.isna().sum()/df.shape[0]*100).sort_values(ascending=False)"
   ]
  },
  {
   "cell_type": "markdown",
   "id": "8fca338d",
   "metadata": {
    "papermill": {
     "duration": 0.007384,
     "end_time": "2022-10-26T16:57:23.515407",
     "exception": false,
     "start_time": "2022-10-26T16:57:23.508023",
     "status": "completed"
    },
    "tags": []
   },
   "source": [
    "### Data Cleaning\n",
    "\n",
    "#### Dealing with NaN data\n",
    "\n",
    "Since some of the columns are pretty important for the analysis, I dropped entire rows which miss any crucial value. For that, I used the `dropNA()` function in Pandas.\n",
    "\n",
    "The columns I didn't want to drop entire rows, I opted to fill them with the 'UNKNOWN' value (These include variables that contain information about the victims of the crime, such as their age group, race, and gender). I used the `fillNA()` function for that.\n",
    "\n",
    "It is worth mention that some specific variables have a lot of NaN values, and they don't necessarily have any use in this analysis (like PARKS_NM means the park or public place nearby where crime happened, and columns with information about the suspect are also not going to be important, considering they have a lot of missing data) so I would drop those columns entirely with the `drop()` function."
   ]
  },
  {
   "cell_type": "code",
   "execution_count": 7,
   "id": "a0f56726",
   "metadata": {
    "execution": {
     "iopub.execute_input": "2022-10-26T16:57:23.533279Z",
     "iopub.status.busy": "2022-10-26T16:57:23.532085Z",
     "iopub.status.idle": "2022-10-26T16:57:27.115552Z",
     "shell.execute_reply": "2022-10-26T16:57:27.114467Z"
    },
    "papermill": {
     "duration": 3.595499,
     "end_time": "2022-10-26T16:57:27.118498",
     "exception": false,
     "start_time": "2022-10-26T16:57:23.522999",
     "status": "completed"
    },
    "tags": []
   },
   "outputs": [],
   "source": [
    "df[\"SUSP_RACE\"] = df[\"SUSP_RACE\"].astype(\"category\")\n",
    "df[\"SUSP_RACE\"] = df[\"SUSP_RACE\"].cat.remove_categories(\"UNKNOWN\")"
   ]
  },
  {
   "cell_type": "code",
   "execution_count": 8,
   "id": "f29df8fa",
   "metadata": {
    "execution": {
     "iopub.execute_input": "2022-10-26T16:57:27.136980Z",
     "iopub.status.busy": "2022-10-26T16:57:27.136016Z",
     "iopub.status.idle": "2022-10-26T16:57:27.445940Z",
     "shell.execute_reply": "2022-10-26T16:57:27.444745Z"
    },
    "papermill": {
     "duration": 0.321967,
     "end_time": "2022-10-26T16:57:27.448543",
     "exception": false,
     "start_time": "2022-10-26T16:57:27.126576",
     "status": "completed"
    },
    "tags": []
   },
   "outputs": [
    {
     "data": {
      "text/plain": [
       "<AxesSubplot:ylabel='SUSP_RACE'>"
      ]
     },
     "execution_count": 8,
     "metadata": {},
     "output_type": "execute_result"
    },
    {
     "data": {
      "image/png": "[encoded data removed]",
      "text/plain": [
       "<Figure size 720x1080 with 1 Axes>"
      ]
     },
     "metadata": {},
     "output_type": "display_data"
    }
   ],
   "source": [
    "df['SUSP_RACE'].value_counts().plot(kind='pie',figsize=(10,15))"
   ]
  },
  {
   "cell_type": "code",
   "execution_count": 9,
   "id": "6d7e67b2",
   "metadata": {
    "execution": {
     "iopub.execute_input": "2022-10-26T16:57:27.467545Z",
     "iopub.status.busy": "2022-10-26T16:57:27.467106Z",
     "iopub.status.idle": "2022-10-26T16:57:28.167427Z",
     "shell.execute_reply": "2022-10-26T16:57:28.166235Z"
    },
    "papermill": {
     "duration": 0.713,
     "end_time": "2022-10-26T16:57:28.170071",
     "exception": false,
     "start_time": "2022-10-26T16:57:27.457071",
     "status": "completed"
    },
    "tags": []
   },
   "outputs": [
    {
     "data": {
      "text/plain": [
       "<AxesSubplot:>"
      ]
     },
     "execution_count": 9,
     "metadata": {},
     "output_type": "execute_result"
    },
    {
     "data": {
      "image/png": "[encoded data removed]",
      "text/plain": [
       "<Figure size 432x288 with 1 Axes>"
      ]
     },
     "metadata": {
      "needs_background": "light"
     },
     "output_type": "display_data"
    }
   ],
   "source": [
    "df['VIC_RACE'].value_counts().plot(kind='bar')"
   ]
  },
  {
   "cell_type": "code",
   "execution_count": 10,
   "id": "b3a064d5",
   "metadata": {
    "execution": {
     "iopub.execute_input": "2022-10-26T16:57:28.191541Z",
     "iopub.status.busy": "2022-10-26T16:57:28.189500Z",
     "iopub.status.idle": "2022-10-26T16:57:44.215505Z",
     "shell.execute_reply": "2022-10-26T16:57:44.213697Z"
    },
    "papermill": {
     "duration": 16.039089,
     "end_time": "2022-10-26T16:57:44.218359",
     "exception": false,
     "start_time": "2022-10-26T16:57:28.179270",
     "status": "completed"
    },
    "tags": []
   },
   "outputs": [
    {
     "name": "stdout",
     "output_type": "stream",
     "text": [
      "Clean dataset: \n",
      "Observations:  256791\n",
      "Variables:  25\n"
     ]
    },
    {
     "data": {
      "text/html": [
       "<div>\n",
       "<style scoped>\n",
       "    .dataframe tbody tr th:only-of-type {\n",
       "        vertical-align: middle;\n",
       "    }\n",
       "\n",
       "    .dataframe tbody tr th {\n",
       "        vertical-align: top;\n",
       "    }\n",
       "\n",
       "    .dataframe thead th {\n",
       "        text-align: right;\n",
       "    }\n",
       "</style>\n",
       "<table border=\"1\" class=\"dataframe\">\n",
       "  <thead>\n",
       "    <tr style=\"text-align: right;\">\n",
       "      <th></th>\n",
       "      <th>CMPLNT_NUM</th>\n",
       "      <th>BORO_NM</th>\n",
       "      <th>CMPLNT_FR_DT</th>\n",
       "      <th>CMPLNT_FR_TM</th>\n",
       "      <th>CMPLNT_TO_DT</th>\n",
       "      <th>CMPLNT_TO_TM</th>\n",
       "      <th>CRM_ATPT_CPTD_CD</th>\n",
       "      <th>JURIS_DESC</th>\n",
       "      <th>KY_CD</th>\n",
       "      <th>LAW_CAT_CD</th>\n",
       "      <th>...</th>\n",
       "      <th>SUSP_SEX</th>\n",
       "      <th>VIC_AGE_GROUP</th>\n",
       "      <th>VIC_RACE</th>\n",
       "      <th>VIC_SEX</th>\n",
       "      <th>X_COORD_CD</th>\n",
       "      <th>Y_COORD_CD</th>\n",
       "      <th>Latitude</th>\n",
       "      <th>Longitude</th>\n",
       "      <th>Lat_Lon</th>\n",
       "      <th>New Georeferenced Column</th>\n",
       "    </tr>\n",
       "  </thead>\n",
       "  <tbody>\n",
       "    <tr>\n",
       "      <th>0</th>\n",
       "      <td>244685801</td>\n",
       "      <td>BROOKLYN</td>\n",
       "      <td>01/01/2015</td>\n",
       "      <td>00:00:00</td>\n",
       "      <td>NaN</td>\n",
       "      <td>NaN</td>\n",
       "      <td>COMPLETED</td>\n",
       "      <td>N.Y. POLICE DEPT</td>\n",
       "      <td>104</td>\n",
       "      <td>FELONY</td>\n",
       "      <td>...</td>\n",
       "      <td>M</td>\n",
       "      <td>&lt;18</td>\n",
       "      <td>BLACK</td>\n",
       "      <td>F</td>\n",
       "      <td>1010541</td>\n",
       "      <td>175595</td>\n",
       "      <td>40.648614</td>\n",
       "      <td>-73.905257</td>\n",
       "      <td>(40.6486135510607, -73.9052572032302)</td>\n",
       "      <td>POINT (-73.9052572032302 40.6486135510607)</td>\n",
       "    </tr>\n",
       "    <tr>\n",
       "      <th>1</th>\n",
       "      <td>242250195</td>\n",
       "      <td>BRONX</td>\n",
       "      <td>03/17/2022</td>\n",
       "      <td>15:23:00</td>\n",
       "      <td>03/17/2022</td>\n",
       "      <td>15:28:00</td>\n",
       "      <td>ATTEMPTED</td>\n",
       "      <td>N.Y. POLICE DEPT</td>\n",
       "      <td>105</td>\n",
       "      <td>FELONY</td>\n",
       "      <td>...</td>\n",
       "      <td>M</td>\n",
       "      <td>UNKNOWN</td>\n",
       "      <td>UNKNOWN</td>\n",
       "      <td>D</td>\n",
       "      <td>1010419</td>\n",
       "      <td>242374</td>\n",
       "      <td>40.831899</td>\n",
       "      <td>-73.905435</td>\n",
       "      <td>(40.831899, -73.905435)</td>\n",
       "      <td>POINT (-73.905435 40.831899)</td>\n",
       "    </tr>\n",
       "    <tr>\n",
       "      <th>2</th>\n",
       "      <td>242385774</td>\n",
       "      <td>STATEN ISLAND</td>\n",
       "      <td>03/20/2022</td>\n",
       "      <td>11:52:00</td>\n",
       "      <td>NaN</td>\n",
       "      <td>NaN</td>\n",
       "      <td>COMPLETED</td>\n",
       "      <td>N.Y. POLICE DEPT</td>\n",
       "      <td>578</td>\n",
       "      <td>VIOLATION</td>\n",
       "      <td>...</td>\n",
       "      <td>F</td>\n",
       "      <td>45-64</td>\n",
       "      <td>WHITE</td>\n",
       "      <td>F</td>\n",
       "      <td>926029</td>\n",
       "      <td>138052</td>\n",
       "      <td>40.545405</td>\n",
       "      <td>-74.209485</td>\n",
       "      <td>(40.545405, -74.209485)</td>\n",
       "      <td>POINT (-74.209485 40.545405)</td>\n",
       "    </tr>\n",
       "    <tr>\n",
       "      <th>3</th>\n",
       "      <td>242643555</td>\n",
       "      <td>STATEN ISLAND</td>\n",
       "      <td>03/24/2022</td>\n",
       "      <td>15:00:00</td>\n",
       "      <td>03/24/2022</td>\n",
       "      <td>22:00:00</td>\n",
       "      <td>COMPLETED</td>\n",
       "      <td>N.Y. POLICE DEPT</td>\n",
       "      <td>104</td>\n",
       "      <td>FELONY</td>\n",
       "      <td>...</td>\n",
       "      <td>M</td>\n",
       "      <td>18-24</td>\n",
       "      <td>BLACK</td>\n",
       "      <td>F</td>\n",
       "      <td>942822</td>\n",
       "      <td>166353</td>\n",
       "      <td>40.623188</td>\n",
       "      <td>-74.149238</td>\n",
       "      <td>(40.6231883776008, -74.1492376947323)</td>\n",
       "      <td>POINT (-74.1492376947323 40.6231883776008)</td>\n",
       "    </tr>\n",
       "    <tr>\n",
       "      <th>4</th>\n",
       "      <td>242816732</td>\n",
       "      <td>BRONX</td>\n",
       "      <td>03/29/2022</td>\n",
       "      <td>15:24:00</td>\n",
       "      <td>03/29/2022</td>\n",
       "      <td>15:30:00</td>\n",
       "      <td>COMPLETED</td>\n",
       "      <td>N.Y. POLICE DEPT</td>\n",
       "      <td>105</td>\n",
       "      <td>FELONY</td>\n",
       "      <td>...</td>\n",
       "      <td>M</td>\n",
       "      <td>45-64</td>\n",
       "      <td>BLACK</td>\n",
       "      <td>M</td>\n",
       "      <td>1010131</td>\n",
       "      <td>240105</td>\n",
       "      <td>40.825670</td>\n",
       "      <td>-73.906484</td>\n",
       "      <td>(40.82567, -73.906484)</td>\n",
       "      <td>POINT (-73.906484 40.82567)</td>\n",
       "    </tr>\n",
       "  </tbody>\n",
       "</table>\n",
       "<p>5 rows × 25 columns</p>\n",
       "</div>"
      ],
      "text/plain": [
       "  CMPLNT_NUM        BORO_NM CMPLNT_FR_DT CMPLNT_FR_TM CMPLNT_TO_DT  \\\n",
       "0  244685801       BROOKLYN   01/01/2015     00:00:00          NaN   \n",
       "1  242250195          BRONX   03/17/2022     15:23:00   03/17/2022   \n",
       "2  242385774  STATEN ISLAND   03/20/2022     11:52:00          NaN   \n",
       "3  242643555  STATEN ISLAND   03/24/2022     15:00:00   03/24/2022   \n",
       "4  242816732          BRONX   03/29/2022     15:24:00   03/29/2022   \n",
       "\n",
       "  CMPLNT_TO_TM CRM_ATPT_CPTD_CD        JURIS_DESC  KY_CD LAW_CAT_CD  ...  \\\n",
       "0          NaN        COMPLETED  N.Y. POLICE DEPT    104     FELONY  ...   \n",
       "1     15:28:00        ATTEMPTED  N.Y. POLICE DEPT    105     FELONY  ...   \n",
       "2          NaN        COMPLETED  N.Y. POLICE DEPT    578  VIOLATION  ...   \n",
       "3     22:00:00        COMPLETED  N.Y. POLICE DEPT    104     FELONY  ...   \n",
       "4     15:30:00        COMPLETED  N.Y. POLICE DEPT    105     FELONY  ...   \n",
       "\n",
       "  SUSP_SEX VIC_AGE_GROUP VIC_RACE VIC_SEX X_COORD_CD Y_COORD_CD   Latitude  \\\n",
       "0        M           <18    BLACK       F    1010541     175595  40.648614   \n",
       "1        M       UNKNOWN  UNKNOWN       D    1010419     242374  40.831899   \n",
       "2        F         45-64    WHITE       F     926029     138052  40.545405   \n",
       "3        M         18-24    BLACK       F     942822     166353  40.623188   \n",
       "4        M         45-64    BLACK       M    1010131     240105  40.825670   \n",
       "\n",
       "   Longitude                                Lat_Lon  \\\n",
       "0 -73.905257  (40.6486135510607, -73.9052572032302)   \n",
       "1 -73.905435                (40.831899, -73.905435)   \n",
       "2 -74.209485                (40.545405, -74.209485)   \n",
       "3 -74.149238  (40.6231883776008, -74.1492376947323)   \n",
       "4 -73.906484                 (40.82567, -73.906484)   \n",
       "\n",
       "                     New Georeferenced Column  \n",
       "0  POINT (-73.9052572032302 40.6486135510607)  \n",
       "1                POINT (-73.905435 40.831899)  \n",
       "2                POINT (-74.209485 40.545405)  \n",
       "3  POINT (-74.1492376947323 40.6231883776008)  \n",
       "4                 POINT (-73.906484 40.82567)  \n",
       "\n",
       "[5 rows x 25 columns]"
      ]
     },
     "execution_count": 10,
     "metadata": {},
     "output_type": "execute_result"
    }
   ],
   "source": [
    "#dropping rows with NaN values\n",
    "df.fillna(np.nan,inplace = True)\n",
    "df.drop_duplicates(inplace = True)\n",
    "\n",
    "df.dropna(subset=['Y_COORD_CD','X_COORD_CD','Latitude','Longitude','CRM_ATPT_CPTD_CD','Lat_Lon','OFNS_DESC'], inplace=True)\n",
    "\n",
    "#dropping columns that are not significant for future data exploration\n",
    "df.drop(['PARKS_NM','STATION_NAME','TRANSIT_DISTRICT','HADEVELOPT','HOUSING_PSA'],axis='columns', inplace=True)\n",
    "\n",
    "df.drop(['PREM_TYP_DESC', 'JURISDICTION_CODE'], axis='columns', inplace=True)\n",
    "\n",
    "df.drop(['ADDR_PCT_CD','PD_CD','PD_DESC','PATROL_BORO'], axis='columns', inplace=True)\n",
    "\n",
    "#replacing all NaN values in 'LOC_OF_OCCUR_DESC' with UNKNOWN\n",
    "df.fillna({'LOC_OF_OCCUR_DESC':'UNKNOWN'}, inplace=True)\n",
    "\n",
    "#replacing all NaN values in 'VIC_RACE' with UNKNOWN\n",
    "df.fillna({'VIC_RACE':'UNKNOWN'}, inplace=True)\n",
    "\n",
    "#replacing all NaN values in 'VIC_AGE_GROUP' with UNKNOWN\n",
    "df.fillna({'VIC_AGE_GROUP':'UNKNOWN'}, inplace=True)\n",
    "\n",
    "#replacing all NaN values in 'VIC_SEX' with UNKNOWN\n",
    "df.fillna({'VIC_SEX':'UNKNOWN'}, inplace=True)\n",
    "\n",
    "print('Clean dataset: ')\n",
    "print(\"Observations: \", df.shape[0])\n",
    "print(\"Variables: \", df.shape[1])\n",
    "\n",
    "#examing the changes\n",
    "df.head(5)"
   ]
  },
  {
   "cell_type": "code",
   "execution_count": 11,
   "id": "197c5091",
   "metadata": {},
   "outputs": [
    {
     "data": {
      "text/plain": [
       "25-44    160618\n",
       "45-64     21985\n",
       "18-24     16089\n",
       "<18        4914\n",
       "65+        2378\n",
       "2022         11\n",
       "-74           1\n",
       "-969          1\n",
       "-1            1\n",
       "-5962         1\n",
       "-961          1\n",
       "-10           1\n",
       "-941          1\n",
       "Name: SUSP_AGE_GROUP, dtype: int64"
      ]
     },
     "execution_count": 11,
     "metadata": {},
     "output_type": "execute_result"
    }
   ],
   "source": [
    "df['SUSP_AGE_GROUP'].replace('UNKNOWN','25-44',inplace=True)\n",
    "df['SUSP_AGE_GROUP'].value_counts()\n"
   ]
  },
  {
   "cell_type": "code",
   "execution_count": 12,
   "id": "360850a3",
   "metadata": {},
   "outputs": [
    {
     "data": {
      "text/plain": [
       "25-44    160618\n",
       "45-64     21985\n",
       "18-24     16089\n",
       "<18        4914\n",
       "65+        2378\n",
       "Name: SUSP_AGE_GROUP, dtype: int64"
      ]
     },
     "execution_count": 12,
     "metadata": {},
     "output_type": "execute_result"
    }
   ],
   "source": [
    "df= df[~df['SUSP_AGE_GROUP'].isin(['2022', '-74','-969','-1','-5962','-961','-10','-941'])]\n",
    "df['SUSP_AGE_GROUP'].value_counts()\n",
    "\n"
   ]
  },
  {
   "cell_type": "code",
   "execution_count": 13,
   "id": "f0ca2492",
   "metadata": {},
   "outputs": [
    {
     "data": {
      "text/plain": [
       "BLACK                             73576\n",
       "WHITE HISPANIC                    32899\n",
       "WHITE                             18749\n",
       "BLACK HISPANIC                    10206\n",
       "ASIAN / PACIFIC ISLANDER           7136\n",
       "AMERICAN INDIAN/ALASKAN NATIVE      436\n",
       "Name: SUSP_RACE, dtype: int64"
      ]
     },
     "execution_count": 13,
     "metadata": {},
     "output_type": "execute_result"
    }
   ],
   "source": [
    "df['SUSP_RACE'].value_counts()\n"
   ]
  },
  {
   "cell_type": "code",
   "execution_count": 14,
   "id": "aa961e54",
   "metadata": {},
   "outputs": [
    {
     "data": {
      "text/plain": [
       "BLACK                             73576\n",
       "WHITE HISPANIC                    32899\n",
       "WHITE                             18749\n",
       "BLACK HISPANIC                    10206\n",
       "ASIAN / PACIFIC ISLANDER           7136\n",
       "AMERICAN INDIAN/ALASKAN NATIVE      436\n",
       "Name: SUSP_RACE, dtype: int64"
      ]
     },
     "execution_count": 14,
     "metadata": {},
     "output_type": "execute_result"
    }
   ],
   "source": [
    "df['SUSP_RACE'].replace('UNKNOWN','BLACK',inplace=True)\n",
    "df['SUSP_RACE'].value_counts()\n"
   ]
  },
  {
   "cell_type": "code",
   "execution_count": 15,
   "id": "c7c1a747",
   "metadata": {},
   "outputs": [
    {
     "data": {
      "text/plain": [
       "25-44      91080\n",
       "UNKNOWN    72680\n",
       "45-64      48711\n",
       "18-24      21731\n",
       "65+        12517\n",
       "<18        10039\n",
       "-5             2\n",
       "-65            2\n",
       "-971           1\n",
       "-959           1\n",
       "-955           1\n",
       "-964           1\n",
       "-4             1\n",
       "-960           1\n",
       "-40            1\n",
       "-970           1\n",
       "-934           1\n",
       "-11            1\n",
       "-963           1\n",
       "Name: VIC_AGE_GROUP, dtype: int64"
      ]
     },
     "execution_count": 15,
     "metadata": {},
     "output_type": "execute_result"
    }
   ],
   "source": [
    "df['VIC_AGE_GROUP'].value_counts()\n"
   ]
  },
  {
   "cell_type": "code",
   "execution_count": 16,
   "id": "68261cc0",
   "metadata": {},
   "outputs": [
    {
     "data": {
      "text/plain": [
       "25-44    163760\n",
       "45-64     48711\n",
       "18-24     21731\n",
       "65+       12517\n",
       "<18       10039\n",
       "-5            2\n",
       "-65           2\n",
       "-934          1\n",
       "-960          1\n",
       "-11           1\n",
       "-970          1\n",
       "-40           1\n",
       "-971          1\n",
       "-4            1\n",
       "-964          1\n",
       "-955          1\n",
       "-959          1\n",
       "-963          1\n",
       "Name: VIC_AGE_GROUP, dtype: int64"
      ]
     },
     "execution_count": 16,
     "metadata": {},
     "output_type": "execute_result"
    }
   ],
   "source": [
    "df['VIC_AGE_GROUP'].replace('UNKNOWN','25-44',inplace=True)\n",
    "df['VIC_AGE_GROUP'].value_counts()\n"
   ]
  },
  {
   "cell_type": "code",
   "execution_count": 17,
   "id": "0f425524",
   "metadata": {},
   "outputs": [
    {
     "data": {
      "text/plain": [
       "25-44    163760\n",
       "45-64     48711\n",
       "18-24     21731\n",
       "65+       12517\n",
       "<18       10039\n",
       "-11           1\n",
       "-960          1\n",
       "-970          1\n",
       "-971          1\n",
       "Name: VIC_AGE_GROUP, dtype: int64"
      ]
     },
     "execution_count": 17,
     "metadata": {},
     "output_type": "execute_result"
    }
   ],
   "source": [
    "df= df[~df['VIC_AGE_GROUP'].isin(['-65', '-5','-934','-40','-4','-964','-955','-959','-963'])]\n",
    "df['VIC_AGE_GROUP'].value_counts()"
   ]
  },
  {
   "cell_type": "code",
   "execution_count": 18,
   "id": "e312a6e7",
   "metadata": {},
   "outputs": [
    {
     "data": {
      "text/plain": [
       "UNKNOWN                           77642\n",
       "BLACK                             64427\n",
       "WHITE HISPANIC                    45312\n",
       "WHITE                             37170\n",
       "ASIAN / PACIFIC ISLANDER          20657\n",
       "BLACK HISPANIC                    10636\n",
       "AMERICAN INDIAN/ALASKAN NATIVE      918\n",
       "Name: VIC_RACE, dtype: int64"
      ]
     },
     "execution_count": 18,
     "metadata": {},
     "output_type": "execute_result"
    }
   ],
   "source": [
    "df['VIC_RACE'].value_counts()\n"
   ]
  },
  {
   "cell_type": "code",
   "execution_count": 19,
   "id": "fb3980e8",
   "metadata": {},
   "outputs": [
    {
     "data": {
      "text/plain": [
       "BLACK                             142069\n",
       "WHITE HISPANIC                     45312\n",
       "WHITE                              37170\n",
       "ASIAN / PACIFIC ISLANDER           20657\n",
       "BLACK HISPANIC                     10636\n",
       "AMERICAN INDIAN/ALASKAN NATIVE       918\n",
       "Name: VIC_RACE, dtype: int64"
      ]
     },
     "execution_count": 19,
     "metadata": {},
     "output_type": "execute_result"
    }
   ],
   "source": [
    "df['VIC_RACE'].replace('UNKNOWN','BLACK',inplace=True)\n",
    "df['VIC_RACE'].value_counts()\n"
   ]
  },
  {
   "cell_type": "code",
   "execution_count": 20,
   "id": "3ed0b4f3",
   "metadata": {},
   "outputs": [],
   "source": [
    "df.dropna(inplace=True)\n",
    "df.reset_index(drop= True, inplace=True)\n"
   ]
  },
  {
   "cell_type": "code",
   "execution_count": 21,
   "id": "2668d93f",
   "metadata": {},
   "outputs": [],
   "source": [
    "#Extracting the day from date given\n",
    "df['CMPLNT_FR_DT'] = pd.to_datetime(df['CMPLNT_FR_DT'],errors='coerce',format = \"%m/%d/%Y\" )\n",
    "df['CMPLNT_TO_DT'] = pd.to_datetime(df['CMPLNT_TO_DT'],errors='coerce',format = \"%m/%d/%Y\" )\n",
    "FR_DY = df['CMPLNT_FR_DT'].dt.day_name()\n",
    "TO_DY = df['CMPLNT_TO_DT'].dt.day_name()\n"
   ]
  },
  {
   "cell_type": "code",
   "execution_count": 22,
   "id": "b183ca07",
   "metadata": {},
   "outputs": [],
   "source": [
    "#concatinating th day column\n",
    "df = pd.concat([df,FR_DY],axis=1)\n",
    "df.columns = [*df.columns[:-1], 'CMPLNT_FR_DAY']"
   ]
  },
  {
   "cell_type": "code",
   "execution_count": 23,
   "id": "386f3996",
   "metadata": {},
   "outputs": [],
   "source": [
    "#concatinating the dat column\n",
    "df = pd.concat([df,TO_DY],axis=1)\n",
    "df.columns = [*df.columns[:-1], 'CMPLNT_TO_DAY']"
   ]
  },
  {
   "cell_type": "code",
   "execution_count": 24,
   "id": "89923809",
   "metadata": {},
   "outputs": [],
   "source": [
    "fr_hr = pd.to_datetime(df['CMPLNT_FR_TM'], format='%H:%M:%S').dt.hour \n",
    "to_hr = pd.to_datetime(df['CMPLNT_TO_TM'], format='%H:%M:%S').dt.hour\n"
   ]
  },
  {
   "cell_type": "code",
   "execution_count": 25,
   "id": "155746c5",
   "metadata": {},
   "outputs": [],
   "source": [
    "df = pd.concat([df,fr_hr],axis=1)\n",
    "df.columns = [*df.columns[:-1], 'CMPLNT_FR_PART']\n"
   ]
  },
  {
   "cell_type": "code",
   "execution_count": 26,
   "id": "80b60db9",
   "metadata": {},
   "outputs": [],
   "source": [
    "df = pd.concat([df,to_hr],axis=1)\n",
    "df.columns = [*df.columns[:-1], 'CMPLNT_TO_PART']\n"
   ]
  },
  {
   "cell_type": "code",
   "execution_count": 27,
   "id": "7c1c863e",
   "metadata": {},
   "outputs": [],
   "source": [
    "#Defining function to get part the hours\n",
    "def f(x=0):\n",
    "    if (x > 4) and (x <= 8):\n",
    "        return 'Early Morning'\n",
    "    elif (x > 8) and (x <= 12 ):\n",
    "        return 'Morning'\n",
    "    elif (x > 12) and (x <= 16):\n",
    "        return'Noon'\n",
    "    elif (x > 16) and (x <= 20) :\n",
    "        return 'Evening'\n",
    "    elif (x > 20) and (x <= 24):\n",
    "        return'Night'\n",
    "    elif (x <= 4):\n",
    "        return'Late Night'\n"
   ]
  },
  {
   "cell_type": "code",
   "execution_count": 28,
   "id": "2980b162",
   "metadata": {},
   "outputs": [],
   "source": [
    "df['CMPLNT_FR_PART'] = df['CMPLNT_FR_PART'].apply(lambda z: f(z))\n"
   ]
  },
  {
   "cell_type": "code",
   "execution_count": 29,
   "id": "1e93dfb9",
   "metadata": {},
   "outputs": [],
   "source": [
    "df['CMPLNT_TO_PART'] = df['CMPLNT_TO_PART'].apply(lambda z: f(z))\n"
   ]
  },
  {
   "cell_type": "code",
   "execution_count": 30,
   "id": "8b36b6c3",
   "metadata": {
    "execution": {
     "iopub.execute_input": "2022-10-26T16:57:44.238999Z",
     "iopub.status.busy": "2022-10-26T16:57:44.238580Z",
     "iopub.status.idle": "2022-10-26T16:57:44.960741Z",
     "shell.execute_reply": "2022-10-26T16:57:44.959806Z"
    },
    "papermill": {
     "duration": 0.736038,
     "end_time": "2022-10-26T16:57:44.963975",
     "exception": false,
     "start_time": "2022-10-26T16:57:44.227937",
     "status": "completed"
    },
    "tags": []
   },
   "outputs": [
    {
     "data": {
      "text/plain": [
       "array(['ROBBERY', 'RAPE', 'HARRASSMENT 2', 'FELONY ASSAULT', 'SEX CRIMES',\n",
       "       'PETIT LARCENY', 'ASSAULT 3 & RELATED OFFENSES',\n",
       "       'OFF. AGNST PUB ORD SENSBLTY &', 'MISCELLANEOUS PENAL LAW',\n",
       "       'GRAND LARCENY', 'OTHER STATE LAWS (NON PENAL LA',\n",
       "       'DANGEROUS WEAPONS', 'CRIMINAL MISCHIEF & RELATED OF', 'BURGLARY',\n",
       "       'DANGEROUS DRUGS', 'OFFENSES AGAINST PUBLIC ADMINI',\n",
       "       'CRIMINAL TRESPASS', 'UNAUTHORIZED USE OF A VEHICLE',\n",
       "       'GRAND LARCENY OF MOTOR VEHICLE', 'OFFENSES AGAINST THE PERSON',\n",
       "       'POSSESSION OF STOLEN PROPERTY', 'THEFT-FRAUD',\n",
       "       'ADMINISTRATIVE CODE', 'FORGERY', 'NYS LAWS-UNCLASSIFIED FELONY',\n",
       "       'OFFENSES INVOLVING FRAUD', 'FRAUDS',\n",
       "       'INTOXICATED & IMPAIRED DRIVING', 'KIDNAPPING & RELATED OFFENSES',\n",
       "       'GAMBLING', 'THEFT OF SERVICES', 'VEHICLE AND TRAFFIC LAWS',\n",
       "       'OTHER OFFENSES RELATED TO THEF', 'ARSON',\n",
       "       'AGRICULTURE & MRKTS LAW-UNCLASSIFIED',\n",
       "       'PROSTITUTION & RELATED OFFENSES', 'FRAUDULENT ACCOSTING',\n",
       "       'HOMICIDE-NEGLIGENT,UNCLASSIFIE', \"BURGLAR'S TOOLS\",\n",
       "       'DISORDERLY CONDUCT', 'ALCOHOLIC BEVERAGE CONTROL LAW',\n",
       "       'ENDAN WELFARE INCOMP', 'JOSTLING',\n",
       "       'DISRUPTION OF A RELIGIOUS SERV', 'OTHER STATE LAWS',\n",
       "       'HOMICIDE-NEGLIGENT-VEHICLE', 'OFFENSES AGAINST PUBLIC SAFETY',\n",
       "       'LOITERING/GAMBLING (CARDS, DIC', 'ANTICIPATORY OFFENSES',\n",
       "       'CHILD ABANDONMENT/NON SUPPORT', 'OFFENSES RELATED TO CHILDREN',\n",
       "       'INTOXICATED/IMPAIRED DRIVING', 'KIDNAPPING', 'FELONY SEX CRIMES',\n",
       "       'PETIT LARCENY OF MOTOR VEHICLE', 'ESCAPE 3'], dtype=object)"
      ]
     },
     "execution_count": 30,
     "metadata": {},
     "output_type": "execute_result"
    }
   ],
   "source": [
    "df.OFNS_DESC.unique()"
   ]
  },
  {
   "cell_type": "code",
   "execution_count": 31,
   "id": "8e982dd1",
   "metadata": {},
   "outputs": [],
   "source": [
    "df.drop(columns=['Latitude','Longitude','X_COORD_CD','Y_COORD_CD'],inplace= True)"
   ]
  },
  {
   "cell_type": "code",
   "execution_count": 32,
   "id": "4ffef62d",
   "metadata": {},
   "outputs": [],
   "source": [
    "df.drop(columns=['CMPLNT_FR_DT','CMPLNT_FR_TM','CMPLNT_TO_DT','CMPLNT_TO_TM'],inplace= True)"
   ]
  },
  {
   "cell_type": "code",
   "execution_count": 33,
   "id": "ce858d64",
   "metadata": {
    "execution": {
     "iopub.execute_input": "2022-10-26T16:57:44.994845Z",
     "iopub.status.busy": "2022-10-26T16:57:44.994027Z",
     "iopub.status.idle": "2022-10-26T16:58:58.728678Z",
     "shell.execute_reply": "2022-10-26T16:58:58.727433Z"
    },
    "papermill": {
     "duration": 73.753615,
     "end_time": "2022-10-26T16:58:58.731947",
     "exception": false,
     "start_time": "2022-10-26T16:57:44.978332",
     "status": "completed"
    },
    "tags": []
   },
   "outputs": [],
   "source": [
    "df_clean = df.replace({'HARRASSMENT 2': 'HARASSMENT', \n",
    "                'ESCAPE 3': 'ESCAPE',\n",
    "                'ASSAULT 3 & RELATED OFFENSES': 'ASSAULT & RELATED OFFENSES',\n",
    "                'CRIMINAL MISCHIEF & RELATED OF': 'CRIMINAL MISCHIEF',\n",
    "                'OFF. AGNST PUB ORD SENSBLTY &': 'OFFENSES AGAINST PUBLIC ORDER/ADMINISTRATION',\n",
    "                'OTHER STATE LAWS (NON PENAL LA': 'OTHER STATE LAWS (NON PENAL LAW)',\n",
    "                'ENDAN WELFARE INCOMP': 'ENDANGERING WELFARE OF INCOMPETENT',\n",
    "                'AGRICULTURE & MRKTS LAW-UNCLASSIFIED': 'AGRICULTURE & MARKETS LAW',\n",
    "                'DISRUPTION OF A RELIGIOUS SERV': 'DISRUPTION OF A RELIGIOUS SERVICE',\n",
    "                'LOITERING/GAMBLING (CARDS, DIC': 'GAMBLING',\n",
    "                'OFFENSES AGAINST MARRIAGE UNCL': 'OFFENSES AGAINST MARRIAGE',\n",
    "                'HOMICIDE-NEGLIGENT,UNCLASSIFIE': 'HOMICIDE-NEGLIGENT',\n",
    "                                      'E': 'UNKNOWN',\n",
    "                                      'D': 'BUSINESS/ORGANIZATION',\n",
    "                                      'F': 'FEMALE',\n",
    "                                      'M': 'MALE'}).copy()"
   ]
  },
  {
   "cell_type": "markdown",
   "id": "9b7c1cdb",
   "metadata": {
    "papermill": {
     "duration": 0.009136,
     "end_time": "2022-10-26T16:58:58.751649",
     "exception": false,
     "start_time": "2022-10-26T16:58:58.742513",
     "status": "completed"
    },
    "tags": []
   },
   "source": [
    "## EDA :"
   ]
  },
  {
   "cell_type": "code",
   "execution_count": 34,
   "id": "365f7e8f",
   "metadata": {
    "execution": {
     "iopub.execute_input": "2022-10-26T16:58:58.772159Z",
     "iopub.status.busy": "2022-10-26T16:58:58.771719Z",
     "iopub.status.idle": "2022-10-26T16:58:59.272010Z",
     "shell.execute_reply": "2022-10-26T16:58:59.270833Z"
    },
    "papermill": {
     "duration": 0.513484,
     "end_time": "2022-10-26T16:58:59.274419",
     "exception": false,
     "start_time": "2022-10-26T16:58:58.760935",
     "status": "completed"
    },
    "tags": []
   },
   "outputs": [
    {
     "data": {
      "text/plain": [
       "HARASSMENT                                      28338\n",
       "PETIT LARCENY                                   22836\n",
       "ASSAULT & RELATED OFFENSES                      20457\n",
       "FELONY ASSAULT                                   8693\n",
       "CRIMINAL MISCHIEF                                7068\n",
       "ROBBERY                                          6038\n",
       "OFFENSES AGAINST PUBLIC ORDER/ADMINISTRATION     5921\n",
       "GRAND LARCENY                                    5647\n",
       "MISCELLANEOUS PENAL LAW                          5338\n",
       "DANGEROUS DRUGS                                  2788\n",
       "Name: OFNS_DESC, dtype: int64"
      ]
     },
     "execution_count": 34,
     "metadata": {},
     "output_type": "execute_result"
    }
   ],
   "source": [
    "#types of crimes (top 10)\n",
    "df_clean.OFNS_DESC.value_counts().iloc[:10]"
   ]
  },
  {
   "cell_type": "code",
   "execution_count": 35,
   "id": "0bc305b0",
   "metadata": {
    "execution": {
     "iopub.execute_input": "2022-10-26T16:58:59.295295Z",
     "iopub.status.busy": "2022-10-26T16:58:59.294869Z",
     "iopub.status.idle": "2022-10-26T16:58:59.995988Z",
     "shell.execute_reply": "2022-10-26T16:58:59.994612Z"
    },
    "papermill": {
     "duration": 0.714646,
     "end_time": "2022-10-26T16:58:59.998549",
     "exception": false,
     "start_time": "2022-10-26T16:58:59.283903",
     "status": "completed"
    },
    "tags": []
   },
   "outputs": [
    {
     "data": {
      "text/plain": [
       "<AxesSubplot:title={'center':'Types of Crimes'}>"
      ]
     },
     "execution_count": 35,
     "metadata": {},
     "output_type": "execute_result"
    },
    {
     "data": {
      "image/png": "[encoded data removed]",
      "text/plain": [
       "<Figure size 432x288 with 1 Axes>"
      ]
     },
     "metadata": {
      "needs_background": "light"
     },
     "output_type": "display_data"
    }
   ],
   "source": [
    "df_clean.OFNS_DESC.value_counts().iloc[:10].sort_values().plot(kind=\"barh\", title = \"Types of Crimes\")"
   ]
  },
  {
   "cell_type": "markdown",
   "id": "53d0eb82",
   "metadata": {
    "papermill": {
     "duration": 0.010611,
     "end_time": "2022-10-26T16:59:00.019312",
     "exception": false,
     "start_time": "2022-10-26T16:59:00.008701",
     "status": "completed"
    },
    "tags": []
   },
   "source": [
    "There are three levels of crime in New York State: Violation, Misdemeanor and Felony.\n",
    "\n",
    "From the graph below, I can tell that Misdemeanor, an offense of which a sentence in excess of 15 days but not greater than one year may be imposed, is the most popular level of crime. The second popular one is Felony, the most serious of offenses, and the third one is Violation, a lesser offense for which a sentence only be no more than 15 days."
   ]
  },
  {
   "cell_type": "code",
   "execution_count": 36,
   "id": "a5ea3aab",
   "metadata": {
    "execution": {
     "iopub.execute_input": "2022-10-26T16:59:00.042009Z",
     "iopub.status.busy": "2022-10-26T16:59:00.041552Z",
     "iopub.status.idle": "2022-10-26T16:59:00.685589Z",
     "shell.execute_reply": "2022-10-26T16:59:00.683914Z"
    },
    "papermill": {
     "duration": 0.660401,
     "end_time": "2022-10-26T16:59:00.689949",
     "exception": false,
     "start_time": "2022-10-26T16:59:00.029548",
     "status": "completed"
    },
    "tags": []
   },
   "outputs": [
    {
     "data": {
      "text/plain": [
       "array([<AxesSubplot:ylabel='LAW_CAT_CD'>], dtype=object)"
      ]
     },
     "execution_count": 36,
     "metadata": {},
     "output_type": "execute_result"
    },
    {
     "data": {
      "image/png": "[encoded data removed]",
      "text/plain": [
       "<Figure size 720x360 with 1 Axes>"
      ]
     },
     "metadata": {},
     "output_type": "display_data"
    }
   ],
   "source": [
    "df_clean['LAW_CAT_CD'].value_counts().sort_values().plot(kind='pie', subplots=True, shadow = True,startangle=40,\n",
    "figsize=(10,5), autopct='%1.1f%%', title = 'Level of Offense')"
   ]
  },
  {
   "cell_type": "markdown",
   "id": "1798f355",
   "metadata": {
    "papermill": {
     "duration": 0.025667,
     "end_time": "2022-10-26T16:59:00.741899",
     "exception": false,
     "start_time": "2022-10-26T16:59:00.716232",
     "status": "completed"
    },
    "tags": []
   },
   "source": [
    "### 2. Distribution of crimes over the years, months and days"
   ]
  },
  {
   "cell_type": "code",
   "execution_count": 37,
   "id": "5b0676f7",
   "metadata": {
    "execution": {
     "iopub.execute_input": "2022-10-26T16:59:00.784891Z",
     "iopub.status.busy": "2022-10-26T16:59:00.783687Z",
     "iopub.status.idle": "2022-10-26T16:59:14.411903Z",
     "shell.execute_reply": "2022-10-26T16:59:14.410942Z"
    },
    "papermill": {
     "duration": 13.645935,
     "end_time": "2022-10-26T16:59:14.414368",
     "exception": false,
     "start_time": "2022-10-26T16:59:00.768433",
     "status": "completed"
    },
    "tags": []
   },
   "outputs": [
    {
     "data": {
      "text/plain": [
       "<AxesSubplot:title={'center':'Total Crime Events by Year'}>"
      ]
     },
     "execution_count": 37,
     "metadata": {},
     "output_type": "execute_result"
    },
    {
     "data": {
      "image/png": "[encoded data removed]",
      "text/plain": [
       "<Figure size 432x288 with 1 Axes>"
      ]
     },
     "metadata": {
      "needs_background": "light"
     },
     "output_type": "display_data"
    }
   ],
   "source": [
    "df_clean['year'] = df_clean['RPT_DT'].str.findall(r'(\\d{4})').apply(lambda x: x[0])\n",
    "df_clean['year'].value_counts().plot(kind=\"line\", title = \"Total Crime Events by Year\")"
   ]
  },
  {
   "cell_type": "code",
   "execution_count": 38,
   "id": "4edff0df",
   "metadata": {
    "execution": {
     "iopub.execute_input": "2022-10-26T16:59:14.439041Z",
     "iopub.status.busy": "2022-10-26T16:59:14.438421Z",
     "iopub.status.idle": "2022-10-26T16:59:35.781573Z",
     "shell.execute_reply": "2022-10-26T16:59:35.780457Z"
    },
    "papermill": {
     "duration": 21.358911,
     "end_time": "2022-10-26T16:59:35.784637",
     "exception": false,
     "start_time": "2022-10-26T16:59:14.425726",
     "status": "completed"
    },
    "tags": []
   },
   "outputs": [
    {
     "data": {
      "text/plain": [
       "<AxesSubplot:title={'center':'Total Crime Events by Month'}, xlabel='month'>"
      ]
     },
     "execution_count": 38,
     "metadata": {},
     "output_type": "execute_result"
    },
    {
     "data": {
      "image/png": "[encoded data removed]",
      "text/plain": [
       "<Figure size 432x288 with 1 Axes>"
      ]
     },
     "metadata": {
      "needs_background": "light"
     },
     "output_type": "display_data"
    }
   ],
   "source": [
    "#reports by month\n",
    "df_clean['month'] = df_clean['RPT_DT'].str.findall('(\\d{2})').apply(lambda x: x[0])\n",
    "df_clean.groupby('month').size().plot(kind = 'bar', title ='Total Crime Events by Month', color = '#C0392B',rot=0)"
   ]
  },
  {
   "cell_type": "markdown",
   "id": "2675517d",
   "metadata": {
    "papermill": {
     "duration": 0.010903,
     "end_time": "2022-10-26T16:59:35.807440",
     "exception": false,
     "start_time": "2022-10-26T16:59:35.796537",
     "status": "completed"
    },
    "tags": []
   },
   "source": [
    "### 4. Analyzing a Specific Crime\n",
    "\n",
    "I want to specifically analyze sex related crimes in NYC. For that, I put the part of the dataframe that contains the crime description 'sex crimes' and 'rape' into another dataframe and called it “sex_crimes.”"
   ]
  },
  {
   "cell_type": "code",
   "execution_count": 39,
   "id": "c12b31df",
   "metadata": {
    "execution": {
     "iopub.execute_input": "2022-10-26T16:59:35.832371Z",
     "iopub.status.busy": "2022-10-26T16:59:35.831675Z",
     "iopub.status.idle": "2022-10-26T16:59:47.374351Z",
     "shell.execute_reply": "2022-10-26T16:59:47.373352Z"
    },
    "papermill": {
     "duration": 11.557999,
     "end_time": "2022-10-26T16:59:47.376738",
     "exception": false,
     "start_time": "2022-10-26T16:59:35.818739",
     "status": "completed"
    },
    "tags": []
   },
   "outputs": [
    {
     "data": {
      "text/html": [
       "<div>\n",
       "<style scoped>\n",
       "    .dataframe tbody tr th:only-of-type {\n",
       "        vertical-align: middle;\n",
       "    }\n",
       "\n",
       "    .dataframe tbody tr th {\n",
       "        vertical-align: top;\n",
       "    }\n",
       "\n",
       "    .dataframe thead th {\n",
       "        text-align: right;\n",
       "    }\n",
       "</style>\n",
       "<table border=\"1\" class=\"dataframe\">\n",
       "  <thead>\n",
       "    <tr style=\"text-align: right;\">\n",
       "      <th></th>\n",
       "      <th>CMPLNT_NUM</th>\n",
       "      <th>BORO_NM</th>\n",
       "      <th>CRM_ATPT_CPTD_CD</th>\n",
       "      <th>JURIS_DESC</th>\n",
       "      <th>KY_CD</th>\n",
       "      <th>LAW_CAT_CD</th>\n",
       "      <th>LOC_OF_OCCUR_DESC</th>\n",
       "      <th>OFNS_DESC</th>\n",
       "      <th>RPT_DT</th>\n",
       "      <th>SUSP_AGE_GROUP</th>\n",
       "      <th>...</th>\n",
       "      <th>VIC_RACE</th>\n",
       "      <th>VIC_SEX</th>\n",
       "      <th>Lat_Lon</th>\n",
       "      <th>New Georeferenced Column</th>\n",
       "      <th>CMPLNT_FR_DAY</th>\n",
       "      <th>CMPLNT_TO_DAY</th>\n",
       "      <th>CMPLNT_FR_PART</th>\n",
       "      <th>CMPLNT_TO_PART</th>\n",
       "      <th>year</th>\n",
       "      <th>month</th>\n",
       "    </tr>\n",
       "  </thead>\n",
       "  <tbody>\n",
       "    <tr>\n",
       "      <th>1</th>\n",
       "      <td>242643555</td>\n",
       "      <td>STATEN ISLAND</td>\n",
       "      <td>COMPLETED</td>\n",
       "      <td>N.Y. POLICE DEPT</td>\n",
       "      <td>104</td>\n",
       "      <td>FELONY</td>\n",
       "      <td>INSIDE</td>\n",
       "      <td>RAPE</td>\n",
       "      <td>03/25/2022</td>\n",
       "      <td>25-44</td>\n",
       "      <td>...</td>\n",
       "      <td>BLACK</td>\n",
       "      <td>FEMALE</td>\n",
       "      <td>(40.6231883776008, -74.1492376947323)</td>\n",
       "      <td>POINT (-74.1492376947323 40.6231883776008)</td>\n",
       "      <td>Thursday</td>\n",
       "      <td>Thursday</td>\n",
       "      <td>Noon</td>\n",
       "      <td>Night</td>\n",
       "      <td>2022</td>\n",
       "      <td>03</td>\n",
       "    </tr>\n",
       "    <tr>\n",
       "      <th>6</th>\n",
       "      <td>245415071</td>\n",
       "      <td>BRONX</td>\n",
       "      <td>COMPLETED</td>\n",
       "      <td>N.Y. POLICE DEPT</td>\n",
       "      <td>116</td>\n",
       "      <td>FELONY</td>\n",
       "      <td>INSIDE</td>\n",
       "      <td>SEX CRIMES</td>\n",
       "      <td>05/20/2022</td>\n",
       "      <td>25-44</td>\n",
       "      <td>...</td>\n",
       "      <td>WHITE HISPANIC</td>\n",
       "      <td>FEMALE</td>\n",
       "      <td>(40.8378421209284, -73.9196277517392)</td>\n",
       "      <td>POINT (-73.9196277517392 40.8378421209284)</td>\n",
       "      <td>Tuesday</td>\n",
       "      <td>Saturday</td>\n",
       "      <td>Late Night</td>\n",
       "      <td>Late Night</td>\n",
       "      <td>2022</td>\n",
       "      <td>05</td>\n",
       "    </tr>\n",
       "    <tr>\n",
       "      <th>16</th>\n",
       "      <td>242064502</td>\n",
       "      <td>MANHATTAN</td>\n",
       "      <td>COMPLETED</td>\n",
       "      <td>N.Y. POLICE DEPT</td>\n",
       "      <td>104</td>\n",
       "      <td>FELONY</td>\n",
       "      <td>INSIDE</td>\n",
       "      <td>RAPE</td>\n",
       "      <td>03/14/2022</td>\n",
       "      <td>25-44</td>\n",
       "      <td>...</td>\n",
       "      <td>ASIAN / PACIFIC ISLANDER</td>\n",
       "      <td>FEMALE</td>\n",
       "      <td>(40.7650240788333, -73.9848359497083)</td>\n",
       "      <td>POINT (-73.9848359497083 40.7650240788333)</td>\n",
       "      <td>Saturday</td>\n",
       "      <td>Saturday</td>\n",
       "      <td>Morning</td>\n",
       "      <td>Morning</td>\n",
       "      <td>2022</td>\n",
       "      <td>03</td>\n",
       "    </tr>\n",
       "    <tr>\n",
       "      <th>17</th>\n",
       "      <td>240947098</td>\n",
       "      <td>BRONX</td>\n",
       "      <td>COMPLETED</td>\n",
       "      <td>N.Y. POLICE DEPT</td>\n",
       "      <td>104</td>\n",
       "      <td>FELONY</td>\n",
       "      <td>INSIDE</td>\n",
       "      <td>RAPE</td>\n",
       "      <td>02/19/2022</td>\n",
       "      <td>25-44</td>\n",
       "      <td>...</td>\n",
       "      <td>WHITE HISPANIC</td>\n",
       "      <td>FEMALE</td>\n",
       "      <td>(40.8229123084767, -73.8700413043181)</td>\n",
       "      <td>POINT (-73.8700413043181 40.8229123084767)</td>\n",
       "      <td>Sunday</td>\n",
       "      <td>Sunday</td>\n",
       "      <td>Evening</td>\n",
       "      <td>Evening</td>\n",
       "      <td>2022</td>\n",
       "      <td>02</td>\n",
       "    </tr>\n",
       "    <tr>\n",
       "      <th>19</th>\n",
       "      <td>241709140</td>\n",
       "      <td>QUEENS</td>\n",
       "      <td>COMPLETED</td>\n",
       "      <td>N.Y. POLICE DEPT</td>\n",
       "      <td>233</td>\n",
       "      <td>MISDEMEANOR</td>\n",
       "      <td>INSIDE</td>\n",
       "      <td>SEX CRIMES</td>\n",
       "      <td>03/07/2022</td>\n",
       "      <td>&lt;18</td>\n",
       "      <td>...</td>\n",
       "      <td>BLACK</td>\n",
       "      <td>FEMALE</td>\n",
       "      <td>(40.7072398161698, -73.7927267255908)</td>\n",
       "      <td>POINT (-73.7927267255908 40.7072398161698)</td>\n",
       "      <td>Wednesday</td>\n",
       "      <td>Friday</td>\n",
       "      <td>Noon</td>\n",
       "      <td>Noon</td>\n",
       "      <td>2022</td>\n",
       "      <td>03</td>\n",
       "    </tr>\n",
       "  </tbody>\n",
       "</table>\n",
       "<p>5 rows × 23 columns</p>\n",
       "</div>"
      ],
      "text/plain": [
       "   CMPLNT_NUM        BORO_NM CRM_ATPT_CPTD_CD        JURIS_DESC  KY_CD  \\\n",
       "1   242643555  STATEN ISLAND        COMPLETED  N.Y. POLICE DEPT    104   \n",
       "6   245415071          BRONX        COMPLETED  N.Y. POLICE DEPT    116   \n",
       "16  242064502      MANHATTAN        COMPLETED  N.Y. POLICE DEPT    104   \n",
       "17  240947098          BRONX        COMPLETED  N.Y. POLICE DEPT    104   \n",
       "19  241709140         QUEENS        COMPLETED  N.Y. POLICE DEPT    233   \n",
       "\n",
       "     LAW_CAT_CD LOC_OF_OCCUR_DESC   OFNS_DESC      RPT_DT SUSP_AGE_GROUP  ...  \\\n",
       "1        FELONY            INSIDE        RAPE  03/25/2022          25-44  ...   \n",
       "6        FELONY            INSIDE  SEX CRIMES  05/20/2022          25-44  ...   \n",
       "16       FELONY            INSIDE        RAPE  03/14/2022          25-44  ...   \n",
       "17       FELONY            INSIDE        RAPE  02/19/2022          25-44  ...   \n",
       "19  MISDEMEANOR            INSIDE  SEX CRIMES  03/07/2022            <18  ...   \n",
       "\n",
       "                    VIC_RACE VIC_SEX                                Lat_Lon  \\\n",
       "1                      BLACK  FEMALE  (40.6231883776008, -74.1492376947323)   \n",
       "6             WHITE HISPANIC  FEMALE  (40.8378421209284, -73.9196277517392)   \n",
       "16  ASIAN / PACIFIC ISLANDER  FEMALE  (40.7650240788333, -73.9848359497083)   \n",
       "17            WHITE HISPANIC  FEMALE  (40.8229123084767, -73.8700413043181)   \n",
       "19                     BLACK  FEMALE  (40.7072398161698, -73.7927267255908)   \n",
       "\n",
       "                      New Georeferenced Column CMPLNT_FR_DAY CMPLNT_TO_DAY  \\\n",
       "1   POINT (-74.1492376947323 40.6231883776008)      Thursday      Thursday   \n",
       "6   POINT (-73.9196277517392 40.8378421209284)       Tuesday      Saturday   \n",
       "16  POINT (-73.9848359497083 40.7650240788333)      Saturday      Saturday   \n",
       "17  POINT (-73.8700413043181 40.8229123084767)        Sunday        Sunday   \n",
       "19  POINT (-73.7927267255908 40.7072398161698)     Wednesday        Friday   \n",
       "\n",
       "   CMPLNT_FR_PART CMPLNT_TO_PART  year month  \n",
       "1            Noon          Night  2022    03  \n",
       "6      Late Night     Late Night  2022    05  \n",
       "16        Morning        Morning  2022    03  \n",
       "17        Evening        Evening  2022    02  \n",
       "19           Noon           Noon  2022    03  \n",
       "\n",
       "[5 rows x 23 columns]"
      ]
     },
     "execution_count": 39,
     "metadata": {},
     "output_type": "execute_result"
    }
   ],
   "source": [
    "sex_crimes = df_clean[df.OFNS_DESC.str.contains('SEX CRIMES|RAPE')]\n",
    "sex_crimes.head()"
   ]
  },
  {
   "cell_type": "markdown",
   "id": "0c872471",
   "metadata": {
    "papermill": {
     "duration": 0.011436,
     "end_time": "2022-10-26T16:59:47.400172",
     "exception": false,
     "start_time": "2022-10-26T16:59:47.388736",
     "status": "completed"
    },
    "tags": []
   },
   "source": [
    "#### Analyzing Time\n",
    "\n",
    "We may be interested in the distribution of values across the years, so I'm going to group the data by year and plot the results."
   ]
  },
  {
   "cell_type": "code",
   "execution_count": 40,
   "id": "b7b391aa",
   "metadata": {
    "execution": {
     "iopub.execute_input": "2022-10-26T16:59:47.425726Z",
     "iopub.status.busy": "2022-10-26T16:59:47.424471Z",
     "iopub.status.idle": "2022-10-26T16:59:47.772686Z",
     "shell.execute_reply": "2022-10-26T16:59:47.771048Z"
    },
    "papermill": {
     "duration": 0.363683,
     "end_time": "2022-10-26T16:59:47.775393",
     "exception": false,
     "start_time": "2022-10-26T16:59:47.411710",
     "status": "completed"
    },
    "scrolled": true,
    "tags": []
   },
   "outputs": [
    {
     "name": "stdout",
     "output_type": "stream",
     "text": [
      "2827.0\n"
     ]
    },
    {
     "data": {
      "image/png": "[encoded data removed]",
      "text/plain": [
       "<Figure size 432x288 with 1 Axes>"
      ]
     },
     "metadata": {
      "needs_background": "light"
     },
     "output_type": "display_data"
    }
   ],
   "source": [
    "#plot graph\n",
    "sex_crimes.groupby('year').size().plot(kind = 'barh', color = '#8E44AD', title = 'Sex Crime Reports by Year')\n",
    "\n",
    "#average sex crimes per year\n",
    "mean = sex_crimes['year'].value_counts().mean()\n",
    "print(round(mean,2))"
   ]
  },
  {
   "cell_type": "markdown",
   "id": "ba692236",
   "metadata": {
    "papermill": {
     "duration": 0.01231,
     "end_time": "2022-10-26T16:59:47.800367",
     "exception": false,
     "start_time": "2022-10-26T16:59:47.788057",
     "status": "completed"
    },
    "tags": []
   },
   "source": [
    "- Based on the bar graph that I computed, sex crimes happened the most during the last 3 years compared to previous years.\n",
    "\n",
    "- On average, there are 7443 victims of rape and sexual assault each year in New York City.\n",
    "\n",
    "Let’s also look at how the number of the reports changes within a day."
   ]
  },
  {
   "cell_type": "code",
   "execution_count": 41,
   "id": "ff14d667",
   "metadata": {
    "execution": {
     "iopub.execute_input": "2022-10-26T16:59:47.826558Z",
     "iopub.status.busy": "2022-10-26T16:59:47.826153Z",
     "iopub.status.idle": "2022-10-26T16:59:48.098794Z",
     "shell.execute_reply": "2022-10-26T16:59:48.097379Z"
    },
    "papermill": {
     "duration": 0.288977,
     "end_time": "2022-10-26T16:59:48.101504",
     "exception": false,
     "start_time": "2022-10-26T16:59:47.812527",
     "status": "completed"
    },
    "tags": []
   },
   "outputs": [
    {
     "name": "stdout",
     "output_type": "stream",
     "text": [
      "BLACK                             37.637071\n",
      "WHITE HISPANIC                    30.491687\n",
      "WHITE                             15.882561\n",
      "ASIAN / PACIFIC ISLANDER           9.763000\n",
      "BLACK HISPANIC                     5.907322\n",
      "AMERICAN INDIAN/ALASKAN NATIVE     0.318359\n",
      "Name: VIC_RACE, dtype: float64\n"
     ]
    },
    {
     "data": {
      "image/png": "[encoded data removed]",
      "text/plain": [
       "<Figure size 432x288 with 1 Axes>"
      ]
     },
     "metadata": {
      "needs_background": "light"
     },
     "output_type": "display_data"
    }
   ],
   "source": [
    "# Sex victims by Race :\n",
    "sex_crimes['VIC_RACE'].value_counts().iloc[:7].plot(kind=\"barh\", color = '#D35400', title = 'Sex Crime Victims by Race')\n",
    "\n",
    "#victims by race percentage\n",
    "vic_race_per = sex_crimes['VIC_RACE'].value_counts().iloc[:7] / sex_crimes['VIC_RACE'].shape[0] *100\n",
    "print(vic_race_per)"
   ]
  }
 ],
 "metadata": {
  "kernelspec": {
   "display_name": "Python 3 (ipykernel)",
   "language": "python",
   "name": "python3"
  },
  "language_info": {
   "codemirror_mode": {
    "name": "ipython",
    "version": 3
   },
   "file_extension": ".py",
   "mimetype": "text/x-python",
   "name": "python",
   "nbconvert_exporter": "python",
   "pygments_lexer": "ipython3",
   "version": "3.9.12"
  },
  "papermill": {
   "default_parameters": {},
   "duration": 261.733263,
   "end_time": "2022-10-26T16:59:51.262750",
   "environment_variables": {},
   "exception": null,
   "input_path": "__notebook__.ipynb",
   "output_path": "__notebook__.ipynb",
   "parameters": {},
   "start_time": "2022-10-26T16:55:29.529487",
   "version": "2.3.4"
  }
 },
 "nbformat": 4,
 "nbformat_minor": 5
}
