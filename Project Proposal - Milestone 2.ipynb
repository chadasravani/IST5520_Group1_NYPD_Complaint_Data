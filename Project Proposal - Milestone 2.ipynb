{
 "cells": [
  {
   "cell_type": "markdown",
   "id": "b63ae165",
   "metadata": {},
   "source": [
    "<h3 align=center> Group 1: Lakshmi Pravallika Muttineni, Prabhukanth Potlapalli, Sanjay Nimmagadda, Sravani Chada <br>\n",
    "IST 5520 Project Proposal <br>\n",
    "10/30/2022 </h3> \n"
   ]
  },
  {
   "cell_type": "markdown",
   "id": "1af47cd5",
   "metadata": {},
   "source": [
    "<h2> Introduction </h2>"
   ]
  },
  {
   "cell_type": "markdown",
   "id": "3537a864",
   "metadata": {},
   "source": [
    "<p> The Crime Prediction is one of the important topics in recent years that aims to help make the job easier for the police. We have chosen the complaint data, which is published by the New York police department (NYPD), to reflect every felony, misdemeanor, and violation crime that has taken place in New York City so far this year (2022). We decided to dig deeper into the data to see if there are any underlying patterns or relationships that could explain the reasons for the high crime rate in New York City. For this project, we plan to build a model that predicts the possible crime locations and the suspects based on the historic data. This model can be helpful in suggesting areas and schedules for patrolling.</p>"
   ]
  },
  {
   "cell_type": "markdown",
   "id": "883b77fe",
   "metadata": {},
   "source": [
    "<h2> Data </h2>"
   ]
  },
  {
   "cell_type": "markdown",
   "id": "88bebfc5",
   "metadata": {},
   "source": [
    "<p> The dataset was provided by the NYPD. It is a breakdown of every criminal complaint report filed in NYC by the NYPD for the current calendar year. The data is manually extracted every quarter and reviewed by the Office of Management Analysis and Planning. Each record represents a criminal complaint in NYC and includes information about the type of crime, the location, and time of enforcement. The information related to victim and suspect demographics is also included. It has 257k records and 36 columns. </p>"
   ]
  },
  {
   "cell_type": "markdown",
   "id": "aaabfe97",
   "metadata": {},
   "source": [
    "### Read Data"
   ]
  },
  {
   "cell_type": "code",
   "execution_count": 1,
   "id": "8a8ceea3",
   "metadata": {},
   "outputs": [],
   "source": [
    "import pandas as pd\n",
    "import numpy as np\n",
    "from sklearn.decomposition import PCA\n",
    "import matplotlib.pyplot as plt\n",
    "from sklearn.preprocessing import scale\n",
    "import seaborn as sns\n",
    "\n"
   ]
  },
  {
   "cell_type": "code",
   "execution_count": 2,
   "id": "2b52e036",
   "metadata": {},
   "outputs": [
    {
     "data": {
      "text/html": [
       "<div>\n",
       "<style scoped>\n",
       "    .dataframe tbody tr th:only-of-type {\n",
       "        vertical-align: middle;\n",
       "    }\n",
       "\n",
       "    .dataframe tbody tr th {\n",
       "        vertical-align: top;\n",
       "    }\n",
       "\n",
       "    .dataframe thead th {\n",
       "        text-align: right;\n",
       "    }\n",
       "</style>\n",
       "<table border=\"1\" class=\"dataframe\">\n",
       "  <thead>\n",
       "    <tr style=\"text-align: right;\">\n",
       "      <th></th>\n",
       "      <th>CMPLNT_NUM</th>\n",
       "      <th>ADDR_PCT_CD</th>\n",
       "      <th>BORO_NM</th>\n",
       "      <th>CMPLNT_FR_DT</th>\n",
       "      <th>CMPLNT_FR_TM</th>\n",
       "      <th>CMPLNT_TO_DT</th>\n",
       "      <th>CMPLNT_TO_TM</th>\n",
       "      <th>CRM_ATPT_CPTD_CD</th>\n",
       "      <th>HADEVELOPT</th>\n",
       "      <th>HOUSING_PSA</th>\n",
       "      <th>...</th>\n",
       "      <th>TRANSIT_DISTRICT</th>\n",
       "      <th>VIC_AGE_GROUP</th>\n",
       "      <th>VIC_RACE</th>\n",
       "      <th>VIC_SEX</th>\n",
       "      <th>X_COORD_CD</th>\n",
       "      <th>Y_COORD_CD</th>\n",
       "      <th>Latitude</th>\n",
       "      <th>Longitude</th>\n",
       "      <th>Lat_Lon</th>\n",
       "      <th>New Georeferenced Column</th>\n",
       "    </tr>\n",
       "  </thead>\n",
       "  <tbody>\n",
       "    <tr>\n",
       "      <th>0</th>\n",
       "      <td>244685801</td>\n",
       "      <td>69</td>\n",
       "      <td>BROOKLYN</td>\n",
       "      <td>01/01/2015</td>\n",
       "      <td>00:00:00</td>\n",
       "      <td>NaN</td>\n",
       "      <td>(null)</td>\n",
       "      <td>COMPLETED</td>\n",
       "      <td>(null)</td>\n",
       "      <td>NaN</td>\n",
       "      <td>...</td>\n",
       "      <td>NaN</td>\n",
       "      <td>&lt;18</td>\n",
       "      <td>BLACK</td>\n",
       "      <td>F</td>\n",
       "      <td>1010541</td>\n",
       "      <td>175595</td>\n",
       "      <td>40.648614</td>\n",
       "      <td>-73.905257</td>\n",
       "      <td>(40.6486135510607, -73.9052572032302)</td>\n",
       "      <td>POINT (-73.9052572032302 40.6486135510607)</td>\n",
       "    </tr>\n",
       "    <tr>\n",
       "      <th>1</th>\n",
       "      <td>242250195</td>\n",
       "      <td>42</td>\n",
       "      <td>BRONX</td>\n",
       "      <td>03/17/2022</td>\n",
       "      <td>15:23:00</td>\n",
       "      <td>03/17/2022</td>\n",
       "      <td>15:28:00</td>\n",
       "      <td>ATTEMPTED</td>\n",
       "      <td>(null)</td>\n",
       "      <td>NaN</td>\n",
       "      <td>...</td>\n",
       "      <td>NaN</td>\n",
       "      <td>UNKNOWN</td>\n",
       "      <td>UNKNOWN</td>\n",
       "      <td>D</td>\n",
       "      <td>1010419</td>\n",
       "      <td>242374</td>\n",
       "      <td>40.831899</td>\n",
       "      <td>-73.905435</td>\n",
       "      <td>(40.831899, -73.905435)</td>\n",
       "      <td>POINT (-73.905435 40.831899)</td>\n",
       "    </tr>\n",
       "    <tr>\n",
       "      <th>2</th>\n",
       "      <td>242385774</td>\n",
       "      <td>123</td>\n",
       "      <td>STATEN ISLAND</td>\n",
       "      <td>03/20/2022</td>\n",
       "      <td>11:52:00</td>\n",
       "      <td>NaN</td>\n",
       "      <td>(null)</td>\n",
       "      <td>COMPLETED</td>\n",
       "      <td>(null)</td>\n",
       "      <td>NaN</td>\n",
       "      <td>...</td>\n",
       "      <td>NaN</td>\n",
       "      <td>45-64</td>\n",
       "      <td>WHITE</td>\n",
       "      <td>F</td>\n",
       "      <td>926029</td>\n",
       "      <td>138052</td>\n",
       "      <td>40.545405</td>\n",
       "      <td>-74.209485</td>\n",
       "      <td>(40.545405, -74.209485)</td>\n",
       "      <td>POINT (-74.209485 40.545405)</td>\n",
       "    </tr>\n",
       "    <tr>\n",
       "      <th>3</th>\n",
       "      <td>242643555</td>\n",
       "      <td>121</td>\n",
       "      <td>STATEN ISLAND</td>\n",
       "      <td>03/24/2022</td>\n",
       "      <td>15:00:00</td>\n",
       "      <td>03/24/2022</td>\n",
       "      <td>22:00:00</td>\n",
       "      <td>COMPLETED</td>\n",
       "      <td>(null)</td>\n",
       "      <td>NaN</td>\n",
       "      <td>...</td>\n",
       "      <td>NaN</td>\n",
       "      <td>18-24</td>\n",
       "      <td>BLACK</td>\n",
       "      <td>F</td>\n",
       "      <td>942822</td>\n",
       "      <td>166353</td>\n",
       "      <td>40.623188</td>\n",
       "      <td>-74.149238</td>\n",
       "      <td>(40.6231883776008, -74.1492376947323)</td>\n",
       "      <td>POINT (-74.1492376947323 40.6231883776008)</td>\n",
       "    </tr>\n",
       "    <tr>\n",
       "      <th>4</th>\n",
       "      <td>242816732</td>\n",
       "      <td>42</td>\n",
       "      <td>BRONX</td>\n",
       "      <td>03/29/2022</td>\n",
       "      <td>15:24:00</td>\n",
       "      <td>03/29/2022</td>\n",
       "      <td>15:30:00</td>\n",
       "      <td>COMPLETED</td>\n",
       "      <td>(null)</td>\n",
       "      <td>NaN</td>\n",
       "      <td>...</td>\n",
       "      <td>NaN</td>\n",
       "      <td>45-64</td>\n",
       "      <td>BLACK</td>\n",
       "      <td>M</td>\n",
       "      <td>1010131</td>\n",
       "      <td>240105</td>\n",
       "      <td>40.825670</td>\n",
       "      <td>-73.906484</td>\n",
       "      <td>(40.82567, -73.906484)</td>\n",
       "      <td>POINT (-73.906484 40.82567)</td>\n",
       "    </tr>\n",
       "  </tbody>\n",
       "</table>\n",
       "<p>5 rows × 36 columns</p>\n",
       "</div>"
      ],
      "text/plain": [
       "  CMPLNT_NUM  ADDR_PCT_CD        BORO_NM CMPLNT_FR_DT CMPLNT_FR_TM  \\\n",
       "0  244685801           69       BROOKLYN   01/01/2015     00:00:00   \n",
       "1  242250195           42          BRONX   03/17/2022     15:23:00   \n",
       "2  242385774          123  STATEN ISLAND   03/20/2022     11:52:00   \n",
       "3  242643555          121  STATEN ISLAND   03/24/2022     15:00:00   \n",
       "4  242816732           42          BRONX   03/29/2022     15:24:00   \n",
       "\n",
       "  CMPLNT_TO_DT CMPLNT_TO_TM CRM_ATPT_CPTD_CD HADEVELOPT  HOUSING_PSA  ...  \\\n",
       "0          NaN       (null)        COMPLETED     (null)          NaN  ...   \n",
       "1   03/17/2022     15:28:00        ATTEMPTED     (null)          NaN  ...   \n",
       "2          NaN       (null)        COMPLETED     (null)          NaN  ...   \n",
       "3   03/24/2022     22:00:00        COMPLETED     (null)          NaN  ...   \n",
       "4   03/29/2022     15:30:00        COMPLETED     (null)          NaN  ...   \n",
       "\n",
       "   TRANSIT_DISTRICT VIC_AGE_GROUP  VIC_RACE VIC_SEX X_COORD_CD Y_COORD_CD  \\\n",
       "0               NaN           <18     BLACK       F    1010541     175595   \n",
       "1               NaN       UNKNOWN   UNKNOWN       D    1010419     242374   \n",
       "2               NaN         45-64     WHITE       F     926029     138052   \n",
       "3               NaN         18-24     BLACK       F     942822     166353   \n",
       "4               NaN         45-64     BLACK       M    1010131     240105   \n",
       "\n",
       "    Latitude  Longitude                                Lat_Lon  \\\n",
       "0  40.648614 -73.905257  (40.6486135510607, -73.9052572032302)   \n",
       "1  40.831899 -73.905435                (40.831899, -73.905435)   \n",
       "2  40.545405 -74.209485                (40.545405, -74.209485)   \n",
       "3  40.623188 -74.149238  (40.6231883776008, -74.1492376947323)   \n",
       "4  40.825670 -73.906484                 (40.82567, -73.906484)   \n",
       "\n",
       "                     New Georeferenced Column  \n",
       "0  POINT (-73.9052572032302 40.6486135510607)  \n",
       "1                POINT (-73.905435 40.831899)  \n",
       "2                POINT (-74.209485 40.545405)  \n",
       "3  POINT (-74.1492376947323 40.6231883776008)  \n",
       "4                 POINT (-73.906484 40.82567)  \n",
       "\n",
       "[5 rows x 36 columns]"
      ]
     },
     "execution_count": 2,
     "metadata": {},
     "output_type": "execute_result"
    }
   ],
   "source": [
    "#Import Dataset\n",
    "df = pd.read_csv('NYPD_Complaint_Data_Current__Year_To_Date.csv')\n",
    "df.head()"
   ]
  },
  {
   "cell_type": "code",
   "execution_count": 3,
   "id": "e6f10e07",
   "metadata": {},
   "outputs": [
    {
     "name": "stdout",
     "output_type": "stream",
     "text": [
      "<class 'pandas.core.frame.DataFrame'>\n",
      "RangeIndex: 256797 entries, 0 to 256796\n",
      "Data columns (total 36 columns):\n",
      " #   Column                    Non-Null Count   Dtype  \n",
      "---  ------                    --------------   -----  \n",
      " 0   CMPLNT_NUM                256797 non-null  object \n",
      " 1   ADDR_PCT_CD               256797 non-null  int64  \n",
      " 2   BORO_NM                   256797 non-null  object \n",
      " 3   CMPLNT_FR_DT              256797 non-null  object \n",
      " 4   CMPLNT_FR_TM              256797 non-null  object \n",
      " 5   CMPLNT_TO_DT              237423 non-null  object \n",
      " 6   CMPLNT_TO_TM              256797 non-null  object \n",
      " 7   CRM_ATPT_CPTD_CD          256797 non-null  object \n",
      " 8   HADEVELOPT                256797 non-null  object \n",
      " 9   HOUSING_PSA               16985 non-null   float64\n",
      " 10  JURISDICTION_CODE         256797 non-null  int64  \n",
      " 11  JURIS_DESC                256797 non-null  object \n",
      " 12  KY_CD                     256797 non-null  int64  \n",
      " 13  LAW_CAT_CD                256797 non-null  object \n",
      " 14  LOC_OF_OCCUR_DESC         256797 non-null  object \n",
      " 15  OFNS_DESC                 256797 non-null  object \n",
      " 16  PARKS_NM                  256797 non-null  object \n",
      " 17  PATROL_BORO               256797 non-null  object \n",
      " 18  PD_CD                     256528 non-null  float64\n",
      " 19  PD_DESC                   256797 non-null  object \n",
      " 20  PREM_TYP_DESC             256797 non-null  object \n",
      " 21  RPT_DT                    256797 non-null  object \n",
      " 22  STATION_NAME              256797 non-null  object \n",
      " 23  SUSP_AGE_GROUP            256797 non-null  object \n",
      " 24  SUSP_RACE                 256797 non-null  object \n",
      " 25  SUSP_SEX                  256797 non-null  object \n",
      " 26  TRANSIT_DISTRICT          5708 non-null    float64\n",
      " 27  VIC_AGE_GROUP             256797 non-null  object \n",
      " 28  VIC_RACE                  256797 non-null  object \n",
      " 29  VIC_SEX                   256797 non-null  object \n",
      " 30  X_COORD_CD                256797 non-null  int64  \n",
      " 31  Y_COORD_CD                256797 non-null  int64  \n",
      " 32  Latitude                  256797 non-null  float64\n",
      " 33  Longitude                 256797 non-null  float64\n",
      " 34  Lat_Lon                   256797 non-null  object \n",
      " 35  New Georeferenced Column  256797 non-null  object \n",
      "dtypes: float64(5), int64(5), object(26)\n",
      "memory usage: 70.5+ MB\n"
     ]
    }
   ],
   "source": [
    "df.info()\n"
   ]
  },
  {
   "cell_type": "markdown",
   "id": "7972d73b",
   "metadata": {},
   "source": [
    "\n",
    "## Data Preprocessing"
   ]
  },
  {
   "cell_type": "markdown",
   "id": "87802b17",
   "metadata": {},
   "source": [
    "There are few values in the file where they are uploaded as '(null)' replacing them with nan values."
   ]
  },
  {
   "cell_type": "code",
   "execution_count": 4,
   "id": "b9186730",
   "metadata": {},
   "outputs": [],
   "source": [
    "df.replace('(null)',np.nan,inplace= True)\n"
   ]
  },
  {
   "cell_type": "code",
   "execution_count": 5,
   "id": "9787611a",
   "metadata": {},
   "outputs": [
    {
     "data": {
      "text/plain": [
       "CMPLNT_NUM                       0\n",
       "ADDR_PCT_CD                      0\n",
       "BORO_NM                        441\n",
       "CMPLNT_FR_DT                     0\n",
       "CMPLNT_FR_TM                     0\n",
       "CMPLNT_TO_DT                 19374\n",
       "CMPLNT_TO_TM                 19319\n",
       "CRM_ATPT_CPTD_CD                 0\n",
       "HADEVELOPT                  255982\n",
       "HOUSING_PSA                 239812\n",
       "JURISDICTION_CODE                0\n",
       "JURIS_DESC                       0\n",
       "KY_CD                            0\n",
       "LAW_CAT_CD                       0\n",
       "LOC_OF_OCCUR_DESC            41066\n",
       "OFNS_DESC                        6\n",
       "PARKS_NM                    255376\n",
       "PATROL_BORO                      4\n",
       "PD_CD                          269\n",
       "PD_DESC                        269\n",
       "PREM_TYP_DESC                  107\n",
       "RPT_DT                           0\n",
       "STATION_NAME                251089\n",
       "SUSP_AGE_GROUP               50792\n",
       "SUSP_RACE                    50792\n",
       "SUSP_SEX                     50792\n",
       "TRANSIT_DISTRICT            251089\n",
       "VIC_AGE_GROUP                    0\n",
       "VIC_RACE                        72\n",
       "VIC_SEX                          0\n",
       "X_COORD_CD                       0\n",
       "Y_COORD_CD                       0\n",
       "Latitude                         0\n",
       "Longitude                        0\n",
       "Lat_Lon                          0\n",
       "New Georeferenced Column         0\n",
       "dtype: int64"
      ]
     },
     "execution_count": 5,
     "metadata": {},
     "output_type": "execute_result"
    }
   ],
   "source": [
    "df.isnull().sum()\n"
   ]
  },
  {
   "cell_type": "code",
   "execution_count": 6,
   "id": "544c966c",
   "metadata": {},
   "outputs": [],
   "source": [
    "df.fillna(np.nan,inplace = True)\n"
   ]
  },
  {
   "cell_type": "code",
   "execution_count": 7,
   "id": "b71e9038",
   "metadata": {},
   "outputs": [],
   "source": [
    "df.drop_duplicates(inplace = True)\n"
   ]
  },
  {
   "cell_type": "code",
   "execution_count": 8,
   "id": "067bb2fa",
   "metadata": {},
   "outputs": [],
   "source": [
    "df.drop(columns=['HOUSING_PSA','TRANSIT_DISTRICT','HADEVELOPT','PARKS_NM', 'STATION_NAME','Lat_Lon', 'New Georeferenced Column'],inplace= True)\n"
   ]
  },
  {
   "cell_type": "markdown",
   "id": "4dbffb76",
   "metadata": {},
   "source": [
    "Dropping'HOUSING_PSA','TRANSIT_DISTRICT','HADEVELOPT','PARKS_NM', 'STATION_NAME' Columns as more than 90% of their values are null. Dropping'Lat_Lon', 'New Georeferenced Column' as this information is already present in Latitude and Longitude columns\n"
   ]
  },
  {
   "cell_type": "code",
   "execution_count": 9,
   "id": "c50691fd",
   "metadata": {},
   "outputs": [],
   "source": [
    "df.dropna(inplace= True)\n"
   ]
  },
  {
   "cell_type": "code",
   "execution_count": 10,
   "id": "9300bb0e",
   "metadata": {},
   "outputs": [
    {
     "data": {
      "text/plain": [
       "CMPLNT_NUM           0\n",
       "ADDR_PCT_CD          0\n",
       "BORO_NM              0\n",
       "CMPLNT_FR_DT         0\n",
       "CMPLNT_FR_TM         0\n",
       "CMPLNT_TO_DT         0\n",
       "CMPLNT_TO_TM         0\n",
       "CRM_ATPT_CPTD_CD     0\n",
       "JURISDICTION_CODE    0\n",
       "JURIS_DESC           0\n",
       "KY_CD                0\n",
       "LAW_CAT_CD           0\n",
       "LOC_OF_OCCUR_DESC    0\n",
       "OFNS_DESC            0\n",
       "PATROL_BORO          0\n",
       "PD_CD                0\n",
       "PD_DESC              0\n",
       "PREM_TYP_DESC        0\n",
       "RPT_DT               0\n",
       "SUSP_AGE_GROUP       0\n",
       "SUSP_RACE            0\n",
       "SUSP_SEX             0\n",
       "VIC_AGE_GROUP        0\n",
       "VIC_RACE             0\n",
       "VIC_SEX              0\n",
       "X_COORD_CD           0\n",
       "Y_COORD_CD           0\n",
       "Latitude             0\n",
       "Longitude            0\n",
       "dtype: int64"
      ]
     },
     "execution_count": 10,
     "metadata": {},
     "output_type": "execute_result"
    }
   ],
   "source": [
    "df.isna().sum()\n"
   ]
  },
  {
   "cell_type": "code",
   "execution_count": 11,
   "id": "3cca8aa0",
   "metadata": {},
   "outputs": [
    {
     "data": {
      "text/plain": [
       "(163513, 29)"
      ]
     },
     "execution_count": 11,
     "metadata": {},
     "output_type": "execute_result"
    }
   ],
   "source": [
    "df.shape\n"
   ]
  },
  {
   "cell_type": "code",
   "execution_count": 12,
   "id": "bbc7dac6",
   "metadata": {},
   "outputs": [
    {
     "data": {
      "text/plain": [
       "UNKNOWN    78349\n",
       "25-44      49963\n",
       "45-64      17705\n",
       "18-24      11831\n",
       "<18         3647\n",
       "65+         2000\n",
       "2022          11\n",
       "-74            1\n",
       "-969           1\n",
       "-1             1\n",
       "-5962          1\n",
       "-961           1\n",
       "-10            1\n",
       "-941           1\n",
       "Name: SUSP_AGE_GROUP, dtype: int64"
      ]
     },
     "execution_count": 12,
     "metadata": {},
     "output_type": "execute_result"
    }
   ],
   "source": [
    "df['SUSP_AGE_GROUP'].value_counts()\n"
   ]
  },
  {
   "cell_type": "markdown",
   "id": "0e2b67a5",
   "metadata": {},
   "source": [
    "Replacing UNKNOWN age group with mode of the data instead of deleting as it may cause lot of loss of information"
   ]
  },
  {
   "cell_type": "code",
   "execution_count": 13,
   "id": "70b5e56a",
   "metadata": {},
   "outputs": [
    {
     "data": {
      "text/plain": [
       "25-44    128312\n",
       "45-64     17705\n",
       "18-24     11831\n",
       "<18        3647\n",
       "65+        2000\n",
       "2022         11\n",
       "-74           1\n",
       "-969          1\n",
       "-1            1\n",
       "-5962         1\n",
       "-961          1\n",
       "-10           1\n",
       "-941          1\n",
       "Name: SUSP_AGE_GROUP, dtype: int64"
      ]
     },
     "execution_count": 13,
     "metadata": {},
     "output_type": "execute_result"
    }
   ],
   "source": [
    "df['SUSP_AGE_GROUP'].replace('UNKNOWN','25-44',inplace=True)\n",
    "df['SUSP_AGE_GROUP'].value_counts()\n"
   ]
  },
  {
   "cell_type": "code",
   "execution_count": 14,
   "id": "be6f17fc",
   "metadata": {},
   "outputs": [
    {
     "data": {
      "text/plain": [
       "25-44    128312\n",
       "45-64     17705\n",
       "18-24     11831\n",
       "<18        3647\n",
       "65+        2000\n",
       "Name: SUSP_AGE_GROUP, dtype: int64"
      ]
     },
     "execution_count": 14,
     "metadata": {},
     "output_type": "execute_result"
    }
   ],
   "source": [
    "df= df[~df['SUSP_AGE_GROUP'].isin(['2022', '-74','-969','-1','-5962','-961','-10','-941'])]\n",
    "df['SUSP_AGE_GROUP'].value_counts()\n",
    "\n"
   ]
  },
  {
   "cell_type": "code",
   "execution_count": 15,
   "id": "aaec0ecf",
   "metadata": {},
   "outputs": [
    {
     "data": {
      "text/plain": [
       "BLACK                             58342\n",
       "UNKNOWN                           49872\n",
       "WHITE HISPANIC                    25611\n",
       "WHITE                             15866\n",
       "BLACK HISPANIC                     7627\n",
       "ASIAN / PACIFIC ISLANDER           5830\n",
       "AMERICAN INDIAN/ALASKAN NATIVE      347\n",
       "Name: SUSP_RACE, dtype: int64"
      ]
     },
     "execution_count": 15,
     "metadata": {},
     "output_type": "execute_result"
    }
   ],
   "source": [
    "df['SUSP_RACE'].value_counts()\n"
   ]
  },
  {
   "cell_type": "code",
   "execution_count": 16,
   "id": "acd8cb2d",
   "metadata": {},
   "outputs": [
    {
     "data": {
      "text/plain": [
       "BLACK                             108214\n",
       "WHITE HISPANIC                     25611\n",
       "WHITE                              15866\n",
       "BLACK HISPANIC                      7627\n",
       "ASIAN / PACIFIC ISLANDER            5830\n",
       "AMERICAN INDIAN/ALASKAN NATIVE       347\n",
       "Name: SUSP_RACE, dtype: int64"
      ]
     },
     "execution_count": 16,
     "metadata": {},
     "output_type": "execute_result"
    }
   ],
   "source": [
    "df['SUSP_RACE'].replace('UNKNOWN','BLACK',inplace=True)\n",
    "df['SUSP_RACE'].value_counts()\n"
   ]
  },
  {
   "cell_type": "code",
   "execution_count": 17,
   "id": "6d06d839",
   "metadata": {},
   "outputs": [
    {
     "data": {
      "text/plain": [
       "25-44      58412\n",
       "UNKNOWN    45926\n",
       "45-64      30563\n",
       "18-24      14369\n",
       "65+         7783\n",
       "<18         6432\n",
       "-65            2\n",
       "-5             1\n",
       "-934           1\n",
       "-40            1\n",
       "-4             1\n",
       "-964           1\n",
       "-955           1\n",
       "-959           1\n",
       "-963           1\n",
       "Name: VIC_AGE_GROUP, dtype: int64"
      ]
     },
     "execution_count": 17,
     "metadata": {},
     "output_type": "execute_result"
    }
   ],
   "source": [
    "df['VIC_AGE_GROUP'].value_counts()\n"
   ]
  },
  {
   "cell_type": "code",
   "execution_count": 18,
   "id": "6a9d5602",
   "metadata": {},
   "outputs": [
    {
     "data": {
      "text/plain": [
       "25-44    104338\n",
       "45-64     30563\n",
       "18-24     14369\n",
       "65+        7783\n",
       "<18        6432\n",
       "-65           2\n",
       "-5            1\n",
       "-934          1\n",
       "-40           1\n",
       "-4            1\n",
       "-964          1\n",
       "-955          1\n",
       "-959          1\n",
       "-963          1\n",
       "Name: VIC_AGE_GROUP, dtype: int64"
      ]
     },
     "execution_count": 18,
     "metadata": {},
     "output_type": "execute_result"
    }
   ],
   "source": [
    "df['VIC_AGE_GROUP'].replace('UNKNOWN','25-44',inplace=True)\n",
    "df['VIC_AGE_GROUP'].value_counts()\n"
   ]
  },
  {
   "cell_type": "code",
   "execution_count": 19,
   "id": "1ca9cfa6",
   "metadata": {},
   "outputs": [
    {
     "data": {
      "text/plain": [
       "25-44    104338\n",
       "45-64     30563\n",
       "18-24     14369\n",
       "65+        7783\n",
       "<18        6432\n",
       "Name: VIC_AGE_GROUP, dtype: int64"
      ]
     },
     "execution_count": 19,
     "metadata": {},
     "output_type": "execute_result"
    }
   ],
   "source": [
    "df= df[~df['VIC_AGE_GROUP'].isin(['-65', '-5','-934','-40','-4','-964','-955','-959','-963'])]\n",
    "df['VIC_AGE_GROUP'].value_counts()"
   ]
  },
  {
   "cell_type": "code",
   "execution_count": 20,
   "id": "f531c59d",
   "metadata": {},
   "outputs": [
    {
     "data": {
      "text/plain": [
       "UNKNOWN                           48611\n",
       "BLACK                             42759\n",
       "WHITE HISPANIC                    28917\n",
       "WHITE                             23344\n",
       "ASIAN / PACIFIC ISLANDER          12666\n",
       "BLACK HISPANIC                     6636\n",
       "AMERICAN INDIAN/ALASKAN NATIVE      552\n",
       "Name: VIC_RACE, dtype: int64"
      ]
     },
     "execution_count": 20,
     "metadata": {},
     "output_type": "execute_result"
    }
   ],
   "source": [
    "df['VIC_RACE'].value_counts()\n"
   ]
  },
  {
   "cell_type": "code",
   "execution_count": 21,
   "id": "d69a40fd",
   "metadata": {},
   "outputs": [
    {
     "data": {
      "text/plain": [
       "BLACK                             91370\n",
       "WHITE HISPANIC                    28917\n",
       "WHITE                             23344\n",
       "ASIAN / PACIFIC ISLANDER          12666\n",
       "BLACK HISPANIC                     6636\n",
       "AMERICAN INDIAN/ALASKAN NATIVE      552\n",
       "Name: VIC_RACE, dtype: int64"
      ]
     },
     "execution_count": 21,
     "metadata": {},
     "output_type": "execute_result"
    }
   ],
   "source": [
    "df['VIC_RACE'].replace('UNKNOWN','BLACK',inplace=True)\n",
    "df['VIC_RACE'].value_counts()\n"
   ]
  },
  {
   "cell_type": "code",
   "execution_count": 22,
   "id": "1bc84160",
   "metadata": {},
   "outputs": [
    {
     "data": {
      "text/plain": [
       "M    94905\n",
       "U    41316\n",
       "F    27264\n",
       "Name: SUSP_SEX, dtype: int64"
      ]
     },
     "execution_count": 22,
     "metadata": {},
     "output_type": "execute_result"
    }
   ],
   "source": [
    "df['SUSP_SEX'].value_counts()\n"
   ]
  },
  {
   "cell_type": "code",
   "execution_count": 23,
   "id": "237a85fb",
   "metadata": {},
   "outputs": [
    {
     "data": {
      "text/plain": [
       "M    136221\n",
       "F     27264\n",
       "Name: SUSP_SEX, dtype: int64"
      ]
     },
     "execution_count": 23,
     "metadata": {},
     "output_type": "execute_result"
    }
   ],
   "source": [
    "df['SUSP_SEX'].replace('U','M',inplace=True)\n",
    "df['SUSP_SEX'].value_counts()\n"
   ]
  },
  {
   "cell_type": "code",
   "execution_count": 24,
   "id": "b47eeaed",
   "metadata": {},
   "outputs": [
    {
     "data": {
      "text/plain": [
       "F    68103\n",
       "M    52434\n",
       "D    36781\n",
       "E     6167\n",
       "Name: VIC_SEX, dtype: int64"
      ]
     },
     "execution_count": 24,
     "metadata": {},
     "output_type": "execute_result"
    }
   ],
   "source": [
    "df['VIC_SEX'].value_counts()\n"
   ]
  },
  {
   "cell_type": "code",
   "execution_count": 25,
   "id": "3d5487cf",
   "metadata": {},
   "outputs": [
    {
     "data": {
      "text/plain": [
       "F    68103\n",
       "M    52434\n",
       "D    42948\n",
       "Name: VIC_SEX, dtype: int64"
      ]
     },
     "execution_count": 25,
     "metadata": {},
     "output_type": "execute_result"
    }
   ],
   "source": [
    "df['VIC_SEX'].replace('E','D',inplace=True)\n",
    "df['VIC_SEX'].value_counts()\n"
   ]
  },
  {
   "cell_type": "code",
   "execution_count": null,
   "id": "0d94f3d8",
   "metadata": {},
   "outputs": [],
   "source": [
    "\n",
    "\n"
   ]
  },
  {
   "cell_type": "code",
   "execution_count": 26,
   "id": "70509d41",
   "metadata": {},
   "outputs": [],
   "source": [
    "df.dropna(inplace=True)\n",
    "df.reset_index(drop= True, inplace=True)\n"
   ]
  },
  {
   "cell_type": "code",
   "execution_count": 27,
   "id": "27344ba9",
   "metadata": {},
   "outputs": [],
   "source": [
    "df['CMPLNT_FR_DT'] = pd.to_datetime(df['CMPLNT_FR_DT'],errors='coerce',format = \"%m/%d/%Y\" )\n",
    "df['CMPLNT_TO_DT'] = pd.to_datetime(df['CMPLNT_TO_DT'],errors='coerce',format = \"%m/%d/%Y\" )\n",
    "FR_DY = df['CMPLNT_FR_DT'].dt.day_name()\n",
    "TO_DY = df['CMPLNT_TO_DT'].dt.day_name()\n"
   ]
  },
  {
   "cell_type": "code",
   "execution_count": 28,
   "id": "d11e2b4d",
   "metadata": {},
   "outputs": [
    {
     "data": {
      "text/plain": [
       "0         Thursday\n",
       "1         Thursday\n",
       "2          Tuesday\n",
       "3           Friday\n",
       "4           Friday\n",
       "            ...   \n",
       "163480    Thursday\n",
       "163481    Thursday\n",
       "163482    Thursday\n",
       "163483    Thursday\n",
       "163484    Thursday\n",
       "Name: CMPLNT_FR_DT, Length: 163485, dtype: object"
      ]
     },
     "execution_count": 28,
     "metadata": {},
     "output_type": "execute_result"
    }
   ],
   "source": [
    "FR_DY"
   ]
  },
  {
   "cell_type": "code",
   "execution_count": 29,
   "id": "63f5b998",
   "metadata": {},
   "outputs": [
    {
     "data": {
      "text/plain": [
       "0          Thursday\n",
       "1          Thursday\n",
       "2           Tuesday\n",
       "3            Friday\n",
       "4         Wednesday\n",
       "            ...    \n",
       "163480     Thursday\n",
       "163481     Thursday\n",
       "163482     Thursday\n",
       "163483     Thursday\n",
       "163484     Thursday\n",
       "Name: CMPLNT_TO_DT, Length: 163485, dtype: object"
      ]
     },
     "execution_count": 29,
     "metadata": {},
     "output_type": "execute_result"
    }
   ],
   "source": [
    "TO_DY\n"
   ]
  },
  {
   "cell_type": "code",
   "execution_count": 30,
   "id": "6fe7e9ab",
   "metadata": {},
   "outputs": [],
   "source": [
    "df = pd.concat([df,FR_DY],axis=1)\n",
    "df.columns = [*df.columns[:-1], 'CMPLNT_FR_DAY']\n"
   ]
  },
  {
   "cell_type": "code",
   "execution_count": 31,
   "id": "9063fe6f",
   "metadata": {},
   "outputs": [
    {
     "data": {
      "text/html": [
       "<div>\n",
       "<style scoped>\n",
       "    .dataframe tbody tr th:only-of-type {\n",
       "        vertical-align: middle;\n",
       "    }\n",
       "\n",
       "    .dataframe tbody tr th {\n",
       "        vertical-align: top;\n",
       "    }\n",
       "\n",
       "    .dataframe thead th {\n",
       "        text-align: right;\n",
       "    }\n",
       "</style>\n",
       "<table border=\"1\" class=\"dataframe\">\n",
       "  <thead>\n",
       "    <tr style=\"text-align: right;\">\n",
       "      <th></th>\n",
       "      <th>CMPLNT_NUM</th>\n",
       "      <th>ADDR_PCT_CD</th>\n",
       "      <th>BORO_NM</th>\n",
       "      <th>CMPLNT_FR_DT</th>\n",
       "      <th>CMPLNT_FR_TM</th>\n",
       "      <th>CMPLNT_TO_DT</th>\n",
       "      <th>CMPLNT_TO_TM</th>\n",
       "      <th>CRM_ATPT_CPTD_CD</th>\n",
       "      <th>JURISDICTION_CODE</th>\n",
       "      <th>JURIS_DESC</th>\n",
       "      <th>...</th>\n",
       "      <th>SUSP_RACE</th>\n",
       "      <th>SUSP_SEX</th>\n",
       "      <th>VIC_AGE_GROUP</th>\n",
       "      <th>VIC_RACE</th>\n",
       "      <th>VIC_SEX</th>\n",
       "      <th>X_COORD_CD</th>\n",
       "      <th>Y_COORD_CD</th>\n",
       "      <th>Latitude</th>\n",
       "      <th>Longitude</th>\n",
       "      <th>CMPLNT_FR_DAY</th>\n",
       "    </tr>\n",
       "  </thead>\n",
       "  <tbody>\n",
       "    <tr>\n",
       "      <th>0</th>\n",
       "      <td>242250195</td>\n",
       "      <td>42</td>\n",
       "      <td>BRONX</td>\n",
       "      <td>2022-03-17</td>\n",
       "      <td>15:23:00</td>\n",
       "      <td>2022-03-17</td>\n",
       "      <td>15:28:00</td>\n",
       "      <td>ATTEMPTED</td>\n",
       "      <td>0</td>\n",
       "      <td>N.Y. POLICE DEPT</td>\n",
       "      <td>...</td>\n",
       "      <td>BLACK</td>\n",
       "      <td>M</td>\n",
       "      <td>25-44</td>\n",
       "      <td>BLACK</td>\n",
       "      <td>D</td>\n",
       "      <td>1010419</td>\n",
       "      <td>242374</td>\n",
       "      <td>40.831899</td>\n",
       "      <td>-73.905435</td>\n",
       "      <td>Thursday</td>\n",
       "    </tr>\n",
       "    <tr>\n",
       "      <th>1</th>\n",
       "      <td>242643555</td>\n",
       "      <td>121</td>\n",
       "      <td>STATEN ISLAND</td>\n",
       "      <td>2022-03-24</td>\n",
       "      <td>15:00:00</td>\n",
       "      <td>2022-03-24</td>\n",
       "      <td>22:00:00</td>\n",
       "      <td>COMPLETED</td>\n",
       "      <td>0</td>\n",
       "      <td>N.Y. POLICE DEPT</td>\n",
       "      <td>...</td>\n",
       "      <td>BLACK</td>\n",
       "      <td>M</td>\n",
       "      <td>18-24</td>\n",
       "      <td>BLACK</td>\n",
       "      <td>F</td>\n",
       "      <td>942822</td>\n",
       "      <td>166353</td>\n",
       "      <td>40.623188</td>\n",
       "      <td>-74.149238</td>\n",
       "      <td>Thursday</td>\n",
       "    </tr>\n",
       "    <tr>\n",
       "      <th>2</th>\n",
       "      <td>242816732</td>\n",
       "      <td>42</td>\n",
       "      <td>BRONX</td>\n",
       "      <td>2022-03-29</td>\n",
       "      <td>15:24:00</td>\n",
       "      <td>2022-03-29</td>\n",
       "      <td>15:30:00</td>\n",
       "      <td>COMPLETED</td>\n",
       "      <td>0</td>\n",
       "      <td>N.Y. POLICE DEPT</td>\n",
       "      <td>...</td>\n",
       "      <td>BLACK</td>\n",
       "      <td>M</td>\n",
       "      <td>45-64</td>\n",
       "      <td>BLACK</td>\n",
       "      <td>M</td>\n",
       "      <td>1010131</td>\n",
       "      <td>240105</td>\n",
       "      <td>40.825670</td>\n",
       "      <td>-73.906484</td>\n",
       "      <td>Tuesday</td>\n",
       "    </tr>\n",
       "    <tr>\n",
       "      <th>3</th>\n",
       "      <td>238863220</td>\n",
       "      <td>25</td>\n",
       "      <td>MANHATTAN</td>\n",
       "      <td>2021-12-31</td>\n",
       "      <td>21:45:00</td>\n",
       "      <td>2021-12-31</td>\n",
       "      <td>21:50:00</td>\n",
       "      <td>COMPLETED</td>\n",
       "      <td>2</td>\n",
       "      <td>N.Y. HOUSING POLICE</td>\n",
       "      <td>...</td>\n",
       "      <td>WHITE HISPANIC</td>\n",
       "      <td>F</td>\n",
       "      <td>25-44</td>\n",
       "      <td>BLACK</td>\n",
       "      <td>M</td>\n",
       "      <td>1002844</td>\n",
       "      <td>230571</td>\n",
       "      <td>40.799522</td>\n",
       "      <td>-73.932838</td>\n",
       "      <td>Friday</td>\n",
       "    </tr>\n",
       "    <tr>\n",
       "      <th>4</th>\n",
       "      <td>242870934</td>\n",
       "      <td>46</td>\n",
       "      <td>BRONX</td>\n",
       "      <td>2018-03-16</td>\n",
       "      <td>12:00:00</td>\n",
       "      <td>2022-03-30</td>\n",
       "      <td>22:57:00</td>\n",
       "      <td>COMPLETED</td>\n",
       "      <td>0</td>\n",
       "      <td>N.Y. POLICE DEPT</td>\n",
       "      <td>...</td>\n",
       "      <td>BLACK</td>\n",
       "      <td>M</td>\n",
       "      <td>25-44</td>\n",
       "      <td>WHITE HISPANIC</td>\n",
       "      <td>F</td>\n",
       "      <td>1007476</td>\n",
       "      <td>247738</td>\n",
       "      <td>40.846629</td>\n",
       "      <td>-73.916050</td>\n",
       "      <td>Friday</td>\n",
       "    </tr>\n",
       "    <tr>\n",
       "      <th>...</th>\n",
       "      <td>...</td>\n",
       "      <td>...</td>\n",
       "      <td>...</td>\n",
       "      <td>...</td>\n",
       "      <td>...</td>\n",
       "      <td>...</td>\n",
       "      <td>...</td>\n",
       "      <td>...</td>\n",
       "      <td>...</td>\n",
       "      <td>...</td>\n",
       "      <td>...</td>\n",
       "      <td>...</td>\n",
       "      <td>...</td>\n",
       "      <td>...</td>\n",
       "      <td>...</td>\n",
       "      <td>...</td>\n",
       "      <td>...</td>\n",
       "      <td>...</td>\n",
       "      <td>...</td>\n",
       "      <td>...</td>\n",
       "      <td>...</td>\n",
       "    </tr>\n",
       "    <tr>\n",
       "      <th>163480</th>\n",
       "      <td>247415547</td>\n",
       "      <td>67</td>\n",
       "      <td>BROOKLYN</td>\n",
       "      <td>2022-06-30</td>\n",
       "      <td>07:30:00</td>\n",
       "      <td>2022-06-30</td>\n",
       "      <td>07:45:00</td>\n",
       "      <td>COMPLETED</td>\n",
       "      <td>0</td>\n",
       "      <td>N.Y. POLICE DEPT</td>\n",
       "      <td>...</td>\n",
       "      <td>BLACK</td>\n",
       "      <td>M</td>\n",
       "      <td>18-24</td>\n",
       "      <td>BLACK</td>\n",
       "      <td>F</td>\n",
       "      <td>1004537</td>\n",
       "      <td>181012</td>\n",
       "      <td>40.663492</td>\n",
       "      <td>-73.926872</td>\n",
       "      <td>Thursday</td>\n",
       "    </tr>\n",
       "    <tr>\n",
       "      <th>163481</th>\n",
       "      <td>247392103</td>\n",
       "      <td>40</td>\n",
       "      <td>BRONX</td>\n",
       "      <td>2022-06-30</td>\n",
       "      <td>18:05:00</td>\n",
       "      <td>2022-06-30</td>\n",
       "      <td>18:15:00</td>\n",
       "      <td>ATTEMPTED</td>\n",
       "      <td>0</td>\n",
       "      <td>N.Y. POLICE DEPT</td>\n",
       "      <td>...</td>\n",
       "      <td>BLACK</td>\n",
       "      <td>M</td>\n",
       "      <td>25-44</td>\n",
       "      <td>BLACK</td>\n",
       "      <td>D</td>\n",
       "      <td>1007667</td>\n",
       "      <td>237199</td>\n",
       "      <td>40.817703</td>\n",
       "      <td>-73.915395</td>\n",
       "      <td>Thursday</td>\n",
       "    </tr>\n",
       "    <tr>\n",
       "      <th>163482</th>\n",
       "      <td>247392173</td>\n",
       "      <td>109</td>\n",
       "      <td>QUEENS</td>\n",
       "      <td>2022-06-30</td>\n",
       "      <td>18:38:00</td>\n",
       "      <td>2022-06-30</td>\n",
       "      <td>18:48:00</td>\n",
       "      <td>COMPLETED</td>\n",
       "      <td>0</td>\n",
       "      <td>N.Y. POLICE DEPT</td>\n",
       "      <td>...</td>\n",
       "      <td>WHITE HISPANIC</td>\n",
       "      <td>M</td>\n",
       "      <td>45-64</td>\n",
       "      <td>WHITE HISPANIC</td>\n",
       "      <td>M</td>\n",
       "      <td>1036784</td>\n",
       "      <td>224128</td>\n",
       "      <td>40.781700</td>\n",
       "      <td>-73.810305</td>\n",
       "      <td>Thursday</td>\n",
       "    </tr>\n",
       "    <tr>\n",
       "      <th>163483</th>\n",
       "      <td>247399166</td>\n",
       "      <td>33</td>\n",
       "      <td>MANHATTAN</td>\n",
       "      <td>2022-06-30</td>\n",
       "      <td>22:10:00</td>\n",
       "      <td>2022-06-30</td>\n",
       "      <td>22:25:00</td>\n",
       "      <td>COMPLETED</td>\n",
       "      <td>0</td>\n",
       "      <td>N.Y. POLICE DEPT</td>\n",
       "      <td>...</td>\n",
       "      <td>BLACK</td>\n",
       "      <td>M</td>\n",
       "      <td>45-64</td>\n",
       "      <td>BLACK</td>\n",
       "      <td>M</td>\n",
       "      <td>1001528</td>\n",
       "      <td>244950</td>\n",
       "      <td>40.838991</td>\n",
       "      <td>-73.937557</td>\n",
       "      <td>Thursday</td>\n",
       "    </tr>\n",
       "    <tr>\n",
       "      <th>163484</th>\n",
       "      <td>247434393</td>\n",
       "      <td>109</td>\n",
       "      <td>QUEENS</td>\n",
       "      <td>2022-06-30</td>\n",
       "      <td>14:30:00</td>\n",
       "      <td>2022-06-30</td>\n",
       "      <td>15:00:00</td>\n",
       "      <td>COMPLETED</td>\n",
       "      <td>0</td>\n",
       "      <td>N.Y. POLICE DEPT</td>\n",
       "      <td>...</td>\n",
       "      <td>WHITE</td>\n",
       "      <td>M</td>\n",
       "      <td>25-44</td>\n",
       "      <td>ASIAN / PACIFIC ISLANDER</td>\n",
       "      <td>M</td>\n",
       "      <td>1036709</td>\n",
       "      <td>226713</td>\n",
       "      <td>40.788796</td>\n",
       "      <td>-73.810555</td>\n",
       "      <td>Thursday</td>\n",
       "    </tr>\n",
       "  </tbody>\n",
       "</table>\n",
       "<p>163485 rows × 30 columns</p>\n",
       "</div>"
      ],
      "text/plain": [
       "       CMPLNT_NUM  ADDR_PCT_CD        BORO_NM CMPLNT_FR_DT CMPLNT_FR_TM  \\\n",
       "0       242250195           42          BRONX   2022-03-17     15:23:00   \n",
       "1       242643555          121  STATEN ISLAND   2022-03-24     15:00:00   \n",
       "2       242816732           42          BRONX   2022-03-29     15:24:00   \n",
       "3       238863220           25      MANHATTAN   2021-12-31     21:45:00   \n",
       "4       242870934           46          BRONX   2018-03-16     12:00:00   \n",
       "...           ...          ...            ...          ...          ...   \n",
       "163480  247415547           67       BROOKLYN   2022-06-30     07:30:00   \n",
       "163481  247392103           40          BRONX   2022-06-30     18:05:00   \n",
       "163482  247392173          109         QUEENS   2022-06-30     18:38:00   \n",
       "163483  247399166           33      MANHATTAN   2022-06-30     22:10:00   \n",
       "163484  247434393          109         QUEENS   2022-06-30     14:30:00   \n",
       "\n",
       "       CMPLNT_TO_DT CMPLNT_TO_TM CRM_ATPT_CPTD_CD  JURISDICTION_CODE  \\\n",
       "0        2022-03-17     15:28:00        ATTEMPTED                  0   \n",
       "1        2022-03-24     22:00:00        COMPLETED                  0   \n",
       "2        2022-03-29     15:30:00        COMPLETED                  0   \n",
       "3        2021-12-31     21:50:00        COMPLETED                  2   \n",
       "4        2022-03-30     22:57:00        COMPLETED                  0   \n",
       "...             ...          ...              ...                ...   \n",
       "163480   2022-06-30     07:45:00        COMPLETED                  0   \n",
       "163481   2022-06-30     18:15:00        ATTEMPTED                  0   \n",
       "163482   2022-06-30     18:48:00        COMPLETED                  0   \n",
       "163483   2022-06-30     22:25:00        COMPLETED                  0   \n",
       "163484   2022-06-30     15:00:00        COMPLETED                  0   \n",
       "\n",
       "                 JURIS_DESC  ...       SUSP_RACE SUSP_SEX VIC_AGE_GROUP  \\\n",
       "0          N.Y. POLICE DEPT  ...           BLACK        M         25-44   \n",
       "1          N.Y. POLICE DEPT  ...           BLACK        M         18-24   \n",
       "2          N.Y. POLICE DEPT  ...           BLACK        M         45-64   \n",
       "3       N.Y. HOUSING POLICE  ...  WHITE HISPANIC        F         25-44   \n",
       "4          N.Y. POLICE DEPT  ...           BLACK        M         25-44   \n",
       "...                     ...  ...             ...      ...           ...   \n",
       "163480     N.Y. POLICE DEPT  ...           BLACK        M         18-24   \n",
       "163481     N.Y. POLICE DEPT  ...           BLACK        M         25-44   \n",
       "163482     N.Y. POLICE DEPT  ...  WHITE HISPANIC        M         45-64   \n",
       "163483     N.Y. POLICE DEPT  ...           BLACK        M         45-64   \n",
       "163484     N.Y. POLICE DEPT  ...           WHITE        M         25-44   \n",
       "\n",
       "                        VIC_RACE VIC_SEX  X_COORD_CD Y_COORD_CD   Latitude  \\\n",
       "0                          BLACK       D     1010419     242374  40.831899   \n",
       "1                          BLACK       F      942822     166353  40.623188   \n",
       "2                          BLACK       M     1010131     240105  40.825670   \n",
       "3                          BLACK       M     1002844     230571  40.799522   \n",
       "4                 WHITE HISPANIC       F     1007476     247738  40.846629   \n",
       "...                          ...     ...         ...        ...        ...   \n",
       "163480                     BLACK       F     1004537     181012  40.663492   \n",
       "163481                     BLACK       D     1007667     237199  40.817703   \n",
       "163482            WHITE HISPANIC       M     1036784     224128  40.781700   \n",
       "163483                     BLACK       M     1001528     244950  40.838991   \n",
       "163484  ASIAN / PACIFIC ISLANDER       M     1036709     226713  40.788796   \n",
       "\n",
       "        Longitude CMPLNT_FR_DAY  \n",
       "0      -73.905435      Thursday  \n",
       "1      -74.149238      Thursday  \n",
       "2      -73.906484       Tuesday  \n",
       "3      -73.932838        Friday  \n",
       "4      -73.916050        Friday  \n",
       "...           ...           ...  \n",
       "163480 -73.926872      Thursday  \n",
       "163481 -73.915395      Thursday  \n",
       "163482 -73.810305      Thursday  \n",
       "163483 -73.937557      Thursday  \n",
       "163484 -73.810555      Thursday  \n",
       "\n",
       "[163485 rows x 30 columns]"
      ]
     },
     "execution_count": 31,
     "metadata": {},
     "output_type": "execute_result"
    }
   ],
   "source": [
    "df"
   ]
  },
  {
   "cell_type": "code",
   "execution_count": 32,
   "id": "483a6d9c",
   "metadata": {},
   "outputs": [],
   "source": [
    "df = pd.concat([df,TO_DY],axis=1)\n",
    "df.columns = [*df.columns[:-1], 'CMPLNT_TO_DAY']\n"
   ]
  },
  {
   "cell_type": "code",
   "execution_count": 33,
   "id": "254d886c",
   "metadata": {},
   "outputs": [],
   "source": [
    "fr_hr = pd.to_datetime(df['CMPLNT_FR_TM'], format='%H:%M:%S').dt.hour \n",
    "to_hr = pd.to_datetime(df['CMPLNT_TO_TM'], format='%H:%M:%S').dt.hour\n"
   ]
  },
  {
   "cell_type": "code",
   "execution_count": 34,
   "id": "bbce9929",
   "metadata": {},
   "outputs": [],
   "source": [
    "df = pd.concat([df,fr_hr],axis=1)\n",
    "df.columns = [*df.columns[:-1], 'CMPLNT_FR_PART']\n"
   ]
  },
  {
   "cell_type": "code",
   "execution_count": 35,
   "id": "f907939e",
   "metadata": {},
   "outputs": [],
   "source": [
    "df = pd.concat([df,to_hr],axis=1)\n",
    "df.columns = [*df.columns[:-1], 'CMPLNT_TO_PART']\n"
   ]
  },
  {
   "cell_type": "code",
   "execution_count": 36,
   "id": "55e42238",
   "metadata": {},
   "outputs": [],
   "source": [
    "def f(x=0):\n",
    "    if (x > 4) and (x <= 8):\n",
    "        return 'Early Morning'\n",
    "    elif (x > 8) and (x <= 12 ):\n",
    "        return 'Morning'\n",
    "    elif (x > 12) and (x <= 16):\n",
    "        return'Noon'\n",
    "    elif (x > 16) and (x <= 20) :\n",
    "        return 'Evening'\n",
    "    elif (x > 20) and (x <= 24):\n",
    "        return'Night'\n",
    "    elif (x <= 4):\n",
    "        return'Late Night'\n"
   ]
  },
  {
   "cell_type": "code",
   "execution_count": 37,
   "id": "27b3ef6c",
   "metadata": {},
   "outputs": [],
   "source": [
    "df['CMPLNT_FR_PART'] = df['CMPLNT_FR_PART'].apply(lambda z: f(z))\n"
   ]
  },
  {
   "cell_type": "code",
   "execution_count": 38,
   "id": "e90bd50d",
   "metadata": {},
   "outputs": [],
   "source": [
    "df['CMPLNT_TO_PART'] = df['CMPLNT_TO_PART'].apply(lambda z: f(z))\n"
   ]
  },
  {
   "cell_type": "code",
   "execution_count": 39,
   "id": "56812fd2",
   "metadata": {},
   "outputs": [
    {
     "data": {
      "text/plain": [
       "0                  Noon\n",
       "1                  Noon\n",
       "2                  Noon\n",
       "3                 Night\n",
       "4               Morning\n",
       "              ...      \n",
       "163480    Early Morning\n",
       "163481          Evening\n",
       "163482          Evening\n",
       "163483            Night\n",
       "163484             Noon\n",
       "Name: CMPLNT_FR_PART, Length: 163485, dtype: object"
      ]
     },
     "execution_count": 39,
     "metadata": {},
     "output_type": "execute_result"
    }
   ],
   "source": [
    "df['CMPLNT_FR_PART']\n"
   ]
  },
  {
   "cell_type": "code",
   "execution_count": 40,
   "id": "23c7d566",
   "metadata": {},
   "outputs": [
    {
     "data": {
      "text/plain": [
       "0                  Noon\n",
       "1                 Night\n",
       "2                  Noon\n",
       "3                 Night\n",
       "4                 Night\n",
       "              ...      \n",
       "163480    Early Morning\n",
       "163481          Evening\n",
       "163482          Evening\n",
       "163483            Night\n",
       "163484             Noon\n",
       "Name: CMPLNT_TO_PART, Length: 163485, dtype: object"
      ]
     },
     "execution_count": 40,
     "metadata": {},
     "output_type": "execute_result"
    }
   ],
   "source": [
    "df['CMPLNT_TO_PART']\n"
   ]
  },
  {
   "cell_type": "code",
   "execution_count": 41,
   "id": "d4ced604",
   "metadata": {},
   "outputs": [
    {
     "data": {
      "text/html": [
       "<div>\n",
       "<style scoped>\n",
       "    .dataframe tbody tr th:only-of-type {\n",
       "        vertical-align: middle;\n",
       "    }\n",
       "\n",
       "    .dataframe tbody tr th {\n",
       "        vertical-align: top;\n",
       "    }\n",
       "\n",
       "    .dataframe thead th {\n",
       "        text-align: right;\n",
       "    }\n",
       "</style>\n",
       "<table border=\"1\" class=\"dataframe\">\n",
       "  <thead>\n",
       "    <tr style=\"text-align: right;\">\n",
       "      <th></th>\n",
       "      <th>CMPLNT_NUM</th>\n",
       "      <th>ADDR_PCT_CD</th>\n",
       "      <th>BORO_NM</th>\n",
       "      <th>CMPLNT_FR_DT</th>\n",
       "      <th>CMPLNT_FR_TM</th>\n",
       "      <th>CMPLNT_TO_DT</th>\n",
       "      <th>CMPLNT_TO_TM</th>\n",
       "      <th>CRM_ATPT_CPTD_CD</th>\n",
       "      <th>JURISDICTION_CODE</th>\n",
       "      <th>JURIS_DESC</th>\n",
       "      <th>...</th>\n",
       "      <th>VIC_RACE</th>\n",
       "      <th>VIC_SEX</th>\n",
       "      <th>X_COORD_CD</th>\n",
       "      <th>Y_COORD_CD</th>\n",
       "      <th>Latitude</th>\n",
       "      <th>Longitude</th>\n",
       "      <th>CMPLNT_FR_DAY</th>\n",
       "      <th>CMPLNT_TO_DAY</th>\n",
       "      <th>CMPLNT_FR_PART</th>\n",
       "      <th>CMPLNT_TO_PART</th>\n",
       "    </tr>\n",
       "  </thead>\n",
       "  <tbody>\n",
       "    <tr>\n",
       "      <th>0</th>\n",
       "      <td>242250195</td>\n",
       "      <td>42</td>\n",
       "      <td>BRONX</td>\n",
       "      <td>2022-03-17</td>\n",
       "      <td>15:23:00</td>\n",
       "      <td>2022-03-17</td>\n",
       "      <td>15:28:00</td>\n",
       "      <td>ATTEMPTED</td>\n",
       "      <td>0</td>\n",
       "      <td>N.Y. POLICE DEPT</td>\n",
       "      <td>...</td>\n",
       "      <td>BLACK</td>\n",
       "      <td>D</td>\n",
       "      <td>1010419</td>\n",
       "      <td>242374</td>\n",
       "      <td>40.831899</td>\n",
       "      <td>-73.905435</td>\n",
       "      <td>Thursday</td>\n",
       "      <td>Thursday</td>\n",
       "      <td>Noon</td>\n",
       "      <td>Noon</td>\n",
       "    </tr>\n",
       "    <tr>\n",
       "      <th>1</th>\n",
       "      <td>242643555</td>\n",
       "      <td>121</td>\n",
       "      <td>STATEN ISLAND</td>\n",
       "      <td>2022-03-24</td>\n",
       "      <td>15:00:00</td>\n",
       "      <td>2022-03-24</td>\n",
       "      <td>22:00:00</td>\n",
       "      <td>COMPLETED</td>\n",
       "      <td>0</td>\n",
       "      <td>N.Y. POLICE DEPT</td>\n",
       "      <td>...</td>\n",
       "      <td>BLACK</td>\n",
       "      <td>F</td>\n",
       "      <td>942822</td>\n",
       "      <td>166353</td>\n",
       "      <td>40.623188</td>\n",
       "      <td>-74.149238</td>\n",
       "      <td>Thursday</td>\n",
       "      <td>Thursday</td>\n",
       "      <td>Noon</td>\n",
       "      <td>Night</td>\n",
       "    </tr>\n",
       "    <tr>\n",
       "      <th>2</th>\n",
       "      <td>242816732</td>\n",
       "      <td>42</td>\n",
       "      <td>BRONX</td>\n",
       "      <td>2022-03-29</td>\n",
       "      <td>15:24:00</td>\n",
       "      <td>2022-03-29</td>\n",
       "      <td>15:30:00</td>\n",
       "      <td>COMPLETED</td>\n",
       "      <td>0</td>\n",
       "      <td>N.Y. POLICE DEPT</td>\n",
       "      <td>...</td>\n",
       "      <td>BLACK</td>\n",
       "      <td>M</td>\n",
       "      <td>1010131</td>\n",
       "      <td>240105</td>\n",
       "      <td>40.825670</td>\n",
       "      <td>-73.906484</td>\n",
       "      <td>Tuesday</td>\n",
       "      <td>Tuesday</td>\n",
       "      <td>Noon</td>\n",
       "      <td>Noon</td>\n",
       "    </tr>\n",
       "    <tr>\n",
       "      <th>3</th>\n",
       "      <td>238863220</td>\n",
       "      <td>25</td>\n",
       "      <td>MANHATTAN</td>\n",
       "      <td>2021-12-31</td>\n",
       "      <td>21:45:00</td>\n",
       "      <td>2021-12-31</td>\n",
       "      <td>21:50:00</td>\n",
       "      <td>COMPLETED</td>\n",
       "      <td>2</td>\n",
       "      <td>N.Y. HOUSING POLICE</td>\n",
       "      <td>...</td>\n",
       "      <td>BLACK</td>\n",
       "      <td>M</td>\n",
       "      <td>1002844</td>\n",
       "      <td>230571</td>\n",
       "      <td>40.799522</td>\n",
       "      <td>-73.932838</td>\n",
       "      <td>Friday</td>\n",
       "      <td>Friday</td>\n",
       "      <td>Night</td>\n",
       "      <td>Night</td>\n",
       "    </tr>\n",
       "    <tr>\n",
       "      <th>4</th>\n",
       "      <td>242870934</td>\n",
       "      <td>46</td>\n",
       "      <td>BRONX</td>\n",
       "      <td>2018-03-16</td>\n",
       "      <td>12:00:00</td>\n",
       "      <td>2022-03-30</td>\n",
       "      <td>22:57:00</td>\n",
       "      <td>COMPLETED</td>\n",
       "      <td>0</td>\n",
       "      <td>N.Y. POLICE DEPT</td>\n",
       "      <td>...</td>\n",
       "      <td>WHITE HISPANIC</td>\n",
       "      <td>F</td>\n",
       "      <td>1007476</td>\n",
       "      <td>247738</td>\n",
       "      <td>40.846629</td>\n",
       "      <td>-73.916050</td>\n",
       "      <td>Friday</td>\n",
       "      <td>Wednesday</td>\n",
       "      <td>Morning</td>\n",
       "      <td>Night</td>\n",
       "    </tr>\n",
       "    <tr>\n",
       "      <th>...</th>\n",
       "      <td>...</td>\n",
       "      <td>...</td>\n",
       "      <td>...</td>\n",
       "      <td>...</td>\n",
       "      <td>...</td>\n",
       "      <td>...</td>\n",
       "      <td>...</td>\n",
       "      <td>...</td>\n",
       "      <td>...</td>\n",
       "      <td>...</td>\n",
       "      <td>...</td>\n",
       "      <td>...</td>\n",
       "      <td>...</td>\n",
       "      <td>...</td>\n",
       "      <td>...</td>\n",
       "      <td>...</td>\n",
       "      <td>...</td>\n",
       "      <td>...</td>\n",
       "      <td>...</td>\n",
       "      <td>...</td>\n",
       "      <td>...</td>\n",
       "    </tr>\n",
       "    <tr>\n",
       "      <th>163480</th>\n",
       "      <td>247415547</td>\n",
       "      <td>67</td>\n",
       "      <td>BROOKLYN</td>\n",
       "      <td>2022-06-30</td>\n",
       "      <td>07:30:00</td>\n",
       "      <td>2022-06-30</td>\n",
       "      <td>07:45:00</td>\n",
       "      <td>COMPLETED</td>\n",
       "      <td>0</td>\n",
       "      <td>N.Y. POLICE DEPT</td>\n",
       "      <td>...</td>\n",
       "      <td>BLACK</td>\n",
       "      <td>F</td>\n",
       "      <td>1004537</td>\n",
       "      <td>181012</td>\n",
       "      <td>40.663492</td>\n",
       "      <td>-73.926872</td>\n",
       "      <td>Thursday</td>\n",
       "      <td>Thursday</td>\n",
       "      <td>Early Morning</td>\n",
       "      <td>Early Morning</td>\n",
       "    </tr>\n",
       "    <tr>\n",
       "      <th>163481</th>\n",
       "      <td>247392103</td>\n",
       "      <td>40</td>\n",
       "      <td>BRONX</td>\n",
       "      <td>2022-06-30</td>\n",
       "      <td>18:05:00</td>\n",
       "      <td>2022-06-30</td>\n",
       "      <td>18:15:00</td>\n",
       "      <td>ATTEMPTED</td>\n",
       "      <td>0</td>\n",
       "      <td>N.Y. POLICE DEPT</td>\n",
       "      <td>...</td>\n",
       "      <td>BLACK</td>\n",
       "      <td>D</td>\n",
       "      <td>1007667</td>\n",
       "      <td>237199</td>\n",
       "      <td>40.817703</td>\n",
       "      <td>-73.915395</td>\n",
       "      <td>Thursday</td>\n",
       "      <td>Thursday</td>\n",
       "      <td>Evening</td>\n",
       "      <td>Evening</td>\n",
       "    </tr>\n",
       "    <tr>\n",
       "      <th>163482</th>\n",
       "      <td>247392173</td>\n",
       "      <td>109</td>\n",
       "      <td>QUEENS</td>\n",
       "      <td>2022-06-30</td>\n",
       "      <td>18:38:00</td>\n",
       "      <td>2022-06-30</td>\n",
       "      <td>18:48:00</td>\n",
       "      <td>COMPLETED</td>\n",
       "      <td>0</td>\n",
       "      <td>N.Y. POLICE DEPT</td>\n",
       "      <td>...</td>\n",
       "      <td>WHITE HISPANIC</td>\n",
       "      <td>M</td>\n",
       "      <td>1036784</td>\n",
       "      <td>224128</td>\n",
       "      <td>40.781700</td>\n",
       "      <td>-73.810305</td>\n",
       "      <td>Thursday</td>\n",
       "      <td>Thursday</td>\n",
       "      <td>Evening</td>\n",
       "      <td>Evening</td>\n",
       "    </tr>\n",
       "    <tr>\n",
       "      <th>163483</th>\n",
       "      <td>247399166</td>\n",
       "      <td>33</td>\n",
       "      <td>MANHATTAN</td>\n",
       "      <td>2022-06-30</td>\n",
       "      <td>22:10:00</td>\n",
       "      <td>2022-06-30</td>\n",
       "      <td>22:25:00</td>\n",
       "      <td>COMPLETED</td>\n",
       "      <td>0</td>\n",
       "      <td>N.Y. POLICE DEPT</td>\n",
       "      <td>...</td>\n",
       "      <td>BLACK</td>\n",
       "      <td>M</td>\n",
       "      <td>1001528</td>\n",
       "      <td>244950</td>\n",
       "      <td>40.838991</td>\n",
       "      <td>-73.937557</td>\n",
       "      <td>Thursday</td>\n",
       "      <td>Thursday</td>\n",
       "      <td>Night</td>\n",
       "      <td>Night</td>\n",
       "    </tr>\n",
       "    <tr>\n",
       "      <th>163484</th>\n",
       "      <td>247434393</td>\n",
       "      <td>109</td>\n",
       "      <td>QUEENS</td>\n",
       "      <td>2022-06-30</td>\n",
       "      <td>14:30:00</td>\n",
       "      <td>2022-06-30</td>\n",
       "      <td>15:00:00</td>\n",
       "      <td>COMPLETED</td>\n",
       "      <td>0</td>\n",
       "      <td>N.Y. POLICE DEPT</td>\n",
       "      <td>...</td>\n",
       "      <td>ASIAN / PACIFIC ISLANDER</td>\n",
       "      <td>M</td>\n",
       "      <td>1036709</td>\n",
       "      <td>226713</td>\n",
       "      <td>40.788796</td>\n",
       "      <td>-73.810555</td>\n",
       "      <td>Thursday</td>\n",
       "      <td>Thursday</td>\n",
       "      <td>Noon</td>\n",
       "      <td>Noon</td>\n",
       "    </tr>\n",
       "  </tbody>\n",
       "</table>\n",
       "<p>163485 rows × 33 columns</p>\n",
       "</div>"
      ],
      "text/plain": [
       "       CMPLNT_NUM  ADDR_PCT_CD        BORO_NM CMPLNT_FR_DT CMPLNT_FR_TM  \\\n",
       "0       242250195           42          BRONX   2022-03-17     15:23:00   \n",
       "1       242643555          121  STATEN ISLAND   2022-03-24     15:00:00   \n",
       "2       242816732           42          BRONX   2022-03-29     15:24:00   \n",
       "3       238863220           25      MANHATTAN   2021-12-31     21:45:00   \n",
       "4       242870934           46          BRONX   2018-03-16     12:00:00   \n",
       "...           ...          ...            ...          ...          ...   \n",
       "163480  247415547           67       BROOKLYN   2022-06-30     07:30:00   \n",
       "163481  247392103           40          BRONX   2022-06-30     18:05:00   \n",
       "163482  247392173          109         QUEENS   2022-06-30     18:38:00   \n",
       "163483  247399166           33      MANHATTAN   2022-06-30     22:10:00   \n",
       "163484  247434393          109         QUEENS   2022-06-30     14:30:00   \n",
       "\n",
       "       CMPLNT_TO_DT CMPLNT_TO_TM CRM_ATPT_CPTD_CD  JURISDICTION_CODE  \\\n",
       "0        2022-03-17     15:28:00        ATTEMPTED                  0   \n",
       "1        2022-03-24     22:00:00        COMPLETED                  0   \n",
       "2        2022-03-29     15:30:00        COMPLETED                  0   \n",
       "3        2021-12-31     21:50:00        COMPLETED                  2   \n",
       "4        2022-03-30     22:57:00        COMPLETED                  0   \n",
       "...             ...          ...              ...                ...   \n",
       "163480   2022-06-30     07:45:00        COMPLETED                  0   \n",
       "163481   2022-06-30     18:15:00        ATTEMPTED                  0   \n",
       "163482   2022-06-30     18:48:00        COMPLETED                  0   \n",
       "163483   2022-06-30     22:25:00        COMPLETED                  0   \n",
       "163484   2022-06-30     15:00:00        COMPLETED                  0   \n",
       "\n",
       "                 JURIS_DESC  ...                  VIC_RACE VIC_SEX X_COORD_CD  \\\n",
       "0          N.Y. POLICE DEPT  ...                     BLACK       D    1010419   \n",
       "1          N.Y. POLICE DEPT  ...                     BLACK       F     942822   \n",
       "2          N.Y. POLICE DEPT  ...                     BLACK       M    1010131   \n",
       "3       N.Y. HOUSING POLICE  ...                     BLACK       M    1002844   \n",
       "4          N.Y. POLICE DEPT  ...            WHITE HISPANIC       F    1007476   \n",
       "...                     ...  ...                       ...     ...        ...   \n",
       "163480     N.Y. POLICE DEPT  ...                     BLACK       F    1004537   \n",
       "163481     N.Y. POLICE DEPT  ...                     BLACK       D    1007667   \n",
       "163482     N.Y. POLICE DEPT  ...            WHITE HISPANIC       M    1036784   \n",
       "163483     N.Y. POLICE DEPT  ...                     BLACK       M    1001528   \n",
       "163484     N.Y. POLICE DEPT  ...  ASIAN / PACIFIC ISLANDER       M    1036709   \n",
       "\n",
       "       Y_COORD_CD   Latitude  Longitude CMPLNT_FR_DAY CMPLNT_TO_DAY  \\\n",
       "0          242374  40.831899 -73.905435      Thursday      Thursday   \n",
       "1          166353  40.623188 -74.149238      Thursday      Thursday   \n",
       "2          240105  40.825670 -73.906484       Tuesday       Tuesday   \n",
       "3          230571  40.799522 -73.932838        Friday        Friday   \n",
       "4          247738  40.846629 -73.916050        Friday     Wednesday   \n",
       "...           ...        ...        ...           ...           ...   \n",
       "163480     181012  40.663492 -73.926872      Thursday      Thursday   \n",
       "163481     237199  40.817703 -73.915395      Thursday      Thursday   \n",
       "163482     224128  40.781700 -73.810305      Thursday      Thursday   \n",
       "163483     244950  40.838991 -73.937557      Thursday      Thursday   \n",
       "163484     226713  40.788796 -73.810555      Thursday      Thursday   \n",
       "\n",
       "       CMPLNT_FR_PART CMPLNT_TO_PART  \n",
       "0                Noon           Noon  \n",
       "1                Noon          Night  \n",
       "2                Noon           Noon  \n",
       "3               Night          Night  \n",
       "4             Morning          Night  \n",
       "...               ...            ...  \n",
       "163480  Early Morning  Early Morning  \n",
       "163481        Evening        Evening  \n",
       "163482        Evening        Evening  \n",
       "163483          Night          Night  \n",
       "163484           Noon           Noon  \n",
       "\n",
       "[163485 rows x 33 columns]"
      ]
     },
     "execution_count": 41,
     "metadata": {},
     "output_type": "execute_result"
    }
   ],
   "source": [
    "df"
   ]
  },
  {
   "cell_type": "code",
   "execution_count": null,
   "id": "720a7a94",
   "metadata": {},
   "outputs": [],
   "source": []
  },
  {
   "cell_type": "markdown",
   "id": "cfddb687",
   "metadata": {},
   "source": [
    "## Data Visualization"
   ]
  },
  {
   "cell_type": "markdown",
   "id": "50130b23",
   "metadata": {},
   "source": [
    "### 1. Types of Crime"
   ]
  },
  {
   "cell_type": "code",
   "execution_count": 42,
   "id": "5c0b937a",
   "metadata": {},
   "outputs": [
    {
     "data": {
      "text/plain": [
       "<AxesSubplot:title={'center':'Types of Crimes'}>"
      ]
     },
     "execution_count": 42,
     "metadata": {},
     "output_type": "execute_result"
    },
    {
     "data": {
      "image/png": "[encoded data removed]",
      "text/plain": [
       "<Figure size 432x288 with 1 Axes>"
      ]
     },
     "metadata": {
      "needs_background": "light"
     },
     "output_type": "display_data"
    }
   ],
   "source": [
    "df.OFNS_DESC.value_counts().iloc[:10].sort_values().plot(kind=\"barh\", title = \"Types of Crimes\")\n"
   ]
  },
  {
   "cell_type": "markdown",
   "id": "ce447322",
   "metadata": {},
   "source": [
    "### 2. Distribution of Crime in each borough\n"
   ]
  },
  {
   "cell_type": "code",
   "execution_count": 43,
   "id": "c64ec5a9",
   "metadata": {},
   "outputs": [
    {
     "data": {
      "text/plain": [
       "<AxesSubplot:title={'center':'Total of Crime Events by Borough'}>"
      ]
     },
     "execution_count": 43,
     "metadata": {},
     "output_type": "execute_result"
    },
    {
     "data": {
      "image/png": "[encoded data removed]",
      "text/plain": [
       "<Figure size 432x288 with 1 Axes>"
      ]
     },
     "metadata": {
      "needs_background": "light"
     },
     "output_type": "display_data"
    }
   ],
   "source": [
    "df['BORO_NM'].value_counts().sort_values().plot(kind=\"barh\", color = '#1ABC9C', title = 'Total of Crime Events by Borough')\n"
   ]
  },
  {
   "cell_type": "markdown",
   "id": "3ada7f2d",
   "metadata": {},
   "source": [
    "### 3. Analyzing specific crime"
   ]
  },
  {
   "cell_type": "code",
   "execution_count": 44,
   "id": "e4947d89",
   "metadata": {},
   "outputs": [
    {
     "data": {
      "text/plain": [
       "<AxesSubplot:title={'center':'Sex crime reports'}>"
      ]
     },
     "execution_count": 44,
     "metadata": {},
     "output_type": "execute_result"
    },
    {
     "data": {
      "image/png": "[encoded data removed]",
      "text/plain": [
       "<Figure size 432x288 with 1 Axes>"
      ]
     },
     "metadata": {
      "needs_background": "light"
     },
     "output_type": "display_data"
    }
   ],
   "source": [
    "sex_crimes = df[df.OFNS_DESC.str.contains('SEX CRIMES|RAPE')]\n",
    "sex_crimes.plot(kind='barh', title = 'Sex crime reports', legend= False)"
   ]
  },
  {
   "cell_type": "markdown",
   "id": "a7b9f36d",
   "metadata": {},
   "source": [
    "### 4. Analyzing the Victims\n",
    "\n"
   ]
  },
  {
   "cell_type": "code",
   "execution_count": 45,
   "id": "01e372c9",
   "metadata": {},
   "outputs": [
    {
     "data": {
      "text/plain": [
       "<AxesSubplot:title={'center':'Victims By Gender'}>"
      ]
     },
     "execution_count": 45,
     "metadata": {},
     "output_type": "execute_result"
    },
    {
     "data": {
      "image/png": "[encoded data removed]",
      "text/plain": [
       "<Figure size 432x288 with 1 Axes>"
      ]
     },
     "metadata": {
      "needs_background": "light"
     },
     "output_type": "display_data"
    }
   ],
   "source": [
    "df['VIC_SEX'].value_counts().plot(kind = 'bar',title = 'Victims By Gender')\n"
   ]
  },
  {
   "cell_type": "code",
   "execution_count": 46,
   "id": "07f7a2a5",
   "metadata": {},
   "outputs": [
    {
     "data": {
      "text/plain": [
       "<AxesSubplot:title={'center':'Victims By Race'}>"
      ]
     },
     "execution_count": 46,
     "metadata": {},
     "output_type": "execute_result"
    },
    {
     "data": {
      "image/png": "[encoded data removed]",
      "text/plain": [
       "<Figure size 432x288 with 1 Axes>"
      ]
     },
     "metadata": {
      "needs_background": "light"
     },
     "output_type": "display_data"
    }
   ],
   "source": [
    "df['VIC_RACE'].value_counts().plot(kind = 'barh',title = 'Victims By Race')\n"
   ]
  },
  {
   "cell_type": "code",
   "execution_count": 47,
   "id": "25a05a71",
   "metadata": {},
   "outputs": [
    {
     "data": {
      "text/plain": [
       "<AxesSubplot:title={'center':'Victims By Age Group'}>"
      ]
     },
     "execution_count": 47,
     "metadata": {},
     "output_type": "execute_result"
    },
    {
     "data": {
      "image/png": "[encoded data removed]",
      "text/plain": [
       "<Figure size 432x288 with 1 Axes>"
      ]
     },
     "metadata": {
      "needs_background": "light"
     },
     "output_type": "display_data"
    }
   ],
   "source": [
    "df['VIC_AGE_GROUP'].value_counts().plot(kind = 'barh',title = 'Victims By Age Group')\n"
   ]
  },
  {
   "cell_type": "markdown",
   "id": "84b4792a",
   "metadata": {},
   "source": [
    "### 5.Analyzing the Suspects"
   ]
  },
  {
   "cell_type": "code",
   "execution_count": 48,
   "id": "c67ff5fc",
   "metadata": {},
   "outputs": [
    {
     "data": {
      "text/plain": [
       "<AxesSubplot:title={'center':'Suspects By Gender'}>"
      ]
     },
     "execution_count": 48,
     "metadata": {},
     "output_type": "execute_result"
    },
    {
     "data": {
      "image/png": "[encoded data removed]",
      "text/plain": [
       "<Figure size 432x288 with 1 Axes>"
      ]
     },
     "metadata": {
      "needs_background": "light"
     },
     "output_type": "display_data"
    }
   ],
   "source": [
    "df['SUSP_SEX'].value_counts().plot(kind = 'bar',title = 'Suspects By Gender')\n"
   ]
  },
  {
   "cell_type": "code",
   "execution_count": 49,
   "id": "9315008f",
   "metadata": {},
   "outputs": [
    {
     "data": {
      "text/plain": [
       "<AxesSubplot:title={'center':'Suspects By Race'}>"
      ]
     },
     "execution_count": 49,
     "metadata": {},
     "output_type": "execute_result"
    },
    {
     "data": {
      "image/png": "[encoded data removed]",
      "text/plain": [
       "<Figure size 432x288 with 1 Axes>"
      ]
     },
     "metadata": {
      "needs_background": "light"
     },
     "output_type": "display_data"
    }
   ],
   "source": [
    "df['SUSP_RACE'].value_counts().plot(kind = 'barh',title = 'Suspects By Race')\n"
   ]
  },
  {
   "cell_type": "code",
   "execution_count": 50,
   "id": "54ef7098",
   "metadata": {},
   "outputs": [
    {
     "data": {
      "text/plain": [
       "<AxesSubplot:title={'center':'Suspects By Age Group'}>"
      ]
     },
     "execution_count": 50,
     "metadata": {},
     "output_type": "execute_result"
    },
    {
     "data": {
      "image/png": "[encoded data removed]",
      "text/plain": [
       "<Figure size 432x288 with 1 Axes>"
      ]
     },
     "metadata": {
      "needs_background": "light"
     },
     "output_type": "display_data"
    }
   ],
   "source": [
    "df['SUSP_AGE_GROUP'].value_counts().plot(kind = 'barh',title = 'Suspects By Age Group')\n"
   ]
  },
  {
   "cell_type": "markdown",
   "id": "fbd84fb0",
   "metadata": {},
   "source": [
    "## Data Normalization"
   ]
  },
  {
   "cell_type": "code",
   "execution_count": null,
   "id": "9cf7e4c5",
   "metadata": {},
   "outputs": [],
   "source": []
  }
 ],
 "metadata": {
  "kernelspec": {
   "display_name": "Python 3 (ipykernel)",
   "language": "python",
   "name": "python3"
  },
  "language_info": {
   "codemirror_mode": {
    "name": "ipython",
    "version": 3
   },
   "file_extension": ".py",
   "mimetype": "text/x-python",
   "name": "python",
   "nbconvert_exporter": "python",
   "pygments_lexer": "ipython3",
   "version": "3.9.12"
  }
 },
 "nbformat": 4,
 "nbformat_minor": 5
}
