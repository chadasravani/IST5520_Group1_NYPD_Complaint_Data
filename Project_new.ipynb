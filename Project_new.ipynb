{
 "cells": [
  {
   "cell_type": "markdown",
   "id": "53fcb159",
   "metadata": {
    "papermill": {
     "duration": 0.0083,
     "end_time": "2022-10-26T16:55:38.213971",
     "exception": false,
     "start_time": "2022-10-26T16:55:38.205671",
     "status": "completed"
    },
    "tags": []
   },
   "source": [
    "## About the dataset :\n",
    "### The dataset includes all valid felony and violation crimes reported to the New York City Police Department (NYPD) from 2006 to the end of June 9, 2022. \n",
    "\n",
    "### The [original dataset](https://data.cityofnewyork.us/d/qgea-i56i?category=Public-Safety&view_name=NYPD-Complaint-Data-Historic) can be found on the NYC Open Data website. The following code is originally from [Bruna Mendes](https://www.kaggle.com/brunacmendes) but is updated for the new dataset for the reference as the basic EDA and plotting have been done nicely using Pandas."
   ]
  },
  {
   "cell_type": "code",
   "execution_count": 1,
   "id": "1048fe41",
   "metadata": {
    "execution": {
     "iopub.execute_input": "2022-10-26T16:55:38.231032Z",
     "iopub.status.busy": "2022-10-26T16:55:38.230013Z",
     "iopub.status.idle": "2022-10-26T16:57:15.295821Z",
     "shell.execute_reply": "2022-10-26T16:57:15.294772Z"
    },
    "papermill": {
     "duration": 97.077522,
     "end_time": "2022-10-26T16:57:15.298804",
     "exception": false,
     "start_time": "2022-10-26T16:55:38.221282",
     "status": "completed"
    },
    "tags": []
   },
   "outputs": [
    {
     "name": "stderr",
     "output_type": "stream",
     "text": [
      "/opt/conda/lib/python3.7/site-packages/IPython/core/interactiveshell.py:3552: DtypeWarning: Columns (18,20) have mixed types.Specify dtype option on import or set low_memory=False.\n",
      "  exec(code_obj, self.user_global_ns, self.user_ns)\n"
     ]
    }
   ],
   "source": [
    "import pandas as pd\n",
    "\n",
    "df = pd.read_csv(\"../input/nypd-data/NYPD_Complaint_Data_Historic.csv\")"
   ]
  },
  {
   "cell_type": "markdown",
   "id": "f7d33460",
   "metadata": {
    "papermill": {
     "duration": 0.010596,
     "end_time": "2022-10-26T16:57:15.316929",
     "exception": false,
     "start_time": "2022-10-26T16:57:15.306333",
     "status": "completed"
    },
    "tags": []
   },
   "source": [
    "## Variables Dictionary :\n",
    "### Expand the cell below to view the variables dictionary."
   ]
  },
  {
   "cell_type": "markdown",
   "id": "7d89c2bc",
   "metadata": {
    "_kg_hide-output": true,
    "papermill": {
     "duration": 0.006662,
     "end_time": "2022-10-26T16:57:15.330768",
     "exception": false,
     "start_time": "2022-10-26T16:57:15.324106",
     "status": "completed"
    },
    "tags": []
   },
   "source": [
    "> **CMPLNT_NUM** - Randomly generated persistent ID for each complaint\n",
    "> \n",
    "> **ADDR_PCT_CD** - The precinct in which the incident occurred\n",
    "> \n",
    "> **BORO** - The name of the borough in which the incident occurred\n",
    "> \n",
    "> **CMPLNT_FR_DT** - Exact date of occurrence for the reported event (or starting date of occurrence, if CMPLNT_TO_DT exists)\n",
    "> \n",
    "> **CMPLNT_FR_TM** - Exact time of occurrence for the reported event (or starting time of occurrence, if CMPLNT_TO_TM exists)\n",
    "> \n",
    "> **CMPLNT_TO_DT** - Ending date of occurrence for the reported event, if exact time of occurrence is unknown\n",
    "> \n",
    "> **CMPLNT_TO_TM** - Ending time of occurrence for the reported event, if exact time of occurrence is unknown\n",
    "> \n",
    "> **CRM_ATPT_CPTD_CD** - Indicator of whether crime was successfully completed or attempted, but failed or was interrupted prematurely\n",
    "> \n",
    "> **HADEVELOPT** - Name of NYCHA housing development of occurrence, if applicable\n",
    "> \n",
    "> **HOUSING_PSA** - Development Level Code\n",
    "> \n",
    "> **JURISDICTION_CODE** - Jurisdiction responsible for incident. Either internal, like Police(0), Transit(1), and Housing(2); or external(3), like Correction, Port Authority, etc.\n",
    "> \n",
    "> **JURIS_DESC** - Description of the jurisdiction code\n",
    "> \n",
    "> **KY_CD** - Three digit offense classification code\n",
    "> \n",
    "> **LAW_CAT_CD** - Level of offense: felony, misdemeanor, violation\n",
    "> \n",
    "> **LOC_OF_OCCUR_DESC** - Specific location of occurrence in or around the premises; inside, opposite of, front of, rear of\n",
    "> \n",
    "> **OFNS_DESC** - Description of offense corresponding with key code\n",
    "> \n",
    "> **PARKS_NM** - Name of NYC park, playground or greenspace of occurrence, if applicable (state parks are not included)\n",
    "> \n",
    "> **PATROL_BORO** - The name of the patrol borough in which the incident occurred\n",
    "> \n",
    "> **PD_CD** - Three digit internal classification code (more granular than Key Code)\n",
    "> \n",
    "> **PD_DESC** - Description of internal classification corresponding with PD code (more granular than Offense Description)\n",
    "> \n",
    "> **PREM_TYP_DESC** - Specific description of premises; grocery store, residence, street, etc.\n",
    "> \n",
    "> **RPT_DT** - Date event was reported to police\n",
    "> \n",
    "> **STATION_NAME** - Transit station name\n",
    "> \n",
    "> **SUSP_AGE_GROUP** - Suspect’s Age Group\n",
    "> \n",
    "> **SUSP_RACE** - Suspect’s Race Description\n",
    "> \n",
    "> **SUSP_SEX** - Suspect’s Sex Description\n",
    "> \n",
    "> **TRANSIT_DISTRICT** - Transit district in which the offense occurred.\n",
    "> \n",
    "> **VIC_AGE_GROUP** - Victim’s Age Group\n",
    "> \n",
    "> **VIC_RACE** - Victim’s Race Description\n",
    "> \n",
    "> **VIC_SEX** - Victim’s Sex Description (D=Business/Organization, E=PSNY/People of the State of New York, F=Female, M=Male)\n",
    "> \n",
    "> **X_COORD_CD** - X-coordinate for New York State Plane Coordinate System, Long Island Zone, NAD 83, units feet (FIPS 3104)\n",
    "> \n",
    "> **Y_COORD_CD** - Y-coordinate for New York State Plane Coordinate System, Long Island Zone, NAD 83, units feet (FIPS 3104)\n",
    "> \n",
    "> **Latitude** - Midblock Latitude coordinate for Global Coordinate System, WGS 1984, decimal degrees (EPSG 4326)\n",
    "> \n",
    "> **Longitude** - Midblock Longitude coordinate for Global Coordinate System, WGS 1984, decimal degrees (EPSG 4326)"
   ]
  },
  {
   "cell_type": "code",
   "execution_count": 2,
   "id": "d2ac93a6",
   "metadata": {
    "execution": {
     "iopub.execute_input": "2022-10-26T16:57:15.348436Z",
     "iopub.status.busy": "2022-10-26T16:57:15.347462Z",
     "iopub.status.idle": "2022-10-26T16:57:15.353318Z",
     "shell.execute_reply": "2022-10-26T16:57:15.352238Z"
    },
    "papermill": {
     "duration": 0.01734,
     "end_time": "2022-10-26T16:57:15.355916",
     "exception": false,
     "start_time": "2022-10-26T16:57:15.338576",
     "status": "completed"
    },
    "tags": []
   },
   "outputs": [
    {
     "name": "stdout",
     "output_type": "stream",
     "text": [
      "Observations:  7825499\n",
      "Variables:  35\n"
     ]
    }
   ],
   "source": [
    "print(\"Observations: \", df.shape[0])\n",
    "\n",
    "print(\"Variables: \", df.shape[1])"
   ]
  },
  {
   "cell_type": "code",
   "execution_count": 3,
   "id": "8b938e1b",
   "metadata": {
    "execution": {
     "iopub.execute_input": "2022-10-26T16:57:15.375657Z",
     "iopub.status.busy": "2022-10-26T16:57:15.374988Z",
     "iopub.status.idle": "2022-10-26T16:57:15.417428Z",
     "shell.execute_reply": "2022-10-26T16:57:15.416273Z"
    },
    "papermill": {
     "duration": 0.056488,
     "end_time": "2022-10-26T16:57:15.420093",
     "exception": false,
     "start_time": "2022-10-26T16:57:15.363605",
     "status": "completed"
    },
    "tags": []
   },
   "outputs": [
    {
     "data": {
      "text/html": [
       "<div>\n",
       "<style scoped>\n",
       "    .dataframe tbody tr th:only-of-type {\n",
       "        vertical-align: middle;\n",
       "    }\n",
       "\n",
       "    .dataframe tbody tr th {\n",
       "        vertical-align: top;\n",
       "    }\n",
       "\n",
       "    .dataframe thead th {\n",
       "        text-align: right;\n",
       "    }\n",
       "</style>\n",
       "<table border=\"1\" class=\"dataframe\">\n",
       "  <thead>\n",
       "    <tr style=\"text-align: right;\">\n",
       "      <th></th>\n",
       "      <th>CMPLNT_NUM</th>\n",
       "      <th>CMPLNT_FR_DT</th>\n",
       "      <th>CMPLNT_FR_TM</th>\n",
       "      <th>CMPLNT_TO_DT</th>\n",
       "      <th>CMPLNT_TO_TM</th>\n",
       "      <th>ADDR_PCT_CD</th>\n",
       "      <th>RPT_DT</th>\n",
       "      <th>KY_CD</th>\n",
       "      <th>OFNS_DESC</th>\n",
       "      <th>PD_CD</th>\n",
       "      <th>...</th>\n",
       "      <th>SUSP_SEX</th>\n",
       "      <th>TRANSIT_DISTRICT</th>\n",
       "      <th>Latitude</th>\n",
       "      <th>Longitude</th>\n",
       "      <th>Lat_Lon</th>\n",
       "      <th>PATROL_BORO</th>\n",
       "      <th>STATION_NAME</th>\n",
       "      <th>VIC_AGE_GROUP</th>\n",
       "      <th>VIC_RACE</th>\n",
       "      <th>VIC_SEX</th>\n",
       "    </tr>\n",
       "  </thead>\n",
       "  <tbody>\n",
       "    <tr>\n",
       "      <th>0</th>\n",
       "      <td>394506329</td>\n",
       "      <td>12/31/2019</td>\n",
       "      <td>17:30:00</td>\n",
       "      <td>NaN</td>\n",
       "      <td>NaN</td>\n",
       "      <td>32.0</td>\n",
       "      <td>12/31/2019</td>\n",
       "      <td>118</td>\n",
       "      <td>DANGEROUS WEAPONS</td>\n",
       "      <td>793.0</td>\n",
       "      <td>...</td>\n",
       "      <td>NaN</td>\n",
       "      <td>NaN</td>\n",
       "      <td>40.820927</td>\n",
       "      <td>-73.943324</td>\n",
       "      <td>(40.82092679700002, -73.94332421899996)</td>\n",
       "      <td>PATROL BORO MAN NORTH</td>\n",
       "      <td>NaN</td>\n",
       "      <td>UNKNOWN</td>\n",
       "      <td>UNKNOWN</td>\n",
       "      <td>E</td>\n",
       "    </tr>\n",
       "    <tr>\n",
       "      <th>1</th>\n",
       "      <td>968873685</td>\n",
       "      <td>12/29/2019</td>\n",
       "      <td>16:31:00</td>\n",
       "      <td>12/29/2019</td>\n",
       "      <td>16:54:00</td>\n",
       "      <td>47.0</td>\n",
       "      <td>12/29/2019</td>\n",
       "      <td>113</td>\n",
       "      <td>FORGERY</td>\n",
       "      <td>729.0</td>\n",
       "      <td>...</td>\n",
       "      <td>NaN</td>\n",
       "      <td>NaN</td>\n",
       "      <td>40.885701</td>\n",
       "      <td>-73.861640</td>\n",
       "      <td>(40.885701406000074, -73.86164032499995)</td>\n",
       "      <td>PATROL BORO BRONX</td>\n",
       "      <td>NaN</td>\n",
       "      <td>UNKNOWN</td>\n",
       "      <td>UNKNOWN</td>\n",
       "      <td>E</td>\n",
       "    </tr>\n",
       "    <tr>\n",
       "      <th>2</th>\n",
       "      <td>509837549</td>\n",
       "      <td>12/15/2019</td>\n",
       "      <td>18:45:00</td>\n",
       "      <td>NaN</td>\n",
       "      <td>NaN</td>\n",
       "      <td>109.0</td>\n",
       "      <td>12/29/2019</td>\n",
       "      <td>578</td>\n",
       "      <td>HARRASSMENT 2</td>\n",
       "      <td>638.0</td>\n",
       "      <td>...</td>\n",
       "      <td>M</td>\n",
       "      <td>NaN</td>\n",
       "      <td>40.742281</td>\n",
       "      <td>-73.819824</td>\n",
       "      <td>(40.74228115600005, -73.81982408)</td>\n",
       "      <td>PATROL BORO QUEENS NORTH</td>\n",
       "      <td>NaN</td>\n",
       "      <td>25-44</td>\n",
       "      <td>WHITE HISPANIC</td>\n",
       "      <td>F</td>\n",
       "    </tr>\n",
       "    <tr>\n",
       "      <th>3</th>\n",
       "      <td>352454313</td>\n",
       "      <td>12/28/2019</td>\n",
       "      <td>01:00:00</td>\n",
       "      <td>NaN</td>\n",
       "      <td>NaN</td>\n",
       "      <td>47.0</td>\n",
       "      <td>12/28/2019</td>\n",
       "      <td>126</td>\n",
       "      <td>MISCELLANEOUS PENAL LAW</td>\n",
       "      <td>117.0</td>\n",
       "      <td>...</td>\n",
       "      <td>M</td>\n",
       "      <td>NaN</td>\n",
       "      <td>40.875311</td>\n",
       "      <td>-73.847545</td>\n",
       "      <td>(40.87531145100007, -73.84754521099995)</td>\n",
       "      <td>PATROL BORO BRONX</td>\n",
       "      <td>NaN</td>\n",
       "      <td>UNKNOWN</td>\n",
       "      <td>UNKNOWN</td>\n",
       "      <td>E</td>\n",
       "    </tr>\n",
       "    <tr>\n",
       "      <th>4</th>\n",
       "      <td>248803469</td>\n",
       "      <td>09/05/2008</td>\n",
       "      <td>21:41:00</td>\n",
       "      <td>NaN</td>\n",
       "      <td>NaN</td>\n",
       "      <td>NaN</td>\n",
       "      <td>09/05/2008</td>\n",
       "      <td>101</td>\n",
       "      <td>MURDER &amp; NON-NEGL. MANSLAUGHTER</td>\n",
       "      <td>NaN</td>\n",
       "      <td>...</td>\n",
       "      <td>NaN</td>\n",
       "      <td>NaN</td>\n",
       "      <td>40.698827</td>\n",
       "      <td>-73.938819</td>\n",
       "      <td>(40.698827283, -73.938819047)</td>\n",
       "      <td>NaN</td>\n",
       "      <td>NaN</td>\n",
       "      <td>25-44</td>\n",
       "      <td>BLACK</td>\n",
       "      <td>M</td>\n",
       "    </tr>\n",
       "  </tbody>\n",
       "</table>\n",
       "<p>5 rows × 35 columns</p>\n",
       "</div>"
      ],
      "text/plain": [
       "   CMPLNT_NUM CMPLNT_FR_DT CMPLNT_FR_TM CMPLNT_TO_DT CMPLNT_TO_TM  \\\n",
       "0   394506329   12/31/2019     17:30:00          NaN          NaN   \n",
       "1   968873685   12/29/2019     16:31:00   12/29/2019     16:54:00   \n",
       "2   509837549   12/15/2019     18:45:00          NaN          NaN   \n",
       "3   352454313   12/28/2019     01:00:00          NaN          NaN   \n",
       "4   248803469   09/05/2008     21:41:00          NaN          NaN   \n",
       "\n",
       "   ADDR_PCT_CD      RPT_DT  KY_CD                        OFNS_DESC  PD_CD  \\\n",
       "0         32.0  12/31/2019    118                DANGEROUS WEAPONS  793.0   \n",
       "1         47.0  12/29/2019    113                          FORGERY  729.0   \n",
       "2        109.0  12/29/2019    578                    HARRASSMENT 2  638.0   \n",
       "3         47.0  12/28/2019    126          MISCELLANEOUS PENAL LAW  117.0   \n",
       "4          NaN  09/05/2008    101  MURDER & NON-NEGL. MANSLAUGHTER    NaN   \n",
       "\n",
       "   ... SUSP_SEX TRANSIT_DISTRICT   Latitude  Longitude  \\\n",
       "0  ...      NaN              NaN  40.820927 -73.943324   \n",
       "1  ...      NaN              NaN  40.885701 -73.861640   \n",
       "2  ...        M              NaN  40.742281 -73.819824   \n",
       "3  ...        M              NaN  40.875311 -73.847545   \n",
       "4  ...      NaN              NaN  40.698827 -73.938819   \n",
       "\n",
       "                                    Lat_Lon               PATROL_BORO  \\\n",
       "0   (40.82092679700002, -73.94332421899996)     PATROL BORO MAN NORTH   \n",
       "1  (40.885701406000074, -73.86164032499995)         PATROL BORO BRONX   \n",
       "2         (40.74228115600005, -73.81982408)  PATROL BORO QUEENS NORTH   \n",
       "3   (40.87531145100007, -73.84754521099995)         PATROL BORO BRONX   \n",
       "4             (40.698827283, -73.938819047)                       NaN   \n",
       "\n",
       "  STATION_NAME  VIC_AGE_GROUP        VIC_RACE VIC_SEX  \n",
       "0          NaN        UNKNOWN         UNKNOWN       E  \n",
       "1          NaN        UNKNOWN         UNKNOWN       E  \n",
       "2          NaN          25-44  WHITE HISPANIC       F  \n",
       "3          NaN        UNKNOWN         UNKNOWN       E  \n",
       "4          NaN          25-44           BLACK       M  \n",
       "\n",
       "[5 rows x 35 columns]"
      ]
     },
     "execution_count": 3,
     "metadata": {},
     "output_type": "execute_result"
    }
   ],
   "source": [
    "df.head()"
   ]
  },
  {
   "cell_type": "markdown",
   "id": "c8c15e50",
   "metadata": {
    "papermill": {
     "duration": 0.007065,
     "end_time": "2022-10-26T16:57:15.434602",
     "exception": false,
     "start_time": "2022-10-26T16:57:15.427537",
     "status": "completed"
    },
    "tags": []
   },
   "source": [
    "The dataset contains over 6 million crime reports from 2006 to 2022, with a total of 35 variables each.\n",
    "\n",
    "After looking at the head of the dataset we were already able to notice some NaN values, therefore we need to examine the missing values further before continuing with the analysis. \n",
    "\n",
    "- The `isna()` function will show us the percentage of non-existent values for each variable."
   ]
  },
  {
   "cell_type": "code",
   "execution_count": 4,
   "id": "9e1e6b42",
   "metadata": {
    "execution": {
     "iopub.execute_input": "2022-10-26T16:57:15.451062Z",
     "iopub.status.busy": "2022-10-26T16:57:15.450664Z",
     "iopub.status.idle": "2022-10-26T16:57:23.497531Z",
     "shell.execute_reply": "2022-10-26T16:57:23.496380Z"
    },
    "papermill": {
     "duration": 8.058362,
     "end_time": "2022-10-26T16:57:23.500254",
     "exception": false,
     "start_time": "2022-10-26T16:57:15.441892",
     "status": "completed"
    },
    "tags": []
   },
   "outputs": [
    {
     "data": {
      "text/plain": [
       "PARKS_NM             99.605712\n",
       "STATION_NAME         97.795987\n",
       "TRANSIT_DISTRICT     97.795987\n",
       "HADEVELOPT           95.548028\n",
       "HOUSING_PSA          92.341792\n",
       "SUSP_AGE_GROUP       62.403292\n",
       "SUSP_SEX             46.618650\n",
       "SUSP_RACE            44.915065\n",
       "CMPLNT_TO_DT         22.289876\n",
       "CMPLNT_TO_TM         22.228346\n",
       "VIC_AGE_GROUP        20.937259\n",
       "LOC_OF_OCCUR_DESC    20.676803\n",
       "PREM_TYP_DESC         0.536899\n",
       "OFNS_DESC             0.240649\n",
       "Y_COORD_CD            0.221571\n",
       "X_COORD_CD            0.221571\n",
       "Lat_Lon               0.221571\n",
       "Latitude              0.221571\n",
       "Longitude             0.221571\n",
       "BORO_NM               0.159479\n",
       "PATROL_BORO           0.092237\n",
       "PD_DESC               0.086397\n",
       "PD_CD                 0.086397\n",
       "JURISDICTION_CODE     0.086397\n",
       "ADDR_PCT_CD           0.027679\n",
       "CMPLNT_FR_DT          0.008370\n",
       "VIC_RACE              0.004984\n",
       "VIC_SEX               0.003936\n",
       "CRM_ATPT_CPTD_CD      0.002147\n",
       "CMPLNT_FR_TM          0.000613\n",
       "JURIS_DESC            0.000000\n",
       "LAW_CAT_CD            0.000000\n",
       "KY_CD                 0.000000\n",
       "RPT_DT                0.000000\n",
       "CMPLNT_NUM            0.000000\n",
       "dtype: float64"
      ]
     },
     "execution_count": 4,
     "metadata": {},
     "output_type": "execute_result"
    }
   ],
   "source": [
    "#See the percentege of missing values in each variable\n",
    "(df.isna().sum()/df.shape[0]*100).sort_values(ascending=False)"
   ]
  },
  {
   "cell_type": "markdown",
   "id": "8fca338d",
   "metadata": {
    "papermill": {
     "duration": 0.007384,
     "end_time": "2022-10-26T16:57:23.515407",
     "exception": false,
     "start_time": "2022-10-26T16:57:23.508023",
     "status": "completed"
    },
    "tags": []
   },
   "source": [
    "### Data Cleaning\n",
    "\n",
    "#### Dealing with NaN data\n",
    "\n",
    "Since some of the columns are pretty important for the analysis, I dropped entire rows which miss any crucial value. For that, I used the `dropNA()` function in Pandas.\n",
    "\n",
    "The columns I didn't want to drop entire rows, I opted to fill them with the 'UNKNOWN' value (These include variables that contain information about the victims of the crime, such as their age group, race, and gender). I used the `fillNA()` function for that.\n",
    "\n",
    "It is worth mention that some specific variables have a lot of NaN values, and they don't necessarily have any use in this analysis (like PARKS_NM means the park or public place nearby where crime happened, and columns with information about the suspect are also not going to be important, considering they have a lot of missing data) so I would drop those columns entirely with the `drop()` function."
   ]
  },
  {
   "cell_type": "code",
   "execution_count": 5,
   "id": "a0f56726",
   "metadata": {
    "execution": {
     "iopub.execute_input": "2022-10-26T16:57:23.533279Z",
     "iopub.status.busy": "2022-10-26T16:57:23.532085Z",
     "iopub.status.idle": "2022-10-26T16:57:27.115552Z",
     "shell.execute_reply": "2022-10-26T16:57:27.114467Z"
    },
    "papermill": {
     "duration": 3.595499,
     "end_time": "2022-10-26T16:57:27.118498",
     "exception": false,
     "start_time": "2022-10-26T16:57:23.522999",
     "status": "completed"
    },
    "tags": []
   },
   "outputs": [],
   "source": [
    "df[\"SUSP_RACE\"] = df[\"SUSP_RACE\"].astype(\"category\")\n",
    "df[\"SUSP_RACE\"] = df[\"SUSP_RACE\"].cat.remove_categories(\"UNKNOWN\")"
   ]
  },
  {
   "cell_type": "code",
   "execution_count": 6,
   "id": "f29df8fa",
   "metadata": {
    "execution": {
     "iopub.execute_input": "2022-10-26T16:57:27.136980Z",
     "iopub.status.busy": "2022-10-26T16:57:27.136016Z",
     "iopub.status.idle": "2022-10-26T16:57:27.445940Z",
     "shell.execute_reply": "2022-10-26T16:57:27.444745Z"
    },
    "papermill": {
     "duration": 0.321967,
     "end_time": "2022-10-26T16:57:27.448543",
     "exception": false,
     "start_time": "2022-10-26T16:57:27.126576",
     "status": "completed"
    },
    "tags": []
   },
   "outputs": [
    {
     "data": {
      "text/plain": [
       "<AxesSubplot:ylabel='SUSP_RACE'>"
      ]
     },
     "execution_count": 6,
     "metadata": {},
     "output_type": "execute_result"
    },
    {
     "data": {
      "image/png": "[encoded data removed]",
      "text/plain": [
       "<Figure size 720x1080 with 1 Axes>"
      ]
     },
     "metadata": {},
     "output_type": "display_data"
    }
   ],
   "source": [
    "df['SUSP_RACE'].value_counts().plot(kind='pie',figsize=(10,15))"
   ]
  },
  {
   "cell_type": "code",
   "execution_count": 7,
   "id": "6d7e67b2",
   "metadata": {
    "execution": {
     "iopub.execute_input": "2022-10-26T16:57:27.467545Z",
     "iopub.status.busy": "2022-10-26T16:57:27.467106Z",
     "iopub.status.idle": "2022-10-26T16:57:28.167427Z",
     "shell.execute_reply": "2022-10-26T16:57:28.166235Z"
    },
    "papermill": {
     "duration": 0.713,
     "end_time": "2022-10-26T16:57:28.170071",
     "exception": false,
     "start_time": "2022-10-26T16:57:27.457071",
     "status": "completed"
    },
    "tags": []
   },
   "outputs": [
    {
     "data": {
      "text/plain": [
       "<AxesSubplot:>"
      ]
     },
     "execution_count": 7,
     "metadata": {},
     "output_type": "execute_result"
    },
    {
     "data": {
      "image/png": "[encoded data removed]",
      "text/plain": [
       "<Figure size 432x288 with 1 Axes>"
      ]
     },
     "metadata": {
      "needs_background": "light"
     },
     "output_type": "display_data"
    }
   ],
   "source": [
    "df['VIC_RACE'].value_counts().plot(kind='bar')"
   ]
  },
  {
   "cell_type": "code",
   "execution_count": 8,
   "id": "b3a064d5",
   "metadata": {
    "execution": {
     "iopub.execute_input": "2022-10-26T16:57:28.191541Z",
     "iopub.status.busy": "2022-10-26T16:57:28.189500Z",
     "iopub.status.idle": "2022-10-26T16:57:44.215505Z",
     "shell.execute_reply": "2022-10-26T16:57:44.213697Z"
    },
    "papermill": {
     "duration": 16.039089,
     "end_time": "2022-10-26T16:57:44.218359",
     "exception": false,
     "start_time": "2022-10-26T16:57:28.179270",
     "status": "completed"
    },
    "tags": []
   },
   "outputs": [
    {
     "name": "stdout",
     "output_type": "stream",
     "text": [
      "Clean dataset: \n",
      "Observations:  7776644\n",
      "Variables:  19\n"
     ]
    },
    {
     "data": {
      "text/html": [
       "<div>\n",
       "<style scoped>\n",
       "    .dataframe tbody tr th:only-of-type {\n",
       "        vertical-align: middle;\n",
       "    }\n",
       "\n",
       "    .dataframe tbody tr th {\n",
       "        vertical-align: top;\n",
       "    }\n",
       "\n",
       "    .dataframe thead th {\n",
       "        text-align: right;\n",
       "    }\n",
       "</style>\n",
       "<table border=\"1\" class=\"dataframe\">\n",
       "  <thead>\n",
       "    <tr style=\"text-align: right;\">\n",
       "      <th></th>\n",
       "      <th>CMPLNT_NUM</th>\n",
       "      <th>CMPLNT_FR_DT</th>\n",
       "      <th>CMPLNT_FR_TM</th>\n",
       "      <th>RPT_DT</th>\n",
       "      <th>KY_CD</th>\n",
       "      <th>OFNS_DESC</th>\n",
       "      <th>CRM_ATPT_CPTD_CD</th>\n",
       "      <th>LAW_CAT_CD</th>\n",
       "      <th>BORO_NM</th>\n",
       "      <th>LOC_OF_OCCUR_DESC</th>\n",
       "      <th>JURIS_DESC</th>\n",
       "      <th>X_COORD_CD</th>\n",
       "      <th>Y_COORD_CD</th>\n",
       "      <th>Latitude</th>\n",
       "      <th>Longitude</th>\n",
       "      <th>Lat_Lon</th>\n",
       "      <th>VIC_AGE_GROUP</th>\n",
       "      <th>VIC_RACE</th>\n",
       "      <th>VIC_SEX</th>\n",
       "    </tr>\n",
       "  </thead>\n",
       "  <tbody>\n",
       "    <tr>\n",
       "      <th>0</th>\n",
       "      <td>394506329</td>\n",
       "      <td>12/31/2019</td>\n",
       "      <td>17:30:00</td>\n",
       "      <td>12/31/2019</td>\n",
       "      <td>118</td>\n",
       "      <td>DANGEROUS WEAPONS</td>\n",
       "      <td>COMPLETED</td>\n",
       "      <td>FELONY</td>\n",
       "      <td>MANHATTAN</td>\n",
       "      <td>UNKNOWN</td>\n",
       "      <td>N.Y. POLICE DEPT</td>\n",
       "      <td>999937.0</td>\n",
       "      <td>238365.0</td>\n",
       "      <td>40.820927</td>\n",
       "      <td>-73.943324</td>\n",
       "      <td>(40.82092679700002, -73.94332421899996)</td>\n",
       "      <td>UNKNOWN</td>\n",
       "      <td>UNKNOWN</td>\n",
       "      <td>E</td>\n",
       "    </tr>\n",
       "    <tr>\n",
       "      <th>1</th>\n",
       "      <td>968873685</td>\n",
       "      <td>12/29/2019</td>\n",
       "      <td>16:31:00</td>\n",
       "      <td>12/29/2019</td>\n",
       "      <td>113</td>\n",
       "      <td>FORGERY</td>\n",
       "      <td>COMPLETED</td>\n",
       "      <td>FELONY</td>\n",
       "      <td>BRONX</td>\n",
       "      <td>UNKNOWN</td>\n",
       "      <td>N.Y. POLICE DEPT</td>\n",
       "      <td>1022508.0</td>\n",
       "      <td>261990.0</td>\n",
       "      <td>40.885701</td>\n",
       "      <td>-73.861640</td>\n",
       "      <td>(40.885701406000074, -73.86164032499995)</td>\n",
       "      <td>UNKNOWN</td>\n",
       "      <td>UNKNOWN</td>\n",
       "      <td>E</td>\n",
       "    </tr>\n",
       "    <tr>\n",
       "      <th>2</th>\n",
       "      <td>509837549</td>\n",
       "      <td>12/15/2019</td>\n",
       "      <td>18:45:00</td>\n",
       "      <td>12/29/2019</td>\n",
       "      <td>578</td>\n",
       "      <td>HARRASSMENT 2</td>\n",
       "      <td>COMPLETED</td>\n",
       "      <td>VIOLATION</td>\n",
       "      <td>QUEENS</td>\n",
       "      <td>FRONT OF</td>\n",
       "      <td>N.Y. POLICE DEPT</td>\n",
       "      <td>1034178.0</td>\n",
       "      <td>209758.0</td>\n",
       "      <td>40.742281</td>\n",
       "      <td>-73.819824</td>\n",
       "      <td>(40.74228115600005, -73.81982408)</td>\n",
       "      <td>25-44</td>\n",
       "      <td>WHITE HISPANIC</td>\n",
       "      <td>F</td>\n",
       "    </tr>\n",
       "    <tr>\n",
       "      <th>3</th>\n",
       "      <td>352454313</td>\n",
       "      <td>12/28/2019</td>\n",
       "      <td>01:00:00</td>\n",
       "      <td>12/28/2019</td>\n",
       "      <td>126</td>\n",
       "      <td>MISCELLANEOUS PENAL LAW</td>\n",
       "      <td>COMPLETED</td>\n",
       "      <td>FELONY</td>\n",
       "      <td>BRONX</td>\n",
       "      <td>REAR OF</td>\n",
       "      <td>N.Y. POLICE DEPT</td>\n",
       "      <td>1026412.0</td>\n",
       "      <td>258211.0</td>\n",
       "      <td>40.875311</td>\n",
       "      <td>-73.847545</td>\n",
       "      <td>(40.87531145100007, -73.84754521099995)</td>\n",
       "      <td>UNKNOWN</td>\n",
       "      <td>UNKNOWN</td>\n",
       "      <td>E</td>\n",
       "    </tr>\n",
       "    <tr>\n",
       "      <th>5</th>\n",
       "      <td>293718737</td>\n",
       "      <td>12/27/2019</td>\n",
       "      <td>22:00:00</td>\n",
       "      <td>12/27/2019</td>\n",
       "      <td>107</td>\n",
       "      <td>BURGLARY</td>\n",
       "      <td>ATTEMPTED</td>\n",
       "      <td>FELONY</td>\n",
       "      <td>MANHATTAN</td>\n",
       "      <td>FRONT OF</td>\n",
       "      <td>N.Y. POLICE DEPT</td>\n",
       "      <td>989665.0</td>\n",
       "      <td>201866.0</td>\n",
       "      <td>40.720759</td>\n",
       "      <td>-73.980466</td>\n",
       "      <td>(40.72075882100006, -73.98046642299995)</td>\n",
       "      <td>UNKNOWN</td>\n",
       "      <td>UNKNOWN</td>\n",
       "      <td>M</td>\n",
       "    </tr>\n",
       "  </tbody>\n",
       "</table>\n",
       "</div>"
      ],
      "text/plain": [
       "   CMPLNT_NUM CMPLNT_FR_DT CMPLNT_FR_TM      RPT_DT  KY_CD  \\\n",
       "0   394506329   12/31/2019     17:30:00  12/31/2019    118   \n",
       "1   968873685   12/29/2019     16:31:00  12/29/2019    113   \n",
       "2   509837549   12/15/2019     18:45:00  12/29/2019    578   \n",
       "3   352454313   12/28/2019     01:00:00  12/28/2019    126   \n",
       "5   293718737   12/27/2019     22:00:00  12/27/2019    107   \n",
       "\n",
       "                 OFNS_DESC CRM_ATPT_CPTD_CD LAW_CAT_CD    BORO_NM  \\\n",
       "0        DANGEROUS WEAPONS        COMPLETED     FELONY  MANHATTAN   \n",
       "1                  FORGERY        COMPLETED     FELONY      BRONX   \n",
       "2            HARRASSMENT 2        COMPLETED  VIOLATION     QUEENS   \n",
       "3  MISCELLANEOUS PENAL LAW        COMPLETED     FELONY      BRONX   \n",
       "5                 BURGLARY        ATTEMPTED     FELONY  MANHATTAN   \n",
       "\n",
       "  LOC_OF_OCCUR_DESC        JURIS_DESC  X_COORD_CD  Y_COORD_CD   Latitude  \\\n",
       "0           UNKNOWN  N.Y. POLICE DEPT    999937.0    238365.0  40.820927   \n",
       "1           UNKNOWN  N.Y. POLICE DEPT   1022508.0    261990.0  40.885701   \n",
       "2          FRONT OF  N.Y. POLICE DEPT   1034178.0    209758.0  40.742281   \n",
       "3           REAR OF  N.Y. POLICE DEPT   1026412.0    258211.0  40.875311   \n",
       "5          FRONT OF  N.Y. POLICE DEPT    989665.0    201866.0  40.720759   \n",
       "\n",
       "   Longitude                                   Lat_Lon VIC_AGE_GROUP  \\\n",
       "0 -73.943324   (40.82092679700002, -73.94332421899996)       UNKNOWN   \n",
       "1 -73.861640  (40.885701406000074, -73.86164032499995)       UNKNOWN   \n",
       "2 -73.819824         (40.74228115600005, -73.81982408)         25-44   \n",
       "3 -73.847545   (40.87531145100007, -73.84754521099995)       UNKNOWN   \n",
       "5 -73.980466   (40.72075882100006, -73.98046642299995)       UNKNOWN   \n",
       "\n",
       "         VIC_RACE VIC_SEX  \n",
       "0         UNKNOWN       E  \n",
       "1         UNKNOWN       E  \n",
       "2  WHITE HISPANIC       F  \n",
       "3         UNKNOWN       E  \n",
       "5         UNKNOWN       M  "
      ]
     },
     "execution_count": 8,
     "metadata": {},
     "output_type": "execute_result"
    }
   ],
   "source": [
    "#dropping rows with NaN values\n",
    "df.dropna(subset=['Y_COORD_CD','X_COORD_CD','Latitude','Longitude','CRM_ATPT_CPTD_CD','CMPLNT_FR_TM','Lat_Lon','CMPLNT_FR_DT','BORO_NM','OFNS_DESC'], inplace=True)\n",
    "\n",
    "#dropping columns that are not significant for future data exploration\n",
    "df.drop(['PARKS_NM','STATION_NAME','TRANSIT_DISTRICT','HADEVELOPT','HOUSING_PSA'],axis='columns', inplace=True)\n",
    "\n",
    "df.drop(['PREM_TYP_DESC','SUSP_AGE_GROUP','SUSP_SEX','SUSP_RACE','JURISDICTION_CODE'], axis='columns', inplace=True)\n",
    "\n",
    "df.drop(['ADDR_PCT_CD','PD_CD','PD_DESC','PATROL_BORO','CMPLNT_TO_DT','CMPLNT_TO_TM'], axis='columns', inplace=True)\n",
    "\n",
    "#replacing all NaN values in 'LOC_OF_OCCUR_DESC' with UNKNOWN\n",
    "df.fillna({'LOC_OF_OCCUR_DESC':'UNKNOWN'}, inplace=True)\n",
    "\n",
    "#replacing all NaN values in 'VIC_RACE' with UNKNOWN\n",
    "df.fillna({'VIC_RACE':'UNKNOWN'}, inplace=True)\n",
    "\n",
    "#replacing all NaN values in 'VIC_AGE_GROUP' with UNKNOWN\n",
    "df.fillna({'VIC_AGE_GROUP':'UNKNOWN'}, inplace=True)\n",
    "\n",
    "#replacing all NaN values in 'VIC_SEX' with UNKNOWN\n",
    "df.fillna({'VIC_SEX':'UNKNOWN'}, inplace=True)\n",
    "\n",
    "print('Clean dataset: ')\n",
    "print(\"Observations: \", df.shape[0])\n",
    "print(\"Variables: \", df.shape[1])\n",
    "\n",
    "#examing the changes\n",
    "df.head(5)"
   ]
  },
  {
   "cell_type": "code",
   "execution_count": 9,
   "id": "8b36b6c3",
   "metadata": {
    "execution": {
     "iopub.execute_input": "2022-10-26T16:57:44.238999Z",
     "iopub.status.busy": "2022-10-26T16:57:44.238580Z",
     "iopub.status.idle": "2022-10-26T16:57:44.960741Z",
     "shell.execute_reply": "2022-10-26T16:57:44.959806Z"
    },
    "papermill": {
     "duration": 0.736038,
     "end_time": "2022-10-26T16:57:44.963975",
     "exception": false,
     "start_time": "2022-10-26T16:57:44.227937",
     "status": "completed"
    },
    "tags": []
   },
   "outputs": [
    {
     "data": {
      "text/plain": [
       "array(['DANGEROUS WEAPONS', 'FORGERY', 'HARRASSMENT 2',\n",
       "       'MISCELLANEOUS PENAL LAW', 'BURGLARY', 'DANGEROUS DRUGS',\n",
       "       'PETIT LARCENY', 'OFF. AGNST PUB ORD SENSBLTY &', 'GRAND LARCENY',\n",
       "       'FELONY ASSAULT', 'ASSAULT 3 & RELATED OFFENSES', 'ARSON', 'RAPE',\n",
       "       'SEX CRIMES', 'GRAND LARCENY OF MOTOR VEHICLE', 'ROBBERY',\n",
       "       'CRIMINAL MISCHIEF & RELATED OF', 'THEFT-FRAUD',\n",
       "       'VEHICLE AND TRAFFIC LAWS', 'CRIMINAL TRESPASS',\n",
       "       'OFFENSES INVOLVING FRAUD', 'FRAUDS',\n",
       "       'OFFENSES AGAINST PUBLIC ADMINI', 'OFFENSES AGAINST THE PERSON',\n",
       "       'ADMINISTRATIVE CODE', 'INTOXICATED & IMPAIRED DRIVING',\n",
       "       'ESCAPE 3', 'NYS LAWS-UNCLASSIFIED FELONY',\n",
       "       'POSSESSION OF STOLEN PROPERTY', 'THEFT OF SERVICES',\n",
       "       'KIDNAPPING & RELATED OFFENSES', 'OTHER OFFENSES RELATED TO THEF',\n",
       "       'UNAUTHORIZED USE OF A VEHICLE', \"BURGLAR'S TOOLS\",\n",
       "       'ENDAN WELFARE INCOMP', 'FRAUDULENT ACCOSTING',\n",
       "       'AGRICULTURE & MRKTS LAW-UNCLASSIFIED',\n",
       "       'OTHER STATE LAWS (NON PENAL LA', 'OFFENSES AGAINST PUBLIC SAFETY',\n",
       "       'GAMBLING', 'PETIT LARCENY OF MOTOR VEHICLE',\n",
       "       'ALCOHOLIC BEVERAGE CONTROL LAW', 'OFFENSES RELATED TO CHILDREN',\n",
       "       'ANTICIPATORY OFFENSES', 'LOITERING/GAMBLING (CARDS, DIC',\n",
       "       'FELONY SEX CRIMES', 'HOMICIDE-NEGLIGENT,UNCLASSIFIE',\n",
       "       'PROSTITUTION & RELATED OFFENSES', 'JOSTLING',\n",
       "       'CHILD ABANDONMENT/NON SUPPORT', 'OTHER STATE LAWS', 'KIDNAPPING',\n",
       "       'NYS LAWS-UNCLASSIFIED VIOLATION', 'DISORDERLY CONDUCT',\n",
       "       'DISRUPTION OF A RELIGIOUS SERV', 'OFFENSES AGAINST MARRIAGE UNCL',\n",
       "       'HOMICIDE-NEGLIGENT-VEHICLE', 'INTOXICATED/IMPAIRED DRIVING',\n",
       "       'KIDNAPPING AND RELATED OFFENSES',\n",
       "       'UNLAWFUL POSS. WEAP. ON SCHOOL', 'OTHER TRAFFIC INFRACTION',\n",
       "       'OTHER STATE LAWS (NON PENAL LAW)', 'NEW YORK CITY HEALTH CODE',\n",
       "       'FORTUNE TELLING', 'LOITERING', 'ABORTION',\n",
       "       'UNDER THE INFLUENCE OF DRUGS', 'ADMINISTRATIVE CODES',\n",
       "       'LOITERING FOR DRUG PURPOSES', 'LOITERING/DEVIATE SEX'],\n",
       "      dtype=object)"
      ]
     },
     "execution_count": 9,
     "metadata": {},
     "output_type": "execute_result"
    }
   ],
   "source": [
    "df.OFNS_DESC.unique()"
   ]
  },
  {
   "cell_type": "code",
   "execution_count": 10,
   "id": "ce858d64",
   "metadata": {
    "execution": {
     "iopub.execute_input": "2022-10-26T16:57:44.994845Z",
     "iopub.status.busy": "2022-10-26T16:57:44.994027Z",
     "iopub.status.idle": "2022-10-26T16:58:58.728678Z",
     "shell.execute_reply": "2022-10-26T16:58:58.727433Z"
    },
    "papermill": {
     "duration": 73.753615,
     "end_time": "2022-10-26T16:58:58.731947",
     "exception": false,
     "start_time": "2022-10-26T16:57:44.978332",
     "status": "completed"
    },
    "tags": []
   },
   "outputs": [],
   "source": [
    "df_clean = df.replace({'HARRASSMENT 2': 'HARASSMENT', \n",
    "                'ESCAPE 3': 'ESCAPE',\n",
    "                'ASSAULT 3 & RELATED OFFENSES': 'ASSAULT & RELATED OFFENSES',\n",
    "                'CRIMINAL MISCHIEF & RELATED OF': 'CRIMINAL MISCHIEF',\n",
    "                'OFF. AGNST PUB ORD SENSBLTY &': 'OFFENSES AGAINST PUBLIC ORDER/ADMINISTRATION',\n",
    "                'OTHER STATE LAWS (NON PENAL LA': 'OTHER STATE LAWS (NON PENAL LAW)',\n",
    "                'ENDAN WELFARE INCOMP': 'ENDANGERING WELFARE OF INCOMPETENT',\n",
    "                'AGRICULTURE & MRKTS LAW-UNCLASSIFIED': 'AGRICULTURE & MARKETS LAW',\n",
    "                'DISRUPTION OF A RELIGIOUS SERV': 'DISRUPTION OF A RELIGIOUS SERVICE',\n",
    "                'LOITERING/GAMBLING (CARDS, DIC': 'GAMBLING',\n",
    "                'OFFENSES AGAINST MARRIAGE UNCL': 'OFFENSES AGAINST MARRIAGE',\n",
    "                'HOMICIDE-NEGLIGENT,UNCLASSIFIE': 'HOMICIDE-NEGLIGENT',\n",
    "                                      'E': 'UNKNOWN',\n",
    "                                      'D': 'BUSINESS/ORGANIZATION',\n",
    "                                      'F': 'FEMALE',\n",
    "                                      'M': 'MALE'}).copy()"
   ]
  },
  {
   "cell_type": "markdown",
   "id": "9b7c1cdb",
   "metadata": {
    "papermill": {
     "duration": 0.009136,
     "end_time": "2022-10-26T16:58:58.751649",
     "exception": false,
     "start_time": "2022-10-26T16:58:58.742513",
     "status": "completed"
    },
    "tags": []
   },
   "source": [
    "## EDA :"
   ]
  },
  {
   "cell_type": "code",
   "execution_count": 11,
   "id": "365f7e8f",
   "metadata": {
    "execution": {
     "iopub.execute_input": "2022-10-26T16:58:58.772159Z",
     "iopub.status.busy": "2022-10-26T16:58:58.771719Z",
     "iopub.status.idle": "2022-10-26T16:58:59.272010Z",
     "shell.execute_reply": "2022-10-26T16:58:59.270833Z"
    },
    "papermill": {
     "duration": 0.513484,
     "end_time": "2022-10-26T16:58:59.274419",
     "exception": false,
     "start_time": "2022-10-26T16:58:58.760935",
     "status": "completed"
    },
    "tags": []
   },
   "outputs": [
    {
     "data": {
      "text/plain": [
       "PETIT LARCENY                                   1327051\n",
       "HARASSMENT                                      1017337\n",
       "ASSAULT & RELATED OFFENSES                       820351\n",
       "CRIMINAL MISCHIEF                                787400\n",
       "GRAND LARCENY                                    677919\n",
       "DANGEROUS DRUGS                                  433456\n",
       "OFFENSES AGAINST PUBLIC ORDER/ADMINISTRATION     399154\n",
       "FELONY ASSAULT                                   308136\n",
       "ROBBERY                                          279488\n",
       "BURGLARY                                         266154\n",
       "Name: OFNS_DESC, dtype: int64"
      ]
     },
     "execution_count": 11,
     "metadata": {},
     "output_type": "execute_result"
    }
   ],
   "source": [
    "#types of crimes (top 10)\n",
    "df_clean.OFNS_DESC.value_counts().iloc[:10]"
   ]
  },
  {
   "cell_type": "code",
   "execution_count": 12,
   "id": "0bc305b0",
   "metadata": {
    "execution": {
     "iopub.execute_input": "2022-10-26T16:58:59.295295Z",
     "iopub.status.busy": "2022-10-26T16:58:59.294869Z",
     "iopub.status.idle": "2022-10-26T16:58:59.995988Z",
     "shell.execute_reply": "2022-10-26T16:58:59.994612Z"
    },
    "papermill": {
     "duration": 0.714646,
     "end_time": "2022-10-26T16:58:59.998549",
     "exception": false,
     "start_time": "2022-10-26T16:58:59.283903",
     "status": "completed"
    },
    "tags": []
   },
   "outputs": [
    {
     "data": {
      "text/plain": [
       "<AxesSubplot:title={'center':'Types of Crimes'}>"
      ]
     },
     "execution_count": 12,
     "metadata": {},
     "output_type": "execute_result"
    },
    {
     "data": {
      "image/png": "[encoded data removed]",
      "text/plain": [
       "<Figure size 432x288 with 1 Axes>"
      ]
     },
     "metadata": {
      "needs_background": "light"
     },
     "output_type": "display_data"
    }
   ],
   "source": [
    "df_clean.OFNS_DESC.value_counts().iloc[:10].sort_values().plot(kind=\"barh\", title = \"Types of Crimes\")"
   ]
  },
  {
   "cell_type": "markdown",
   "id": "53d0eb82",
   "metadata": {
    "papermill": {
     "duration": 0.010611,
     "end_time": "2022-10-26T16:59:00.019312",
     "exception": false,
     "start_time": "2022-10-26T16:59:00.008701",
     "status": "completed"
    },
    "tags": []
   },
   "source": [
    "There are three levels of crime in New York State: Violation, Misdemeanor and Felony.\n",
    "\n",
    "From the graph below, I can tell that Misdemeanor, an offense of which a sentence in excess of 15 days but not greater than one year may be imposed, is the most popular level of crime. The second popular one is Felony, the most serious of offenses, and the third one is Violation, a lesser offense for which a sentence only be no more than 15 days."
   ]
  },
  {
   "cell_type": "code",
   "execution_count": 13,
   "id": "a5ea3aab",
   "metadata": {
    "execution": {
     "iopub.execute_input": "2022-10-26T16:59:00.042009Z",
     "iopub.status.busy": "2022-10-26T16:59:00.041552Z",
     "iopub.status.idle": "2022-10-26T16:59:00.685589Z",
     "shell.execute_reply": "2022-10-26T16:59:00.683914Z"
    },
    "papermill": {
     "duration": 0.660401,
     "end_time": "2022-10-26T16:59:00.689949",
     "exception": false,
     "start_time": "2022-10-26T16:59:00.029548",
     "status": "completed"
    },
    "tags": []
   },
   "outputs": [
    {
     "data": {
      "text/plain": [
       "array([<AxesSubplot:ylabel='LAW_CAT_CD'>], dtype=object)"
      ]
     },
     "execution_count": 13,
     "metadata": {},
     "output_type": "execute_result"
    },
    {
     "data": {
      "image/png": "[encoded data removed]",
      "text/plain": [
       "<Figure size 720x360 with 1 Axes>"
      ]
     },
     "metadata": {},
     "output_type": "display_data"
    }
   ],
   "source": [
    "df_clean['LAW_CAT_CD'].value_counts().sort_values().plot(kind='pie', subplots=True, shadow = True,startangle=40,\n",
    "figsize=(10,5), autopct='%1.1f%%', title = 'Level of Offense')"
   ]
  },
  {
   "cell_type": "markdown",
   "id": "1798f355",
   "metadata": {
    "papermill": {
     "duration": 0.025667,
     "end_time": "2022-10-26T16:59:00.741899",
     "exception": false,
     "start_time": "2022-10-26T16:59:00.716232",
     "status": "completed"
    },
    "tags": []
   },
   "source": [
    "### 2. Distribution of crimes over the years, months and days"
   ]
  },
  {
   "cell_type": "code",
   "execution_count": 14,
   "id": "5b0676f7",
   "metadata": {
    "execution": {
     "iopub.execute_input": "2022-10-26T16:59:00.784891Z",
     "iopub.status.busy": "2022-10-26T16:59:00.783687Z",
     "iopub.status.idle": "2022-10-26T16:59:14.411903Z",
     "shell.execute_reply": "2022-10-26T16:59:14.410942Z"
    },
    "papermill": {
     "duration": 13.645935,
     "end_time": "2022-10-26T16:59:14.414368",
     "exception": false,
     "start_time": "2022-10-26T16:59:00.768433",
     "status": "completed"
    },
    "tags": []
   },
   "outputs": [
    {
     "data": {
      "text/plain": [
       "<AxesSubplot:title={'center':'Total Crime Events by Year'}>"
      ]
     },
     "execution_count": 14,
     "metadata": {},
     "output_type": "execute_result"
    },
    {
     "data": {
      "image/png": "[encoded data removed]",
      "text/plain": [
       "<Figure size 432x288 with 1 Axes>"
      ]
     },
     "metadata": {
      "needs_background": "light"
     },
     "output_type": "display_data"
    }
   ],
   "source": [
    "df_clean['year'] = df_clean['RPT_DT'].str.findall(r'(\\d{4})').apply(lambda x: x[0])\n",
    "df_clean['year'].value_counts().plot(kind=\"line\", title = \"Total Crime Events by Year\")"
   ]
  },
  {
   "cell_type": "code",
   "execution_count": 15,
   "id": "4edff0df",
   "metadata": {
    "execution": {
     "iopub.execute_input": "2022-10-26T16:59:14.439041Z",
     "iopub.status.busy": "2022-10-26T16:59:14.438421Z",
     "iopub.status.idle": "2022-10-26T16:59:35.781573Z",
     "shell.execute_reply": "2022-10-26T16:59:35.780457Z"
    },
    "papermill": {
     "duration": 21.358911,
     "end_time": "2022-10-26T16:59:35.784637",
     "exception": false,
     "start_time": "2022-10-26T16:59:14.425726",
     "status": "completed"
    },
    "tags": []
   },
   "outputs": [
    {
     "data": {
      "text/plain": [
       "<AxesSubplot:title={'center':'Total Crime Events by Month'}, xlabel='month'>"
      ]
     },
     "execution_count": 15,
     "metadata": {},
     "output_type": "execute_result"
    },
    {
     "data": {
      "image/png": "[encoded data removed]",
      "text/plain": [
       "<Figure size 432x288 with 1 Axes>"
      ]
     },
     "metadata": {
      "needs_background": "light"
     },
     "output_type": "display_data"
    }
   ],
   "source": [
    "#reports by month\n",
    "df_clean['month'] = df_clean['RPT_DT'].str.findall('(\\d{2})').apply(lambda x: x[0])\n",
    "df_clean.groupby('month').size().plot(kind = 'bar', title ='Total Crime Events by Month', color = '#C0392B',rot=0)"
   ]
  },
  {
   "cell_type": "markdown",
   "id": "2675517d",
   "metadata": {
    "papermill": {
     "duration": 0.010903,
     "end_time": "2022-10-26T16:59:35.807440",
     "exception": false,
     "start_time": "2022-10-26T16:59:35.796537",
     "status": "completed"
    },
    "tags": []
   },
   "source": [
    "### 4. Analyzing a Specific Crime\n",
    "\n",
    "I want to specifically analyze sex related crimes in NYC. For that, I put the part of the dataframe that contains the crime description 'sex crimes' and 'rape' into another dataframe and called it “sex_crimes.”"
   ]
  },
  {
   "cell_type": "code",
   "execution_count": 16,
   "id": "c12b31df",
   "metadata": {
    "execution": {
     "iopub.execute_input": "2022-10-26T16:59:35.832371Z",
     "iopub.status.busy": "2022-10-26T16:59:35.831675Z",
     "iopub.status.idle": "2022-10-26T16:59:47.374351Z",
     "shell.execute_reply": "2022-10-26T16:59:47.373352Z"
    },
    "papermill": {
     "duration": 11.557999,
     "end_time": "2022-10-26T16:59:47.376738",
     "exception": false,
     "start_time": "2022-10-26T16:59:35.818739",
     "status": "completed"
    },
    "tags": []
   },
   "outputs": [
    {
     "data": {
      "text/html": [
       "<div>\n",
       "<style scoped>\n",
       "    .dataframe tbody tr th:only-of-type {\n",
       "        vertical-align: middle;\n",
       "    }\n",
       "\n",
       "    .dataframe tbody tr th {\n",
       "        vertical-align: top;\n",
       "    }\n",
       "\n",
       "    .dataframe thead th {\n",
       "        text-align: right;\n",
       "    }\n",
       "</style>\n",
       "<table border=\"1\" class=\"dataframe\">\n",
       "  <thead>\n",
       "    <tr style=\"text-align: right;\">\n",
       "      <th></th>\n",
       "      <th>CMPLNT_NUM</th>\n",
       "      <th>CMPLNT_FR_DT</th>\n",
       "      <th>CMPLNT_FR_TM</th>\n",
       "      <th>RPT_DT</th>\n",
       "      <th>KY_CD</th>\n",
       "      <th>OFNS_DESC</th>\n",
       "      <th>CRM_ATPT_CPTD_CD</th>\n",
       "      <th>LAW_CAT_CD</th>\n",
       "      <th>BORO_NM</th>\n",
       "      <th>LOC_OF_OCCUR_DESC</th>\n",
       "      <th>...</th>\n",
       "      <th>X_COORD_CD</th>\n",
       "      <th>Y_COORD_CD</th>\n",
       "      <th>Latitude</th>\n",
       "      <th>Longitude</th>\n",
       "      <th>Lat_Lon</th>\n",
       "      <th>VIC_AGE_GROUP</th>\n",
       "      <th>VIC_RACE</th>\n",
       "      <th>VIC_SEX</th>\n",
       "      <th>year</th>\n",
       "      <th>month</th>\n",
       "    </tr>\n",
       "  </thead>\n",
       "  <tbody>\n",
       "    <tr>\n",
       "      <th>20</th>\n",
       "      <td>354566222</td>\n",
       "      <td>12/19/2019</td>\n",
       "      <td>02:50:00</td>\n",
       "      <td>12/19/2019</td>\n",
       "      <td>104</td>\n",
       "      <td>RAPE</td>\n",
       "      <td>COMPLETED</td>\n",
       "      <td>FELONY</td>\n",
       "      <td>BRONX</td>\n",
       "      <td>INSIDE</td>\n",
       "      <td>...</td>\n",
       "      <td>1008798.0</td>\n",
       "      <td>238971.0</td>\n",
       "      <td>40.822570</td>\n",
       "      <td>-73.911307</td>\n",
       "      <td>(40.82256991600008, -73.91130716899994)</td>\n",
       "      <td>&lt;18</td>\n",
       "      <td>BLACK HISPANIC</td>\n",
       "      <td>FEMALE</td>\n",
       "      <td>2019</td>\n",
       "      <td>12</td>\n",
       "    </tr>\n",
       "    <tr>\n",
       "      <th>23</th>\n",
       "      <td>441714270</td>\n",
       "      <td>12/06/2019</td>\n",
       "      <td>11:30:00</td>\n",
       "      <td>12/19/2019</td>\n",
       "      <td>233</td>\n",
       "      <td>SEX CRIMES</td>\n",
       "      <td>COMPLETED</td>\n",
       "      <td>MISDEMEANOR</td>\n",
       "      <td>MANHATTAN</td>\n",
       "      <td>INSIDE</td>\n",
       "      <td>...</td>\n",
       "      <td>984623.0</td>\n",
       "      <td>209859.0</td>\n",
       "      <td>40.742699</td>\n",
       "      <td>-73.998655</td>\n",
       "      <td>(40.74269929900004, -73.99865537999993)</td>\n",
       "      <td>25-44</td>\n",
       "      <td>UNKNOWN</td>\n",
       "      <td>FEMALE</td>\n",
       "      <td>2019</td>\n",
       "      <td>12</td>\n",
       "    </tr>\n",
       "    <tr>\n",
       "      <th>32</th>\n",
       "      <td>916011284</td>\n",
       "      <td>12/15/2019</td>\n",
       "      <td>09:30:00</td>\n",
       "      <td>12/15/2019</td>\n",
       "      <td>116</td>\n",
       "      <td>SEX CRIMES</td>\n",
       "      <td>COMPLETED</td>\n",
       "      <td>FELONY</td>\n",
       "      <td>BRONX</td>\n",
       "      <td>INSIDE</td>\n",
       "      <td>...</td>\n",
       "      <td>1006434.0</td>\n",
       "      <td>244344.0</td>\n",
       "      <td>40.837324</td>\n",
       "      <td>-73.919831</td>\n",
       "      <td>(40.83732351100008, -73.91983075699994)</td>\n",
       "      <td>&lt;18</td>\n",
       "      <td>BLACK</td>\n",
       "      <td>FEMALE</td>\n",
       "      <td>2019</td>\n",
       "      <td>12</td>\n",
       "    </tr>\n",
       "    <tr>\n",
       "      <th>34</th>\n",
       "      <td>465522474</td>\n",
       "      <td>12/05/2019</td>\n",
       "      <td>22:00:00</td>\n",
       "      <td>12/15/2019</td>\n",
       "      <td>233</td>\n",
       "      <td>SEX CRIMES</td>\n",
       "      <td>COMPLETED</td>\n",
       "      <td>MISDEMEANOR</td>\n",
       "      <td>MANHATTAN</td>\n",
       "      <td>UNKNOWN</td>\n",
       "      <td>...</td>\n",
       "      <td>999794.0</td>\n",
       "      <td>241252.0</td>\n",
       "      <td>40.828851</td>\n",
       "      <td>-73.943834</td>\n",
       "      <td>(40.82885104500008, -73.94383419099995)</td>\n",
       "      <td>25-44</td>\n",
       "      <td>WHITE</td>\n",
       "      <td>FEMALE</td>\n",
       "      <td>2019</td>\n",
       "      <td>12</td>\n",
       "    </tr>\n",
       "    <tr>\n",
       "      <th>38</th>\n",
       "      <td>954653095</td>\n",
       "      <td>11/15/2017</td>\n",
       "      <td>20:00:00</td>\n",
       "      <td>12/13/2019</td>\n",
       "      <td>104</td>\n",
       "      <td>RAPE</td>\n",
       "      <td>COMPLETED</td>\n",
       "      <td>FELONY</td>\n",
       "      <td>QUEENS</td>\n",
       "      <td>INSIDE</td>\n",
       "      <td>...</td>\n",
       "      <td>1036790.0</td>\n",
       "      <td>205267.0</td>\n",
       "      <td>40.729939</td>\n",
       "      <td>-73.810433</td>\n",
       "      <td>(40.729939364000074, -73.81043314199997)</td>\n",
       "      <td>18-24</td>\n",
       "      <td>WHITE</td>\n",
       "      <td>FEMALE</td>\n",
       "      <td>2019</td>\n",
       "      <td>12</td>\n",
       "    </tr>\n",
       "  </tbody>\n",
       "</table>\n",
       "<p>5 rows × 21 columns</p>\n",
       "</div>"
      ],
      "text/plain": [
       "    CMPLNT_NUM CMPLNT_FR_DT CMPLNT_FR_TM      RPT_DT  KY_CD   OFNS_DESC  \\\n",
       "20   354566222   12/19/2019     02:50:00  12/19/2019    104        RAPE   \n",
       "23   441714270   12/06/2019     11:30:00  12/19/2019    233  SEX CRIMES   \n",
       "32   916011284   12/15/2019     09:30:00  12/15/2019    116  SEX CRIMES   \n",
       "34   465522474   12/05/2019     22:00:00  12/15/2019    233  SEX CRIMES   \n",
       "38   954653095   11/15/2017     20:00:00  12/13/2019    104        RAPE   \n",
       "\n",
       "   CRM_ATPT_CPTD_CD   LAW_CAT_CD    BORO_NM LOC_OF_OCCUR_DESC  ... X_COORD_CD  \\\n",
       "20        COMPLETED       FELONY      BRONX            INSIDE  ...  1008798.0   \n",
       "23        COMPLETED  MISDEMEANOR  MANHATTAN            INSIDE  ...   984623.0   \n",
       "32        COMPLETED       FELONY      BRONX            INSIDE  ...  1006434.0   \n",
       "34        COMPLETED  MISDEMEANOR  MANHATTAN           UNKNOWN  ...   999794.0   \n",
       "38        COMPLETED       FELONY     QUEENS            INSIDE  ...  1036790.0   \n",
       "\n",
       "    Y_COORD_CD   Latitude  Longitude  \\\n",
       "20    238971.0  40.822570 -73.911307   \n",
       "23    209859.0  40.742699 -73.998655   \n",
       "32    244344.0  40.837324 -73.919831   \n",
       "34    241252.0  40.828851 -73.943834   \n",
       "38    205267.0  40.729939 -73.810433   \n",
       "\n",
       "                                     Lat_Lon VIC_AGE_GROUP        VIC_RACE  \\\n",
       "20   (40.82256991600008, -73.91130716899994)           <18  BLACK HISPANIC   \n",
       "23   (40.74269929900004, -73.99865537999993)         25-44         UNKNOWN   \n",
       "32   (40.83732351100008, -73.91983075699994)           <18           BLACK   \n",
       "34   (40.82885104500008, -73.94383419099995)         25-44           WHITE   \n",
       "38  (40.729939364000074, -73.81043314199997)         18-24           WHITE   \n",
       "\n",
       "   VIC_SEX  year month  \n",
       "20  FEMALE  2019    12  \n",
       "23  FEMALE  2019    12  \n",
       "32  FEMALE  2019    12  \n",
       "34  FEMALE  2019    12  \n",
       "38  FEMALE  2019    12  \n",
       "\n",
       "[5 rows x 21 columns]"
      ]
     },
     "execution_count": 16,
     "metadata": {},
     "output_type": "execute_result"
    }
   ],
   "source": [
    "sex_crimes = df_clean[df.OFNS_DESC.str.contains('SEX CRIMES|RAPE')]\n",
    "sex_crimes.head()"
   ]
  },
  {
   "cell_type": "markdown",
   "id": "0c872471",
   "metadata": {
    "papermill": {
     "duration": 0.011436,
     "end_time": "2022-10-26T16:59:47.400172",
     "exception": false,
     "start_time": "2022-10-26T16:59:47.388736",
     "status": "completed"
    },
    "tags": []
   },
   "source": [
    "#### Analyzing Time\n",
    "\n",
    "We may be interested in the distribution of values across the years, so I'm going to group the data by year and plot the results."
   ]
  },
  {
   "cell_type": "code",
   "execution_count": 17,
   "id": "b7b391aa",
   "metadata": {
    "execution": {
     "iopub.execute_input": "2022-10-26T16:59:47.425726Z",
     "iopub.status.busy": "2022-10-26T16:59:47.424471Z",
     "iopub.status.idle": "2022-10-26T16:59:47.772686Z",
     "shell.execute_reply": "2022-10-26T16:59:47.771048Z"
    },
    "papermill": {
     "duration": 0.363683,
     "end_time": "2022-10-26T16:59:47.775393",
     "exception": false,
     "start_time": "2022-10-26T16:59:47.411710",
     "status": "completed"
    },
    "tags": []
   },
   "outputs": [
    {
     "name": "stdout",
     "output_type": "stream",
     "text": [
      "7360.5\n"
     ]
    },
    {
     "data": {
      "image/png": "[encoded data removed]",
      "text/plain": [
       "<Figure size 432x288 with 1 Axes>"
      ]
     },
     "metadata": {
      "needs_background": "light"
     },
     "output_type": "display_data"
    }
   ],
   "source": [
    "#plot graph\n",
    "sex_crimes.groupby('year').size().plot(kind = 'barh', color = '#8E44AD', title = 'Sex Crime Reports by Year')\n",
    "\n",
    "#average sex crimes per year\n",
    "mean = sex_crimes['year'].value_counts().mean()\n",
    "print(round(mean,2))"
   ]
  },
  {
   "cell_type": "markdown",
   "id": "ba692236",
   "metadata": {
    "papermill": {
     "duration": 0.01231,
     "end_time": "2022-10-26T16:59:47.800367",
     "exception": false,
     "start_time": "2022-10-26T16:59:47.788057",
     "status": "completed"
    },
    "tags": []
   },
   "source": [
    "- Based on the bar graph that I computed, sex crimes happened the most during the last 3 years compared to previous years.\n",
    "\n",
    "- On average, there are 7443 victims of rape and sexual assault each year in New York City.\n",
    "\n",
    "Let’s also look at how the number of the reports changes within a day."
   ]
  },
  {
   "cell_type": "code",
   "execution_count": 18,
   "id": "ff14d667",
   "metadata": {
    "execution": {
     "iopub.execute_input": "2022-10-26T16:59:47.826558Z",
     "iopub.status.busy": "2022-10-26T16:59:47.826153Z",
     "iopub.status.idle": "2022-10-26T16:59:48.098794Z",
     "shell.execute_reply": "2022-10-26T16:59:48.097379Z"
    },
    "papermill": {
     "duration": 0.288977,
     "end_time": "2022-10-26T16:59:48.101504",
     "exception": false,
     "start_time": "2022-10-26T16:59:47.812527",
     "status": "completed"
    },
    "tags": []
   },
   "outputs": [
    {
     "name": "stdout",
     "output_type": "stream",
     "text": [
      "BLACK                             32.663372\n",
      "WHITE HISPANIC                    28.658040\n",
      "WHITE                             16.543543\n",
      "UNKNOWN                           10.095272\n",
      "ASIAN / PACIFIC ISLANDER           6.146831\n",
      "BLACK HISPANIC                     5.621221\n",
      "AMERICAN INDIAN/ALASKAN NATIVE     0.269173\n",
      "Name: VIC_RACE, dtype: float64\n"
     ]
    },
    {
     "data": {
      "image/png": "[encoded data removed]",
      "text/plain": [
       "<Figure size 432x288 with 1 Axes>"
      ]
     },
     "metadata": {
      "needs_background": "light"
     },
     "output_type": "display_data"
    }
   ],
   "source": [
    "# Sex victims by Race :\n",
    "sex_crimes['VIC_RACE'].value_counts().iloc[:7].plot(kind=\"barh\", color = '#D35400', title = 'Sex Crime Victims by Race')\n",
    "\n",
    "#victims by race percentage\n",
    "vic_race_per = sex_crimes['VIC_RACE'].value_counts().iloc[:7] / sex_crimes['VIC_RACE'].shape[0] *100\n",
    "print(vic_race_per)"
   ]
  },
  {
   "cell_type": "markdown",
   "id": "b814eb7b",
   "metadata": {
    "papermill": {
     "duration": 0.012464,
     "end_time": "2022-10-26T16:59:48.127024",
     "exception": false,
     "start_time": "2022-10-26T16:59:48.114560",
     "status": "completed"
    },
    "tags": []
   },
   "source": [
    "## Copy and edit this and try to get to more useful insights . Cheers !"
   ]
  }
 ],
 "metadata": {
  "kernelspec": {
   "display_name": "Python 3",
   "language": "python",
   "name": "python3"
  },
  "language_info": {
   "codemirror_mode": {
    "name": "ipython",
    "version": 3
   },
   "file_extension": ".py",
   "mimetype": "text/x-python",
   "name": "python",
   "nbconvert_exporter": "python",
   "pygments_lexer": "ipython3",
   "version": "3.7.12"
  },
  "papermill": {
   "default_parameters": {},
   "duration": 261.733263,
   "end_time": "2022-10-26T16:59:51.262750",
   "environment_variables": {},
   "exception": null,
   "input_path": "__notebook__.ipynb",
   "output_path": "__notebook__.ipynb",
   "parameters": {},
   "start_time": "2022-10-26T16:55:29.529487",
   "version": "2.3.4"
  }
 },
 "nbformat": 4,
 "nbformat_minor": 5
}
